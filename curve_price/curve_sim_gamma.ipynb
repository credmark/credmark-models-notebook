{
 "cells": [
  {
   "cell_type": "code",
   "execution_count": 1,
   "metadata": {},
   "outputs": [],
   "source": [
    "# %load_ext autoreload\n",
    "# %autoreload 1\n",
    "# %aimport curve_poolGamma\n",
    "\n",
    "from credmark.cmf.ipython import create_cmf\n",
    "from web3 import HTTPProvider, Web3\n",
    "\n",
    "from curve_poolGamma import CurveStableSwapGamma\n",
    "\n",
    "TRICRYPTO2 = '0xd51a44d3fae010294c616388b506acda1bfaae46'\n",
    "CRVETH = '0x8301ae4fc9c624d1d396cbdaa1ed877821d7c511'"
   ]
  },
  {
   "cell_type": "markdown",
   "metadata": {},
   "source": [
    "## Initialize CMF"
   ]
  },
  {
   "cell_type": "code",
   "execution_count": 2,
   "metadata": {},
   "outputs": [],
   "source": [
    "end_block = None\n",
    "end_block = 16024367\n",
    "\n",
    "cmf_param = {\n",
    "    'chain_id': 1,\n",
    "    'block_number': end_block,\n",
    "    'chain_to_provider_url': {},\n",
    "    'api_url': None,\n",
    "    'use_local_models': None,\n",
    "    'register_utility_global': True}\n",
    "\n",
    "context, _model_loader = create_cmf(cmf_param)\n",
    "context._web3 = Web3(HTTPProvider(context.web3.provider.endpoint_uri, request_kwargs={'timeout': 3600 * 10}))\n",
    "context._web3.eth.default_block = int(context.block_number)\n",
    "end_block = int(context.block_number)"
   ]
  },
  {
   "cell_type": "markdown",
   "metadata": {},
   "source": [
    "## Curve Sim"
   ]
  },
  {
   "cell_type": "code",
   "execution_count": 3,
   "metadata": {},
   "outputs": [
    {
     "name": "stdout",
     "output_type": "stream",
     "text": [
      "0x8301ae4fc9c624d1d396cbdaa1ed877821d7c511 for 2 coins loaded\n",
      "[12573351882762176744474, 31378001061512037302000482] [12573.351882762177, 31378001.061512038] ['WETH', 'CRV']\n"
     ]
    },
    {
     "data": {
      "text/plain": [
       "(0.9863141733964341, 0.28011207454628)"
      ]
     },
     "execution_count": 3,
     "metadata": {},
     "output_type": "execute_result"
    }
   ],
   "source": [
    "crveth = CurveStableSwapGamma(CRVETH)\n",
    "\n",
    "print(crveth.balances, crveth.scaled_balances, crveth.coins_symbol)\n",
    "\n",
    "crveth.price_scale\n",
    "122990396.144477 / 124696977.35454, 124696977.35454 / 445168161.909913"
   ]
  },
  {
   "cell_type": "code",
   "execution_count": 4,
   "metadata": {},
   "outputs": [
    {
     "data": {
      "text/plain": [
       "(428509201315150, [1, 1])"
      ]
     },
     "execution_count": 4,
     "metadata": {},
     "output_type": "execute_result"
    }
   ],
   "source": [
    "crveth.price_scale, crveth.coins_mult"
   ]
  },
  {
   "cell_type": "code",
   "execution_count": 5,
   "metadata": {},
   "outputs": [
    {
     "data": {
      "text/plain": [
       "0.9908655518664112"
      ]
     },
     "execution_count": 5,
     "metadata": {},
     "output_type": "execute_result"
    }
   ],
   "source": [
    "12715266071819329643598 / 12832483728865775201142"
   ]
  },
  {
   "cell_type": "code",
   "execution_count": 6,
   "metadata": {},
   "outputs": [
    {
     "data": {
      "text/plain": [
       "0.1594705902324246"
      ]
     },
     "execution_count": 6,
     "metadata": {},
     "output_type": "execute_result"
    }
   ],
   "source": [
    "27186529 / 170479892"
   ]
  },
  {
   "cell_type": "code",
   "execution_count": 7,
   "metadata": {},
   "outputs": [
    {
     "name": "stdout",
     "output_type": "stream",
     "text": [
      "x_unsorted=[12573351882762176744474, 13445762173734451990697]\n",
      "D=26004484162720592612144\n",
      "xp=[12573351882762176744474, 31378001061512037302000482] D=26011447178690211221615 D2=26011447178690211217579\n",
      "xp=[12573351882762176844474, 13445762173734451990697] A_gamma=[400000, 145000000000000] D=26011447178690211221615 j=1 price_scale=428509201315150\n"
     ]
    },
    {
     "data": {
      "text/plain": [
       "217714469"
      ]
     },
     "execution_count": 7,
     "metadata": {},
     "output_type": "execute_result"
    }
   ],
   "source": [
    "crveth.get_dy_dx0(0, 1, 100000)\n",
    "# crveth.get_dy_dx0(1, 0, 100000000)"
   ]
  }
 ],
 "metadata": {
  "kernelspec": {
   "display_name": "Python 3.10.7 ('cmk310')",
   "language": "python",
   "name": "python3"
  },
  "language_info": {
   "codemirror_mode": {
    "name": "ipython",
    "version": 3
   },
   "file_extension": ".py",
   "mimetype": "text/x-python",
   "name": "python",
   "nbconvert_exporter": "python",
   "pygments_lexer": "ipython3",
   "version": "3.10.10"
  },
  "orig_nbformat": 4,
  "vscode": {
   "interpreter": {
    "hash": "ef3060a66f05e685ce670116a67026aba95afdffb2461d829b3351d07ec51c58"
   }
  }
 },
 "nbformat": 4,
 "nbformat_minor": 2
}
