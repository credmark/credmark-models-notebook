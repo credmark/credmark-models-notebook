{
 "cells": [
  {
   "cell_type": "code",
   "execution_count": 9,
   "metadata": {},
   "outputs": [],
   "source": [
    "%load_ext autoreload\n",
    "%autoreload 1\n",
    "%aimport curve_poolGamma\n",
    "\n",
    "from credmark.cmf.ipython import create_cmf\n",
    "from web3 import HTTPProvider, Web3\n",
    "\n",
    "from curve_poolGamma import CurveStableSwapGamma\n",
    "\n",
    "TRICRYPTO2 = '0xd51a44d3fae010294c616388b506acda1bfaae46'\n",
    "CRVETH = '0x8301ae4fc9c624d1d396cbdaa1ed877821d7c511'"
   ]
  },
  {
   "cell_type": "markdown",
   "metadata": {},
   "source": [
    "## Initialize CMF"
   ]
  },
  {
   "cell_type": "code",
   "execution_count": 43,
   "metadata": {},
   "outputs": [],
   "source": [
    "end_block = 16024367\n",
    "end_block = None\n",
    "\n",
    "cmf_param = {\n",
    "                'block_number': end_block,\n",
    "                'chain_to_provider_url': {'1': 'http://192.168.68.122:8545'},\n",
    "                'api_url': 'http://192.168.68.122:8700'\n",
    "            }\n",
    "\n",
    "context, _model_loader = create_cmf(cmf_param)\n",
    "context._web3 = Web3(HTTPProvider(context.web3.provider.endpoint_uri, request_kwargs={'timeout': 3600 * 10}))\n",
    "context._web3.eth.default_block = int(context.block_number)\n",
    "end_block = int(context.block_number)"
   ]
  },
  {
   "cell_type": "markdown",
   "metadata": {},
   "source": [
    "## Curve Sim"
   ]
  },
  {
   "cell_type": "code",
   "execution_count": 45,
   "metadata": {},
   "outputs": [
    {
     "name": "stdout",
     "output_type": "stream",
     "text": [
      "0x8301ae4fc9c624d1d396cbdaa1ed877821d7c511 for 2 coins loaded\n",
      "[12931412868619999569224, 23867278445570526677872475] [12931.41286862, 23867278.44557053] ['WETH', 'CRV']\n"
     ]
    },
    {
     "data": {
      "text/plain": [
       "(0.9863141733964341, 0.28011207454628)"
      ]
     },
     "execution_count": 45,
     "metadata": {},
     "output_type": "execute_result"
    }
   ],
   "source": [
    "crveth = CurveStableSwapGamma(CRVETH)\n",
    "\n",
    "print(crveth.balances, crveth.scaled_balances, crveth.coins_symbol)\n",
    "\n",
    "crveth.price_scale\n",
    "122990396.144477 / 124696977.35454, 124696977.35454 / 445168161.909913"
   ]
  },
  {
   "cell_type": "code",
   "execution_count": 47,
   "metadata": {},
   "outputs": [
    {
     "data": {
      "text/plain": [
       "(530879704590232, [1, 1])"
      ]
     },
     "execution_count": 47,
     "metadata": {},
     "output_type": "execute_result"
    }
   ],
   "source": [
    "crveth.price_scale, crveth.coins_mult"
   ]
  },
  {
   "cell_type": "code",
   "execution_count": 49,
   "metadata": {},
   "outputs": [
    {
     "data": {
      "text/plain": [
       "0.9908655518664112"
      ]
     },
     "execution_count": 49,
     "metadata": {},
     "output_type": "execute_result"
    }
   ],
   "source": [
    "12715266071819329643598 / 12832483728865775201142"
   ]
  },
  {
   "cell_type": "code",
   "execution_count": 63,
   "metadata": {},
   "outputs": [
    {
     "data": {
      "text/plain": [
       "0.1594705902324246"
      ]
     },
     "execution_count": 63,
     "metadata": {},
     "output_type": "execute_result"
    }
   ],
   "source": [
    "27186529 / 170479892"
   ]
  },
  {
   "cell_type": "code",
   "execution_count": 1,
   "metadata": {},
   "outputs": [
    {
     "ename": "NameError",
     "evalue": "name 'crveth' is not defined",
     "output_type": "error",
     "traceback": [
      "\u001b[0;31m---------------------------------------------------------------------------\u001b[0m",
      "\u001b[0;31mNameError\u001b[0m                                 Traceback (most recent call last)",
      "\u001b[1;32m/home/yangye/dev/credmark/credmark-models-notebook/curve_price/curve_sim_gamma.ipynb Cell 9\u001b[0m in \u001b[0;36m<cell line: 1>\u001b[0;34m()\u001b[0m\n\u001b[0;32m----> <a href='vscode-notebook-cell:/home/yangye/dev/credmark/credmark-models-notebook/curve_price/curve_sim_gamma.ipynb#X11sZmlsZQ%3D%3D?line=0'>1</a>\u001b[0m crveth\u001b[39m.\u001b[39mget_dy_dx0(\u001b[39m0\u001b[39m, \u001b[39m1\u001b[39m, \u001b[39m100000\u001b[39m)\n",
      "\u001b[0;31mNameError\u001b[0m: name 'crveth' is not defined"
     ]
    }
   ],
   "source": [
    "crveth.get_dy_dx0(0, 1, 100000)\n",
    "# crveth.get_dy_dx0(1, 0, 100000000)"
   ]
  }
 ],
 "metadata": {
  "kernelspec": {
   "display_name": "Python 3.10.7 ('cmk310')",
   "language": "python",
   "name": "python3"
  },
  "language_info": {
   "codemirror_mode": {
    "name": "ipython",
    "version": 3
   },
   "file_extension": ".py",
   "mimetype": "text/x-python",
   "name": "python",
   "nbconvert_exporter": "python",
   "pygments_lexer": "ipython3",
   "version": "3.10.8 | packaged by conda-forge | (main, Nov 22 2022, 08:23:14) [GCC 10.4.0]"
  },
  "orig_nbformat": 4,
  "vscode": {
   "interpreter": {
    "hash": "ef3060a66f05e685ce670116a67026aba95afdffb2461d829b3351d07ec51c58"
   }
  }
 },
 "nbformat": 4,
 "nbformat_minor": 2
}
