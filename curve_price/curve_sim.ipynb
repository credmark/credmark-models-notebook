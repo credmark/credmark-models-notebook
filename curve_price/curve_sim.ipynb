{
 "cells": [
  {
   "cell_type": "code",
   "execution_count": 2,
   "metadata": {},
   "outputs": [],
   "source": [
    "from credmark.cmf.ipython import create_cmf\n",
    "from web3 import HTTPProvider, Web3\n",
    "\n",
    "from curve_pool import CurveStableSwap\n",
    "from curve_poolGamma import CurveStableSwapGamma\n",
    "\n",
    "LINK = '0xF178C0b5Bb7e7aBF4e12A4838C7b7c5bA2C623c0'\n",
    "STETH = '0xDC24316b9AE028F1497c275EB9192a3Ea0f67022'\n",
    "FRAXUSDC = '0xdcef968d416a41cdac0ed8702fac8128a64241a2'\n",
    "EURT = '0xfd5db7463a3ab53fd211b4af195c5bccc1a03890'\n",
    "CVXETH = '0xb576491f1e6e5e62f1d8f26062ee822b40b0e0d4'\n",
    "\n",
    "THREE_POOL = '0xbebc44782c7db0a1a60cb6fe97d0b483032ff1c7'\n",
    "tricrypto2 = '0xd51a44d3fae010294c616388b506acda1bfaae46'"
   ]
  },
  {
   "cell_type": "markdown",
   "metadata": {},
   "source": [
    "## Initialize CMF"
   ]
  },
  {
   "cell_type": "code",
   "execution_count": 3,
   "metadata": {},
   "outputs": [],
   "source": [
    "end_block = 16024367\n",
    "\n",
    "cmf_param = {\n",
    "                'block_number': end_block,\n",
    "                'chain_to_provider_url': {'1': 'http://192.168.68.122:8545'},\n",
    "                'api_url': 'http://192.168.68.122:8700'\n",
    "            }\n",
    "\n",
    "context, _model_loader = create_cmf(cmf_param)\n",
    "context._web3 = Web3(HTTPProvider(context.web3.provider.endpoint_uri, request_kwargs={'timeout': 3600 * 10}))\n",
    "context._web3.eth.default_block = int(context.block_number)\n",
    "end_block = int(context.block_number)"
   ]
  },
  {
   "cell_type": "markdown",
   "metadata": {},
   "source": [
    "## Curve Sim"
   ]
  },
  {
   "cell_type": "code",
   "execution_count": 4,
   "metadata": {},
   "outputs": [
    {
     "name": "stdout",
     "output_type": "stream",
     "text": [
      "0xbebc44782c7db0a1a60cb6fe97d0b483032ff1c7 for 3 coins loaded\n",
      "[122990396144476991977172886, 124696977354540, 445168161909913] [122990396.144477, 124696977.35454, 445168161.909913] ['DAI', 'USDC', 'USDT']\n"
     ]
    },
    {
     "data": {
      "text/plain": [
       "(0.9863141733964341, 0.28011207454628)"
      ]
     },
     "execution_count": 4,
     "metadata": {},
     "output_type": "execute_result"
    }
   ],
   "source": [
    "three_pool = CurveStableSwap(THREE_POOL)\n",
    "\n",
    "print(three_pool.balances, three_pool.scaled_balances, three_pool.coins_symbol)\n",
    "\n",
    "122990396.144477 / 124696977.35454, 124696977.35454 / 445168161.909913"
   ]
  },
  {
   "cell_type": "code",
   "execution_count": 70,
   "metadata": {},
   "outputs": [],
   "source": [
    "# USDT has about 3 time to DAI/USDC\n",
    "# We simulate for 1) USDT continue to fill up the pool, and 2) USDT back to balance\n",
    "\n",
    "# 445168161909913 = three_pool.coins[2].scaled(445168161909913), about 445m\n",
    "# use 1m as one exchange size\n",
    "\n",
    "dx_amount = 1_000_000 * 10 ** three_pool.coins[2].decimals\n",
    "\n",
    "xps20 = []\n",
    "xps10 = []\n",
    "price20 = []\n",
    "price10 = []\n",
    "\n",
    "xp = three_pool.balances\n",
    "while True:\n",
    "    if xp[0] > 1000:\n",
    "        tok0_out = three_pool.get_dy_dx0_xp0(2, 0, dx_amount, xp)\n",
    "        xps20.append([three_pool.coins[i].scaled(v) for i, v in enumerate(xp.copy())])\n",
    "        ratio20 = three_pool.coins[0].scaled(tok0_out) / three_pool.coins[2].scaled(dx_amount)\n",
    "        price20.append(ratio20)\n",
    "        xp[0] -= tok0_out\n",
    "        xp[2] += dx_amount\n",
    "\n",
    "    if xp[1] > 1000:\n",
    "        tok1_out = three_pool.get_dy_dx0_xp0(2, 1, dx_amount, xp)\n",
    "        xps10.append([three_pool.coins[i].scaled(v) for i, v in enumerate(xp.copy())])\n",
    "        ratio10 = three_pool.coins[1].scaled(tok1_out) / three_pool.coins[2].scaled(dx_amount)\n",
    "        price10.append(ratio20)\n",
    "        xp[1] -= tok1_out\n",
    "        xp[2] += dx_amount\n",
    "\n",
    "    ratio_20 = three_pool.coins[2].scaled(xp[2]) / three_pool.coins[0].scaled(xp[0])\n",
    "    ratio_21 = three_pool.coins[2].scaled(xp[2]) / three_pool.coins[1].scaled(xp[1])\n",
    "    ratio_2torest = three_pool.coins[2].scaled(xp[2]) / sum([three_pool.coins[i].scaled(xp[i]) for i in range(3)])\n",
    "\n",
    "    # print(xp, ratio_20, ratio_21)\n",
    "    \n",
    "    if ratio_2torest > 0.99:\n",
    "        break\n",
    "\n",
    "    if (xp[0] <= 1000 and xp[1] <= 1000):\n",
    "        break\n",
    "\n",
    "    if len(xps10) > 110:\n",
    "        break    "
   ]
  },
  {
   "cell_type": "code",
   "execution_count": 72,
   "metadata": {},
   "outputs": [
    {
     "data": {
      "image/png": "[encoded data removed]",
      "text/plain": [
       "<Figure size 432x288 with 1 Axes>"
      ]
     },
     "metadata": {
      "needs_background": "light"
     },
     "output_type": "display_data"
    },
    {
     "data": {
      "image/png": "[encoded data removed]",
      "text/plain": [
       "<Figure size 432x288 with 1 Axes>"
      ]
     },
     "metadata": {
      "needs_background": "light"
     },
     "output_type": "display_data"
    }
   ],
   "source": [
    "df = pd.DataFrame(xps10, columns=three_pool.coins_symbol)\n",
    "\n",
    "df.plot.area(); plt.show()\n",
    "\n",
    "plt.plot(price10); plt.plot(price20); plt.show()"
   ]
  },
  {
   "cell_type": "code",
   "execution_count": 73,
   "metadata": {},
   "outputs": [],
   "source": [
    "# USDT has about 3 time to DAI/USDC\n",
    "# We simulate for 1) USDT continue to fill up the pool, and 2) USDT back to balance\n",
    "\n",
    "# 445168161909913 = three_pool.coins[2].scaled(445168161909913), about 445m\n",
    "# use 1m as one exchange size\n",
    "\n",
    "dx0_amount = 1_000_000 * 10 ** three_pool.coins[0].decimals\n",
    "dx1_amount = 1_000_000 * 10 ** three_pool.coins[1].decimals\n",
    "\n",
    "xps20 = []\n",
    "xps10 = []\n",
    "price20 = []\n",
    "price10 = []\n",
    "\n",
    "xp = three_pool.balances\n",
    "while True:\n",
    "    if xp[0] > 1000:\n",
    "        tok2_out = three_pool.get_dy_dx0_xp0(0, 2, dx0_amount, xp)\n",
    "        xps20.append([three_pool.coins[i].scaled(v) for i, v in enumerate(xp.copy())])\n",
    "        ratio20 = three_pool.coins[2].scaled(tok2_out) / three_pool.coins[0].scaled(dx0_amount)\n",
    "        price20.append(ratio20)\n",
    "        xp[0] += dx0_amount\n",
    "        xp[2] -= tok2_out\n",
    "\n",
    "    if xp[1] > 1000:\n",
    "        tok2_out = three_pool.get_dy_dx0_xp0(1, 2, dx1_amount, xp)\n",
    "        xps10.append([three_pool.coins[i].scaled(v) for i, v in enumerate(xp.copy())])\n",
    "        ratio10 = three_pool.coins[2].scaled(tok2_out) / three_pool.coins[1].scaled(dx1_amount)\n",
    "        price10.append(ratio20)\n",
    "        xp[1] += dx1_amount\n",
    "        xp[2] -= tok2_out\n",
    "\n",
    "    ratio_20 = three_pool.coins[2].scaled(xp[2]) / three_pool.coins[0].scaled(xp[0])\n",
    "    ratio_21 = three_pool.coins[2].scaled(xp[2]) / three_pool.coins[1].scaled(xp[1])\n",
    "    ratio_2torest = three_pool.coins[2].scaled(xp[2]) / sum([three_pool.coins[i].scaled(xp[i]) for i in range(3)])\n",
    "\n",
    "    # print(xp, ratio_20, ratio_21)\n",
    "    \n",
    "    if ratio_2torest > 0.99:\n",
    "        break\n",
    "\n",
    "    if (xp[0] <= 1000 and xp[1] <= 1000):\n",
    "        break\n",
    "\n",
    "    if len(xps10) > 110:\n",
    "        break    "
   ]
  },
  {
   "cell_type": "code",
   "execution_count": 74,
   "metadata": {},
   "outputs": [
    {
     "data": {
      "image/png": "[encoded data removed]",
      "text/plain": [
       "<Figure size 432x288 with 1 Axes>"
      ]
     },
     "metadata": {
      "needs_background": "light"
     },
     "output_type": "display_data"
    },
    {
     "data": {
      "image/png": "[encoded data removed]",
      "text/plain": [
       "<Figure size 432x288 with 1 Axes>"
      ]
     },
     "metadata": {
      "needs_background": "light"
     },
     "output_type": "display_data"
    }
   ],
   "source": [
    "df = pd.DataFrame(xps10, columns=three_pool.coins_symbol)\n",
    "\n",
    "df.plot.area(); plt.show()\n",
    "\n",
    "plt.plot(price10); plt.plot(price20); plt.show()"
   ]
  }
 ],
 "metadata": {
  "kernelspec": {
   "display_name": "Python 3.10.7 ('cmk310')",
   "language": "python",
   "name": "python3"
  },
  "language_info": {
   "codemirror_mode": {
    "name": "ipython",
    "version": 3
   },
   "file_extension": ".py",
   "mimetype": "text/x-python",
   "name": "python",
   "nbconvert_exporter": "python",
   "pygments_lexer": "ipython3",
   "version": "3.10.7"
  },
  "orig_nbformat": 4,
  "vscode": {
   "interpreter": {
    "hash": "ef3060a66f05e685ce670116a67026aba95afdffb2461d829b3351d07ec51c58"
   }
  }
 },
 "nbformat": 4,
 "nbformat_minor": 2
}
