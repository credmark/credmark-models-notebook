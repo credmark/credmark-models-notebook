{
 "cells": [
  {
   "cell_type": "markdown",
   "metadata": {},
   "source": [
    "# Curve Invariant\n",
    "\n",
    "## 1. Curve StableSwap and analytical solution for 2-pool\n",
    "\n"
   ]
  },
  {
   "cell_type": "markdown",
   "metadata": {},
   "source": [
    "$$\n",
    "An^n \\sum_{i=1}^{n} {x_i} + D = ADn^n + \\frac { D^{n+1} }  { n^n \\prod_{i+1}^n {x_i}}\n",
    "$$"
   ]
  },
  {
   "cell_type": "markdown",
   "metadata": {},
   "source": [
    "$$\n",
    "\\text{when n = 2}\n",
    "$$\n",
    "\n",
    "$$\n",
    "\\begin{aligned}\n",
    "4A(x + y) + D = 4AD + \\frac {D^3} {4xy}  \\\\ \n",
    "\\frac {D^3} {4xy} + (4A - 1) D - 4A(x + y) = 0  \\\\ \n",
    "{D^3} + {4xy} (4A - 1) D - 16Axy(x + y) = 0\n",
    "\\end{aligned}\n",
    "$$\n",
    "\n",
    "$$\n",
    "\\begin{aligned}\n",
    "p &= 4xy(4A-1) \\\\\n",
    "q &= -16Axy(x+y)\n",
    "\\end{aligned}\n",
    "$$\n",
    "\n",
    "$$\n",
    "D = \\sqrt[3] { - \\frac {q} {2} + \\sqrt { \\frac {q^2} {4} + \\frac {p^3} {27} } } + \\sqrt[3] { - \\frac {q} {2} - \\sqrt { \\frac {q^2} {4} + \\frac {p^3} {27} } }\n",
    "$$\n",
    "\n",
    "$$\n",
    "Axy^2 + [Ax^2 + \\frac {4} {1} x D - xAD]y - \\frac {D^3} {16} = 0\n",
    "$$\n",
    "\n",
    "$$\n",
    "\\begin{aligned}\n",
    "y &= \\frac {-b + \\sqrt {b^2 - 4ac}} {2a} \\\\\n",
    "a &= Ax \\\\\n",
    "b &= Ax^2 + \\frac {1} {4} xD - xAD = Ax^2 + (\\frac {1} {4} D - AD) x \\\\\n",
    "c &= - \\frac {D^3} {16}\n",
    "\\end{aligned}\n",
    "$$\n",
    "\n",
    "\n"
   ]
  },
  {
   "cell_type": "markdown",
   "metadata": {},
   "source": [
    "## 2. Implementation with floating"
   ]
  },
  {
   "cell_type": "code",
   "execution_count": 1,
   "metadata": {},
   "outputs": [
    {
     "name": "stdout",
     "output_type": "stream",
     "text": [
      "p=50129560110253257854913551553438160379248074653172 q=-18749351110020066945179005876015350116060378967451586604069671227136313600 trt(-q/2 + (q*q/4 + p*p*p/27)**0.5)=4.278511972805468e+24 -3.905529183111641e+24\n",
      "D=3.72982789693827e+23\n",
      "a=2.4475065017333252e+25 b=-3.1156680070055934e+48 c=-3.242995873335879e+69\n",
      "p=50129560110253257854913551553438160379248074653172 q=-18749351110020066945179005876015350116060378967451586604069671227136313600 trt(-q/2 + (q*q/4 + p*p*p/27)**0.5)=4.278511972805468e+24 -3.905529183111641e+24\n",
      "D=3.72982789693827e+23\n",
      "a=2.4474865017333247e+25 b=-3.11569149679912e+48 c=-3.242995873335879e+69\n",
      "p=50129359973532 q=-18749234965057910400 trt(-q/2 + (q*q/4 + p*p*p/27)**0.5)=4278503.39210038 -3905521.423378116\n",
      "D=372981.9687222638\n",
      "a=24474800 b=-3115679089963.453 c=-3242974458930672.0\n"
     ]
    },
    {
     "data": {
      "text/plain": [
       "-0.9958051885774403"
      ]
     },
     "metadata": {},
     "output_type": "display_data"
    },
    {
     "data": {
      "text/plain": [
       "0.9958052794232665"
      ]
     },
     "metadata": {},
     "output_type": "display_data"
    },
    {
     "data": {
      "text/plain": [
       "1.0042123791905666"
      ]
     },
     "metadata": {},
     "output_type": "display_data"
    }
   ],
   "source": [
    "import numpy as np\n",
    "\n",
    "def trt(n):\n",
    "    return np.sign(n) * np.power(np.abs(n), 1.0/3)\n",
    "\n",
    "def get_D(x, y, A):\n",
    "    p = 4 * x * y * (4 * A - 1)\n",
    "    q = -16 * A * x * y * (x + y)\n",
    "    print(f'{p=} {q=} {trt(-q/2 + (q*q/4 + p*p*p/27)**0.5)=} {trt(-q/2 - (q*q/4 + p*p*p/27)**0.5)}')\n",
    "    D = trt(-q/2 + (q*q/4 + p*p*p/27)**0.5) + trt(-q/2 - (q*q/4 + p*p*p/27)**0.5)\n",
    "    return D\n",
    "\n",
    "def get_y(D, x, A):\n",
    "    print(f'{D=}')\n",
    "    a = A * x\n",
    "    b = A * x * x + (1/4 * D - A * D) * x\n",
    "    c = - D*D*D / 16\n",
    "    print(f'{a=} {b=} {c=}')\n",
    "    y1 = (-b + (b*b - 4 * a * c) ** 0.5) / 2 / a\n",
    "    y2 = (-b - (b*b - 4 * a * c) ** 0.5) / 2 / a\n",
    "    return y1\n",
    "\n",
    "# https://github.com/curvefi/curve-contract/blob/master/contracts/pools/link/StableSwapLINK.vy\n",
    "\n",
    "def get_dy(x,y,A,dx):\n",
    "    _D = get_D(x, y, A)\n",
    "    dy = get_y(_D, x + dx,A) - y\n",
    "    fee = dy * 0.04/ 100\n",
    "    return dy - fee\n",
    "\n",
    "display(\n",
    "    get_dy(244749650173332491543631,128333171441527488178397,100,1e18) / 1e18,\n",
    "    get_dy(244749650173332491543631,128333171441527488178397,100,-1e18) / 1e18,\n",
    "    1 / get_dy(244_749,128_333,100,-1)\n",
    ")\n"
   ]
  }
 ],
 "metadata": {
  "kernelspec": {
   "display_name": "Python 3.10.6 ('cmk310')",
   "language": "python",
   "name": "python3"
  },
  "language_info": {
   "codemirror_mode": {
    "name": "ipython",
    "version": 3
   },
   "file_extension": ".py",
   "mimetype": "text/x-python",
   "name": "python",
   "nbconvert_exporter": "python",
   "pygments_lexer": "ipython3",
   "version": "3.10.8"
  },
  "orig_nbformat": 4,
  "vscode": {
   "interpreter": {
    "hash": "ef3060a66f05e685ce670116a67026aba95afdffb2461d829b3351d07ec51c58"
   }
  }
 },
 "nbformat": 4,
 "nbformat_minor": 2
}
