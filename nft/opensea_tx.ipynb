{
 "cells": [
  {
   "cell_type": "markdown",
   "metadata": {},
   "source": [
    "# OpenSea V1\n"
   ]
  },
  {
   "cell_type": "code",
   "execution_count": 2,
   "metadata": {},
   "outputs": [
    {
     "name": "stdout",
     "output_type": "stream",
     "text": [
      "Credmark context created with \n",
      "- chain_id=1\n",
      "- block_number=17527032\n",
      "- chain_to_provider_url=http://192...8545\n",
      "- model_loader_path=['/home/yangye/dev/credmark/credmark-models-py/models']\n",
      "- api_url=https://gateway.credmark.com\n",
      "- use_local_models=*\n",
      "\n",
      "17527032\n"
     ]
    }
   ],
   "source": [
    "import pandas as pd\n",
    "\n",
    "from credmark.cmf.ipython import create_cmf\n",
    "from credmark.cmf.types import Token, Contract, Address, Account, BlockNumber, Records\n",
    "\n",
    "# fix_block_number = None\n",
    "fix_block_number = 17527032\n",
    "\n",
    "cmf_param = {\n",
    "    'block_number': fix_block_number,\n",
    "    'chain_id': 1,\n",
    "    'use_local_models': '*',\n",
    "}\n",
    "context, _model_loader = create_cmf(cmf_param, True)\n",
    "fix_block_number = context.block_number\n",
    "print(fix_block_number)"
   ]
  },
  {
   "cell_type": "code",
   "execution_count": 4,
   "metadata": {},
   "outputs": [
    {
     "data": {
      "text/plain": [
       "5774644"
      ]
     },
     "execution_count": 4,
     "metadata": {},
     "output_type": "execute_result"
    }
   ],
   "source": [
    "opensea_v1 = Contract('0x7Be8076f4EA4A4AD08075C2508e481d6C946D12b')\n",
    "\n",
    "opensea_v1_blk = context.run_model('token.deployment', opensea_v1)[  # type: ignore\n",
    "    'deployed_block_number']\n",
    "opensea_v1_blk"
   ]
  },
  {
   "cell_type": "code",
   "execution_count": 30,
   "metadata": {},
   "outputs": [
    {
     "data": {
      "text/plain": [
       "blockNumber                                                  5779378\n",
       "logIndex                                                          55\n",
       "maker                     0x6Be4a7bbb812Bfa6A63126EE7b76C8A13529BDB8\n",
       "taker                     0x0239769A1aDF4DeF9f07Da824B80B9C4fCB59593\n",
       "metadata           0000000000000000000000000000000000000000000000...\n",
       "buyHash            c1f12102332b8d0dfe98a6e2045860dfd22a30388c97b4...\n",
       "sellHash           0000000000000000000000000000000000000000000000...\n",
       "price                                                          0.001\n",
       "transactionHash    0xb066452c1e87696392c9e74fd0159dea8b53d2162138...\n",
       "Name: 0, dtype: object"
      ]
     },
     "metadata": {},
     "output_type": "display_data"
    },
    {
     "data": {
      "text/plain": [
       "'0000000000000000000000000000000000000000000000000000000000000000'"
      ]
     },
     "metadata": {},
     "output_type": "display_data"
    },
    {
     "data": {
      "text/plain": [
       "66"
      ]
     },
     "metadata": {},
     "output_type": "display_data"
    },
    {
     "data": {
      "text/plain": [
       "64"
      ]
     },
     "metadata": {},
     "output_type": "display_data"
    },
    {
     "data": {
      "text/plain": [
       "64"
      ]
     },
     "metadata": {},
     "output_type": "display_data"
    },
    {
     "data": {
      "text/plain": [
       "64"
      ]
     },
     "metadata": {},
     "output_type": "display_data"
    }
   ],
   "source": [
    "df = pd.DataFrame(opensea_v1.fetch_events(\n",
    "    opensea_v1.events.OrdersMatched,\n",
    "    from_block=5774644,\n",
    "    to_block=5774644+10000,\n",
    "    contract_address=opensea_v1.address))\n",
    "\n",
    "if not df.empty:\n",
    "    df = (\n",
    "        df.loc[:, ['blockNumber', 'logIndex', 'maker', 'taker',\n",
    "                   'metadata', 'buyHash', 'sellHash', 'price', 'transactionHash']]\n",
    "        .assign(metadata=lambda x: x.metadata.apply(lambda y: y.hex()),\n",
    "                buyHash=lambda x: x.buyHash.apply(lambda y: y.hex()),\n",
    "                sellHash=lambda x: x.sellHash.apply(lambda y: y.hex()),\n",
    "                transactionHash=lambda x: x.transactionHash.apply(lambda y: y.hex()),\n",
    "                price=lambda x: x.price / 1e18,)\n",
    "    )\n",
    "\n",
    "    display(df.loc[0].T)\n",
    "\n",
    "    display(df.loc[0].metadata)\n",
    "\n",
    "    display(len(df.loc[0].transactionHash),\n",
    "            len(df.loc[0].metadata),\n",
    "            len(df.loc[0].buyHash),\n",
    "            len(df.loc[0].sellHash),\n",
    "            )\n",
    "\n",
    "# df.loc[:, 'txHash'] = df.transactionHash.apply(lambda x: x.hex())\n",
    "# df.query('txHash == \"0x7efdbef1c377126b5bb5381b8f46a5dd7cb4b992b5f2f48a5f47eec86297c281\"').T"
   ]
  },
  {
   "cell_type": "code",
   "execution_count": null,
   "metadata": {},
   "outputs": [],
   "source": [
    "df = pd.DataFrame(opensea_v1.fetch_events(\n",
    "    opensea_v1.events.Orders,\n",
    "    from_block=14029202,\n",
    "    to_block=14029202,\n",
    "    contract_address=opensea_v1.address))"
   ]
  }
 ],
 "metadata": {
  "kernelspec": {
   "display_name": "cmk39",
   "language": "python",
   "name": "python3"
  },
  "language_info": {
   "codemirror_mode": {
    "name": "ipython",
    "version": 3
   },
   "file_extension": ".py",
   "mimetype": "text/x-python",
   "name": "python",
   "nbconvert_exporter": "python",
   "pygments_lexer": "ipython3",
   "version": "3.9.16"
  },
  "orig_nbformat": 4
 },
 "nbformat": 4,
 "nbformat_minor": 2
}
