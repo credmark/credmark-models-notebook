{
 "cells": [
  {
   "cell_type": "markdown",
   "metadata": {},
   "source": [
    "# OpenSea V1\n"
   ]
  },
  {
   "cell_type": "code",
   "execution_count": 12,
   "metadata": {},
   "outputs": [
    {
     "name": "stdout",
     "output_type": "stream",
     "text": [
      "Credmark context created with \n",
      "- chain_id=1\n",
      "- block_number=17527032\n",
      "- chain_to_provider_url=http://192...8545\n",
      "- model_loader_path=['/home/yangye/dev/credmark/credmark-models-py/models']\n",
      "- api_url=https://gateway.credmark.com\n",
      "- use_local_models=*\n",
      "\n",
      "17527032\n"
     ]
    }
   ],
   "source": [
    "import pandas as pd\n",
    "\n",
    "from credmark.cmf.ipython import create_cmf\n",
    "from credmark.cmf.types import Token, Contract, Address, Account, BlockNumber, Records\n",
    "\n",
    "# fix_block_number = None\n",
    "fix_block_number = 17527032\n",
    "\n",
    "cmf_param = {\n",
    "    'block_number': fix_block_number,\n",
    "    'chain_id': 1,\n",
    "    'use_local_models': '*',\n",
    "}\n",
    "context, _model_loader = create_cmf(cmf_param, True)\n",
    "fix_block_number = context.block_number\n",
    "print(fix_block_number)"
   ]
  },
  {
   "cell_type": "markdown",
   "metadata": {},
   "source": [
    "https://github.com/ProjectOpenSea/seaport\n",
    "\n",
    "- Contract Canonical Cross-chain Deployment Address\n",
    "- Seaport 1.1 0x00000000006c3852cbEf3e08E8dF289169EdE581\n",
    "- Seaport 1.2 0x00000000000006c7676171937C444f6BDe3D6282\n",
    "- Seaport 1.3 0x0000000000000aD24e80fd803C6ac37206a45f15\n",
    "- Seaport 1.4 0x00000000000001ad428e4906aE43D8F9852d0dD6\n",
    "- Seaport 1.5 0x00000000000000ADc04C56Bf30aC9d3c0aAF14dC\n"
   ]
  },
  {
   "cell_type": "code",
   "execution_count": 4,
   "metadata": {},
   "outputs": [
    {
     "data": {
      "text/plain": [
       "5774644"
      ]
     },
     "execution_count": 4,
     "metadata": {},
     "output_type": "execute_result"
    }
   ],
   "source": [
    "opensea_v1 = Contract('0x7Be8076f4EA4A4AD08075C2508e481d6C946D12b')\n",
    "\n",
    "opensea_v1_blk = context.run_model('token.deployment', opensea_v1)[  # type: ignore\n",
    "    'deployed_block_number']\n",
    "opensea_v1_blk"
   ]
  },
  {
   "cell_type": "code",
   "execution_count": 30,
   "metadata": {},
   "outputs": [
    {
     "data": {
      "text/plain": [
       "blockNumber                                                  5779378\n",
       "logIndex                                                          55\n",
       "maker                     0x6Be4a7bbb812Bfa6A63126EE7b76C8A13529BDB8\n",
       "taker                     0x0239769A1aDF4DeF9f07Da824B80B9C4fCB59593\n",
       "metadata           0000000000000000000000000000000000000000000000...\n",
       "buyHash            c1f12102332b8d0dfe98a6e2045860dfd22a30388c97b4...\n",
       "sellHash           0000000000000000000000000000000000000000000000...\n",
       "price                                                          0.001\n",
       "transactionHash    0xb066452c1e87696392c9e74fd0159dea8b53d2162138...\n",
       "Name: 0, dtype: object"
      ]
     },
     "metadata": {},
     "output_type": "display_data"
    },
    {
     "data": {
      "text/plain": [
       "'0000000000000000000000000000000000000000000000000000000000000000'"
      ]
     },
     "metadata": {},
     "output_type": "display_data"
    },
    {
     "data": {
      "text/plain": [
       "66"
      ]
     },
     "metadata": {},
     "output_type": "display_data"
    },
    {
     "data": {
      "text/plain": [
       "64"
      ]
     },
     "metadata": {},
     "output_type": "display_data"
    },
    {
     "data": {
      "text/plain": [
       "64"
      ]
     },
     "metadata": {},
     "output_type": "display_data"
    },
    {
     "data": {
      "text/plain": [
       "64"
      ]
     },
     "metadata": {},
     "output_type": "display_data"
    }
   ],
   "source": [
    "df = pd.DataFrame(opensea_v1.fetch_events(\n",
    "    opensea_v1.events.OrdersMatched,\n",
    "    from_block=5774644,\n",
    "    to_block=5774644+10000,\n",
    "    contract_address=opensea_v1.address))\n",
    "\n",
    "if not df.empty:\n",
    "    df = (\n",
    "        df.loc[:, ['blockNumber', 'logIndex', 'maker', 'taker',\n",
    "                   'metadata', 'buyHash', 'sellHash', 'price', 'transactionHash']]\n",
    "        .assign(metadata=lambda x: x.metadata.apply(lambda y: y.hex()),\n",
    "                buyHash=lambda x: x.buyHash.apply(lambda y: y.hex()),\n",
    "                sellHash=lambda x: x.sellHash.apply(lambda y: y.hex()),\n",
    "                transactionHash=lambda x: x.transactionHash.apply(lambda y: y.hex()),\n",
    "                price=lambda x: x.price / 1e18,)\n",
    "    )\n",
    "\n",
    "    display(df.loc[0].T)\n",
    "\n",
    "    display(df.loc[0].metadata)\n",
    "\n",
    "    display(len(df.loc[0].transactionHash),\n",
    "            len(df.loc[0].metadata),\n",
    "            len(df.loc[0].buyHash),\n",
    "            len(df.loc[0].sellHash))\n",
    "\n",
    "# df.loc[:, 'txHash'] = df.transactionHash.apply(lambda x: x.hex())\n",
    "# df.query('txHash == \"0x7efdbef1c377126b5bb5381b8f46a5dd7cb4b992b5f2f48a5f47eec86297c281\"').T"
   ]
  },
  {
   "cell_type": "code",
   "execution_count": null,
   "metadata": {},
   "outputs": [],
   "source": [
    "df = pd.DataFrame(opensea_v1.fetch_events(\n",
    "    opensea_v1.events.Orders,\n",
    "    from_block=14029202,\n",
    "    to_block=14029202,\n",
    "    contract_address=opensea_v1.address))"
   ]
  },
  {
   "cell_type": "markdown",
   "metadata": {},
   "source": [
    "## V2 Seaport\n"
   ]
  },
  {
   "cell_type": "code",
   "execution_count": 10,
   "metadata": {},
   "outputs": [
    {
     "data": {
      "text/plain": [
       "args                (offerer, zone, orderHash, recipient, offer, c...\n",
       "event                                                  OrderFulfilled\n",
       "logIndex                                                          262\n",
       "transactionIndex                                                  128\n",
       "transactionHash     b'M\\x0b\\xfd\\xf2[Ff\\xb7w\\xfe\\xd8\\x89\\x85\\\\\\x01]...\n",
       "address                    0x00000000000000ADc04C56Bf30aC9d3c0aAF14dC\n",
       "blockHash           b\"\\x98d\\xdc\\xeel#\\x82t\\xd9\\x91\\x9d\\xe2'.\\xa7[\\...\n",
       "blockNumber                                                  17512390\n",
       "offerer                    0x7c4b23fD000D6FeD7B3091c5b24c60922E733C51\n",
       "zone                       0x004C00500000aD104D7DBd00e3ae0A5C00560C00\n",
       "orderHash           b's\\xe26\\xd9\\xbe\\x18[\\xa8\\x9e\\x13nv2\\x9c\\xd6\\x...\n",
       "recipient                  0x372bAcbC17B48EE6D532750f5A46bDa18b050a6e\n",
       "offer               [(2, 0x1A2A5Cdb346b8C5C83764C27266C5E52B35f93B...\n",
       "consideration       [(0, 0x000000000000000000000000000000000000000...\n",
       "Name: 0, dtype: object"
      ]
     },
     "metadata": {},
     "output_type": "display_data"
    },
    {
     "data": {
      "text/html": [
       "<div>\n",
       "<style scoped>\n",
       "    .dataframe tbody tr th:only-of-type {\n",
       "        vertical-align: middle;\n",
       "    }\n",
       "\n",
       "    .dataframe tbody tr th {\n",
       "        vertical-align: top;\n",
       "    }\n",
       "\n",
       "    .dataframe thead th {\n",
       "        text-align: right;\n",
       "    }\n",
       "</style>\n",
       "<table border=\"1\" class=\"dataframe\">\n",
       "  <thead>\n",
       "    <tr style=\"text-align: right;\">\n",
       "      <th></th>\n",
       "      <th>0</th>\n",
       "      <th>1</th>\n",
       "      <th>2</th>\n",
       "    </tr>\n",
       "  </thead>\n",
       "  <tbody>\n",
       "    <tr>\n",
       "      <th>blockNumber</th>\n",
       "      <td>17512390</td>\n",
       "      <td>17512390</td>\n",
       "      <td>17512390</td>\n",
       "    </tr>\n",
       "    <tr>\n",
       "      <th>logIndex</th>\n",
       "      <td>262</td>\n",
       "      <td>264</td>\n",
       "      <td>319</td>\n",
       "    </tr>\n",
       "    <tr>\n",
       "      <th>address</th>\n",
       "      <td>0x00000000000000ADc04C56Bf30aC9d3c0aAF14dC</td>\n",
       "      <td>0x00000000000000ADc04C56Bf30aC9d3c0aAF14dC</td>\n",
       "      <td>0x00000000000000ADc04C56Bf30aC9d3c0aAF14dC</td>\n",
       "    </tr>\n",
       "    <tr>\n",
       "      <th>transactionHash</th>\n",
       "      <td>0x4d0bfdf25b4666b777fed889855c015d141d55de8e29...</td>\n",
       "      <td>0x00a234646f6381d699198e3a6429966429e4245c7b5a...</td>\n",
       "      <td>0x0089c3509e5adc6d54979ba08a3278f59a272531e503...</td>\n",
       "    </tr>\n",
       "    <tr>\n",
       "      <th>offerer</th>\n",
       "      <td>0x7c4b23fD000D6FeD7B3091c5b24c60922E733C51</td>\n",
       "      <td>0xA60219f09e24762CA352109C7c19F3cBAdD2D62e</td>\n",
       "      <td>0xdbA15633594ec70A0B16365953340a5bbd82D3F2</td>\n",
       "    </tr>\n",
       "    <tr>\n",
       "      <th>zone</th>\n",
       "      <td>0x004C00500000aD104D7DBd00e3ae0A5C00560C00</td>\n",
       "      <td>0x004C00500000aD104D7DBd00e3ae0A5C00560C00</td>\n",
       "      <td>0x004C00500000aD104D7DBd00e3ae0A5C00560C00</td>\n",
       "    </tr>\n",
       "    <tr>\n",
       "      <th>orderHash</th>\n",
       "      <td>73e236d9be185ba89e136e76329cd6a220ab63bd871aac...</td>\n",
       "      <td>e360784dfb22f34a07949b17dc9ab3b2dee0db82a78fc2...</td>\n",
       "      <td>619ccd9d6b56b52cbe353509aca5d935d2040506960b7b...</td>\n",
       "    </tr>\n",
       "    <tr>\n",
       "      <th>recipient</th>\n",
       "      <td>0x372bAcbC17B48EE6D532750f5A46bDa18b050a6e</td>\n",
       "      <td>0xf85139701FcCa36b2169610A376cd6276901239A</td>\n",
       "      <td>0xf901905D61D4927b029160527bA5c1C88C277373</td>\n",
       "    </tr>\n",
       "    <tr>\n",
       "      <th>offer</th>\n",
       "      <td>{\"items\": [{\"itemType\": 2, \"token\": \"0x1a2a5cd...</td>\n",
       "      <td>{\"items\": [{\"itemType\": 2, \"token\": \"0x54d0352...</td>\n",
       "      <td>{\"items\": [{\"itemType\": 2, \"token\": \"0x4d7d2e2...</td>\n",
       "    </tr>\n",
       "    <tr>\n",
       "      <th>consideration</th>\n",
       "      <td>{\"items\": [{\"itemType\": 0, \"token\": \"0x0000000...</td>\n",
       "      <td>{\"items\": [{\"itemType\": 0, \"token\": \"0x0000000...</td>\n",
       "      <td>{\"items\": [{\"itemType\": 0, \"token\": \"0x0000000...</td>\n",
       "    </tr>\n",
       "  </tbody>\n",
       "</table>\n",
       "</div>"
      ],
      "text/plain": [
       "                                                                 0  \\\n",
       "blockNumber                                               17512390   \n",
       "logIndex                                                       262   \n",
       "address                 0x00000000000000ADc04C56Bf30aC9d3c0aAF14dC   \n",
       "transactionHash  0x4d0bfdf25b4666b777fed889855c015d141d55de8e29...   \n",
       "offerer                 0x7c4b23fD000D6FeD7B3091c5b24c60922E733C51   \n",
       "zone                    0x004C00500000aD104D7DBd00e3ae0A5C00560C00   \n",
       "orderHash        73e236d9be185ba89e136e76329cd6a220ab63bd871aac...   \n",
       "recipient               0x372bAcbC17B48EE6D532750f5A46bDa18b050a6e   \n",
       "offer            {\"items\": [{\"itemType\": 2, \"token\": \"0x1a2a5cd...   \n",
       "consideration    {\"items\": [{\"itemType\": 0, \"token\": \"0x0000000...   \n",
       "\n",
       "                                                                 1  \\\n",
       "blockNumber                                               17512390   \n",
       "logIndex                                                       264   \n",
       "address                 0x00000000000000ADc04C56Bf30aC9d3c0aAF14dC   \n",
       "transactionHash  0x00a234646f6381d699198e3a6429966429e4245c7b5a...   \n",
       "offerer                 0xA60219f09e24762CA352109C7c19F3cBAdD2D62e   \n",
       "zone                    0x004C00500000aD104D7DBd00e3ae0A5C00560C00   \n",
       "orderHash        e360784dfb22f34a07949b17dc9ab3b2dee0db82a78fc2...   \n",
       "recipient               0xf85139701FcCa36b2169610A376cd6276901239A   \n",
       "offer            {\"items\": [{\"itemType\": 2, \"token\": \"0x54d0352...   \n",
       "consideration    {\"items\": [{\"itemType\": 0, \"token\": \"0x0000000...   \n",
       "\n",
       "                                                                 2  \n",
       "blockNumber                                               17512390  \n",
       "logIndex                                                       319  \n",
       "address                 0x00000000000000ADc04C56Bf30aC9d3c0aAF14dC  \n",
       "transactionHash  0x0089c3509e5adc6d54979ba08a3278f59a272531e503...  \n",
       "offerer                 0xdbA15633594ec70A0B16365953340a5bbd82D3F2  \n",
       "zone                    0x004C00500000aD104D7DBd00e3ae0A5C00560C00  \n",
       "orderHash        619ccd9d6b56b52cbe353509aca5d935d2040506960b7b...  \n",
       "recipient               0xf901905D61D4927b029160527bA5c1C88C277373  \n",
       "offer            {\"items\": [{\"itemType\": 2, \"token\": \"0x4d7d2e2...  \n",
       "consideration    {\"items\": [{\"itemType\": 0, \"token\": \"0x0000000...  "
      ]
     },
     "metadata": {},
     "output_type": "display_data"
    },
    {
     "data": {
      "text/plain": [
       "blockNumber         int64\n",
       "logIndex            int64\n",
       "address            object\n",
       "transactionHash    object\n",
       "offerer            object\n",
       "zone               object\n",
       "orderHash          object\n",
       "recipient          object\n",
       "offer              object\n",
       "consideration      object\n",
       "dtype: object"
      ]
     },
     "metadata": {},
     "output_type": "display_data"
    },
    {
     "data": {
      "text/plain": [
       "66"
      ]
     },
     "metadata": {},
     "output_type": "display_data"
    },
    {
     "data": {
      "text/plain": [
       "42"
      ]
     },
     "metadata": {},
     "output_type": "display_data"
    },
    {
     "data": {
      "text/plain": [
       "42"
      ]
     },
     "metadata": {},
     "output_type": "display_data"
    },
    {
     "data": {
      "text/plain": [
       "64"
      ]
     },
     "metadata": {},
     "output_type": "display_data"
    },
    {
     "data": {
      "text/plain": [
       "42"
      ]
     },
     "metadata": {},
     "output_type": "display_data"
    }
   ],
   "source": [
    "from models.credmark.tokens.nft.nft_transfer import SeaportSpentItems, SeaportReceivedItems\n",
    "\n",
    "seaport = Contract('0x00000000000000ADc04C56Bf30aC9d3c0aAF14dC')\n",
    "df_seaport = pd.DataFrame(seaport.fetch_events(seaport.events.OrderFulfilled, from_block=17512390, to_block=17512390))\n",
    "\n",
    "display(df_seaport.loc[0].T)\n",
    "\n",
    "if not df_seaport.empty:\n",
    "    df_seaport = (\n",
    "        df_seaport.loc[:, ['blockNumber', 'logIndex', 'address', 'transactionHash',\n",
    "                           'offerer', 'zone',\n",
    "                           'orderHash', 'recipient', 'offer', 'consideration']]\n",
    "        .assign(transactionHash=lambda x: x.transactionHash.apply(lambda y: y.hex()),\n",
    "                orderHash=lambda x: x.orderHash.apply(lambda y: y.hex(),),\n",
    "                offer=lambda x: x.offer.apply(lambda x: SeaportSpentItems.from_list(x).json()),\n",
    "                consideration=lambda x: x.consideration.apply(lambda x: SeaportReceivedItems.from_list(x).json())\n",
    "                ))\n",
    "\n",
    "    # display(SeaportSpentItem.from_tuple(df_seaport.loc[0, 'offer'][0]))\n",
    "\n",
    "    display(df_seaport.T)\n",
    "\n",
    "    display(df_seaport.dtypes)\n",
    "\n",
    "    display(len(df_seaport.loc[0].transactionHash),\n",
    "            len(df_seaport.loc[0].offerer),\n",
    "            len(df_seaport.loc[0].zone),\n",
    "            len(df_seaport.loc[0].orderHash),\n",
    "            len(df_seaport.loc[0].recipient))\n",
    "\n",
    "\n",
    "# df_seaport.offer[0]"
   ]
  }
 ],
 "metadata": {
  "kernelspec": {
   "display_name": "cmk39",
   "language": "python",
   "name": "python3"
  },
  "language_info": {
   "codemirror_mode": {
    "name": "ipython",
    "version": 3
   },
   "file_extension": ".py",
   "mimetype": "text/x-python",
   "name": "python",
   "nbconvert_exporter": "python",
   "pygments_lexer": "ipython3",
   "version": "3.9.16"
  },
  "orig_nbformat": 4
 },
 "nbformat": 4,
 "nbformat_minor": 2
}
