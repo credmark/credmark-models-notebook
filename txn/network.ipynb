{
 "cells": [
  {
   "cell_type": "markdown",
   "metadata": {},
   "source": [
    "## Credmark Modeling Framework - Transaction Network Analysis - Tag\n",
    "\n",
    "- Author: Kunlun\n",
    "- Version: 2022.07.14"
   ]
  },
  {
   "cell_type": "code",
   "execution_count": null,
   "metadata": {},
   "outputs": [],
   "source": [
    "%reload_ext credmark.cmf.ipython\n",
    "\n",
    "param = {'chain_id': 1,\n",
    " 'block_number': None,\n",
    " 'model_loader_path': ['../../credmark-models-py/models'],\n",
    " 'chain_to_provider_url': {'1': 'http://192.168.68.122:10444'},\n",
    " 'api_url': None,\n",
    " 'use_local_models': None,\n",
    " 'register_utility_global': True}\n",
    "\n",
    "from models.credmark.tokens.transaction import plot_dig, create_graph_from_txn, classify_dig"
   ]
  },
  {
   "cell_type": "markdown",
   "metadata": {},
   "source": [
    "## Load Transaction from Ledger or files"
   ]
  },
  {
   "cell_type": "code",
   "execution_count": null,
   "metadata": {},
   "outputs": [],
   "source": [
    "load_from_ledger = False\n",
    "\n",
    "if load_from_ledger:\n",
    "    context,_ = %cmf param\n",
    "\n",
    "    def get_transaction(txn_hash):\n",
    "        with context.ledger.TokenTransfer as q:\n",
    "            df_txn = q.select(columns=q.columns,\n",
    "                        where=q.TRANSACTION_HASH.eq(txn_hash)).to_dataframe()\n",
    "        return df_txn\n",
    "\n",
    "    df4 = get_transaction('0x319552805d5f3d0c97e7b6c1e40d0c42817c49406fbff41af0f3ac88b590aa34')\n",
    "    df5 = get_transaction('0x6d311b818df10c6120a38487bc6d93a995bd9b95a6989bcd4f5b036eba466ebc')\n",
    "    df6 = get_transaction('0x9534191274052b29fe42210f1544097b1782f50b25cd03f5301f8e547b74eb1c')\n",
    "    df7 = get_transaction('0xff9939b22afc969eb1d1e8640527ca156a1cfb011fcf794290f52089e2e9f693')\n",
    "    df8 = get_transaction('0x7ee67c4b2b5540a503fdf3b2f3a44c955c22884c0e286f5d89e67d4d8989264a')\n",
    "    df9 = get_transaction('0x8544afeaa6738823a62203b2b72dafd9d637e28fb5bf345a6de6accac1cc30ba')\n",
    "    df4.to_csv('df4.csv', index=False)\n",
    "    df5.to_csv('df5.csv', index=False)\n",
    "    df6.to_csv('df6.csv', index=False)\n",
    "    df7.to_csv('df7.csv', index=False)\n",
    "    df8.to_csv('df8.csv', index=False)\n",
    "    df9.to_csv('df9.csv', index=False)\n",
    "else:\n",
    "    df4 = pd.read_csv('df4.csv')\n",
    "    df5 = pd.read_csv('df5.csv')\n",
    "    df6 = pd.read_csv('df6.csv')\n",
    "    df7 = pd.read_csv('df7.csv')\n",
    "    df8 = pd.read_csv('df8.csv')\n",
    "    df9 = pd.read_csv('df9.csv')\n",
    "\n",
    "    display(df4)    "
   ]
  },
  {
   "cell_type": "code",
   "execution_count": null,
   "metadata": {},
   "outputs": [],
   "source": []
  },
  {
   "cell_type": "markdown",
   "metadata": {},
   "source": [
    "## Test dig"
   ]
  },
  {
   "cell_type": "code",
   "execution_count": null,
   "metadata": {},
   "outputs": [],
   "source": [
    "def txn_analysis(param, df_txn):\n",
    "    param = param | {'block_number': df_txn.block_number.to_list()[0]}\n",
    "    context,_ = %cmf param\n",
    "\n",
    "    dig = create_graph_from_txn(df_txn)\n",
    "    plot_dig(dig)\n",
    "    df_txn_new = classify_dig(context.logger, dig, df_txn, debug=False)\n",
    "    display(df_txn_new)"
   ]
  },
  {
   "cell_type": "code",
   "execution_count": null,
   "metadata": {},
   "outputs": [],
   "source": [
    "txn_analysis(param, df4)"
   ]
  },
  {
   "cell_type": "code",
   "execution_count": null,
   "metadata": {},
   "outputs": [],
   "source": [
    "txn_analysis(param, df5)"
   ]
  },
  {
   "cell_type": "code",
   "execution_count": null,
   "metadata": {},
   "outputs": [],
   "source": [
    "txn_analysis(param, df6)"
   ]
  },
  {
   "cell_type": "code",
   "execution_count": null,
   "metadata": {},
   "outputs": [],
   "source": [
    "txn_analysis(param, pd.concat([df4, df4]))"
   ]
  },
  {
   "cell_type": "code",
   "execution_count": null,
   "metadata": {},
   "outputs": [],
   "source": [
    "txn_analysis(param, df7)"
   ]
  },
  {
   "cell_type": "code",
   "execution_count": null,
   "metadata": {},
   "outputs": [],
   "source": [
    "txn_analysis(param, df8)"
   ]
  },
  {
   "cell_type": "code",
   "execution_count": null,
   "metadata": {},
   "outputs": [],
   "source": [
    "txn_analysis(param, df9)"
   ]
  }
 ],
 "metadata": {
  "kernelspec": {
   "display_name": "Python 3.10.5 ('cmk310')",
   "language": "python",
   "name": "python3"
  },
  "language_info": {
   "codemirror_mode": {
    "name": "ipython",
    "version": 3
   },
   "file_extension": ".py",
   "mimetype": "text/x-python",
   "name": "python",
   "nbconvert_exporter": "python",
   "pygments_lexer": "ipython3",
   "version": "3.10.5"
  },
  "orig_nbformat": 4,
  "vscode": {
   "interpreter": {
    "hash": "ef3060a66f05e685ce670116a67026aba95afdffb2461d829b3351d07ec51c58"
   }
  }
 },
 "nbformat": 4,
 "nbformat_minor": 2
}
