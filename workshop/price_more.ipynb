{
 "cells": [
  {
   "attachments": {},
   "cell_type": "markdown",
   "metadata": {},
   "source": [
    "## 5. Translate above code into a model to return Records for Uniswap V2 pool's price for a block range\n"
   ]
  },
  {
   "cell_type": "code",
   "execution_count": null,
   "metadata": {},
   "outputs": [],
   "source": [
    "# Let's create a model for a range of block numbers\n",
    "# It support cases when there are > 5000 Sync events in the range, or no event during the\n",
    "\n",
    "import pandas as pd\n",
    "\n",
    "from credmark.cmf.types import Records\n",
    "from credmark.dto import DTOField\n",
    "\n",
    "\n",
    "class ContractWithRange(Contract):\n",
    "    block_range: int = DTOField(ge=0, description='Block range to query')\n",
    "\n",
    "\n",
    "@Model.describe(\n",
    "    slug='jit.uniswap-v2-reserve-range',\n",
    "    version='1.1',\n",
    "    input=ContractWithRange,\n",
    "    output=Records)\n",
    "class UniswapV2ReserveRange(Model):\n",
    "    def run(self, input):\n",
    "        current_reserve = self.context.run_model('jit.uniswap-v2-reserve',\n",
    "                                                 input)\n",
    "\n",
    "        dfs = []\n",
    "        with input.ledger.events.Sync as q:\n",
    "            while True:\n",
    "                df = q.select(q.columns,\n",
    "                              where=q.BLOCK_NUMBER.ge(context.block_number-input.block_range),\n",
    "                              order_by=q.BLOCK_NUMBER.comma_(q.LOG_INDEX)).to_dataframe()\n",
    "\n",
    "                if not df.empty:\n",
    "                    dfs.append(df)\n",
    "\n",
    "                if df.shape[0] < 5000:\n",
    "                    break\n",
    "\n",
    "        df_post_events = (pd.DataFrame(eth_usdc_pool.fetch_events(\n",
    "            eth_usdc_pool.events.Sync,\n",
    "            from_block=int(df.loc[df.shape[0]-1, 'block_number']) +\n",
    "            1 if not df.empty else context.block_number-input.block_range,\n",
    "            to_block=context.block_number)))\n",
    "\n",
    "        if not df_post_events.empty:\n",
    "            df_post_events = (df_post_events\n",
    "                              .loc[:, ['blockNumber', 'reserve0', 'reserve1']]\n",
    "                              .rename(columns={'blockNumber': 'block_number'}))\n",
    "\n",
    "        if len(dfs) == 0:\n",
    "            df_clean = pd.DataFrame()\n",
    "        else:\n",
    "            df_clean = (pd.concat(dfs)\n",
    "                        .drop_duplicates(subset=['block_number'], keep='last')\n",
    "                        .loc[:, ['block_number', 'evt_reserve0', 'evt_reserve1']]\n",
    "                        .rename(columns={'evt_reserve0': 'reserve0', 'evt_reserve1': 'reserve1'})\n",
    "                        .assign(block_number=lambda x: x.block_number.astype(int),\n",
    "                                reserve0=lambda x: x.reserve0.apply(int),\n",
    "                                reserve1=lambda x: x.reserve1.apply(int),))\n",
    "\n",
    "        df_clean = pd.concat([df_clean, df_post_events]).reset_index(drop=True)\n",
    "\n",
    "        if df_clean.empty or df_clean.loc[df_clean.shape[0]-1, 'block_number'] != context.block_number:\n",
    "            df_clean = pd.concat([\n",
    "                df_clean,\n",
    "                pd.DataFrame({'block_number': [context.block_number],\n",
    "                              'reserve0': [current_reserve['reserve0']],\n",
    "                              'reserve1': [current_reserve['reserve1']]})])\n",
    "\n",
    "        df_clean['price_token1'] = token0.scaled(df_clean['reserve0']) / token1.scaled(df_clean['reserve1'])\n",
    "        df_clean['price_token0'] = 1 / df_clean['price_token1']\n",
    "\n",
    "        df_clean = (df_clean\n",
    "                    .merge(pd.DataFrame({'block_number': range(context.block_number-1000, context.block_number+1)}), how='right')\n",
    "                    .sort_values('block_number')\n",
    "                    .fillna(method='ffill')\n",
    "                    .fillna(method='bfill'))\n",
    "\n",
    "        return Records.from_dataframe(df_clean)\n",
    "\n",
    "\n",
    "context.add_model(UniswapV2ReserveRange)"
   ]
  },
  {
   "cell_type": "code",
   "execution_count": null,
   "metadata": {},
   "outputs": [
    {
     "data": {
      "text/plain": [
       "<Axes: xlabel='block_number'>"
      ]
     },
     "metadata": {},
     "output_type": "display_data"
    },
    {
     "data": {
      "image/png": "[encoded data removed]",
      "text/plain": [
       "<Figure size 640x480 with 1 Axes>"
      ]
     },
     "metadata": {},
     "output_type": "display_data"
    }
   ],
   "source": [
    "context.reset_cache()\n",
    "df_range = context.run_model('jit.uniswap-v2-reserve-range',\n",
    "                             {'address': '0xB4e16d0168e52d35CaCD2c6185b44281Ec28C9Dc', 'block_range': 0},\n",
    "                             return_type=Records).to_dataframe()\n",
    "\n",
    "df_range.plot('block_number', 'price_token1')"
   ]
  }
 ],
 "metadata": {
  "language_info": {
   "name": "python"
  },
  "orig_nbformat": 4
 },
 "nbformat": 4,
 "nbformat_minor": 2
}
