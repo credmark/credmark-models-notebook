{
 "cells": [
  {
   "cell_type": "code",
   "execution_count": 1,
   "metadata": {},
   "outputs": [
    {
     "name": "stdout",
     "output_type": "stream",
     "text": [
      "Credmark context created with \n",
      "- chain_id=1\n",
      "- block_number=None\n",
      "- chain_provider_url=http://192...8545\n",
      "- model_loader_path=['/home/yangye/dev/credmark/credmark-models-py/models']\n",
      "- api_url=https://gateway.credmark.com\n",
      "- use_local_models=None\n",
      "\n"
     ]
    }
   ],
   "source": [
    "from credmark.cmf.ipython import create_cmf\n",
    "from credmark.cmf.types import Token, Contract, Address, BlockNumber\n",
    "\n",
    "context, model_loader = create_cmf(show=True)"
   ]
  },
  {
   "cell_type": "code",
   "execution_count": 9,
   "metadata": {},
   "outputs": [],
   "source": [
    "from credmark.cmf.model import Model\n",
    "\n",
    "\n",
    "@Model.describe(\n",
    "    slug='jit.uniswap-v2-reserve',\n",
    "    version='1.1',\n",
    "    input=Contract,\n",
    "    output=dict)\n",
    "class UniswapV2Reserve(Model):\n",
    "    def run(self, input):\n",
    "        token0_addr = input.functions.token0().call()\n",
    "        token1_addr = input.functions.token1().call()\n",
    "        token0 = Token(token0_addr)\n",
    "        token1 = Token(token1_addr)\n",
    "        _reserve0, _reserve1, _block_timestamp_last = input.functions.getReserves().call()\n",
    "        price_token1 = token0.scaled(_reserve0) / token1.scaled(_reserve1)\n",
    "        return {'price_token1': price_token1,\n",
    "                'price_token0': 1 / price_token1,\n",
    "                'reserve0': _reserve0,\n",
    "                'reserve1': _reserve1}\n",
    "\n",
    "\n",
    "# We can save this as a file in the models/ directory of credmark-models-py to load it\n",
    "# Here we directly load it from the definition, with this way, it can only be used in this notebook.\n",
    "context.add_model(UniswapV2Reserve)"
   ]
  },
  {
   "attachments": {},
   "cell_type": "markdown",
   "metadata": {},
   "source": [
    "## 5. Translate above code into a model to return Records for Uniswap V2 pool's price for a block range\n"
   ]
  },
  {
   "cell_type": "code",
   "execution_count": 10,
   "metadata": {},
   "outputs": [],
   "source": [
    "# Let's create a model for a range of block numbers\n",
    "# It support cases when there are > 5000 Sync events in the range, or no event during the\n",
    "\n",
    "import pandas as pd\n",
    "\n",
    "from credmark.cmf.model import Model\n",
    "from credmark.cmf.types import Records\n",
    "from credmark.dto import DTOField\n",
    "\n",
    "\n",
    "class ContractWithRange(Contract):\n",
    "    block_range: int = DTOField(ge=0, description='Block range to query')\n",
    "\n",
    "\n",
    "@Model.describe(\n",
    "    slug='jit.uniswap-v2-reserve-range',\n",
    "    version='1.1',\n",
    "    input=ContractWithRange,\n",
    "    output=Records)\n",
    "class UniswapV2ReserveRange(Model):\n",
    "    def run(self, input):\n",
    "        current_reserve = self.context.run_model('jit.uniswap-v2-reserve',\n",
    "                                                 input)\n",
    "\n",
    "        token0 = Token(input.functions.token0().call())\n",
    "        token1 = Token(input.functions.token1().call())\n",
    "\n",
    "        dfs = []\n",
    "        with input.ledger.events.Sync as q:\n",
    "            while True:\n",
    "                df = q.select(q.columns,\n",
    "                              where=q.BLOCK_NUMBER.ge(context.block_number-input.block_range),\n",
    "                              order_by=q.BLOCK_NUMBER.comma_(q.LOG_INDEX)).to_dataframe()\n",
    "\n",
    "                if not df.empty:\n",
    "                    dfs.append(df)\n",
    "\n",
    "                if df.shape[0] < 5000:\n",
    "                    break\n",
    "\n",
    "        df_post_events = (pd.DataFrame(input.fetch_events(\n",
    "            input.events.Sync,\n",
    "            from_block=(\n",
    "                (int(df.loc[df.shape[0]-1, 'block_number']) + 1)\n",
    "                if not df.empty\n",
    "                else self.context.block_number-input.block_range),\n",
    "            to_block=self.context.block_number)))\n",
    "\n",
    "        if not df_post_events.empty:\n",
    "            df_post_events = (df_post_events\n",
    "                              .loc[:, ['blockNumber', 'reserve0', 'reserve1']]\n",
    "                              .rename(columns={'blockNumber': 'block_number'}))\n",
    "\n",
    "        if len(dfs) == 0:\n",
    "            df_clean = pd.DataFrame()\n",
    "        else:\n",
    "            df_clean = (pd.concat(dfs)\n",
    "                        .drop_duplicates(subset=['block_number'], keep='last')\n",
    "                        .loc[:, ['block_number', 'evt_reserve0', 'evt_reserve1']]\n",
    "                        .rename(columns={'evt_reserve0': 'reserve0', 'evt_reserve1': 'reserve1'})\n",
    "                        .assign(block_number=lambda x: x.block_number.astype(int),\n",
    "                                reserve0=lambda x: x.reserve0.apply(int),\n",
    "                                reserve1=lambda x: x.reserve1.apply(int),))\n",
    "\n",
    "        df_clean = pd.concat([df_clean, df_post_events]).reset_index(drop=True)\n",
    "\n",
    "        if df_clean.empty or df_clean.loc[df_clean.shape[0]-1, 'block_number'] != context.block_number:\n",
    "            df_clean = pd.concat([\n",
    "                df_clean,\n",
    "                pd.DataFrame({'block_number': [self.context.block_number],\n",
    "                              'reserve0': [current_reserve['reserve0']],\n",
    "                              'reserve1': [current_reserve['reserve1']]})])\n",
    "\n",
    "        df_clean['price_token1'] = token0.scaled(df_clean['reserve0']) / token1.scaled(df_clean['reserve1'])\n",
    "        df_clean['price_token0'] = 1 / df_clean['price_token1']\n",
    "\n",
    "        df_clean = (df_clean\n",
    "                    .merge(pd.DataFrame({'block_number': range(context.block_number-1000, context.block_number+1)}), how='right')\n",
    "                    .sort_values('block_number')\n",
    "                    .fillna(method='ffill')\n",
    "                    .fillna(method='bfill'))\n",
    "\n",
    "        return Records.from_dataframe(df_clean)\n",
    "\n",
    "\n",
    "context.add_model(UniswapV2ReserveRange)"
   ]
  },
  {
   "cell_type": "code",
   "execution_count": 11,
   "metadata": {},
   "outputs": [
    {
     "data": {
      "text/plain": [
       "<Axes: xlabel='block_number'>"
      ]
     },
     "execution_count": 11,
     "metadata": {},
     "output_type": "execute_result"
    },
    {
     "data": {
      "image/png": "[encoded data removed]",
      "text/plain": [
       "<Figure size 640x480 with 1 Axes>"
      ]
     },
     "metadata": {},
     "output_type": "display_data"
    }
   ],
   "source": [
    "context.reset_cache()\n",
    "df_range = context.run_model('jit.uniswap-v2-reserve-range',\n",
    "                             {'address': '0xB4e16d0168e52d35CaCD2c6185b44281Ec28C9Dc', 'block_range': 1000},\n",
    "                             return_type=Records).to_dataframe()\n",
    "\n",
    "df_range.plot('block_number', 'price_token1')"
   ]
  },
  {
   "cell_type": "code",
   "execution_count": null,
   "metadata": {},
   "outputs": [],
   "source": []
  }
 ],
 "metadata": {
  "kernelspec": {
   "display_name": "cmk39",
   "language": "python",
   "name": "python3"
  },
  "language_info": {
   "codemirror_mode": {
    "name": "ipython",
    "version": 3
   },
   "file_extension": ".py",
   "mimetype": "text/x-python",
   "name": "python",
   "nbconvert_exporter": "python",
   "pygments_lexer": "ipython3",
   "version": "3.9.16"
  },
  "orig_nbformat": 4
 },
 "nbformat": 4,
 "nbformat_minor": 2
}
