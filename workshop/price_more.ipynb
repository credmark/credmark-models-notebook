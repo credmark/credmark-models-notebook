{
 "cells": [
  {
   "cell_type": "code",
   "execution_count": 1,
   "metadata": {},
   "outputs": [
    {
     "name": "stdout",
     "output_type": "stream",
     "text": [
      "Credmark context created with \n",
      "- chain_id=1\n",
      "- block_number=None\n",
      "- chain_provider_url=http://192...8545\n",
      "- model_loader_path=['/home/yangye/dev/credmark/credmark-models-py/models']\n",
      "- api_url=https://gateway.credmark.com\n",
      "- use_local_models=None\n",
      "\n"
     ]
    }
   ],
   "source": [
    "from credmark.cmf.ipython import create_cmf\n",
    "from credmark.cmf.types import Token, Contract, Address, BlockNumber\n",
    "\n",
    "context, model_loader = create_cmf(show=True)"
   ]
  },
  {
   "attachments": {},
   "cell_type": "markdown",
   "metadata": {},
   "source": [
    "## 5. Translate above code into a model to return Records for Uniswap V2 pool's price for a block range\n"
   ]
  },
  {
   "cell_type": "code",
   "execution_count": 3,
   "metadata": {},
   "outputs": [],
   "source": [
    "# Let's create a model for a range of block numbers\n",
    "# It support cases when there are > 5000 Sync events in the range, or no event during the\n",
    "\n",
    "import pandas as pd\n",
    "\n",
    "from credmark.cmf.model import Model\n",
    "from credmark.cmf.types import Records\n",
    "from credmark.dto import DTOField\n",
    "\n",
    "\n",
    "class ContractWithRange(Contract):\n",
    "    block_range: int = DTOField(ge=0, description='Block range to query')\n",
    "\n",
    "\n",
    "@Model.describe(\n",
    "    slug='jit.uniswap-v2-reserve-range',\n",
    "    version='1.1',\n",
    "    input=ContractWithRange,\n",
    "    output=Records)\n",
    "class UniswapV2ReserveRange(Model):\n",
    "    def run(self, input):\n",
    "        current_reserve = self.context.run_model('jit.uniswap-v2-reserve',\n",
    "                                                 input)\n",
    "\n",
    "        token0 = Token(input.functions.token0().call())\n",
    "        token1 = Token(input.functions.token1().call())\n",
    "\n",
    "        dfs = []\n",
    "        with input.ledger.events.Sync as q:\n",
    "            while True:\n",
    "                df = q.select(q.columns,\n",
    "                              where=q.BLOCK_NUMBER.ge(context.block_number-input.block_range),\n",
    "                              order_by=q.BLOCK_NUMBER.comma_(q.LOG_INDEX)).to_dataframe()\n",
    "\n",
    "                if not df.empty:\n",
    "                    dfs.append(df)\n",
    "\n",
    "                if df.shape[0] < 5000:\n",
    "                    break\n",
    "\n",
    "        df_post_events = (pd.DataFrame(input.fetch_events(\n",
    "            input.events.Sync,\n",
    "            from_block=(\n",
    "                (int(df.loc[df.shape[0]-1, 'block_number']) + 1)\n",
    "                if not df.empty\n",
    "                else self.context.block_number-input.block_range),\n",
    "            to_block=self.context.block_number)))\n",
    "\n",
    "        if not df_post_events.empty:\n",
    "            df_post_events = (df_post_events\n",
    "                              .loc[:, ['blockNumber', 'reserve0', 'reserve1']]\n",
    "                              .rename(columns={'blockNumber': 'block_number'}))\n",
    "\n",
    "        if len(dfs) == 0:\n",
    "            df_clean = pd.DataFrame()\n",
    "        else:\n",
    "            df_clean = (pd.concat(dfs)\n",
    "                        .drop_duplicates(subset=['block_number'], keep='last')\n",
    "                        .loc[:, ['block_number', 'evt_reserve0', 'evt_reserve1']]\n",
    "                        .rename(columns={'evt_reserve0': 'reserve0', 'evt_reserve1': 'reserve1'})\n",
    "                        .assign(block_number=lambda x: x.block_number.astype(int),\n",
    "                                reserve0=lambda x: x.reserve0.apply(int),\n",
    "                                reserve1=lambda x: x.reserve1.apply(int),))\n",
    "\n",
    "        df_clean = pd.concat([df_clean, df_post_events]).reset_index(drop=True)\n",
    "\n",
    "        if df_clean.empty or df_clean.loc[df_clean.shape[0]-1, 'block_number'] != context.block_number:\n",
    "            df_clean = pd.concat([\n",
    "                df_clean,\n",
    "                pd.DataFrame({'block_number': [self.context.block_number],\n",
    "                              'reserve0': [current_reserve['reserve0']],\n",
    "                              'reserve1': [current_reserve['reserve1']]})])\n",
    "\n",
    "        df_clean['price_token1'] = token0.scaled(df_clean['reserve0']) / token1.scaled(df_clean['reserve1'])\n",
    "        df_clean['price_token0'] = 1 / df_clean['price_token1']\n",
    "\n",
    "        df_clean = (df_clean\n",
    "                    .merge(pd.DataFrame({'block_number': range(context.block_number-1000, context.block_number+1)}), how='right')\n",
    "                    .sort_values('block_number')\n",
    "                    .fillna(method='ffill')\n",
    "                    .fillna(method='bfill'))\n",
    "\n",
    "        return Records.from_dataframe(df_clean)\n",
    "\n",
    "\n",
    "context.add_model(UniswapV2ReserveRange)"
   ]
  },
  {
   "cell_type": "code",
   "execution_count": 4,
   "metadata": {},
   "outputs": [
    {
     "ename": "ModelNotFoundError",
     "evalue": "Model jit.uniswap-v2-reserve (any version) not found",
     "output_type": "error",
     "traceback": [
      "\u001b[0;31m---------------------------------------------------------------------------\u001b[0m",
      "\u001b[0;31mModelNotFoundError\u001b[0m                        Traceback (most recent call last)",
      "File \u001b[0;32m~/dev/credmark/credmark-model-framework-py/credmark/cmf/engine/context.py:722\u001b[0m, in \u001b[0;36mEngineModelContext._run_model_with_class\u001b[0;34m(self, slug, input, block_number, version, model_class, use_local, try_remote)\u001b[0m\n\u001b[1;32m    719\u001b[0m         \u001b[39mself\u001b[39m\u001b[39m.\u001b[39mdebug_logger\u001b[39m.\u001b[39mdebug(\n\u001b[1;32m    720\u001b[0m             \u001b[39mf\u001b[39m\u001b[39m\"\u001b[39m\u001b[39m< Run API model \u001b[39m\u001b[39m'\u001b[39m\u001b[39m{\u001b[39;00mslug\u001b[39m}\u001b[39;00m\u001b[39m'\u001b[39m\u001b[39m error: \u001b[39m\u001b[39m{\u001b[39;00merror\u001b[39m}\u001b[39;00m\u001b[39m \u001b[39m\u001b[39m\"\u001b[39m\n\u001b[1;32m    721\u001b[0m             \u001b[39mf\u001b[39m\u001b[39m\"\u001b[39m\u001b[39mrun_block_number: \u001b[39m\u001b[39m{\u001b[39;00mrun_block_number\u001b[39m}\u001b[39;00m\u001b[39m\"\u001b[39m)\n\u001b[0;32m--> 722\u001b[0m     \u001b[39mraise\u001b[39;00m create_instance_from_error_dict(error)\n\u001b[1;32m    724\u001b[0m EngineModelContext\u001b[39m.\u001b[39mnotify_model_run(slug, version, \u001b[39mself\u001b[39m\u001b[39m.\u001b[39mchain_id,\n\u001b[1;32m    725\u001b[0m                                     run_block_number, \u001b[39minput\u001b[39m, output, error)\n",
      "\u001b[0;31mModelNotFoundError\u001b[0m: Model jit.uniswap-v2-reserve-range (any version) not found",
      "\nDuring handling of the above exception, another exception occurred:\n",
      "\u001b[0;31mModelNotFoundError\u001b[0m                        Traceback (most recent call last)",
      "Cell \u001b[0;32mIn[4], line 2\u001b[0m\n\u001b[1;32m      1\u001b[0m context\u001b[39m.\u001b[39mreset_cache()\n\u001b[0;32m----> 2\u001b[0m df_range \u001b[39m=\u001b[39m context\u001b[39m.\u001b[39;49mrun_model(\u001b[39m'\u001b[39;49m\u001b[39mjit.uniswap-v2-reserve-range\u001b[39;49m\u001b[39m'\u001b[39;49m,\n\u001b[1;32m      3\u001b[0m                              {\u001b[39m'\u001b[39;49m\u001b[39maddress\u001b[39;49m\u001b[39m'\u001b[39;49m: \u001b[39m'\u001b[39;49m\u001b[39m0xB4e16d0168e52d35CaCD2c6185b44281Ec28C9Dc\u001b[39;49m\u001b[39m'\u001b[39;49m, \u001b[39m'\u001b[39;49m\u001b[39mblock_range\u001b[39;49m\u001b[39m'\u001b[39;49m: \u001b[39m0\u001b[39;49m},\n\u001b[1;32m      4\u001b[0m                              return_type\u001b[39m=\u001b[39;49mRecords)\u001b[39m.\u001b[39mto_dataframe()\n\u001b[1;32m      6\u001b[0m df_range\u001b[39m.\u001b[39mplot(\u001b[39m'\u001b[39m\u001b[39mblock_number\u001b[39m\u001b[39m'\u001b[39m, \u001b[39m'\u001b[39m\u001b[39mprice_token1\u001b[39m\u001b[39m'\u001b[39m)\n",
      "File \u001b[0;32m~/dev/credmark/credmark-model-framework-py/credmark/cmf/engine/context.py:536\u001b[0m, in \u001b[0;36mEngineModelContext.run_model\u001b[0;34m(self, slug, input, return_type, block_number, version, local)\u001b[0m\n\u001b[1;32m    533\u001b[0m \u001b[39mif\u001b[39;00m \u001b[39misinstance\u001b[39m(block_number, \u001b[39mint\u001b[39m):\n\u001b[1;32m    534\u001b[0m     block_number \u001b[39m=\u001b[39m BlockNumber(block_number)\n\u001b[0;32m--> 536\u001b[0m res_tuple \u001b[39m=\u001b[39m \u001b[39mself\u001b[39;49m\u001b[39m.\u001b[39;49m_run_model(slug, \u001b[39minput\u001b[39;49m, block_number, version, local)\n\u001b[1;32m    538\u001b[0m \u001b[39m# The last item of the tuple is the output.\u001b[39;00m\n\u001b[1;32m    539\u001b[0m output \u001b[39m=\u001b[39m res_tuple[\u001b[39m-\u001b[39m\u001b[39m1\u001b[39m]\n",
      "File \u001b[0;32m~/dev/credmark/credmark-model-framework-py/credmark/cmf/engine/context.py:610\u001b[0m, in \u001b[0;36mEngineModelContext._run_model\u001b[0;34m(self, slug, input, block_number, version, local)\u001b[0m\n\u001b[1;32m    606\u001b[0m     \u001b[39mif\u001b[39;00m \u001b[39mself\u001b[39m\u001b[39m.\u001b[39m__depth \u001b[39m>\u001b[39m\u001b[39m=\u001b[39m \u001b[39mself\u001b[39m\u001b[39m.\u001b[39mmax_run_depth:\n\u001b[1;32m    607\u001b[0m         \u001b[39mraise\u001b[39;00m MaxModelRunDepthError(\n\u001b[1;32m    608\u001b[0m             \u001b[39mf\u001b[39m\u001b[39m'\u001b[39m\u001b[39mMax model run depth hit \u001b[39m\u001b[39m{\u001b[39;00m\u001b[39mself\u001b[39m\u001b[39m.\u001b[39m__depth\u001b[39m}\u001b[39;00m\u001b[39m'\u001b[39m)\n\u001b[0;32m--> 610\u001b[0m     \u001b[39mreturn\u001b[39;00m \u001b[39mself\u001b[39;49m\u001b[39m.\u001b[39;49m_run_model_with_class(\n\u001b[1;32m    611\u001b[0m         slug,\n\u001b[1;32m    612\u001b[0m         \u001b[39minput\u001b[39;49m,\n\u001b[1;32m    613\u001b[0m         block_number,\n\u001b[1;32m    614\u001b[0m         version,\n\u001b[1;32m    615\u001b[0m         model_class,\n\u001b[1;32m    616\u001b[0m         use_local,\n\u001b[1;32m    617\u001b[0m         try_remote)\n\u001b[1;32m    618\u001b[0m \u001b[39mfinally\u001b[39;00m:\n\u001b[1;32m    619\u001b[0m     \u001b[39mself\u001b[39m\u001b[39m.\u001b[39m__depth \u001b[39m-\u001b[39m\u001b[39m=\u001b[39m \u001b[39m1\u001b[39m\n",
      "File \u001b[0;32m~/dev/credmark/credmark-model-framework-py/credmark/cmf/engine/context.py:737\u001b[0m, in \u001b[0;36mEngineModelContext._run_model_with_class\u001b[0;34m(self, slug, input, block_number, version, model_class, use_local, try_remote)\u001b[0m\n\u001b[1;32m    734\u001b[0m \u001b[39mif\u001b[39;00m model_class \u001b[39mis\u001b[39;00m \u001b[39mnot\u001b[39;00m \u001b[39mNone\u001b[39;00m \u001b[39mand\u001b[39;00m \u001b[39mnot\u001b[39;00m \u001b[39mself\u001b[39m\u001b[39m.\u001b[39m_use_no_local_model():\n\u001b[1;32m    735\u001b[0m     \u001b[39mself\u001b[39m\u001b[39m.\u001b[39mlogger\u001b[39m.\u001b[39mdebug(\n\u001b[1;32m    736\u001b[0m         \u001b[39mf\u001b[39m\u001b[39m'\u001b[39m\u001b[39mModel \u001b[39m\u001b[39m{\u001b[39;00mslug\u001b[39m}\u001b[39;00m\u001b[39m not on server. Using local instead\u001b[39m\u001b[39m'\u001b[39m)\n\u001b[0;32m--> 737\u001b[0m     slug, version, output \u001b[39m=\u001b[39m \u001b[39mself\u001b[39;49m\u001b[39m.\u001b[39;49m_run_local_model_with_class(\n\u001b[1;32m    738\u001b[0m         slug,\n\u001b[1;32m    739\u001b[0m         \u001b[39minput\u001b[39;49m,\n\u001b[1;32m    740\u001b[0m         block_number,\n\u001b[1;32m    741\u001b[0m         version,\n\u001b[1;32m    742\u001b[0m         model_class)\n\u001b[1;32m    743\u001b[0m \u001b[39melse\u001b[39;00m:\n\u001b[1;32m    744\u001b[0m     EngineModelContext\u001b[39m.\u001b[39mnotify_model_run(slug, version, \u001b[39mself\u001b[39m\u001b[39m.\u001b[39mchain_id,\n\u001b[1;32m    745\u001b[0m                                         run_block_number, \u001b[39minput\u001b[39m, \u001b[39mNone\u001b[39;00m, err)\n",
      "File \u001b[0;32m~/dev/credmark/credmark-model-framework-py/credmark/cmf/engine/context.py:920\u001b[0m, in \u001b[0;36mEngineModelContext._run_local_model_with_class\u001b[0;34m(self, slug, input, block_number, version, model_class)\u001b[0m\n\u001b[1;32m    909\u001b[0m     err\u001b[39m.\u001b[39mdata\u001b[39m.\u001b[39mstack\u001b[39m.\u001b[39minsert(\u001b[39m0\u001b[39m,  \u001b[39m# pylint:disable=no-member\u001b[39;00m\n\u001b[1;32m    910\u001b[0m                           ModelCallStackEntry(\n\u001b[1;32m    911\u001b[0m                               slug\u001b[39m=\u001b[39mslug,\n\u001b[0;32m   (...)\u001b[0m\n\u001b[1;32m    915\u001b[0m                               \u001b[39minput\u001b[39m\u001b[39m=\u001b[39mjson_dumps(original_input),\n\u001b[1;32m    916\u001b[0m                               trace\u001b[39m=\u001b[39mtrace \u001b[39mif\u001b[39;00m trace \u001b[39mis\u001b[39;00m \u001b[39mnot\u001b[39;00m \u001b[39mNone\u001b[39;00m \u001b[39melse\u001b[39;00m \u001b[39mNone\u001b[39;00m))\n\u001b[1;32m    918\u001b[0m     EngineModelContext\u001b[39m.\u001b[39mnotify_model_run(slug, model_class\u001b[39m.\u001b[39mversion, context\u001b[39m.\u001b[39mchain_id,\n\u001b[1;32m    919\u001b[0m                                         context\u001b[39m.\u001b[39mblock_number, \u001b[39minput\u001b[39m, \u001b[39mNone\u001b[39;00m, err)\n\u001b[0;32m--> 920\u001b[0m     \u001b[39mraise\u001b[39;00m err\n\u001b[1;32m    922\u001b[0m \u001b[39mfinally\u001b[39;00m:\n\u001b[1;32m    923\u001b[0m     context\u001b[39m.\u001b[39mis_active \u001b[39m=\u001b[39m \u001b[39mFalse\u001b[39;00m\n",
      "File \u001b[0;32m~/dev/credmark/credmark-model-framework-py/credmark/cmf/engine/context.py:831\u001b[0m, in \u001b[0;36mEngineModelContext._run_local_model_with_class\u001b[0;34m(self, slug, input, block_number, version, model_class)\u001b[0m\n\u001b[1;32m    827\u001b[0m \u001b[39mif\u001b[39;00m debug_log:\n\u001b[1;32m    828\u001b[0m     \u001b[39mself\u001b[39m\u001b[39m.\u001b[39mdebug_logger\u001b[39m.\u001b[39mdebug(\n\u001b[1;32m    829\u001b[0m         \u001b[39mf\u001b[39m\u001b[39m\"\u001b[39m\u001b[39m> Run model \u001b[39m\u001b[39m'\u001b[39m\u001b[39m{\u001b[39;00mslug\u001b[39m}\u001b[39;00m\u001b[39m'\u001b[39m\u001b[39m input: \u001b[39m\u001b[39m{\u001b[39;00m\u001b[39minput\u001b[39m\u001b[39m}\u001b[39;00m\u001b[39m block_number: \u001b[39m\u001b[39m{\u001b[39;00mblock_number\u001b[39m}\u001b[39;00m\u001b[39m\"\u001b[39m)\n\u001b[0;32m--> 831\u001b[0m output \u001b[39m=\u001b[39m model\u001b[39m.\u001b[39;49mrun(\u001b[39minput\u001b[39;49m)\n\u001b[1;32m    833\u001b[0m \u001b[39mdel\u001b[39;00m context\u001b[39m.\u001b[39m\u001b[39m__dict__\u001b[39m[\u001b[39m'\u001b[39m\u001b[39moriginal_input\u001b[39m\u001b[39m'\u001b[39m]\n\u001b[1;32m    834\u001b[0m \u001b[39mdel\u001b[39;00m context\u001b[39m.\u001b[39m\u001b[39m__dict__\u001b[39m[\u001b[39m'\u001b[39m\u001b[39mslug\u001b[39m\u001b[39m'\u001b[39m]\n",
      "Cell \u001b[0;32mIn[3], line 22\u001b[0m, in \u001b[0;36mUniswapV2ReserveRange.run\u001b[0;34m(self, input)\u001b[0m\n\u001b[1;32m     21\u001b[0m \u001b[39mdef\u001b[39;00m \u001b[39mrun\u001b[39m(\u001b[39mself\u001b[39m, \u001b[39minput\u001b[39m):\n\u001b[0;32m---> 22\u001b[0m     current_reserve \u001b[39m=\u001b[39m \u001b[39mself\u001b[39;49m\u001b[39m.\u001b[39;49mcontext\u001b[39m.\u001b[39;49mrun_model(\u001b[39m'\u001b[39;49m\u001b[39mjit.uniswap-v2-reserve\u001b[39;49m\u001b[39m'\u001b[39;49m,\n\u001b[1;32m     23\u001b[0m                                              \u001b[39minput\u001b[39;49m)\n\u001b[1;32m     25\u001b[0m     token0 \u001b[39m=\u001b[39m Token(\u001b[39minput\u001b[39m\u001b[39m.\u001b[39mfunctions\u001b[39m.\u001b[39mtoken0()\u001b[39m.\u001b[39mcall())\n\u001b[1;32m     26\u001b[0m     token1 \u001b[39m=\u001b[39m Token(\u001b[39minput\u001b[39m\u001b[39m.\u001b[39mfunctions\u001b[39m.\u001b[39mtoken1()\u001b[39m.\u001b[39mcall())\n",
      "File \u001b[0;32m~/dev/credmark/credmark-model-framework-py/credmark/cmf/engine/context.py:536\u001b[0m, in \u001b[0;36mEngineModelContext.run_model\u001b[0;34m(self, slug, input, return_type, block_number, version, local)\u001b[0m\n\u001b[1;32m    533\u001b[0m \u001b[39mif\u001b[39;00m \u001b[39misinstance\u001b[39m(block_number, \u001b[39mint\u001b[39m):\n\u001b[1;32m    534\u001b[0m     block_number \u001b[39m=\u001b[39m BlockNumber(block_number)\n\u001b[0;32m--> 536\u001b[0m res_tuple \u001b[39m=\u001b[39m \u001b[39mself\u001b[39;49m\u001b[39m.\u001b[39;49m_run_model(slug, \u001b[39minput\u001b[39;49m, block_number, version, local)\n\u001b[1;32m    538\u001b[0m \u001b[39m# The last item of the tuple is the output.\u001b[39;00m\n\u001b[1;32m    539\u001b[0m output \u001b[39m=\u001b[39m res_tuple[\u001b[39m-\u001b[39m\u001b[39m1\u001b[39m]\n",
      "File \u001b[0;32m~/dev/credmark/credmark-model-framework-py/credmark/cmf/engine/context.py:610\u001b[0m, in \u001b[0;36mEngineModelContext._run_model\u001b[0;34m(self, slug, input, block_number, version, local)\u001b[0m\n\u001b[1;32m    606\u001b[0m     \u001b[39mif\u001b[39;00m \u001b[39mself\u001b[39m\u001b[39m.\u001b[39m__depth \u001b[39m>\u001b[39m\u001b[39m=\u001b[39m \u001b[39mself\u001b[39m\u001b[39m.\u001b[39mmax_run_depth:\n\u001b[1;32m    607\u001b[0m         \u001b[39mraise\u001b[39;00m MaxModelRunDepthError(\n\u001b[1;32m    608\u001b[0m             \u001b[39mf\u001b[39m\u001b[39m'\u001b[39m\u001b[39mMax model run depth hit \u001b[39m\u001b[39m{\u001b[39;00m\u001b[39mself\u001b[39m\u001b[39m.\u001b[39m__depth\u001b[39m}\u001b[39;00m\u001b[39m'\u001b[39m)\n\u001b[0;32m--> 610\u001b[0m     \u001b[39mreturn\u001b[39;00m \u001b[39mself\u001b[39;49m\u001b[39m.\u001b[39;49m_run_model_with_class(\n\u001b[1;32m    611\u001b[0m         slug,\n\u001b[1;32m    612\u001b[0m         \u001b[39minput\u001b[39;49m,\n\u001b[1;32m    613\u001b[0m         block_number,\n\u001b[1;32m    614\u001b[0m         version,\n\u001b[1;32m    615\u001b[0m         model_class,\n\u001b[1;32m    616\u001b[0m         use_local,\n\u001b[1;32m    617\u001b[0m         try_remote)\n\u001b[1;32m    618\u001b[0m \u001b[39mfinally\u001b[39;00m:\n\u001b[1;32m    619\u001b[0m     \u001b[39mself\u001b[39m\u001b[39m.\u001b[39m__depth \u001b[39m-\u001b[39m\u001b[39m=\u001b[39m \u001b[39m1\u001b[39m\n",
      "File \u001b[0;32m~/dev/credmark/credmark-model-framework-py/credmark/cmf/engine/context.py:722\u001b[0m, in \u001b[0;36mEngineModelContext._run_model_with_class\u001b[0;34m(self, slug, input, block_number, version, model_class, use_local, try_remote)\u001b[0m\n\u001b[1;32m    718\u001b[0m     \u001b[39mif\u001b[39;00m debug_log:\n\u001b[1;32m    719\u001b[0m         \u001b[39mself\u001b[39m\u001b[39m.\u001b[39mdebug_logger\u001b[39m.\u001b[39mdebug(\n\u001b[1;32m    720\u001b[0m             \u001b[39mf\u001b[39m\u001b[39m\"\u001b[39m\u001b[39m< Run API model \u001b[39m\u001b[39m'\u001b[39m\u001b[39m{\u001b[39;00mslug\u001b[39m}\u001b[39;00m\u001b[39m'\u001b[39m\u001b[39m error: \u001b[39m\u001b[39m{\u001b[39;00merror\u001b[39m}\u001b[39;00m\u001b[39m \u001b[39m\u001b[39m\"\u001b[39m\n\u001b[1;32m    721\u001b[0m             \u001b[39mf\u001b[39m\u001b[39m\"\u001b[39m\u001b[39mrun_block_number: \u001b[39m\u001b[39m{\u001b[39;00mrun_block_number\u001b[39m}\u001b[39;00m\u001b[39m\"\u001b[39m)\n\u001b[0;32m--> 722\u001b[0m     \u001b[39mraise\u001b[39;00m create_instance_from_error_dict(error)\n\u001b[1;32m    724\u001b[0m EngineModelContext\u001b[39m.\u001b[39mnotify_model_run(slug, version, \u001b[39mself\u001b[39m\u001b[39m.\u001b[39mchain_id,\n\u001b[1;32m    725\u001b[0m                                     run_block_number, \u001b[39minput\u001b[39m, output, error)\n\u001b[1;32m    727\u001b[0m \u001b[39mif\u001b[39;00m debug_log:\n",
      "\u001b[0;31mModelNotFoundError\u001b[0m: Model jit.uniswap-v2-reserve (any version) not found"
     ]
    }
   ],
   "source": [
    "context.reset_cache()\n",
    "df_range = context.run_model('jit.uniswap-v2-reserve-range',\n",
    "                             {'address': '0xB4e16d0168e52d35CaCD2c6185b44281Ec28C9Dc', 'block_range': 1000},\n",
    "                             return_type=Records).to_dataframe()\n",
    "\n",
    "df_range.plot('block_number', 'price_token1')"
   ]
  }
 ],
 "metadata": {
  "kernelspec": {
   "display_name": "cmk39",
   "language": "python",
   "name": "python3"
  },
  "language_info": {
   "codemirror_mode": {
    "name": "ipython",
    "version": 3
   },
   "file_extension": ".py",
   "mimetype": "text/x-python",
   "name": "python",
   "nbconvert_exporter": "python",
   "pygments_lexer": "ipython3",
   "version": "3.9.16"
  },
  "orig_nbformat": 4
 },
 "nbformat": 4,
 "nbformat_minor": 2
}
