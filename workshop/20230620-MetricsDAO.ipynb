{
 "cells": [
  {
   "attachments": {},
   "cell_type": "markdown",
   "metadata": {},
   "source": [
    "# Credmark Workshop for MetricsDAO\n",
    "\n",
    "- 2023.6.20\n",
    "- Join Credmark Discord: https://credmark.com/contact-us\n",
    "\n",
    "1. Token (symbol, name, )\n",
    "2. Contract (Uniswap V2)\n",
    "3. Get the reserve, get the price\n",
    "4. Get the reserve for the past\n",
    "5. Get the reserve for a range of time.\n"
   ]
  },
  {
   "attachments": {},
   "cell_type": "markdown",
   "metadata": {
    "vscode": {
     "languageId": "plaintext"
    }
   },
   "source": [
    "## Initialize\n"
   ]
  },
  {
   "cell_type": "code",
   "execution_count": 2,
   "metadata": {},
   "outputs": [
    {
     "name": "stdout",
     "output_type": "stream",
     "text": [
      "Credmark context created with \n",
      "- chain_id=1\n",
      "- block_number=None (17519336)\n",
      "- chain_to_provider_url=https://no...om/1\n",
      "- model_loader_path=['/home/yangye/dev/credmark/credmark-models-py/models']\n",
      "- api_url=https://gateway.credmark.com\n",
      "- use_local_models=None\n",
      "\n"
     ]
    }
   ],
   "source": [
    "from credmark.cmf.ipython import create_cmf\n",
    "from credmark.cmf.types import Token, Contract, Address, BlockNumber\n",
    "\n",
    "context, model_loader = create_cmf(show=True)"
   ]
  },
  {
   "cell_type": "code",
   "execution_count": 3,
   "metadata": {},
   "outputs": [
    {
     "name": "stdout",
     "output_type": "stream",
     "text": [
      "(1, 17519336, '2023-06-20T07:09:59+00:00')\n"
     ]
    }
   ],
   "source": [
    "# print the chain ID, block number and block timestamp\n",
    "print((context.chain_id,\n",
    "       context.block_number,\n",
    "       context.block_number.timestamp_datetime.isoformat()))"
   ]
  },
  {
   "attachments": {},
   "cell_type": "markdown",
   "metadata": {},
   "source": [
    "## 1. Token\n"
   ]
  },
  {
   "cell_type": "code",
   "execution_count": 4,
   "metadata": {},
   "outputs": [
    {
     "name": "stdout",
     "output_type": "stream",
     "text": [
      "('WBTC', 15692719544250, 8)\n"
     ]
    }
   ],
   "source": [
    "# WBTC token\n",
    "wbtc = Token('0x2260fac5e5542a773aa44fbcfedf7c193bc2c599')\n",
    "print((wbtc.symbol, wbtc.total_supply, wbtc.decimals))\n",
    "\n",
    "# These values shall match closely with what's shown in\n",
    "# https://etherscan.io/address/0x2260fac5e5542a773aa44fbcfedf7c193bc2c599#readContract\n",
    "# We have shown as live, while EtherScan update some time ago."
   ]
  },
  {
   "cell_type": "code",
   "execution_count": 5,
   "metadata": {},
   "outputs": [
    {
     "data": {
      "text/plain": [
       "['Block',\n",
       " 'Contract',\n",
       " 'Log',\n",
       " 'Receipt',\n",
       " 'Token',\n",
       " 'TokenBalance',\n",
       " 'TokenTransfer',\n",
       " 'Trace',\n",
       " 'Transaction']"
      ]
     },
     "metadata": {},
     "output_type": "display_data"
    },
    {
     "data": {
      "text/plain": [
       "['block_hash',\n",
       " 'block_number',\n",
       " 'block_timestamp',\n",
       " 'from_address',\n",
       " 'log_index',\n",
       " 'token_address',\n",
       " 'to_address',\n",
       " 'transaction_hash',\n",
       " 'value']"
      ]
     },
     "metadata": {},
     "output_type": "display_data"
    }
   ],
   "source": [
    "# Query the TokenTransfer table for WBTC\n",
    "\n",
    "# We have these tables available\n",
    "display(context.ledger.tables())\n",
    "\n",
    "# columns in TokenTransfer table\n",
    "display(context.ledger.TokenTransfer.columns)"
   ]
  },
  {
   "cell_type": "code",
   "execution_count": 6,
   "metadata": {},
   "outputs": [
    {
     "data": {
      "text/html": [
       "<div>\n",
       "<style scoped>\n",
       "    .dataframe tbody tr th:only-of-type {\n",
       "        vertical-align: middle;\n",
       "    }\n",
       "\n",
       "    .dataframe tbody tr th {\n",
       "        vertical-align: top;\n",
       "    }\n",
       "\n",
       "    .dataframe thead th {\n",
       "        text-align: right;\n",
       "    }\n",
       "</style>\n",
       "<table border=\"1\" class=\"dataframe\">\n",
       "  <thead>\n",
       "    <tr style=\"text-align: right;\">\n",
       "      <th></th>\n",
       "      <th>block_hash</th>\n",
       "      <th>block_number</th>\n",
       "      <th>block_timestamp</th>\n",
       "      <th>from_address</th>\n",
       "      <th>log_index</th>\n",
       "      <th>token_address</th>\n",
       "      <th>to_address</th>\n",
       "      <th>transaction_hash</th>\n",
       "      <th>value</th>\n",
       "    </tr>\n",
       "  </thead>\n",
       "  <tbody>\n",
       "    <tr>\n",
       "      <th>0</th>\n",
       "      <td>0x2891b5b680e978c0a31f4895276016b7c2041045202e...</td>\n",
       "      <td>17519336</td>\n",
       "      <td>2023-06-20T07:09:59.000Z</td>\n",
       "      <td>0x4585fe77225b41b697c938b018e2ac67ac5a20c0</td>\n",
       "      <td>290</td>\n",
       "      <td>0x2260fac5e5542a773aa44fbcfedf7c193bc2c599</td>\n",
       "      <td>0x43f9048370a370e74ec0f30f4c811d75953cfc3e</td>\n",
       "      <td>0x25d525375f09fda6689dc93ff520570c975b77c2df4a...</td>\n",
       "      <td>9549127</td>\n",
       "    </tr>\n",
       "  </tbody>\n",
       "</table>\n",
       "</div>"
      ],
      "text/plain": [
       "                                          block_hash block_number  \\\n",
       "0  0x2891b5b680e978c0a31f4895276016b7c2041045202e...     17519336   \n",
       "\n",
       "            block_timestamp                                from_address  \\\n",
       "0  2023-06-20T07:09:59.000Z  0x4585fe77225b41b697c938b018e2ac67ac5a20c0   \n",
       "\n",
       "  log_index                               token_address  \\\n",
       "0       290  0x2260fac5e5542a773aa44fbcfedf7c193bc2c599   \n",
       "\n",
       "                                   to_address  \\\n",
       "0  0x43f9048370a370e74ec0f30f4c811d75953cfc3e   \n",
       "\n",
       "                                    transaction_hash    value  \n",
       "0  0x25d525375f09fda6689dc93ff520570c975b77c2df4a...  9549127  "
      ]
     },
     "metadata": {},
     "output_type": "display_data"
    }
   ],
   "source": [
    "# Fetch the recent WBTC transfers\n",
    "\n",
    "with context.ledger.TokenTransfer as q:\n",
    "    df = q.select(columns=q.columns,\n",
    "                  where=q.TOKEN_ADDRESS.eq(wbtc.address).and_(q.BLOCK_NUMBER.between_(\n",
    "                      context.block_number - 1000, context.block_number)),\n",
    "                  order_by=q.BLOCK_NUMBER.desc(),\n",
    "                  limit=1).to_dataframe()\n",
    "\n",
    "display(df)"
   ]
  },
  {
   "attachments": {},
   "cell_type": "markdown",
   "metadata": {},
   "source": [
    "## 2. Contract\n",
    "\n",
    "- We choose an exchange pool from Uniswap V2\n",
    "- https://v2.info.uniswap.org/home\n",
    "- V2 pool is simple because the ratio between two tokens' reserves is the price.\n",
    "\n",
    "For example:\n",
    "\n",
    "- The USDC-ETH pool is composed of two tokens: USDC and ETH.\n",
    "- The pool's reserves are the total amount of USDC and ETH in the pool.\n",
    "- ETH's price in USDC is USDC's reserve divided by ETH's reserve.\n"
   ]
  },
  {
   "cell_type": "code",
   "execution_count": 7,
   "metadata": {},
   "outputs": [
    {
     "data": {
      "text/plain": [
       "['DOMAIN_SEPARATOR',\n",
       " 'MINIMUM_LIQUIDITY',\n",
       " 'PERMIT_TYPEHASH',\n",
       " 'allowance',\n",
       " 'approve',\n",
       " 'balanceOf',\n",
       " 'burn',\n",
       " 'decimals',\n",
       " 'factory',\n",
       " 'getReserves',\n",
       " 'initialize',\n",
       " 'kLast',\n",
       " 'mint',\n",
       " 'name',\n",
       " 'nonces',\n",
       " 'permit',\n",
       " 'price0CumulativeLast',\n",
       " 'price1CumulativeLast',\n",
       " 'skim',\n",
       " 'swap',\n",
       " 'symbol',\n",
       " 'sync',\n",
       " 'token0',\n",
       " 'token1',\n",
       " 'totalSupply',\n",
       " 'transfer',\n",
       " 'transferFrom']"
      ]
     },
     "metadata": {},
     "output_type": "display_data"
    }
   ],
   "source": [
    "eth_usdc_pool = Contract('0xB4e16d0168e52d35CaCD2c6185b44281Ec28C9Dc')\n",
    "\n",
    "# Explore the pool contract\n",
    "display(dir(eth_usdc_pool.abi.functions))"
   ]
  },
  {
   "cell_type": "code",
   "execution_count": 8,
   "metadata": {},
   "outputs": [
    {
     "name": "stdout",
     "output_type": "stream",
     "text": [
      "Function Name: token0\n",
      "Args: []\n",
      "Types: []\n",
      "Output: ['address']\n",
      "---\n",
      "Function Name: token1\n",
      "Args: []\n",
      "Types: []\n",
      "Output: ['address']\n",
      "---\n",
      "Function Name: getReserves\n",
      "Args: []\n",
      "Types: []\n",
      "Output: ['uint112', 'uint112', 'uint32']\n"
     ]
    }
   ],
   "source": [
    "# The detail of token0/token1/getReserves function\n",
    "print(eth_usdc_pool.abi.functions.token0)\n",
    "print('---')\n",
    "print(eth_usdc_pool.abi.functions.token1)\n",
    "print('---')\n",
    "print(eth_usdc_pool.abi.functions.getReserves)"
   ]
  },
  {
   "cell_type": "code",
   "execution_count": 9,
   "metadata": {},
   "outputs": [
    {
     "name": "stdout",
     "output_type": "stream",
     "text": [
      "('0xA0b86991c6218b36c1d19D4a2e9Eb0cE3606eB48', '0xC02aaA39b223FE8D0A0e5C4F27eAD9083C756Cc2')\n",
      "('USDC', 'WETH')\n"
     ]
    }
   ],
   "source": [
    "token0_addr = eth_usdc_pool.functions.token0().call()\n",
    "token1_addr = eth_usdc_pool.functions.token1().call()\n",
    "\n",
    "# The addresses of two tokens\n",
    "print((token0_addr, token1_addr))\n",
    "\n",
    "# Know what these tokens are actually are\n",
    "token0 = Token(token0_addr)\n",
    "token1 = Token(token1_addr)\n",
    "print((token0.symbol, token1.symbol))"
   ]
  },
  {
   "cell_type": "code",
   "execution_count": 10,
   "metadata": {},
   "outputs": [
    {
     "name": "stdout",
     "output_type": "stream",
     "text": [
      "[27192808226054, 15721677268190876471905, 1687244867]\n",
      "1729.637860018426\n"
     ]
    }
   ],
   "source": [
    "# Get the reserve of two tokens in this pool\n",
    "reserve = eth_usdc_pool.functions.getReserves().call()\n",
    "print((reserve))\n",
    "\n",
    "# split the return tuple to three values\n",
    "_reserve0, _reserve1, _block_timestamp_last = reserve\n",
    "\n",
    "# price of ETH (as token1) = reserve0 / reserve1, scaled by each token's decimals\n",
    "price_eth = token0.scaled(_reserve0) / token1.scaled(_reserve1)  # the ratio is USDC per WETH\n",
    "\n",
    "print(price_eth)"
   ]
  },
  {
   "attachments": {},
   "cell_type": "markdown",
   "metadata": {},
   "source": [
    "## 3. Write a model\n"
   ]
  },
  {
   "cell_type": "code",
   "execution_count": 11,
   "metadata": {},
   "outputs": [],
   "source": [
    "from credmark.cmf.model import Model\n",
    "from credmark.cmf.types import Contract, Token\n",
    "\n",
    "\n",
    "@Model.describe(\n",
    "    slug='jit.uniswap-v2-reserve',\n",
    "    version='1.1',\n",
    "    input=Contract,\n",
    "    output=dict)\n",
    "class UniswapV2Reserve(Model):\n",
    "    def run(self, input: Contract):\n",
    "        # get the tokens in this pool\n",
    "        token0_addr = input.functions.token0().call()\n",
    "        token1_addr = input.functions.token1().call()\n",
    "        # create the Token objects\n",
    "        token0 = Token(token0_addr)\n",
    "        token1 = Token(token1_addr)\n",
    "        # get the reserve\n",
    "        _reserve0, _reserve1, _block_timestamp_last = input.functions.getReserves().call()\n",
    "        # calculate the price\n",
    "        price_token1 = token0.scaled(_reserve0) / token1.scaled(_reserve1)\n",
    "        # return the result\n",
    "        return {'price_token1': price_token1,\n",
    "                'price_token0': 1 / price_token1,\n",
    "                'reserve0': _reserve0,\n",
    "                'reserve1': _reserve1}\n",
    "\n",
    "\n",
    "# We can save this as a file in the models/ directory of credmark-models-py, or model_loader_path shown above for create_cmf().\n",
    "# Here we directly load it from the definition, with this way, it can only be used in this notebook.\n",
    "context.add_model(UniswapV2Reserve)"
   ]
  },
  {
   "cell_type": "code",
   "execution_count": 12,
   "metadata": {},
   "outputs": [
    {
     "data": {
      "text/plain": [
       "{'price_token1': 1729.637860018426,\n",
       " 'price_token0': 0.0005781557071081613,\n",
       " 'reserve0': 27192808226054,\n",
       " 'reserve1': 15721677268190876471905}"
      ]
     },
     "execution_count": 12,
     "metadata": {},
     "output_type": "execute_result"
    }
   ],
   "source": [
    "context.run_model('jit.uniswap-v2-reserve',\n",
    "                  {'address': '0xB4e16d0168e52d35CaCD2c6185b44281Ec28C9Dc'})\n",
    "\n",
    "# model checks for validity of the input\n",
    "# try run above with a shorter address, i.e. 0xB4e16d0168e52d35CaCD2c6185b44\n",
    "# You will get a ModelInputError"
   ]
  },
  {
   "cell_type": "code",
   "execution_count": 13,
   "metadata": {},
   "outputs": [
    {
     "data": {
      "text/plain": [
       "datetime.datetime(2023, 6, 20, 3, 48, 35, tzinfo=datetime.timezone.utc)"
      ]
     },
     "metadata": {},
     "output_type": "display_data"
    },
    {
     "data": {
      "text/plain": [
       "{'price_token1': 1736.340892169329,\n",
       " 'price_token0': 0.0005759237742484034,\n",
       " 'reserve0': 27245325501974,\n",
       " 'reserve1': 15691230693723141732753}"
      ]
     },
     "execution_count": 13,
     "metadata": {},
     "output_type": "execute_result"
    }
   ],
   "source": [
    "# We can run model on earlier block\n",
    "# Model is a re-usable piece of algorithm to run for a chain_id, a block_number\n",
    "\n",
    "earlier_block = context.block_number - 1_000\n",
    "\n",
    "display(earlier_block.timestamp_datetime)\n",
    "\n",
    "context.run_model('jit.uniswap-v2-reserve',\n",
    "                  {'address': '0xB4e16d0168e52d35CaCD2c6185b44281Ec28C9Dc'},\n",
    "                  block_number=earlier_block)"
   ]
  },
  {
   "attachments": {},
   "cell_type": "markdown",
   "metadata": {},
   "source": [
    "## 4. Scale up the model for more blocks\n"
   ]
  },
  {
   "cell_type": "code",
   "execution_count": 14,
   "metadata": {},
   "outputs": [],
   "source": [
    "# Run the model for 1000 blocks will take a while, how could we speed up?\n",
    "\n",
    "for offset in range(10):\n",
    "    context.run_model('jit.uniswap-v2-reserve',\n",
    "                      {'address': '0xB4e16d0168e52d35CaCD2c6185b44281Ec28C9Dc'},\n",
    "                      block_number=context.block_number - offset)"
   ]
  },
  {
   "cell_type": "code",
   "execution_count": 15,
   "metadata": {},
   "outputs": [
    {
     "data": {
      "text/plain": [
       "Event Name: Sync\n",
       "Args: ['reserve0', 'reserve1']\n",
       "Types: ['uint112', 'uint112']"
      ]
     },
     "execution_count": 15,
     "metadata": {},
     "output_type": "execute_result"
    }
   ],
   "source": [
    "# Uniswap V2 pool's reserve changes with Mint/Burn/Swap, it kept a record of these events.\n",
    "# Event Sync occurs together with Mint/Burn to record the reserve, that's we need.\n",
    "\n",
    "eth_usdc_pool.abi.events.Sync"
   ]
  },
  {
   "cell_type": "code",
   "execution_count": 16,
   "metadata": {},
   "outputs": [
    {
     "data": {
      "text/html": [
       "<div>\n",
       "<style scoped>\n",
       "    .dataframe tbody tr th:only-of-type {\n",
       "        vertical-align: middle;\n",
       "    }\n",
       "\n",
       "    .dataframe tbody tr th {\n",
       "        vertical-align: top;\n",
       "    }\n",
       "\n",
       "    .dataframe thead th {\n",
       "        text-align: right;\n",
       "    }\n",
       "</style>\n",
       "<table border=\"1\" class=\"dataframe\">\n",
       "  <thead>\n",
       "    <tr style=\"text-align: right;\">\n",
       "      <th></th>\n",
       "      <th>block_number</th>\n",
       "      <th>block_timestamp</th>\n",
       "      <th>contract_address</th>\n",
       "      <th>log_index</th>\n",
       "      <th>signature</th>\n",
       "      <th>transaction_hash</th>\n",
       "      <th>evt_reserve0</th>\n",
       "      <th>evt_reserve1</th>\n",
       "    </tr>\n",
       "  </thead>\n",
       "  <tbody>\n",
       "    <tr>\n",
       "      <th>0</th>\n",
       "      <td>17518347</td>\n",
       "      <td>2023-06-20T03:50:47.000Z</td>\n",
       "      <td>0xb4e16d0168e52d35cacd2c6185b44281ec28c9dc</td>\n",
       "      <td>128</td>\n",
       "      <td>Sync(uint112,uint112)</td>\n",
       "      <td>0xd9cadafabae0a054c62ba565c488d5cce63a8f1489b7...</td>\n",
       "      <td>27245239494297</td>\n",
       "      <td>15691280376795025696302</td>\n",
       "    </tr>\n",
       "    <tr>\n",
       "      <th>1</th>\n",
       "      <td>17518354</td>\n",
       "      <td>2023-06-20T03:52:11.000Z</td>\n",
       "      <td>0xb4e16d0168e52d35cacd2c6185b44281ec28c9dc</td>\n",
       "      <td>135</td>\n",
       "      <td>Sync(uint112,uint112)</td>\n",
       "      <td>0x0c4c16b21c85e9f0028e9f48f8242eba7cf3c2e3a09f...</td>\n",
       "      <td>27244674945230</td>\n",
       "      <td>15691606501191055541068</td>\n",
       "    </tr>\n",
       "    <tr>\n",
       "      <th>2</th>\n",
       "      <td>17518372</td>\n",
       "      <td>2023-06-20T03:55:47.000Z</td>\n",
       "      <td>0xb4e16d0168e52d35cacd2c6185b44281ec28c9dc</td>\n",
       "      <td>117</td>\n",
       "      <td>Sync(uint112,uint112)</td>\n",
       "      <td>0x375c9c864e97655871365cafbe5be421cf525ba529bb...</td>\n",
       "      <td>27244523350372</td>\n",
       "      <td>15691694075659421494106</td>\n",
       "    </tr>\n",
       "    <tr>\n",
       "      <th>3</th>\n",
       "      <td>17518395</td>\n",
       "      <td>2023-06-20T04:00:23.000Z</td>\n",
       "      <td>0xb4e16d0168e52d35cacd2c6185b44281ec28c9dc</td>\n",
       "      <td>96</td>\n",
       "      <td>Sync(uint112,uint112)</td>\n",
       "      <td>0x98476463a149638400c4bb186e358519a79f57cfe21c...</td>\n",
       "      <td>27244423296709</td>\n",
       "      <td>15691751875953624994110</td>\n",
       "    </tr>\n",
       "    <tr>\n",
       "      <th>4</th>\n",
       "      <td>17518395</td>\n",
       "      <td>2023-06-20T04:00:23.000Z</td>\n",
       "      <td>0xb4e16d0168e52d35cacd2c6185b44281ec28c9dc</td>\n",
       "      <td>209</td>\n",
       "      <td>Sync(uint112,uint112)</td>\n",
       "      <td>0x4caa321f61b892e8cd74ec7aafb63d173b88117b4b77...</td>\n",
       "      <td>27244673296709</td>\n",
       "      <td>15691608318744472414745</td>\n",
       "    </tr>\n",
       "    <tr>\n",
       "      <th>...</th>\n",
       "      <td>...</td>\n",
       "      <td>...</td>\n",
       "      <td>...</td>\n",
       "      <td>...</td>\n",
       "      <td>...</td>\n",
       "      <td>...</td>\n",
       "      <td>...</td>\n",
       "      <td>...</td>\n",
       "    </tr>\n",
       "    <tr>\n",
       "      <th>64</th>\n",
       "      <td>17519290</td>\n",
       "      <td>2023-06-20T07:00:47.000Z</td>\n",
       "      <td>0xb4e16d0168e52d35cacd2c6185b44281ec28c9dc</td>\n",
       "      <td>24</td>\n",
       "      <td>Sync(uint112,uint112)</td>\n",
       "      <td>0xc8dfdcc7dce796ab27a2b6f0cbb32c4dfeda8b5caac8...</td>\n",
       "      <td>27190140477414</td>\n",
       "      <td>15723215166018118603466</td>\n",
       "    </tr>\n",
       "    <tr>\n",
       "      <th>65</th>\n",
       "      <td>17519304</td>\n",
       "      <td>2023-06-20T07:03:35.000Z</td>\n",
       "      <td>0xb4e16d0168e52d35cacd2c6185b44281ec28c9dc</td>\n",
       "      <td>268</td>\n",
       "      <td>Sync(uint112,uint112)</td>\n",
       "      <td>0xe606d357f654ed1dc33d65020e282134d384db2b2a76...</td>\n",
       "      <td>27190154841653</td>\n",
       "      <td>15723206884547634163540</td>\n",
       "    </tr>\n",
       "    <tr>\n",
       "      <th>66</th>\n",
       "      <td>17519308</td>\n",
       "      <td>2023-06-20T07:04:23.000Z</td>\n",
       "      <td>0xb4e16d0168e52d35cacd2c6185b44281ec28c9dc</td>\n",
       "      <td>238</td>\n",
       "      <td>Sync(uint112,uint112)</td>\n",
       "      <td>0x584701ce0f51c46c29f01dff94203ac3c438363fea02...</td>\n",
       "      <td>27190249720619</td>\n",
       "      <td>15723152183828169358479</td>\n",
       "    </tr>\n",
       "    <tr>\n",
       "      <th>67</th>\n",
       "      <td>17519320</td>\n",
       "      <td>2023-06-20T07:06:47.000Z</td>\n",
       "      <td>0xb4e16d0168e52d35cacd2c6185b44281ec28c9dc</td>\n",
       "      <td>115</td>\n",
       "      <td>Sync(uint112,uint112)</td>\n",
       "      <td>0xdd6c574c57d82dc333c46a462920f25f5788d9e61f0c...</td>\n",
       "      <td>27192749720619</td>\n",
       "      <td>15721710992038822134108</td>\n",
       "    </tr>\n",
       "    <tr>\n",
       "      <th>68</th>\n",
       "      <td>17519325</td>\n",
       "      <td>2023-06-20T07:07:47.000Z</td>\n",
       "      <td>0xb4e16d0168e52d35cacd2c6185b44281ec28c9dc</td>\n",
       "      <td>173</td>\n",
       "      <td>Sync(uint112,uint112)</td>\n",
       "      <td>0xb83b98d67f02399367682da9d75c2457dadacb1e35de...</td>\n",
       "      <td>27192808226054</td>\n",
       "      <td>15721677268190876471905</td>\n",
       "    </tr>\n",
       "  </tbody>\n",
       "</table>\n",
       "<p>69 rows × 8 columns</p>\n",
       "</div>"
      ],
      "text/plain": [
       "   block_number           block_timestamp  \\\n",
       "0      17518347  2023-06-20T03:50:47.000Z   \n",
       "1      17518354  2023-06-20T03:52:11.000Z   \n",
       "2      17518372  2023-06-20T03:55:47.000Z   \n",
       "3      17518395  2023-06-20T04:00:23.000Z   \n",
       "4      17518395  2023-06-20T04:00:23.000Z   \n",
       "..          ...                       ...   \n",
       "64     17519290  2023-06-20T07:00:47.000Z   \n",
       "65     17519304  2023-06-20T07:03:35.000Z   \n",
       "66     17519308  2023-06-20T07:04:23.000Z   \n",
       "67     17519320  2023-06-20T07:06:47.000Z   \n",
       "68     17519325  2023-06-20T07:07:47.000Z   \n",
       "\n",
       "                              contract_address log_index  \\\n",
       "0   0xb4e16d0168e52d35cacd2c6185b44281ec28c9dc       128   \n",
       "1   0xb4e16d0168e52d35cacd2c6185b44281ec28c9dc       135   \n",
       "2   0xb4e16d0168e52d35cacd2c6185b44281ec28c9dc       117   \n",
       "3   0xb4e16d0168e52d35cacd2c6185b44281ec28c9dc        96   \n",
       "4   0xb4e16d0168e52d35cacd2c6185b44281ec28c9dc       209   \n",
       "..                                         ...       ...   \n",
       "64  0xb4e16d0168e52d35cacd2c6185b44281ec28c9dc        24   \n",
       "65  0xb4e16d0168e52d35cacd2c6185b44281ec28c9dc       268   \n",
       "66  0xb4e16d0168e52d35cacd2c6185b44281ec28c9dc       238   \n",
       "67  0xb4e16d0168e52d35cacd2c6185b44281ec28c9dc       115   \n",
       "68  0xb4e16d0168e52d35cacd2c6185b44281ec28c9dc       173   \n",
       "\n",
       "                signature                                   transaction_hash  \\\n",
       "0   Sync(uint112,uint112)  0xd9cadafabae0a054c62ba565c488d5cce63a8f1489b7...   \n",
       "1   Sync(uint112,uint112)  0x0c4c16b21c85e9f0028e9f48f8242eba7cf3c2e3a09f...   \n",
       "2   Sync(uint112,uint112)  0x375c9c864e97655871365cafbe5be421cf525ba529bb...   \n",
       "3   Sync(uint112,uint112)  0x98476463a149638400c4bb186e358519a79f57cfe21c...   \n",
       "4   Sync(uint112,uint112)  0x4caa321f61b892e8cd74ec7aafb63d173b88117b4b77...   \n",
       "..                    ...                                                ...   \n",
       "64  Sync(uint112,uint112)  0xc8dfdcc7dce796ab27a2b6f0cbb32c4dfeda8b5caac8...   \n",
       "65  Sync(uint112,uint112)  0xe606d357f654ed1dc33d65020e282134d384db2b2a76...   \n",
       "66  Sync(uint112,uint112)  0x584701ce0f51c46c29f01dff94203ac3c438363fea02...   \n",
       "67  Sync(uint112,uint112)  0xdd6c574c57d82dc333c46a462920f25f5788d9e61f0c...   \n",
       "68  Sync(uint112,uint112)  0xb83b98d67f02399367682da9d75c2457dadacb1e35de...   \n",
       "\n",
       "      evt_reserve0             evt_reserve1  \n",
       "0   27245239494297  15691280376795025696302  \n",
       "1   27244674945230  15691606501191055541068  \n",
       "2   27244523350372  15691694075659421494106  \n",
       "3   27244423296709  15691751875953624994110  \n",
       "4   27244673296709  15691608318744472414745  \n",
       "..             ...                      ...  \n",
       "64  27190140477414  15723215166018118603466  \n",
       "65  27190154841653  15723206884547634163540  \n",
       "66  27190249720619  15723152183828169358479  \n",
       "67  27192749720619  15721710992038822134108  \n",
       "68  27192808226054  15721677268190876471905  \n",
       "\n",
       "[69 rows x 8 columns]"
      ]
     },
     "metadata": {},
     "output_type": "display_data"
    }
   ],
   "source": [
    "# Let's query the ledger database for the event log for Sync.\n",
    "# Querying this data only takes less than a second.\n",
    "\n",
    "with eth_usdc_pool.ledger.events.Sync as q:\n",
    "    df = q.select(columns=q.columns,\n",
    "                  where=q.BLOCK_NUMBER.ge(context.block_number-1000),\n",
    "                  order_by=q.BLOCK_NUMBER.comma_(q.LOG_INDEX)).to_dataframe()\n",
    "\n",
    "# Note: Because we limit each query to return 5000 results\n",
    "# We may query multiple times to get all the results till we have exhausted all the results.\n",
    "\n",
    "display(df)"
   ]
  },
  {
   "cell_type": "code",
   "execution_count": 17,
   "metadata": {},
   "outputs": [
    {
     "data": {
      "text/html": [
       "<div>\n",
       "<style scoped>\n",
       "    .dataframe tbody tr th:only-of-type {\n",
       "        vertical-align: middle;\n",
       "    }\n",
       "\n",
       "    .dataframe tbody tr th {\n",
       "        vertical-align: top;\n",
       "    }\n",
       "\n",
       "    .dataframe thead th {\n",
       "        text-align: right;\n",
       "    }\n",
       "</style>\n",
       "<table border=\"1\" class=\"dataframe\">\n",
       "  <thead>\n",
       "    <tr style=\"text-align: right;\">\n",
       "      <th></th>\n",
       "      <th>block_number</th>\n",
       "      <th>reserve0</th>\n",
       "      <th>reserve1</th>\n",
       "      <th>price_token1</th>\n",
       "      <th>price_token0</th>\n",
       "    </tr>\n",
       "  </thead>\n",
       "  <tbody>\n",
       "    <tr>\n",
       "      <th>0</th>\n",
       "      <td>17518336</td>\n",
       "      <td>2.724524e+13</td>\n",
       "      <td>15691280376795025696302</td>\n",
       "      <td>1736.329913</td>\n",
       "      <td>0.000576</td>\n",
       "    </tr>\n",
       "    <tr>\n",
       "      <th>1</th>\n",
       "      <td>17518337</td>\n",
       "      <td>2.724524e+13</td>\n",
       "      <td>15691280376795025696302</td>\n",
       "      <td>1736.329913</td>\n",
       "      <td>0.000576</td>\n",
       "    </tr>\n",
       "    <tr>\n",
       "      <th>2</th>\n",
       "      <td>17518338</td>\n",
       "      <td>2.724524e+13</td>\n",
       "      <td>15691280376795025696302</td>\n",
       "      <td>1736.329913</td>\n",
       "      <td>0.000576</td>\n",
       "    </tr>\n",
       "    <tr>\n",
       "      <th>3</th>\n",
       "      <td>17518339</td>\n",
       "      <td>2.724524e+13</td>\n",
       "      <td>15691280376795025696302</td>\n",
       "      <td>1736.329913</td>\n",
       "      <td>0.000576</td>\n",
       "    </tr>\n",
       "    <tr>\n",
       "      <th>4</th>\n",
       "      <td>17518340</td>\n",
       "      <td>2.724524e+13</td>\n",
       "      <td>15691280376795025696302</td>\n",
       "      <td>1736.329913</td>\n",
       "      <td>0.000576</td>\n",
       "    </tr>\n",
       "    <tr>\n",
       "      <th>...</th>\n",
       "      <td>...</td>\n",
       "      <td>...</td>\n",
       "      <td>...</td>\n",
       "      <td>...</td>\n",
       "      <td>...</td>\n",
       "    </tr>\n",
       "    <tr>\n",
       "      <th>996</th>\n",
       "      <td>17519332</td>\n",
       "      <td>2.719281e+13</td>\n",
       "      <td>15721677268190876471905</td>\n",
       "      <td>1729.637860</td>\n",
       "      <td>0.000578</td>\n",
       "    </tr>\n",
       "    <tr>\n",
       "      <th>997</th>\n",
       "      <td>17519333</td>\n",
       "      <td>2.719281e+13</td>\n",
       "      <td>15721677268190876471905</td>\n",
       "      <td>1729.637860</td>\n",
       "      <td>0.000578</td>\n",
       "    </tr>\n",
       "    <tr>\n",
       "      <th>998</th>\n",
       "      <td>17519334</td>\n",
       "      <td>2.719281e+13</td>\n",
       "      <td>15721677268190876471905</td>\n",
       "      <td>1729.637860</td>\n",
       "      <td>0.000578</td>\n",
       "    </tr>\n",
       "    <tr>\n",
       "      <th>999</th>\n",
       "      <td>17519335</td>\n",
       "      <td>2.719281e+13</td>\n",
       "      <td>15721677268190876471905</td>\n",
       "      <td>1729.637860</td>\n",
       "      <td>0.000578</td>\n",
       "    </tr>\n",
       "    <tr>\n",
       "      <th>1000</th>\n",
       "      <td>17519336</td>\n",
       "      <td>2.719281e+13</td>\n",
       "      <td>15721677268190876471905</td>\n",
       "      <td>1729.637860</td>\n",
       "      <td>0.000578</td>\n",
       "    </tr>\n",
       "  </tbody>\n",
       "</table>\n",
       "<p>1001 rows × 5 columns</p>\n",
       "</div>"
      ],
      "text/plain": [
       "      block_number      reserve0                 reserve1  price_token1  \\\n",
       "0         17518336  2.724524e+13  15691280376795025696302   1736.329913   \n",
       "1         17518337  2.724524e+13  15691280376795025696302   1736.329913   \n",
       "2         17518338  2.724524e+13  15691280376795025696302   1736.329913   \n",
       "3         17518339  2.724524e+13  15691280376795025696302   1736.329913   \n",
       "4         17518340  2.724524e+13  15691280376795025696302   1736.329913   \n",
       "...            ...           ...                      ...           ...   \n",
       "996       17519332  2.719281e+13  15721677268190876471905   1729.637860   \n",
       "997       17519333  2.719281e+13  15721677268190876471905   1729.637860   \n",
       "998       17519334  2.719281e+13  15721677268190876471905   1729.637860   \n",
       "999       17519335  2.719281e+13  15721677268190876471905   1729.637860   \n",
       "1000      17519336  2.719281e+13  15721677268190876471905   1729.637860   \n",
       "\n",
       "      price_token0  \n",
       "0         0.000576  \n",
       "1         0.000576  \n",
       "2         0.000576  \n",
       "3         0.000576  \n",
       "4         0.000576  \n",
       "...            ...  \n",
       "996       0.000578  \n",
       "997       0.000578  \n",
       "998       0.000578  \n",
       "999       0.000578  \n",
       "1000      0.000578  \n",
       "\n",
       "[1001 rows x 5 columns]"
      ]
     },
     "metadata": {},
     "output_type": "display_data"
    },
    {
     "data": {
      "text/plain": [
       "<Axes: xlabel='block_number'>"
      ]
     },
     "execution_count": 17,
     "metadata": {},
     "output_type": "execute_result"
    },
    {
     "data": {
      "image/png": "[encoded data removed]",
      "text/plain": [
       "<Figure size 640x480 with 1 Axes>"
      ]
     },
     "metadata": {},
     "output_type": "display_data"
    }
   ],
   "source": [
    "import pandas as pd\n",
    "\n",
    "df_clean = (df\n",
    "            .drop_duplicates(subset=['block_number'], keep='last')\n",
    "            .loc[:, ['block_number', 'evt_reserve0', 'evt_reserve1']]\n",
    "            .rename(columns={'evt_reserve0': 'reserve0', 'evt_reserve1': 'reserve1'})\n",
    "            .assign(block_number=lambda x: x.block_number.apply(int),\n",
    "                    reserve0=lambda x: x.reserve0.apply(int),\n",
    "                    reserve1=lambda x: x.reserve1.apply(int),))\n",
    "\n",
    "df_clean['price_token1'] = token0.scaled(df_clean['reserve0']) / token1.scaled(df_clean['reserve1'])\n",
    "df_clean['price_token0'] = 1 / df_clean['price_token1']\n",
    "\n",
    "df_clean = (df_clean\n",
    "            .merge(pd.DataFrame({'block_number': range(context.block_number-1000, context.block_number+1)}), how='right')\n",
    "            .sort_values('block_number')\n",
    "            .fillna(method='ffill')\n",
    "            .fillna(method='bfill'))\n",
    "\n",
    "display(df_clean)\n",
    "\n",
    "df_clean.plot('block_number', 'price_token1')"
   ]
  },
  {
   "attachments": {},
   "cell_type": "markdown",
   "metadata": {},
   "source": [
    "## Summary\n",
    "\n",
    "What we have go through in CMF\n",
    "\n",
    "- Initialize context in cmf\n",
    "- Token: create it from address: query attributes, name, symbol, decimals, etc.\n",
    "- Contract: create it from address, make web3 call.\n",
    "- Write a model with web3 call\n",
    "- Query ledger DB to get decoded event log\n",
    "- Post-process the data in DataFrame\n"
   ]
  },
  {
   "attachments": {},
   "cell_type": "markdown",
   "metadata": {},
   "source": []
  }
 ],
 "metadata": {
  "kernelspec": {
   "display_name": "cmk39",
   "language": "python",
   "name": "python3"
  },
  "language_info": {
   "codemirror_mode": {
    "name": "ipython",
    "version": 3
   },
   "file_extension": ".py",
   "mimetype": "text/x-python",
   "name": "python",
   "nbconvert_exporter": "python",
   "pygments_lexer": "ipython3",
   "version": "3.9.16"
  },
  "orig_nbformat": 4
 },
 "nbformat": 4,
 "nbformat_minor": 2
}
