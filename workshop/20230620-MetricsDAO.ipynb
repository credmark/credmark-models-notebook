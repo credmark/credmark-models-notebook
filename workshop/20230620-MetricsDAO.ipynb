{
 "cells": [
  {
   "attachments": {},
   "cell_type": "markdown",
   "metadata": {},
   "source": [
    "# Credmark Workshop for MetricsDAO\n",
    "\n",
    "- 2023.6.20\n",
    "- Join Credmark Discord: https://credmark.com/contact-us\n",
    "\n",
    "1. Token (symbol, name, )\n",
    "2. Contract (Uniswap V2)\n",
    "3. Get the reserve, get the price\n",
    "4. Get the reserve for the past\n",
    "5. Get the reserve for a range of time.\n"
   ]
  },
  {
   "attachments": {},
   "cell_type": "markdown",
   "metadata": {
    "vscode": {
     "languageId": "plaintext"
    }
   },
   "source": [
    "## Initialize\n"
   ]
  },
  {
   "cell_type": "code",
   "execution_count": 1,
   "metadata": {},
   "outputs": [
    {
     "name": "stdout",
     "output_type": "stream",
     "text": [
      "Credmark context created with \n",
      "- chain_id=1\n",
      "- block_number=None\n",
      "- chain_provider_url=http://192...8545\n",
      "- model_loader_path=['/home/yangye/dev/credmark/credmark-models-py/models']\n",
      "- api_url=https://gateway.credmark.com\n",
      "- use_local_models=None\n",
      "\n"
     ]
    }
   ],
   "source": [
    "from credmark.cmf.ipython import create_cmf\n",
    "from credmark.cmf.types import Token, Contract, Address, BlockNumber\n",
    "\n",
    "context, model_loader = create_cmf(show_params=True)"
   ]
  },
  {
   "cell_type": "code",
   "execution_count": 2,
   "metadata": {},
   "outputs": [
    {
     "name": "stdout",
     "output_type": "stream",
     "text": [
      "(1, 17478546, '2023-06-14T13:42:35+00:00')\n"
     ]
    }
   ],
   "source": [
    "# print the chain ID, block number and block timestamp\n",
    "print((context.chain_id, context.block_number, context.block_number.timestamp_datetime.isoformat()))"
   ]
  },
  {
   "attachments": {},
   "cell_type": "markdown",
   "metadata": {},
   "source": [
    "## 1. Token\n"
   ]
  },
  {
   "cell_type": "code",
   "execution_count": 3,
   "metadata": {},
   "outputs": [
    {
     "name": "stdout",
     "output_type": "stream",
     "text": [
      "('WBTC', 15674767544250, 8)\n"
     ]
    }
   ],
   "source": [
    "# WBTC token\n",
    "wbtc = Token('0x2260fac5e5542a773aa44fbcfedf7c193bc2c599')\n",
    "print((wbtc.symbol, wbtc.total_supply, wbtc.decimals))\n",
    "\n",
    "# These values shall match closely with what's shown in\n",
    "# https://etherscan.io/address/0x2260fac5e5542a773aa44fbcfedf7c193bc2c599#readContract\n",
    "# We have shown as live, while EtherScan update some time ago."
   ]
  },
  {
   "attachments": {},
   "cell_type": "markdown",
   "metadata": {},
   "source": [
    "## 2. Contract\n",
    "\n",
    "- We choose an exchange pool from Uniswap V2\n",
    "- https://v2.info.uniswap.org/home\n",
    "- V2 pool is simple because the ratio between two tokens' reserves is the price.\n",
    "\n",
    "For example:\n",
    "\n",
    "- The USDC-ETH pool is composed of two tokens: USDC and ETH.\n",
    "- The pool's reserves are the total amount of USDC and ETH in the pool.\n",
    "- ETH's price in USDC is USDC's reserve divided by ETH's reserve.\n"
   ]
  },
  {
   "cell_type": "code",
   "execution_count": 4,
   "metadata": {},
   "outputs": [
    {
     "data": {
      "text/plain": [
       "['DOMAIN_SEPARATOR',\n",
       " 'MINIMUM_LIQUIDITY',\n",
       " 'PERMIT_TYPEHASH',\n",
       " 'allowance',\n",
       " 'approve',\n",
       " 'balanceOf',\n",
       " 'burn',\n",
       " 'decimals',\n",
       " 'factory',\n",
       " 'getReserves',\n",
       " 'initialize',\n",
       " 'kLast',\n",
       " 'mint',\n",
       " 'name',\n",
       " 'nonces',\n",
       " 'permit',\n",
       " 'price0CumulativeLast',\n",
       " 'price1CumulativeLast',\n",
       " 'skim',\n",
       " 'swap',\n",
       " 'symbol',\n",
       " 'sync',\n",
       " 'token0',\n",
       " 'token1',\n",
       " 'totalSupply',\n",
       " 'transfer',\n",
       " 'transferFrom']"
      ]
     },
     "metadata": {},
     "output_type": "display_data"
    },
    {
     "name": "stdout",
     "output_type": "stream",
     "text": [
      "Function Name: token0\n",
      "Args: []\n",
      "Types: []\n",
      "Output: ['address']\n",
      "---\n",
      "Function Name: token1\n",
      "Args: []\n",
      "Types: []\n",
      "Output: ['address']\n",
      "---\n",
      "Function Name: getReserves\n",
      "Args: []\n",
      "Types: []\n",
      "Output: ['uint112', 'uint112', 'uint32']\n"
     ]
    }
   ],
   "source": [
    "eth_usdc_pool = Contract('0xB4e16d0168e52d35CaCD2c6185b44281Ec28C9Dc')\n",
    "\n",
    "# Explore the pool contract\n",
    "display(dir(eth_usdc_pool.abi.functions))\n",
    "\n",
    "# The detail of token0/token1/getReserves function\n",
    "print(eth_usdc_pool.abi.functions.token0)\n",
    "print('---')\n",
    "print(eth_usdc_pool.abi.functions.token1)\n",
    "print('---')\n",
    "print(eth_usdc_pool.abi.functions.getReserves)"
   ]
  },
  {
   "cell_type": "code",
   "execution_count": 5,
   "metadata": {},
   "outputs": [
    {
     "name": "stdout",
     "output_type": "stream",
     "text": [
      "('0xA0b86991c6218b36c1d19D4a2e9Eb0cE3606eB48', '0xC02aaA39b223FE8D0A0e5C4F27eAD9083C756Cc2')\n",
      "('USDC', 'WETH')\n"
     ]
    }
   ],
   "source": [
    "token0_addr = eth_usdc_pool.functions.token0().call()\n",
    "token1_addr = eth_usdc_pool.functions.token1().call()\n",
    "\n",
    "# The addresses of two tokens\n",
    "print((token0_addr, token1_addr))\n",
    "\n",
    "# Know what these tokens are actually are\n",
    "token0 = Token(token0_addr)\n",
    "token1 = Token(token1_addr)\n",
    "print((token0.symbol, token1.symbol))"
   ]
  },
  {
   "cell_type": "code",
   "execution_count": 6,
   "metadata": {},
   "outputs": [
    {
     "name": "stdout",
     "output_type": "stream",
     "text": [
      "[26748351880127, 15333072346002775665800, 1686750131]\n",
      "1744.4874240810657\n"
     ]
    }
   ],
   "source": [
    "# Get the reserve of two tokens in this pool\n",
    "reserve = eth_usdc_pool.functions.getReserves().call()\n",
    "print((reserve))\n",
    "\n",
    "# split the return tuple to three values\n",
    "_reserve0, _reserve1, _block_timestamp_last = reserve\n",
    "\n",
    "# price of ETH (as token1) = reserve0 / reserve1, scaled by each token's decimals\n",
    "price_eth = token0.scaled(_reserve0) / token1.scaled(_reserve1)\n",
    "\n",
    "print(price_eth)"
   ]
  },
  {
   "attachments": {},
   "cell_type": "markdown",
   "metadata": {},
   "source": [
    "## 3. Write a model\n"
   ]
  },
  {
   "cell_type": "code",
   "execution_count": 7,
   "metadata": {},
   "outputs": [],
   "source": [
    "from credmark.cmf.model import Model\n",
    "\n",
    "\n",
    "@Model.describe(\n",
    "    slug='jit.uniswap-v2-reserve',\n",
    "    version='1.1',\n",
    "    input=Contract,\n",
    "    output=dict)\n",
    "class UniswapV2Reserve(Model):\n",
    "    def run(self, input):\n",
    "        token0_addr = input.functions.token0().call()\n",
    "        token1_addr = input.functions.token1().call()\n",
    "        _reserve0, _reserve1, _block_timestamp_last = input.functions.getReserves().call()\n",
    "        price_token1 = token0.scaled(_reserve0) / token1.scaled(_reserve1)\n",
    "        return {'price_token1': price_token1,\n",
    "                'price_token0': 1 / price_token1,\n",
    "                'reserve0': _reserve0,\n",
    "                'reserve1': _reserve1}\n",
    "\n",
    "# We can save this as a file in the models/ directory.\n",
    "\n",
    "\n",
    "# Here we directly load it from the definition and it can only be used in this notebook.\n",
    "context.add_model(UniswapV2Reserve)"
   ]
  },
  {
   "cell_type": "code",
   "execution_count": 8,
   "metadata": {},
   "outputs": [
    {
     "data": {
      "text/plain": [
       "{'price_token1': 1744.4874240810657,\n",
       " 'price_token0': 0.0005732342842922841,\n",
       " 'reserve0': 26748351880127,\n",
       " 'reserve1': 15333072346002775665800}"
      ]
     },
     "execution_count": 8,
     "metadata": {},
     "output_type": "execute_result"
    }
   ],
   "source": [
    "context.run_model('jit.uniswap-v2-reserve',\n",
    "                  {'address': '0xB4e16d0168e52d35CaCD2c6185b44281Ec28C9Dc'})"
   ]
  },
  {
   "cell_type": "code",
   "execution_count": 9,
   "metadata": {},
   "outputs": [
    {
     "data": {
      "text/plain": [
       "datetime.datetime(2023, 1, 24, 18, 45, 35, tzinfo=datetime.timezone.utc)"
      ]
     },
     "metadata": {},
     "output_type": "display_data"
    },
    {
     "data": {
      "text/plain": [
       "{'price_token1': 1619.330188361079,\n",
       " 'price_token0': 0.0006175392808628474,\n",
       " 'reserve0': 50161578904736,\n",
       " 'reserve1': 30976745363775645653333}"
      ]
     },
     "execution_count": 9,
     "metadata": {},
     "output_type": "execute_result"
    }
   ],
   "source": [
    "# We can run model on earlier block\n",
    "\n",
    "earlier_block = context.block_number - 1_000_000\n",
    "\n",
    "display(earlier_block.timestamp_datetime)\n",
    "\n",
    "context.run_model('jit.uniswap-v2-reserve',\n",
    "                  {'address': '0xB4e16d0168e52d35CaCD2c6185b44281Ec28C9Dc'},\n",
    "                  block_number=earlier_block)"
   ]
  },
  {
   "attachments": {},
   "cell_type": "markdown",
   "metadata": {},
   "source": [
    "## 4. Scale up the model for more blocks\n"
   ]
  },
  {
   "cell_type": "code",
   "execution_count": 10,
   "metadata": {},
   "outputs": [],
   "source": [
    "# Run the model for 1000 blocks will take a while, how could we speed up?\n",
    "\n",
    "for offset in range(10):\n",
    "    context.run_model('jit.uniswap-v2-reserve',\n",
    "                      {'address': '0xB4e16d0168e52d35CaCD2c6185b44281Ec28C9Dc'},\n",
    "                      block_number=context.block_number - offset)"
   ]
  },
  {
   "cell_type": "code",
   "execution_count": 11,
   "metadata": {},
   "outputs": [
    {
     "data": {
      "text/html": [
       "<div>\n",
       "<style scoped>\n",
       "    .dataframe tbody tr th:only-of-type {\n",
       "        vertical-align: middle;\n",
       "    }\n",
       "\n",
       "    .dataframe tbody tr th {\n",
       "        vertical-align: top;\n",
       "    }\n",
       "\n",
       "    .dataframe thead th {\n",
       "        text-align: right;\n",
       "    }\n",
       "</style>\n",
       "<table border=\"1\" class=\"dataframe\">\n",
       "  <thead>\n",
       "    <tr style=\"text-align: right;\">\n",
       "      <th></th>\n",
       "      <th>block_number</th>\n",
       "      <th>block_timestamp</th>\n",
       "      <th>contract_address</th>\n",
       "      <th>log_index</th>\n",
       "      <th>signature</th>\n",
       "      <th>transaction_hash</th>\n",
       "      <th>evt_reserve0</th>\n",
       "      <th>evt_reserve1</th>\n",
       "    </tr>\n",
       "  </thead>\n",
       "  <tbody>\n",
       "    <tr>\n",
       "      <th>0</th>\n",
       "      <td>17476552</td>\n",
       "      <td>2023-06-14T06:57:59.000Z</td>\n",
       "      <td>0xb4e16d0168e52d35cacd2c6185b44281ec28c9dc</td>\n",
       "      <td>170</td>\n",
       "      <td>Sync(uint112,uint112)</td>\n",
       "      <td>0x0d169e10b41c67a6fdeaec7b30fc94cf0014e9f62510...</td>\n",
       "      <td>26827950821187</td>\n",
       "      <td>15394917031562250532970</td>\n",
       "    </tr>\n",
       "    <tr>\n",
       "      <th>1</th>\n",
       "      <td>17476567</td>\n",
       "      <td>2023-06-14T07:00:59.000Z</td>\n",
       "      <td>0xb4e16d0168e52d35cacd2c6185b44281ec28c9dc</td>\n",
       "      <td>197</td>\n",
       "      <td>Sync(uint112,uint112)</td>\n",
       "      <td>0x8a31e58a6b59ed0aaa6154658e67875fafe9ed5d5dac...</td>\n",
       "      <td>26827471677162</td>\n",
       "      <td>15395192815219646601596</td>\n",
       "    </tr>\n",
       "    <tr>\n",
       "      <th>2</th>\n",
       "      <td>17476571</td>\n",
       "      <td>2023-06-14T07:01:47.000Z</td>\n",
       "      <td>0xb4e16d0168e52d35cacd2c6185b44281ec28c9dc</td>\n",
       "      <td>125</td>\n",
       "      <td>Sync(uint112,uint112)</td>\n",
       "      <td>0xda5ad8f69f8e54731664c99f07d3b0f237e9f785d525...</td>\n",
       "      <td>26827337349518</td>\n",
       "      <td>15395270132719646601596</td>\n",
       "    </tr>\n",
       "    <tr>\n",
       "      <th>3</th>\n",
       "      <td>17476574</td>\n",
       "      <td>2023-06-14T07:02:23.000Z</td>\n",
       "      <td>0xb4e16d0168e52d35cacd2c6185b44281ec28c9dc</td>\n",
       "      <td>72</td>\n",
       "      <td>Sync(uint112,uint112)</td>\n",
       "      <td>0x24c1ba2bf97ee5f455202fb0914577eca01324a38f6f...</td>\n",
       "      <td>26827337349518</td>\n",
       "      <td>15395270132719646601596</td>\n",
       "    </tr>\n",
       "    <tr>\n",
       "      <th>4</th>\n",
       "      <td>17476587</td>\n",
       "      <td>2023-06-14T07:04:59.000Z</td>\n",
       "      <td>0xb4e16d0168e52d35cacd2c6185b44281ec28c9dc</td>\n",
       "      <td>174</td>\n",
       "      <td>Sync(uint112,uint112)</td>\n",
       "      <td>0x0fd3b47418d546d07c8a41dec64240b39a460327e5bb...</td>\n",
       "      <td>26827285685399</td>\n",
       "      <td>15395299870219646601596</td>\n",
       "    </tr>\n",
       "    <tr>\n",
       "      <th>...</th>\n",
       "      <td>...</td>\n",
       "      <td>...</td>\n",
       "      <td>...</td>\n",
       "      <td>...</td>\n",
       "      <td>...</td>\n",
       "      <td>...</td>\n",
       "      <td>...</td>\n",
       "      <td>...</td>\n",
       "    </tr>\n",
       "    <tr>\n",
       "      <th>227</th>\n",
       "      <td>17478490</td>\n",
       "      <td>2023-06-14T13:31:11.000Z</td>\n",
       "      <td>0xb4e16d0168e52d35cacd2c6185b44281ec28c9dc</td>\n",
       "      <td>179</td>\n",
       "      <td>Sync(uint112,uint112)</td>\n",
       "      <td>0xed7d86473154e7a1d4f75190bdfc971ee2c9f9f22610...</td>\n",
       "      <td>26850150411945</td>\n",
       "      <td>15381790908202654417986</td>\n",
       "    </tr>\n",
       "    <tr>\n",
       "      <th>228</th>\n",
       "      <td>17478494</td>\n",
       "      <td>2023-06-14T13:31:59.000Z</td>\n",
       "      <td>0xb4e16d0168e52d35cacd2c6185b44281ec28c9dc</td>\n",
       "      <td>141</td>\n",
       "      <td>Sync(uint112,uint112)</td>\n",
       "      <td>0x245f10603219907ffec68769116022b85e2729e160f8...</td>\n",
       "      <td>26849808817483</td>\n",
       "      <td>15381987190606868248332</td>\n",
       "    </tr>\n",
       "    <tr>\n",
       "      <th>229</th>\n",
       "      <td>17478502</td>\n",
       "      <td>2023-06-14T13:33:35.000Z</td>\n",
       "      <td>0xb4e16d0168e52d35cacd2c6185b44281ec28c9dc</td>\n",
       "      <td>28</td>\n",
       "      <td>Sync(uint112,uint112)</td>\n",
       "      <td>0xd77a8c41a6c52311cec01fdf140098e782ef0c15ab00...</td>\n",
       "      <td>26842135373053</td>\n",
       "      <td>15386397718541815434987</td>\n",
       "    </tr>\n",
       "    <tr>\n",
       "      <th>230</th>\n",
       "      <td>17478511</td>\n",
       "      <td>2023-06-14T13:35:23.000Z</td>\n",
       "      <td>0xb4e16d0168e52d35cacd2c6185b44281ec28c9dc</td>\n",
       "      <td>193</td>\n",
       "      <td>Sync(uint112,uint112)</td>\n",
       "      <td>0x94656c8de37d14b70569a4c05844c6da84371d30203a...</td>\n",
       "      <td>26748727521990</td>\n",
       "      <td>15332854648047482168584</td>\n",
       "    </tr>\n",
       "    <tr>\n",
       "      <th>231</th>\n",
       "      <td>17478528</td>\n",
       "      <td>2023-06-14T13:38:47.000Z</td>\n",
       "      <td>0xb4e16d0168e52d35cacd2c6185b44281ec28c9dc</td>\n",
       "      <td>394</td>\n",
       "      <td>Sync(uint112,uint112)</td>\n",
       "      <td>0xe8682a167e20dfd8f0bb1379e7193557fe4f76f298fd...</td>\n",
       "      <td>26748710128971</td>\n",
       "      <td>15332864648047482168584</td>\n",
       "    </tr>\n",
       "  </tbody>\n",
       "</table>\n",
       "<p>232 rows × 8 columns</p>\n",
       "</div>"
      ],
      "text/plain": [
       "    block_number           block_timestamp  \\\n",
       "0       17476552  2023-06-14T06:57:59.000Z   \n",
       "1       17476567  2023-06-14T07:00:59.000Z   \n",
       "2       17476571  2023-06-14T07:01:47.000Z   \n",
       "3       17476574  2023-06-14T07:02:23.000Z   \n",
       "4       17476587  2023-06-14T07:04:59.000Z   \n",
       "..           ...                       ...   \n",
       "227     17478490  2023-06-14T13:31:11.000Z   \n",
       "228     17478494  2023-06-14T13:31:59.000Z   \n",
       "229     17478502  2023-06-14T13:33:35.000Z   \n",
       "230     17478511  2023-06-14T13:35:23.000Z   \n",
       "231     17478528  2023-06-14T13:38:47.000Z   \n",
       "\n",
       "                               contract_address log_index  \\\n",
       "0    0xb4e16d0168e52d35cacd2c6185b44281ec28c9dc       170   \n",
       "1    0xb4e16d0168e52d35cacd2c6185b44281ec28c9dc       197   \n",
       "2    0xb4e16d0168e52d35cacd2c6185b44281ec28c9dc       125   \n",
       "3    0xb4e16d0168e52d35cacd2c6185b44281ec28c9dc        72   \n",
       "4    0xb4e16d0168e52d35cacd2c6185b44281ec28c9dc       174   \n",
       "..                                          ...       ...   \n",
       "227  0xb4e16d0168e52d35cacd2c6185b44281ec28c9dc       179   \n",
       "228  0xb4e16d0168e52d35cacd2c6185b44281ec28c9dc       141   \n",
       "229  0xb4e16d0168e52d35cacd2c6185b44281ec28c9dc        28   \n",
       "230  0xb4e16d0168e52d35cacd2c6185b44281ec28c9dc       193   \n",
       "231  0xb4e16d0168e52d35cacd2c6185b44281ec28c9dc       394   \n",
       "\n",
       "                 signature                                   transaction_hash  \\\n",
       "0    Sync(uint112,uint112)  0x0d169e10b41c67a6fdeaec7b30fc94cf0014e9f62510...   \n",
       "1    Sync(uint112,uint112)  0x8a31e58a6b59ed0aaa6154658e67875fafe9ed5d5dac...   \n",
       "2    Sync(uint112,uint112)  0xda5ad8f69f8e54731664c99f07d3b0f237e9f785d525...   \n",
       "3    Sync(uint112,uint112)  0x24c1ba2bf97ee5f455202fb0914577eca01324a38f6f...   \n",
       "4    Sync(uint112,uint112)  0x0fd3b47418d546d07c8a41dec64240b39a460327e5bb...   \n",
       "..                     ...                                                ...   \n",
       "227  Sync(uint112,uint112)  0xed7d86473154e7a1d4f75190bdfc971ee2c9f9f22610...   \n",
       "228  Sync(uint112,uint112)  0x245f10603219907ffec68769116022b85e2729e160f8...   \n",
       "229  Sync(uint112,uint112)  0xd77a8c41a6c52311cec01fdf140098e782ef0c15ab00...   \n",
       "230  Sync(uint112,uint112)  0x94656c8de37d14b70569a4c05844c6da84371d30203a...   \n",
       "231  Sync(uint112,uint112)  0xe8682a167e20dfd8f0bb1379e7193557fe4f76f298fd...   \n",
       "\n",
       "       evt_reserve0             evt_reserve1  \n",
       "0    26827950821187  15394917031562250532970  \n",
       "1    26827471677162  15395192815219646601596  \n",
       "2    26827337349518  15395270132719646601596  \n",
       "3    26827337349518  15395270132719646601596  \n",
       "4    26827285685399  15395299870219646601596  \n",
       "..              ...                      ...  \n",
       "227  26850150411945  15381790908202654417986  \n",
       "228  26849808817483  15381987190606868248332  \n",
       "229  26842135373053  15386397718541815434987  \n",
       "230  26748727521990  15332854648047482168584  \n",
       "231  26748710128971  15332864648047482168584  \n",
       "\n",
       "[232 rows x 8 columns]"
      ]
     },
     "execution_count": 11,
     "metadata": {},
     "output_type": "execute_result"
    }
   ],
   "source": [
    "# Uniswap V2 pool's reserve changes with Mint/Burn/Swap, it kept a record of these events.\n",
    "# Event Sync occurs together with Mint/Burn to record the reserve, that's we need.\n",
    "# Let's query that event log for Sync.\n",
    "\n",
    "with eth_usdc_pool.ledger.events.Sync as q:\n",
    "    df = q.select(q.columns,\n",
    "                  where=q.BLOCK_NUMBER.ge(context.block_number-2000),\n",
    "                  order_by=q.BLOCK_NUMBER.comma_(q.LOG_INDEX)).to_dataframe()\n",
    "\n",
    "# Note: because we limit each query to return 5000 results, when returned the results <= 5000 rows.\n",
    "# We need to query multiple times to get all the results.\n",
    "\n",
    "df\n",
    "\n",
    "# Query this data only takes less than a second."
   ]
  },
  {
   "cell_type": "code",
   "execution_count": 12,
   "metadata": {},
   "outputs": [
    {
     "data": {
      "text/html": [
       "<div>\n",
       "<style scoped>\n",
       "    .dataframe tbody tr th:only-of-type {\n",
       "        vertical-align: middle;\n",
       "    }\n",
       "\n",
       "    .dataframe tbody tr th {\n",
       "        vertical-align: top;\n",
       "    }\n",
       "\n",
       "    .dataframe thead th {\n",
       "        text-align: right;\n",
       "    }\n",
       "</style>\n",
       "<table border=\"1\" class=\"dataframe\">\n",
       "  <thead>\n",
       "    <tr style=\"text-align: right;\">\n",
       "      <th></th>\n",
       "      <th>block_number</th>\n",
       "      <th>reserve0</th>\n",
       "      <th>reserve1</th>\n",
       "    </tr>\n",
       "  </thead>\n",
       "  <tbody>\n",
       "    <tr>\n",
       "      <th>0</th>\n",
       "      <td>17476552</td>\n",
       "      <td>26827950821187</td>\n",
       "      <td>15394917031562250532970</td>\n",
       "    </tr>\n",
       "    <tr>\n",
       "      <th>1</th>\n",
       "      <td>17476567</td>\n",
       "      <td>26827471677162</td>\n",
       "      <td>15395192815219646601596</td>\n",
       "    </tr>\n",
       "    <tr>\n",
       "      <th>2</th>\n",
       "      <td>17476571</td>\n",
       "      <td>26827337349518</td>\n",
       "      <td>15395270132719646601596</td>\n",
       "    </tr>\n",
       "    <tr>\n",
       "      <th>3</th>\n",
       "      <td>17476574</td>\n",
       "      <td>26827337349518</td>\n",
       "      <td>15395270132719646601596</td>\n",
       "    </tr>\n",
       "    <tr>\n",
       "      <th>4</th>\n",
       "      <td>17476587</td>\n",
       "      <td>26827285685399</td>\n",
       "      <td>15395299870219646601596</td>\n",
       "    </tr>\n",
       "    <tr>\n",
       "      <th>...</th>\n",
       "      <td>...</td>\n",
       "      <td>...</td>\n",
       "      <td>...</td>\n",
       "    </tr>\n",
       "    <tr>\n",
       "      <th>227</th>\n",
       "      <td>17478490</td>\n",
       "      <td>26850150411945</td>\n",
       "      <td>15381790908202654417986</td>\n",
       "    </tr>\n",
       "    <tr>\n",
       "      <th>228</th>\n",
       "      <td>17478494</td>\n",
       "      <td>26849808817483</td>\n",
       "      <td>15381987190606868248332</td>\n",
       "    </tr>\n",
       "    <tr>\n",
       "      <th>229</th>\n",
       "      <td>17478502</td>\n",
       "      <td>26842135373053</td>\n",
       "      <td>15386397718541815434987</td>\n",
       "    </tr>\n",
       "    <tr>\n",
       "      <th>230</th>\n",
       "      <td>17478511</td>\n",
       "      <td>26748727521990</td>\n",
       "      <td>15332854648047482168584</td>\n",
       "    </tr>\n",
       "    <tr>\n",
       "      <th>231</th>\n",
       "      <td>17478528</td>\n",
       "      <td>26748710128971</td>\n",
       "      <td>15332864648047482168584</td>\n",
       "    </tr>\n",
       "  </tbody>\n",
       "</table>\n",
       "<p>213 rows × 3 columns</p>\n",
       "</div>"
      ],
      "text/plain": [
       "     block_number        reserve0                 reserve1\n",
       "0        17476552  26827950821187  15394917031562250532970\n",
       "1        17476567  26827471677162  15395192815219646601596\n",
       "2        17476571  26827337349518  15395270132719646601596\n",
       "3        17476574  26827337349518  15395270132719646601596\n",
       "4        17476587  26827285685399  15395299870219646601596\n",
       "..            ...             ...                      ...\n",
       "227      17478490  26850150411945  15381790908202654417986\n",
       "228      17478494  26849808817483  15381987190606868248332\n",
       "229      17478502  26842135373053  15386397718541815434987\n",
       "230      17478511  26748727521990  15332854648047482168584\n",
       "231      17478528  26748710128971  15332864648047482168584\n",
       "\n",
       "[213 rows x 3 columns]"
      ]
     },
     "metadata": {},
     "output_type": "display_data"
    },
    {
     "data": {
      "image/png": "[encoded data removed]",
      "text/plain": [
       "<Figure size 640x480 with 1 Axes>"
      ]
     },
     "metadata": {},
     "output_type": "display_data"
    }
   ],
   "source": [
    "df_clean = (df\n",
    "            .drop_duplicates(subset=['block_number'], keep='last')\n",
    "            .loc[:, ['block_number', 'evt_reserve0', 'evt_reserve1']]\n",
    "            .rename(columns={'evt_reserve0': 'reserve0', 'evt_reserve1': 'reserve1'})\n",
    "            .assign(block_number=lambda x: x.block_number.astype(int),\n",
    "                    reserve0=lambda x: x.reserve0.apply(int),\n",
    "                    reserve1=lambda x: x.reserve1.apply(int),))\n",
    "display(df_clean)\n",
    "\n",
    "current_reserve = context.run_model('jit.uniswap-v2-reserve',\n",
    "                                    {'address': '0xB4e16d0168e52d35CaCD2c6185b44281Ec28C9Dc'})\n",
    "\n",
    "if df_clean.empty or df_clean.loc[df_clean.shape[0]-1, 'block_number'] != context.block_number:\n",
    "    df_clean = pd.concat([\n",
    "        df_clean,\n",
    "        pd.DataFrame({'block_number': [context.block_number],\n",
    "                      'reserve0': [current_reserve['reserve0']],\n",
    "                      'reserve1': [current_reserve['reserve1']]})]).reset_index(drop=True)\n",
    "\n",
    "df_clean['price_token1'] = token0.scaled(df_clean['reserve0']) / token1.scaled(df_clean['reserve1'])\n",
    "df_clean['price_token0'] = 1 / df_clean['price_token1']\n",
    "\n",
    "df_clean = (df_clean\n",
    "            .merge(pd.DataFrame({'block_number': range(context.block_number-1000, context.block_number+1)}), how='right')\n",
    "            .sort_values('block_number')\n",
    "            .fillna(method='ffill')\n",
    "            .fillna(method='bfill')\n",
    "            .plot('block_number', 'price_token1'))"
   ]
  },
  {
   "attachments": {},
   "cell_type": "markdown",
   "metadata": {},
   "source": [
    "## 5. A more complete version in the form of a model for Uniswap V2 price for a range\n"
   ]
  },
  {
   "cell_type": "code",
   "execution_count": 13,
   "metadata": {},
   "outputs": [],
   "source": [
    "# Let's create a model for a range of block numbers\n",
    "# It support cases when there are > 5000 Sync events in the range, or no event during the\n",
    "\n",
    "from credmark.cmf.types import Records\n",
    "from credmark.dto import DTOField\n",
    "import pandas as pd\n",
    "\n",
    "\n",
    "class ContractWithRange(Contract):\n",
    "    block_range: int = DTOField(ge=0, description='Block range to query')\n",
    "\n",
    "\n",
    "@Model.describe(\n",
    "    slug='jit.uniswap-v2-reserve-range',\n",
    "    version='1.1',\n",
    "    input=ContractWithRange,\n",
    "    output=Records)\n",
    "class UniswapV2ReserveRange(Model):\n",
    "    def run(self, input):\n",
    "        current_reserve = self.context.run_model('jit.uniswap-v2-reserve',\n",
    "                                                 input)\n",
    "\n",
    "        dfs = []\n",
    "        with input.ledger.events.Sync as q:\n",
    "            while True:\n",
    "                df = q.select(q.columns,\n",
    "                              where=q.BLOCK_NUMBER.ge(context.block_number-input.block_range),\n",
    "                              order_by=q.BLOCK_NUMBER.comma_(q.LOG_INDEX)).to_dataframe()\n",
    "\n",
    "                if not df.empty:\n",
    "                    dfs.append(df)\n",
    "\n",
    "                if df.shape[0] < 5000:\n",
    "                    break\n",
    "\n",
    "        if len(dfs) == 0:\n",
    "            return Records.from_dataframe(pd.DataFrame({\n",
    "                'block_number': range(context.block_number-input.block_range, context.block_number),\n",
    "                'price_token1': current_reserve['price_token1'],\n",
    "                'price_token0': current_reserve['price_token1'],\n",
    "                'reserve0': current_reserve['reserve0'],\n",
    "                'reserve1': current_reserve['reserve1'],\n",
    "            }))\n",
    "        else:\n",
    "            df_clean = (pd.concat(dfs)\n",
    "                        .drop_duplicates(subset=['block_number'], keep='last')\n",
    "                        .loc[:, ['block_number', 'evt_reserve0', 'evt_reserve1']]\n",
    "                        .rename(columns={'evt_reserve0': 'reserve0', 'evt_reserve1': 'reserve1'})\n",
    "                        .assign(block_number=lambda x: x.block_number.astype(int),\n",
    "                                reserve0=lambda x: x.reserve0.apply(int),\n",
    "                                reserve1=lambda x: x.reserve1.apply(int),))\n",
    "\n",
    "            if df_clean.loc[df_clean.shape[0]-1, 'block_number'] != context.block_number:\n",
    "                df_clean = pd.concat([\n",
    "                    df_clean,\n",
    "                    pd.DataFrame({'block_number': [context.block_number],\n",
    "                                  'reserve0': [current_reserve['reserve0']],\n",
    "                                  'reserve1': [current_reserve['reserve1']]})])\n",
    "\n",
    "            df_clean['price_token1'] = token0.scaled(df_clean['reserve0']) / token1.scaled(df_clean['reserve1'])\n",
    "            df_clean['price_token0'] = 1 / df_clean['price_token1']\n",
    "\n",
    "            df_clean = (df_clean\n",
    "                        .merge(pd.DataFrame({'block_number': range(context.block_number-1000, context.block_number+1)}), how='right')\n",
    "                        .sort_values('block_number')\n",
    "                        .fillna(method='ffill')\n",
    "                        .fillna(method='bfill'))\n",
    "\n",
    "        return Records.from_dataframe(df_clean)\n",
    "\n",
    "\n",
    "context.add_model(UniswapV2ReserveRange)"
   ]
  },
  {
   "cell_type": "code",
   "execution_count": 14,
   "metadata": {},
   "outputs": [
    {
     "data": {
      "text/plain": [
       "<Axes: xlabel='block_number'>"
      ]
     },
     "execution_count": 14,
     "metadata": {},
     "output_type": "execute_result"
    },
    {
     "data": {
      "image/png": "[encoded data removed]",
      "text/plain": [
       "<Figure size 640x480 with 1 Axes>"
      ]
     },
     "metadata": {},
     "output_type": "display_data"
    }
   ],
   "source": [
    "context.reset_cache()\n",
    "df_range = context.run_model('jit.uniswap-v2-reserve-range',\n",
    "                             {'address': '0xB4e16d0168e52d35CaCD2c6185b44281Ec28C9Dc', 'block_range': 1000},\n",
    "                             return_type=Records).to_dataframe()\n",
    "\n",
    "df_range.plot('block_number', 'price_token1')"
   ]
  }
 ],
 "metadata": {
  "kernelspec": {
   "display_name": "cmk39",
   "language": "python",
   "name": "python3"
  },
  "language_info": {
   "codemirror_mode": {
    "name": "ipython",
    "version": 3
   },
   "file_extension": ".py",
   "mimetype": "text/x-python",
   "name": "python",
   "nbconvert_exporter": "python",
   "pygments_lexer": "ipython3",
   "version": "3.9.16"
  },
  "orig_nbformat": 4
 },
 "nbformat": 4,
 "nbformat_minor": 2
}
