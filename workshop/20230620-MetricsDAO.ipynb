{
 "cells": [
  {
   "attachments": {},
   "cell_type": "markdown",
   "metadata": {},
   "source": [
    "# Credmark Workshop for MetricsDAO\n",
    "\n",
    "- 2023.6.20\n",
    "- Join Credmark Discord: https://credmark.com/contact-us\n",
    "\n",
    "1. Token (symbol, name, )\n",
    "2. Contract (Uniswap V2)\n",
    "3. Get the reserve, get the price\n",
    "4. Get the reserve for the past\n",
    "5. Get the reserve for a range of time.\n"
   ]
  },
  {
   "attachments": {},
   "cell_type": "markdown",
   "metadata": {
    "vscode": {
     "languageId": "plaintext"
    }
   },
   "source": [
    "## Initialize\n"
   ]
  },
  {
   "cell_type": "code",
   "execution_count": 1,
   "metadata": {},
   "outputs": [
    {
     "name": "stdout",
     "output_type": "stream",
     "text": [
      "Credmark context created with \n",
      "- chain_id=1\n",
      "- block_number=None (17490949)\n",
      "- chain_provider_url=http://192...8545\n",
      "- model_loader_path=['/home/yangye/dev/credmark/credmark-models-py/models']\n",
      "- api_url=https://gateway.credmark.com\n",
      "- use_local_models=None\n",
      "\n"
     ]
    }
   ],
   "source": [
    "from credmark.cmf.ipython import create_cmf\n",
    "from credmark.cmf.types import Token, Contract, Address, BlockNumber\n",
    "\n",
    "context, model_loader = create_cmf(show=True)"
   ]
  },
  {
   "cell_type": "code",
   "execution_count": 2,
   "metadata": {},
   "outputs": [
    {
     "name": "stdout",
     "output_type": "stream",
     "text": [
      "(1, 17490949, '2023-06-16T07:35:23+00:00')\n"
     ]
    }
   ],
   "source": [
    "# print the chain ID, block number and block timestamp\n",
    "print((context.chain_id,\n",
    "       context.block_number,\n",
    "       context.block_number.timestamp_datetime.isoformat()))"
   ]
  },
  {
   "attachments": {},
   "cell_type": "markdown",
   "metadata": {},
   "source": [
    "## 1. Token\n"
   ]
  },
  {
   "cell_type": "code",
   "execution_count": 3,
   "metadata": {},
   "outputs": [
    {
     "name": "stdout",
     "output_type": "stream",
     "text": [
      "('WBTC', 15662767544250, 8)\n"
     ]
    }
   ],
   "source": [
    "# WBTC token\n",
    "wbtc = Token('0x2260fac5e5542a773aa44fbcfedf7c193bc2c599')\n",
    "print((wbtc.symbol, wbtc.total_supply, wbtc.decimals))\n",
    "\n",
    "# These values shall match closely with what's shown in\n",
    "# https://etherscan.io/address/0x2260fac5e5542a773aa44fbcfedf7c193bc2c599#readContract\n",
    "# We have shown as live, while EtherScan update some time ago."
   ]
  },
  {
   "cell_type": "code",
   "execution_count": 4,
   "metadata": {},
   "outputs": [
    {
     "data": {
      "text/plain": [
       "['Block',\n",
       " 'Contract',\n",
       " 'Log',\n",
       " 'Receipt',\n",
       " 'Token',\n",
       " 'TokenBalance',\n",
       " 'TokenTransfer',\n",
       " 'Trace',\n",
       " 'Transaction']"
      ]
     },
     "metadata": {},
     "output_type": "display_data"
    },
    {
     "data": {
      "text/plain": [
       "['block_hash',\n",
       " 'block_number',\n",
       " 'block_timestamp',\n",
       " 'from_address',\n",
       " 'log_index',\n",
       " 'token_address',\n",
       " 'to_address',\n",
       " 'transaction_hash',\n",
       " 'value']"
      ]
     },
     "metadata": {},
     "output_type": "display_data"
    }
   ],
   "source": [
    "# Query the TokenTransfer table for WBTC\n",
    "\n",
    "# We have these tables available\n",
    "display(context.ledger.tables())\n",
    "\n",
    "# columns in TokenTransfer table\n",
    "display(context.ledger.TokenTransfer.columns)"
   ]
  },
  {
   "cell_type": "code",
   "execution_count": 5,
   "metadata": {},
   "outputs": [
    {
     "data": {
      "text/html": [
       "<div>\n",
       "<style scoped>\n",
       "    .dataframe tbody tr th:only-of-type {\n",
       "        vertical-align: middle;\n",
       "    }\n",
       "\n",
       "    .dataframe tbody tr th {\n",
       "        vertical-align: top;\n",
       "    }\n",
       "\n",
       "    .dataframe thead th {\n",
       "        text-align: right;\n",
       "    }\n",
       "</style>\n",
       "<table border=\"1\" class=\"dataframe\">\n",
       "  <thead>\n",
       "    <tr style=\"text-align: right;\">\n",
       "      <th></th>\n",
       "      <th>block_hash</th>\n",
       "      <th>block_number</th>\n",
       "      <th>block_timestamp</th>\n",
       "      <th>from_address</th>\n",
       "      <th>log_index</th>\n",
       "      <th>token_address</th>\n",
       "      <th>to_address</th>\n",
       "      <th>transaction_hash</th>\n",
       "      <th>value</th>\n",
       "    </tr>\n",
       "  </thead>\n",
       "  <tbody>\n",
       "    <tr>\n",
       "      <th>0</th>\n",
       "      <td>0xbc1ebba4e406c2274295bceadb953380cc958b3efd03...</td>\n",
       "      <td>17490947</td>\n",
       "      <td>2023-06-16T07:34:59.000Z</td>\n",
       "      <td>0x319a3afffb49f91c842cd482bf38adf950170c2b</td>\n",
       "      <td>382</td>\n",
       "      <td>0x2260fac5e5542a773aa44fbcfedf7c193bc2c599</td>\n",
       "      <td>0x9ff58f4ffb29fa2266ab25e75e2a8b3503311656</td>\n",
       "      <td>0x6776d231ccefb170b4f8e6cf5fd3e3ad00b90d9bebc6...</td>\n",
       "      <td>178818007</td>\n",
       "    </tr>\n",
       "  </tbody>\n",
       "</table>\n",
       "</div>"
      ],
      "text/plain": [
       "                                          block_hash block_number  \\\n",
       "0  0xbc1ebba4e406c2274295bceadb953380cc958b3efd03...     17490947   \n",
       "\n",
       "            block_timestamp                                from_address  \\\n",
       "0  2023-06-16T07:34:59.000Z  0x319a3afffb49f91c842cd482bf38adf950170c2b   \n",
       "\n",
       "  log_index                               token_address  \\\n",
       "0       382  0x2260fac5e5542a773aa44fbcfedf7c193bc2c599   \n",
       "\n",
       "                                   to_address  \\\n",
       "0  0x9ff58f4ffb29fa2266ab25e75e2a8b3503311656   \n",
       "\n",
       "                                    transaction_hash      value  \n",
       "0  0x6776d231ccefb170b4f8e6cf5fd3e3ad00b90d9bebc6...  178818007  "
      ]
     },
     "metadata": {},
     "output_type": "display_data"
    }
   ],
   "source": [
    "# Fetch the recent WBTC transfers\n",
    "\n",
    "with context.ledger.TokenTransfer as q:\n",
    "    df = q.select(columns=q.columns,\n",
    "                  where=q.TOKEN_ADDRESS.eq(wbtc.address).and_(q.BLOCK_NUMBER.between_(\n",
    "                      context.block_number - 1000, context.block_number)),\n",
    "                  order_by=q.BLOCK_NUMBER.desc(),\n",
    "                  limit=1).to_dataframe()\n",
    "\n",
    "display(df)"
   ]
  },
  {
   "attachments": {},
   "cell_type": "markdown",
   "metadata": {},
   "source": [
    "## 2. Contract\n",
    "\n",
    "- We choose an exchange pool from Uniswap V2\n",
    "- https://v2.info.uniswap.org/home\n",
    "- V2 pool is simple because the ratio between two tokens' reserves is the price.\n",
    "\n",
    "For example:\n",
    "\n",
    "- The USDC-ETH pool is composed of two tokens: USDC and ETH.\n",
    "- The pool's reserves are the total amount of USDC and ETH in the pool.\n",
    "- ETH's price in USDC is USDC's reserve divided by ETH's reserve.\n"
   ]
  },
  {
   "cell_type": "code",
   "execution_count": 6,
   "metadata": {},
   "outputs": [
    {
     "data": {
      "text/plain": [
       "['DOMAIN_SEPARATOR',\n",
       " 'MINIMUM_LIQUIDITY',\n",
       " 'PERMIT_TYPEHASH',\n",
       " 'allowance',\n",
       " 'approve',\n",
       " 'balanceOf',\n",
       " 'burn',\n",
       " 'decimals',\n",
       " 'factory',\n",
       " 'getReserves',\n",
       " 'initialize',\n",
       " 'kLast',\n",
       " 'mint',\n",
       " 'name',\n",
       " 'nonces',\n",
       " 'permit',\n",
       " 'price0CumulativeLast',\n",
       " 'price1CumulativeLast',\n",
       " 'skim',\n",
       " 'swap',\n",
       " 'symbol',\n",
       " 'sync',\n",
       " 'token0',\n",
       " 'token1',\n",
       " 'totalSupply',\n",
       " 'transfer',\n",
       " 'transferFrom']"
      ]
     },
     "metadata": {},
     "output_type": "display_data"
    }
   ],
   "source": [
    "eth_usdc_pool = Contract('0xB4e16d0168e52d35CaCD2c6185b44281Ec28C9Dc')\n",
    "\n",
    "# Explore the pool contract\n",
    "display(dir(eth_usdc_pool.abi.functions))"
   ]
  },
  {
   "cell_type": "code",
   "execution_count": 7,
   "metadata": {},
   "outputs": [
    {
     "name": "stdout",
     "output_type": "stream",
     "text": [
      "Function Name: token0\n",
      "Args: []\n",
      "Types: []\n",
      "Output: ['address']\n",
      "---\n",
      "Function Name: token1\n",
      "Args: []\n",
      "Types: []\n",
      "Output: ['address']\n",
      "---\n",
      "Function Name: getReserves\n",
      "Args: []\n",
      "Types: []\n",
      "Output: ['uint112', 'uint112', 'uint32']\n"
     ]
    }
   ],
   "source": [
    "# The detail of token0/token1/getReserves function\n",
    "print(eth_usdc_pool.abi.functions.token0)\n",
    "print('---')\n",
    "print(eth_usdc_pool.abi.functions.token1)\n",
    "print('---')\n",
    "print(eth_usdc_pool.abi.functions.getReserves)"
   ]
  },
  {
   "cell_type": "code",
   "execution_count": 8,
   "metadata": {},
   "outputs": [
    {
     "name": "stdout",
     "output_type": "stream",
     "text": [
      "('0xA0b86991c6218b36c1d19D4a2e9Eb0cE3606eB48', '0xC02aaA39b223FE8D0A0e5C4F27eAD9083C756Cc2')\n",
      "('USDC', 'WETH')\n"
     ]
    }
   ],
   "source": [
    "token0_addr = eth_usdc_pool.functions.token0().call()\n",
    "token1_addr = eth_usdc_pool.functions.token1().call()\n",
    "\n",
    "# The addresses of two tokens\n",
    "print((token0_addr, token1_addr))\n",
    "\n",
    "# Know what these tokens are actually are\n",
    "token0 = Token(token0_addr)\n",
    "token1 = Token(token1_addr)\n",
    "print((token0.symbol, token1.symbol))"
   ]
  },
  {
   "cell_type": "code",
   "execution_count": 9,
   "metadata": {},
   "outputs": [
    {
     "name": "stdout",
     "output_type": "stream",
     "text": [
      "[26039398264159, 15595878513089537429628, 1686900755]\n",
      "1669.633309999451\n"
     ]
    }
   ],
   "source": [
    "# Get the reserve of two tokens in this pool\n",
    "reserve = eth_usdc_pool.functions.getReserves().call()\n",
    "print((reserve))\n",
    "\n",
    "# split the return tuple to three values\n",
    "_reserve0, _reserve1, _block_timestamp_last = reserve\n",
    "\n",
    "# price of ETH (as token1) = reserve0 / reserve1, scaled by each token's decimals\n",
    "price_eth = token0.scaled(_reserve0) / token1.scaled(_reserve1)  # the ratio is USDC per WETH\n",
    "\n",
    "print(price_eth)"
   ]
  },
  {
   "attachments": {},
   "cell_type": "markdown",
   "metadata": {},
   "source": [
    "## 3. Write a model\n"
   ]
  },
  {
   "cell_type": "code",
   "execution_count": 10,
   "metadata": {},
   "outputs": [],
   "source": [
    "from credmark.cmf.model import Model\n",
    "from credmark.cmf.types import Contract, Token\n",
    "\n",
    "\n",
    "@Model.describe(\n",
    "    slug='jit.uniswap-v2-reserve',\n",
    "    version='1.1',\n",
    "    input=Contract,\n",
    "    output=dict)\n",
    "class UniswapV2Reserve(Model):\n",
    "    def run(self, input: Contract):\n",
    "        # get the tokens in this pool\n",
    "        token0_addr = input.functions.token0().call()\n",
    "        token1_addr = input.functions.token1().call()\n",
    "        # create the Token objects\n",
    "        token0 = Token(token0_addr)\n",
    "        token1 = Token(token1_addr)\n",
    "        # get the reserve\n",
    "        _reserve0, _reserve1, _block_timestamp_last = input.functions.getReserves().call()\n",
    "        # calculate the price\n",
    "        price_token1 = token0.scaled(_reserve0) / token1.scaled(_reserve1)\n",
    "        # return the result\n",
    "        return {'price_token1': price_token1,\n",
    "                'price_token0': 1 / price_token1,\n",
    "                'reserve0': _reserve0,\n",
    "                'reserve1': _reserve1}\n",
    "\n",
    "\n",
    "# We can save this as a file in the models/ directory of credmark-models-py, or model_loader_path shown above for create_cmf().\n",
    "# Here we directly load it from the definition, with this way, it can only be used in this notebook.\n",
    "context.add_model(UniswapV2Reserve)"
   ]
  },
  {
   "cell_type": "code",
   "execution_count": 11,
   "metadata": {},
   "outputs": [
    {
     "data": {
      "text/plain": [
       "{'price_token1': 1669.633309999451,\n",
       " 'price_token0': 0.000598933906032534,\n",
       " 'reserve0': 26039398264159,\n",
       " 'reserve1': 15595878513089537429628}"
      ]
     },
     "execution_count": 11,
     "metadata": {},
     "output_type": "execute_result"
    }
   ],
   "source": [
    "context.run_model('jit.uniswap-v2-reserve',\n",
    "                  {'address': '0xB4e16d0168e52d35CaCD2c6185b44281Ec28C9Dc'})\n",
    "\n",
    "# model checks for validity of the input\n",
    "# try run above with a shorter address, i.e. 0xB4e16d0168e52d35CaCD2c6185b44\n",
    "# You will get a ModelInputError"
   ]
  },
  {
   "cell_type": "code",
   "execution_count": 12,
   "metadata": {},
   "outputs": [
    {
     "data": {
      "text/plain": [
       "datetime.datetime(2023, 6, 16, 4, 13, 11, tzinfo=datetime.timezone.utc)"
      ]
     },
     "metadata": {},
     "output_type": "display_data"
    },
    {
     "data": {
      "text/plain": [
       "{'price_token1': 1666.174853557579,\n",
       " 'price_token0': 0.0006001771049808024,\n",
       " 'reserve0': 26012287702613,\n",
       " 'reserve1': 15611979527281994770314}"
      ]
     },
     "execution_count": 12,
     "metadata": {},
     "output_type": "execute_result"
    }
   ],
   "source": [
    "# We can run model on earlier block\n",
    "# Model is a re-usable piece of algorithm to run for a chain_id, a block_number\n",
    "\n",
    "earlier_block = context.block_number - 1_000\n",
    "\n",
    "display(earlier_block.timestamp_datetime)\n",
    "\n",
    "context.run_model('jit.uniswap-v2-reserve',\n",
    "                  {'address': '0xB4e16d0168e52d35CaCD2c6185b44281Ec28C9Dc'},\n",
    "                  block_number=earlier_block)"
   ]
  },
  {
   "attachments": {},
   "cell_type": "markdown",
   "metadata": {},
   "source": [
    "## 4. Scale up the model for more blocks\n"
   ]
  },
  {
   "cell_type": "code",
   "execution_count": 13,
   "metadata": {},
   "outputs": [],
   "source": [
    "# Run the model for 1000 blocks will take a while, how could we speed up?\n",
    "\n",
    "for offset in range(10):\n",
    "    context.run_model('jit.uniswap-v2-reserve',\n",
    "                      {'address': '0xB4e16d0168e52d35CaCD2c6185b44281Ec28C9Dc'},\n",
    "                      block_number=context.block_number - offset)"
   ]
  },
  {
   "cell_type": "code",
   "execution_count": 14,
   "metadata": {},
   "outputs": [
    {
     "data": {
      "text/plain": [
       "Event Name: Sync\n",
       "Args: ['reserve0', 'reserve1']\n",
       "Types: ['uint112', 'uint112']"
      ]
     },
     "execution_count": 14,
     "metadata": {},
     "output_type": "execute_result"
    }
   ],
   "source": [
    "# Uniswap V2 pool's reserve changes with Mint/Burn/Swap, it kept a record of these events.\n",
    "# Event Sync occurs together with Mint/Burn to record the reserve, that's we need.\n",
    "\n",
    "eth_usdc_pool.abi.events.Sync"
   ]
  },
  {
   "cell_type": "code",
   "execution_count": 15,
   "metadata": {},
   "outputs": [
    {
     "data": {
      "text/html": [
       "<div>\n",
       "<style scoped>\n",
       "    .dataframe tbody tr th:only-of-type {\n",
       "        vertical-align: middle;\n",
       "    }\n",
       "\n",
       "    .dataframe tbody tr th {\n",
       "        vertical-align: top;\n",
       "    }\n",
       "\n",
       "    .dataframe thead th {\n",
       "        text-align: right;\n",
       "    }\n",
       "</style>\n",
       "<table border=\"1\" class=\"dataframe\">\n",
       "  <thead>\n",
       "    <tr style=\"text-align: right;\">\n",
       "      <th></th>\n",
       "      <th>block_number</th>\n",
       "      <th>block_timestamp</th>\n",
       "      <th>contract_address</th>\n",
       "      <th>log_index</th>\n",
       "      <th>signature</th>\n",
       "      <th>transaction_hash</th>\n",
       "      <th>evt_reserve0</th>\n",
       "      <th>evt_reserve1</th>\n",
       "    </tr>\n",
       "  </thead>\n",
       "  <tbody>\n",
       "    <tr>\n",
       "      <th>0</th>\n",
       "      <td>17489956</td>\n",
       "      <td>2023-06-16T04:14:35.000Z</td>\n",
       "      <td>0xb4e16d0168e52d35cacd2c6185b44281ec28c9dc</td>\n",
       "      <td>103</td>\n",
       "      <td>Sync(uint112,uint112)</td>\n",
       "      <td>0x6e26b6f7facfb38e58845b74c0ba1f77b9b252cb223f...</td>\n",
       "      <td>26012435349562</td>\n",
       "      <td>15611891179306502728915</td>\n",
       "    </tr>\n",
       "    <tr>\n",
       "      <th>1</th>\n",
       "      <td>17489975</td>\n",
       "      <td>2023-06-16T04:18:23.000Z</td>\n",
       "      <td>0xb4e16d0168e52d35cacd2c6185b44281ec28c9dc</td>\n",
       "      <td>273</td>\n",
       "      <td>Sync(uint112,uint112)</td>\n",
       "      <td>0x6acaf9f95d91f92606a49b65b8487f725859b9b86af1...</td>\n",
       "      <td>26012269231107</td>\n",
       "      <td>15611991179306502728915</td>\n",
       "    </tr>\n",
       "    <tr>\n",
       "      <th>2</th>\n",
       "      <td>17489992</td>\n",
       "      <td>2023-06-16T04:21:47.000Z</td>\n",
       "      <td>0xb4e16d0168e52d35cacd2c6185b44281ec28c9dc</td>\n",
       "      <td>68</td>\n",
       "      <td>Sync(uint112,uint112)</td>\n",
       "      <td>0x22dac0c867f50063e71daddd6d6ba455f37562f6e6f2...</td>\n",
       "      <td>26025162596696</td>\n",
       "      <td>15604279890893020886007</td>\n",
       "    </tr>\n",
       "    <tr>\n",
       "      <th>3</th>\n",
       "      <td>17490002</td>\n",
       "      <td>2023-06-16T04:24:11.000Z</td>\n",
       "      <td>0xb4e16d0168e52d35cacd2c6185b44281ec28c9dc</td>\n",
       "      <td>269</td>\n",
       "      <td>Sync(uint112,uint112)</td>\n",
       "      <td>0x3129a3ec2ecb8d622b8ae4ac3eb99302facd087bafc9...</td>\n",
       "      <td>26024920058546</td>\n",
       "      <td>15604425751907917412043</td>\n",
       "    </tr>\n",
       "    <tr>\n",
       "      <th>4</th>\n",
       "      <td>17490011</td>\n",
       "      <td>2023-06-16T04:25:59.000Z</td>\n",
       "      <td>0xb4e16d0168e52d35cacd2c6185b44281ec28c9dc</td>\n",
       "      <td>153</td>\n",
       "      <td>Sync(uint112,uint112)</td>\n",
       "      <td>0x9d68eab663b4506b0dce93400746baad59bd71c4cb93...</td>\n",
       "      <td>26025075851672</td>\n",
       "      <td>15604332619840296754099</td>\n",
       "    </tr>\n",
       "    <tr>\n",
       "      <th>...</th>\n",
       "      <td>...</td>\n",
       "      <td>...</td>\n",
       "      <td>...</td>\n",
       "      <td>...</td>\n",
       "      <td>...</td>\n",
       "      <td>...</td>\n",
       "      <td>...</td>\n",
       "      <td>...</td>\n",
       "    </tr>\n",
       "    <tr>\n",
       "      <th>90</th>\n",
       "      <td>17490836</td>\n",
       "      <td>2023-06-16T07:12:23.000Z</td>\n",
       "      <td>0xb4e16d0168e52d35cacd2c6185b44281ec28c9dc</td>\n",
       "      <td>139</td>\n",
       "      <td>Sync(uint112,uint112)</td>\n",
       "      <td>0x319c032410d99c4e12563db290269739add89307cb39...</td>\n",
       "      <td>26037613723580</td>\n",
       "      <td>15596937845604255455968</td>\n",
       "    </tr>\n",
       "    <tr>\n",
       "      <th>91</th>\n",
       "      <td>17490846</td>\n",
       "      <td>2023-06-16T07:14:23.000Z</td>\n",
       "      <td>0xb4e16d0168e52d35cacd2c6185b44281ec28c9dc</td>\n",
       "      <td>140</td>\n",
       "      <td>Sync(uint112,uint112)</td>\n",
       "      <td>0xd69c30a551f13d97a1ace9ad08440198101653495988...</td>\n",
       "      <td>26040113723580</td>\n",
       "      <td>15595444942032880392202</td>\n",
       "    </tr>\n",
       "    <tr>\n",
       "      <th>92</th>\n",
       "      <td>17490847</td>\n",
       "      <td>2023-06-16T07:14:35.000Z</td>\n",
       "      <td>0xb4e16d0168e52d35cacd2c6185b44281ec28c9dc</td>\n",
       "      <td>93</td>\n",
       "      <td>Sync(uint112,uint112)</td>\n",
       "      <td>0xce2d175adb6f6e51d9e14a02c01d01d9aebe6f4a37bb...</td>\n",
       "      <td>26040996563580</td>\n",
       "      <td>15594917812469025770510</td>\n",
       "    </tr>\n",
       "    <tr>\n",
       "      <th>93</th>\n",
       "      <td>17490850</td>\n",
       "      <td>2023-06-16T07:15:11.000Z</td>\n",
       "      <td>0xb4e16d0168e52d35cacd2c6185b44281ec28c9dc</td>\n",
       "      <td>178</td>\n",
       "      <td>Sync(uint112,uint112)</td>\n",
       "      <td>0xa384ca8538cddd966cad681c17c4e678579af4e3322c...</td>\n",
       "      <td>26040501216234</td>\n",
       "      <td>15595215354576089762221</td>\n",
       "    </tr>\n",
       "    <tr>\n",
       "      <th>94</th>\n",
       "      <td>17490856</td>\n",
       "      <td>2023-06-16T07:16:23.000Z</td>\n",
       "      <td>0xb4e16d0168e52d35cacd2c6185b44281ec28c9dc</td>\n",
       "      <td>69</td>\n",
       "      <td>Sync(uint112,uint112)</td>\n",
       "      <td>0xad45e1d1b61c5788c698efb660b20986dcb80102ee9c...</td>\n",
       "      <td>26040598537469</td>\n",
       "      <td>15595157245604580081344</td>\n",
       "    </tr>\n",
       "  </tbody>\n",
       "</table>\n",
       "<p>95 rows × 8 columns</p>\n",
       "</div>"
      ],
      "text/plain": [
       "   block_number           block_timestamp  \\\n",
       "0      17489956  2023-06-16T04:14:35.000Z   \n",
       "1      17489975  2023-06-16T04:18:23.000Z   \n",
       "2      17489992  2023-06-16T04:21:47.000Z   \n",
       "3      17490002  2023-06-16T04:24:11.000Z   \n",
       "4      17490011  2023-06-16T04:25:59.000Z   \n",
       "..          ...                       ...   \n",
       "90     17490836  2023-06-16T07:12:23.000Z   \n",
       "91     17490846  2023-06-16T07:14:23.000Z   \n",
       "92     17490847  2023-06-16T07:14:35.000Z   \n",
       "93     17490850  2023-06-16T07:15:11.000Z   \n",
       "94     17490856  2023-06-16T07:16:23.000Z   \n",
       "\n",
       "                              contract_address log_index  \\\n",
       "0   0xb4e16d0168e52d35cacd2c6185b44281ec28c9dc       103   \n",
       "1   0xb4e16d0168e52d35cacd2c6185b44281ec28c9dc       273   \n",
       "2   0xb4e16d0168e52d35cacd2c6185b44281ec28c9dc        68   \n",
       "3   0xb4e16d0168e52d35cacd2c6185b44281ec28c9dc       269   \n",
       "4   0xb4e16d0168e52d35cacd2c6185b44281ec28c9dc       153   \n",
       "..                                         ...       ...   \n",
       "90  0xb4e16d0168e52d35cacd2c6185b44281ec28c9dc       139   \n",
       "91  0xb4e16d0168e52d35cacd2c6185b44281ec28c9dc       140   \n",
       "92  0xb4e16d0168e52d35cacd2c6185b44281ec28c9dc        93   \n",
       "93  0xb4e16d0168e52d35cacd2c6185b44281ec28c9dc       178   \n",
       "94  0xb4e16d0168e52d35cacd2c6185b44281ec28c9dc        69   \n",
       "\n",
       "                signature                                   transaction_hash  \\\n",
       "0   Sync(uint112,uint112)  0x6e26b6f7facfb38e58845b74c0ba1f77b9b252cb223f...   \n",
       "1   Sync(uint112,uint112)  0x6acaf9f95d91f92606a49b65b8487f725859b9b86af1...   \n",
       "2   Sync(uint112,uint112)  0x22dac0c867f50063e71daddd6d6ba455f37562f6e6f2...   \n",
       "3   Sync(uint112,uint112)  0x3129a3ec2ecb8d622b8ae4ac3eb99302facd087bafc9...   \n",
       "4   Sync(uint112,uint112)  0x9d68eab663b4506b0dce93400746baad59bd71c4cb93...   \n",
       "..                    ...                                                ...   \n",
       "90  Sync(uint112,uint112)  0x319c032410d99c4e12563db290269739add89307cb39...   \n",
       "91  Sync(uint112,uint112)  0xd69c30a551f13d97a1ace9ad08440198101653495988...   \n",
       "92  Sync(uint112,uint112)  0xce2d175adb6f6e51d9e14a02c01d01d9aebe6f4a37bb...   \n",
       "93  Sync(uint112,uint112)  0xa384ca8538cddd966cad681c17c4e678579af4e3322c...   \n",
       "94  Sync(uint112,uint112)  0xad45e1d1b61c5788c698efb660b20986dcb80102ee9c...   \n",
       "\n",
       "      evt_reserve0             evt_reserve1  \n",
       "0   26012435349562  15611891179306502728915  \n",
       "1   26012269231107  15611991179306502728915  \n",
       "2   26025162596696  15604279890893020886007  \n",
       "3   26024920058546  15604425751907917412043  \n",
       "4   26025075851672  15604332619840296754099  \n",
       "..             ...                      ...  \n",
       "90  26037613723580  15596937845604255455968  \n",
       "91  26040113723580  15595444942032880392202  \n",
       "92  26040996563580  15594917812469025770510  \n",
       "93  26040501216234  15595215354576089762221  \n",
       "94  26040598537469  15595157245604580081344  \n",
       "\n",
       "[95 rows x 8 columns]"
      ]
     },
     "metadata": {},
     "output_type": "display_data"
    }
   ],
   "source": [
    "# Let's query the ledger database for the event log for Sync.\n",
    "# Querying this data only takes less than a second.\n",
    "\n",
    "with eth_usdc_pool.ledger.events.Sync as q:\n",
    "    df = q.select(columns=q.columns,\n",
    "                  where=q.BLOCK_NUMBER.ge(context.block_number-1000),\n",
    "                  order_by=q.BLOCK_NUMBER.comma_(q.LOG_INDEX)).to_dataframe()\n",
    "\n",
    "# Note: Because we limit each query to return 5000 results\n",
    "# We may query multiple times to get all the results till we have exhausted all the results.\n",
    "\n",
    "display(df)"
   ]
  },
  {
   "cell_type": "code",
   "execution_count": 16,
   "metadata": {},
   "outputs": [
    {
     "data": {
      "text/html": [
       "<div>\n",
       "<style scoped>\n",
       "    .dataframe tbody tr th:only-of-type {\n",
       "        vertical-align: middle;\n",
       "    }\n",
       "\n",
       "    .dataframe tbody tr th {\n",
       "        vertical-align: top;\n",
       "    }\n",
       "\n",
       "    .dataframe thead th {\n",
       "        text-align: right;\n",
       "    }\n",
       "</style>\n",
       "<table border=\"1\" class=\"dataframe\">\n",
       "  <thead>\n",
       "    <tr style=\"text-align: right;\">\n",
       "      <th></th>\n",
       "      <th>block_number</th>\n",
       "      <th>reserve0</th>\n",
       "      <th>reserve1</th>\n",
       "      <th>price_token1</th>\n",
       "      <th>price_token0</th>\n",
       "    </tr>\n",
       "  </thead>\n",
       "  <tbody>\n",
       "    <tr>\n",
       "      <th>0</th>\n",
       "      <td>17489949</td>\n",
       "      <td>2.601244e+13</td>\n",
       "      <td>15611891179306502728915</td>\n",
       "      <td>1666.193740</td>\n",
       "      <td>0.000600</td>\n",
       "    </tr>\n",
       "    <tr>\n",
       "      <th>1</th>\n",
       "      <td>17489950</td>\n",
       "      <td>2.601244e+13</td>\n",
       "      <td>15611891179306502728915</td>\n",
       "      <td>1666.193740</td>\n",
       "      <td>0.000600</td>\n",
       "    </tr>\n",
       "    <tr>\n",
       "      <th>2</th>\n",
       "      <td>17489951</td>\n",
       "      <td>2.601244e+13</td>\n",
       "      <td>15611891179306502728915</td>\n",
       "      <td>1666.193740</td>\n",
       "      <td>0.000600</td>\n",
       "    </tr>\n",
       "    <tr>\n",
       "      <th>3</th>\n",
       "      <td>17489952</td>\n",
       "      <td>2.601244e+13</td>\n",
       "      <td>15611891179306502728915</td>\n",
       "      <td>1666.193740</td>\n",
       "      <td>0.000600</td>\n",
       "    </tr>\n",
       "    <tr>\n",
       "      <th>4</th>\n",
       "      <td>17489953</td>\n",
       "      <td>2.601244e+13</td>\n",
       "      <td>15611891179306502728915</td>\n",
       "      <td>1666.193740</td>\n",
       "      <td>0.000600</td>\n",
       "    </tr>\n",
       "    <tr>\n",
       "      <th>...</th>\n",
       "      <td>...</td>\n",
       "      <td>...</td>\n",
       "      <td>...</td>\n",
       "      <td>...</td>\n",
       "      <td>...</td>\n",
       "    </tr>\n",
       "    <tr>\n",
       "      <th>996</th>\n",
       "      <td>17490945</td>\n",
       "      <td>2.604060e+13</td>\n",
       "      <td>15595157245604580081344</td>\n",
       "      <td>1669.787494</td>\n",
       "      <td>0.000599</td>\n",
       "    </tr>\n",
       "    <tr>\n",
       "      <th>997</th>\n",
       "      <td>17490946</td>\n",
       "      <td>2.604060e+13</td>\n",
       "      <td>15595157245604580081344</td>\n",
       "      <td>1669.787494</td>\n",
       "      <td>0.000599</td>\n",
       "    </tr>\n",
       "    <tr>\n",
       "      <th>998</th>\n",
       "      <td>17490947</td>\n",
       "      <td>2.604060e+13</td>\n",
       "      <td>15595157245604580081344</td>\n",
       "      <td>1669.787494</td>\n",
       "      <td>0.000599</td>\n",
       "    </tr>\n",
       "    <tr>\n",
       "      <th>999</th>\n",
       "      <td>17490948</td>\n",
       "      <td>2.604060e+13</td>\n",
       "      <td>15595157245604580081344</td>\n",
       "      <td>1669.787494</td>\n",
       "      <td>0.000599</td>\n",
       "    </tr>\n",
       "    <tr>\n",
       "      <th>1000</th>\n",
       "      <td>17490949</td>\n",
       "      <td>2.604060e+13</td>\n",
       "      <td>15595157245604580081344</td>\n",
       "      <td>1669.787494</td>\n",
       "      <td>0.000599</td>\n",
       "    </tr>\n",
       "  </tbody>\n",
       "</table>\n",
       "<p>1001 rows × 5 columns</p>\n",
       "</div>"
      ],
      "text/plain": [
       "      block_number      reserve0                 reserve1  price_token1  \\\n",
       "0         17489949  2.601244e+13  15611891179306502728915   1666.193740   \n",
       "1         17489950  2.601244e+13  15611891179306502728915   1666.193740   \n",
       "2         17489951  2.601244e+13  15611891179306502728915   1666.193740   \n",
       "3         17489952  2.601244e+13  15611891179306502728915   1666.193740   \n",
       "4         17489953  2.601244e+13  15611891179306502728915   1666.193740   \n",
       "...            ...           ...                      ...           ...   \n",
       "996       17490945  2.604060e+13  15595157245604580081344   1669.787494   \n",
       "997       17490946  2.604060e+13  15595157245604580081344   1669.787494   \n",
       "998       17490947  2.604060e+13  15595157245604580081344   1669.787494   \n",
       "999       17490948  2.604060e+13  15595157245604580081344   1669.787494   \n",
       "1000      17490949  2.604060e+13  15595157245604580081344   1669.787494   \n",
       "\n",
       "      price_token0  \n",
       "0         0.000600  \n",
       "1         0.000600  \n",
       "2         0.000600  \n",
       "3         0.000600  \n",
       "4         0.000600  \n",
       "...            ...  \n",
       "996       0.000599  \n",
       "997       0.000599  \n",
       "998       0.000599  \n",
       "999       0.000599  \n",
       "1000      0.000599  \n",
       "\n",
       "[1001 rows x 5 columns]"
      ]
     },
     "metadata": {},
     "output_type": "display_data"
    },
    {
     "data": {
      "text/plain": [
       "<Axes: xlabel='block_number'>"
      ]
     },
     "execution_count": 16,
     "metadata": {},
     "output_type": "execute_result"
    },
    {
     "data": {
      "image/png": "[encoded data removed]",
      "text/plain": [
       "<Figure size 640x480 with 1 Axes>"
      ]
     },
     "metadata": {},
     "output_type": "display_data"
    }
   ],
   "source": [
    "import pandas as pd\n",
    "\n",
    "df_clean = (df\n",
    "            .drop_duplicates(subset=['block_number'], keep='last')\n",
    "            .loc[:, ['block_number', 'evt_reserve0', 'evt_reserve1']]\n",
    "            .rename(columns={'evt_reserve0': 'reserve0', 'evt_reserve1': 'reserve1'})\n",
    "            .assign(block_number=lambda x: x.block_number.astype(int),\n",
    "                    reserve0=lambda x: x.reserve0.apply(int),\n",
    "                    reserve1=lambda x: x.reserve1.apply(int),))\n",
    "\n",
    "df_clean['price_token1'] = token0.scaled(df_clean['reserve0']) / token1.scaled(df_clean['reserve1'])\n",
    "df_clean['price_token0'] = 1 / df_clean['price_token1']\n",
    "\n",
    "df_clean = (df_clean\n",
    "            .merge(pd.DataFrame({'block_number': range(context.block_number-1000, context.block_number+1)}), how='right')\n",
    "            .sort_values('block_number')\n",
    "            .fillna(method='ffill')\n",
    "            .fillna(method='bfill'))\n",
    "\n",
    "display(df_clean)\n",
    "\n",
    "df_clean.plot('block_number', 'price_token1')"
   ]
  },
  {
   "attachments": {},
   "cell_type": "markdown",
   "metadata": {},
   "source": [
    "## Summary\n",
    "\n",
    "What we have go through in CMF\n",
    "\n",
    "- Initialize context in cmf\n",
    "- Token: create it from address: query attributes, name, symbol, decimals, etc.\n",
    "- Contract: create it from address, make web3 call.\n",
    "- Write a model with web3 call\n",
    "- Query ledger DB to get decoded event log\n",
    "- Post-process the data in DataFrame\n"
   ]
  },
  {
   "attachments": {},
   "cell_type": "markdown",
   "metadata": {},
   "source": []
  }
 ],
 "metadata": {
  "kernelspec": {
   "display_name": "cmk39",
   "language": "python",
   "name": "python3"
  },
  "language_info": {
   "codemirror_mode": {
    "name": "ipython",
    "version": 3
   },
   "file_extension": ".py",
   "mimetype": "text/x-python",
   "name": "python",
   "nbconvert_exporter": "python",
   "pygments_lexer": "ipython3",
   "version": "3.9.16"
  },
  "orig_nbformat": 4
 },
 "nbformat": 4,
 "nbformat_minor": 2
}
