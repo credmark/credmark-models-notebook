{
 "cells": [
  {
   "attachments": {},
   "cell_type": "markdown",
   "metadata": {},
   "source": [
    "# Credmark Workshop for MetricsDAO\n",
    "\n",
    "- 2023.6.20\n",
    "- Join Credmark Discord: https://credmark.com/contact-us\n",
    "\n",
    "1. Token (symbol, name, )\n",
    "2. Contract (Uniswap V2)\n",
    "3. Get the reserve, get the price\n",
    "4. Get the reserve for the past\n",
    "5. Get the reserve for a range of time.\n"
   ]
  },
  {
   "attachments": {},
   "cell_type": "markdown",
   "metadata": {
    "vscode": {
     "languageId": "plaintext"
    }
   },
   "source": [
    "## Initialize\n"
   ]
  },
  {
   "cell_type": "code",
   "execution_count": 1,
   "metadata": {},
   "outputs": [
    {
     "name": "stdout",
     "output_type": "stream",
     "text": [
      "Credmark context created with \n",
      "- chain_id=1\n",
      "- block_number=None\n",
      "- chain_provider_url=https://no...om/1\n",
      "- model_loader_path=['/home/vscode/.local/lib/python3.9/site-packages/models']\n",
      "- api_url=https://gateway.credmark.com\n",
      "- use_local_models=None\n",
      "\n"
     ]
    }
   ],
   "source": [
    "from credmark.cmf.ipython import create_cmf\n",
    "from credmark.cmf.types import Token, Contract, Address, BlockNumber\n",
    "\n",
    "context, model_loader = create_cmf(show=True)"
   ]
  },
  {
   "cell_type": "code",
   "execution_count": 2,
   "metadata": {},
   "outputs": [
    {
     "name": "stdout",
     "output_type": "stream",
     "text": [
      "(1, 17490350, '2023-06-16T05:34:35+00:00')\n"
     ]
    }
   ],
   "source": [
    "# print the chain ID, block number and block timestamp\n",
    "print((context.chain_id,\n",
    "       context.block_number,\n",
    "       context.block_number.timestamp_datetime.isoformat()))"
   ]
  },
  {
   "attachments": {},
   "cell_type": "markdown",
   "metadata": {},
   "source": [
    "## 1. Token\n"
   ]
  },
  {
   "cell_type": "code",
   "execution_count": 3,
   "metadata": {},
   "outputs": [
    {
     "name": "stdout",
     "output_type": "stream",
     "text": [
      "('WBTC', 15662767544250, 8)\n"
     ]
    }
   ],
   "source": [
    "# WBTC token\n",
    "wbtc = Token('0x2260fac5e5542a773aa44fbcfedf7c193bc2c599')\n",
    "print((wbtc.symbol, wbtc.total_supply, wbtc.decimals))\n",
    "\n",
    "# These values shall match closely with what's shown in\n",
    "# https://etherscan.io/address/0x2260fac5e5542a773aa44fbcfedf7c193bc2c599#readContract\n",
    "# We have shown as live, while EtherScan update some time ago."
   ]
  },
  {
   "cell_type": "code",
   "execution_count": 4,
   "metadata": {},
   "outputs": [
    {
     "data": {
      "text/plain": [
       "['Block',\n",
       " 'Contract',\n",
       " 'Log',\n",
       " 'Receipt',\n",
       " 'Token',\n",
       " 'TokenBalance',\n",
       " 'TokenTransfer',\n",
       " 'Trace',\n",
       " 'Transaction']"
      ]
     },
     "metadata": {},
     "output_type": "display_data"
    },
    {
     "data": {
      "text/plain": [
       "['block_hash',\n",
       " 'block_number',\n",
       " 'block_timestamp',\n",
       " 'from_address',\n",
       " 'log_index',\n",
       " 'token_address',\n",
       " 'to_address',\n",
       " 'transaction_hash',\n",
       " 'value']"
      ]
     },
     "metadata": {},
     "output_type": "display_data"
    }
   ],
   "source": [
    "# Query the TokenTransfer table for WBTC\n",
    "\n",
    "# We have these tables available\n",
    "display(context.ledger.tables())\n",
    "\n",
    "# columns in TokenTransfer table\n",
    "display(context.ledger.TokenTransfer.columns)"
   ]
  },
  {
   "cell_type": "code",
   "execution_count": 5,
   "metadata": {},
   "outputs": [
    {
     "data": {
      "text/html": [
       "<div>\n",
       "<style scoped>\n",
       "    .dataframe tbody tr th:only-of-type {\n",
       "        vertical-align: middle;\n",
       "    }\n",
       "\n",
       "    .dataframe tbody tr th {\n",
       "        vertical-align: top;\n",
       "    }\n",
       "\n",
       "    .dataframe thead th {\n",
       "        text-align: right;\n",
       "    }\n",
       "</style>\n",
       "<table border=\"1\" class=\"dataframe\">\n",
       "  <thead>\n",
       "    <tr style=\"text-align: right;\">\n",
       "      <th></th>\n",
       "      <th>block_hash</th>\n",
       "      <th>block_number</th>\n",
       "      <th>block_timestamp</th>\n",
       "      <th>from_address</th>\n",
       "      <th>log_index</th>\n",
       "      <th>token_address</th>\n",
       "      <th>to_address</th>\n",
       "      <th>transaction_hash</th>\n",
       "      <th>value</th>\n",
       "    </tr>\n",
       "  </thead>\n",
       "  <tbody>\n",
       "    <tr>\n",
       "      <th>0</th>\n",
       "      <td>0xf9ad572982940870a630ac93a16280732033551ed682...</td>\n",
       "      <td>17490344</td>\n",
       "      <td>2023-06-16T05:33:23.000Z</td>\n",
       "      <td>0x9774a31b94f97963f776643b2f6690f9617de279</td>\n",
       "      <td>354</td>\n",
       "      <td>0x2260fac5e5542a773aa44fbcfedf7c193bc2c599</td>\n",
       "      <td>0xcbcdf9626bc03e24f779434178a73a0b4bad62ed</td>\n",
       "      <td>0x8d5dcb660a4701ded8a5981e6b97eff2437186b45800...</td>\n",
       "      <td>280512830</td>\n",
       "    </tr>\n",
       "  </tbody>\n",
       "</table>\n",
       "</div>"
      ],
      "text/plain": [
       "                                          block_hash block_number  \\\n",
       "0  0xf9ad572982940870a630ac93a16280732033551ed682...     17490344   \n",
       "\n",
       "            block_timestamp                                from_address  \\\n",
       "0  2023-06-16T05:33:23.000Z  0x9774a31b94f97963f776643b2f6690f9617de279   \n",
       "\n",
       "  log_index                               token_address  \\\n",
       "0       354  0x2260fac5e5542a773aa44fbcfedf7c193bc2c599   \n",
       "\n",
       "                                   to_address  \\\n",
       "0  0xcbcdf9626bc03e24f779434178a73a0b4bad62ed   \n",
       "\n",
       "                                    transaction_hash      value  \n",
       "0  0x8d5dcb660a4701ded8a5981e6b97eff2437186b45800...  280512830  "
      ]
     },
     "metadata": {},
     "output_type": "display_data"
    }
   ],
   "source": [
    "# Fetch the recent WBTC transfers\n",
    "\n",
    "with context.ledger.TokenTransfer as q:\n",
    "    df = q.select(columns=q.columns,\n",
    "                  where=q.TOKEN_ADDRESS.eq(wbtc.address).and_(q.BLOCK_NUMBER.between_(context.block_number - 1000, context.block_number)),\n",
    "                  order_by=q.BLOCK_NUMBER.desc(),\n",
    "                  limit=1).to_dataframe()\n",
    "\n",
    "display(df)"
   ]
  },
  {
   "attachments": {},
   "cell_type": "markdown",
   "metadata": {},
   "source": [
    "## 2. Contract\n",
    "\n",
    "- We choose an exchange pool from Uniswap V2\n",
    "- https://v2.info.uniswap.org/home\n",
    "- V2 pool is simple because the ratio between two tokens' reserves is the price.\n",
    "\n",
    "For example:\n",
    "\n",
    "- The USDC-ETH pool is composed of two tokens: USDC and ETH.\n",
    "- The pool's reserves are the total amount of USDC and ETH in the pool.\n",
    "- ETH's price in USDC is USDC's reserve divided by ETH's reserve.\n"
   ]
  },
  {
   "cell_type": "code",
   "execution_count": 6,
   "metadata": {},
   "outputs": [
    {
     "data": {
      "text/plain": [
       "['DOMAIN_SEPARATOR',\n",
       " 'MINIMUM_LIQUIDITY',\n",
       " 'PERMIT_TYPEHASH',\n",
       " 'allowance',\n",
       " 'approve',\n",
       " 'balanceOf',\n",
       " 'burn',\n",
       " 'decimals',\n",
       " 'factory',\n",
       " 'getReserves',\n",
       " 'initialize',\n",
       " 'kLast',\n",
       " 'mint',\n",
       " 'name',\n",
       " 'nonces',\n",
       " 'permit',\n",
       " 'price0CumulativeLast',\n",
       " 'price1CumulativeLast',\n",
       " 'skim',\n",
       " 'swap',\n",
       " 'symbol',\n",
       " 'sync',\n",
       " 'token0',\n",
       " 'token1',\n",
       " 'totalSupply',\n",
       " 'transfer',\n",
       " 'transferFrom']"
      ]
     },
     "metadata": {},
     "output_type": "display_data"
    }
   ],
   "source": [
    "eth_usdc_pool = Contract('0xB4e16d0168e52d35CaCD2c6185b44281Ec28C9Dc')\n",
    "\n",
    "# Explore the pool contract\n",
    "display(dir(eth_usdc_pool.abi.functions))"
   ]
  },
  {
   "cell_type": "code",
   "execution_count": 7,
   "metadata": {},
   "outputs": [
    {
     "name": "stdout",
     "output_type": "stream",
     "text": [
      "Function Name: token0\n",
      "Args: []\n",
      "Types: []\n",
      "Output: ['address']\n",
      "---\n",
      "Function Name: token1\n",
      "Args: []\n",
      "Types: []\n",
      "Output: ['address']\n",
      "---\n",
      "Function Name: getReserves\n",
      "Args: []\n",
      "Types: []\n",
      "Output: ['uint112', 'uint112', 'uint32']\n"
     ]
    }
   ],
   "source": [
    "# The detail of token0/token1/getReserves function\n",
    "print(eth_usdc_pool.abi.functions.token0)\n",
    "print('---')\n",
    "print(eth_usdc_pool.abi.functions.token1)\n",
    "print('---')\n",
    "print(eth_usdc_pool.abi.functions.getReserves)"
   ]
  },
  {
   "cell_type": "code",
   "execution_count": 8,
   "metadata": {},
   "outputs": [
    {
     "name": "stdout",
     "output_type": "stream",
     "text": [
      "('0xA0b86991c6218b36c1d19D4a2e9Eb0cE3606eB48', '0xC02aaA39b223FE8D0A0e5C4F27eAD9083C756Cc2')\n",
      "('USDC', 'WETH')\n"
     ]
    }
   ],
   "source": [
    "token0_addr = eth_usdc_pool.functions.token0().call()\n",
    "token1_addr = eth_usdc_pool.functions.token1().call()\n",
    "\n",
    "# The addresses of two tokens\n",
    "print((token0_addr, token1_addr))\n",
    "\n",
    "# Know what these tokens are actually are\n",
    "token0 = Token(token0_addr)\n",
    "token1 = Token(token1_addr)\n",
    "print((token0.symbol, token1.symbol))"
   ]
  },
  {
   "cell_type": "code",
   "execution_count": 9,
   "metadata": {},
   "outputs": [
    {
     "name": "stdout",
     "output_type": "stream",
     "text": [
      "[26019069339196, 15607984977437901596889, 1686893675]\n",
      "1667.0357753936735\n"
     ]
    }
   ],
   "source": [
    "# Get the reserve of two tokens in this pool\n",
    "reserve = eth_usdc_pool.functions.getReserves().call()\n",
    "print((reserve))\n",
    "\n",
    "# split the return tuple to three values\n",
    "_reserve0, _reserve1, _block_timestamp_last = reserve\n",
    "\n",
    "# price of ETH (as token1) = reserve0 / reserve1, scaled by each token's decimals\n",
    "price_eth = token0.scaled(_reserve0) / token1.scaled(_reserve1) # the ratio is USDC per WETH\n",
    "\n",
    "print(price_eth)"
   ]
  },
  {
   "attachments": {},
   "cell_type": "markdown",
   "metadata": {},
   "source": [
    "## 3. Write a model\n"
   ]
  },
  {
   "cell_type": "code",
   "execution_count": 10,
   "metadata": {},
   "outputs": [],
   "source": [
    "from credmark.cmf.model import Model\n",
    "from credmark.cmf.types import Contract, Token\n",
    "\n",
    "@Model.describe(\n",
    "    slug='jit.uniswap-v2-reserve',\n",
    "    version='1.1',\n",
    "    input=Contract,\n",
    "    output=dict)\n",
    "class UniswapV2Reserve(Model):\n",
    "    def run(self, input: Contract):\n",
    "        # get the tokens in this pool\n",
    "        token0_addr = input.functions.token0().call()\n",
    "        token1_addr = input.functions.token1().call()\n",
    "        # create the Token objects\n",
    "        token0 = Token(token0_addr)\n",
    "        token1 = Token(token1_addr)\n",
    "        # get the reserve\n",
    "        _reserve0, _reserve1, _block_timestamp_last = input.functions.getReserves().call()\n",
    "        # calculate the price\n",
    "        price_token1 = token0.scaled(_reserve0) / token1.scaled(_reserve1)\n",
    "        # return the result\n",
    "        return {'price_token1': price_token1,\n",
    "                'price_token0': 1 / price_token1,\n",
    "                'reserve0': _reserve0,\n",
    "                'reserve1': _reserve1}\n",
    "\n",
    "\n",
    "# We can save this as a file in the models/ directory of credmark-models-py, or model_loader_path shown above for create_cmf().\n",
    "# Here we directly load it from the definition, with this way, it can only be used in this notebook.\n",
    "context.add_model(UniswapV2Reserve)"
   ]
  },
  {
   "cell_type": "code",
   "execution_count": 11,
   "metadata": {},
   "outputs": [
    {
     "data": {
      "text/plain": [
       "{'price_token1': 1667.0357753936735,\n",
       " 'price_token0': 0.0005998671502798722,\n",
       " 'reserve0': 26019069339196,\n",
       " 'reserve1': 15607984977437901596889}"
      ]
     },
     "execution_count": 11,
     "metadata": {},
     "output_type": "execute_result"
    }
   ],
   "source": [
    "context.run_model('jit.uniswap-v2-reserve',\n",
    "                  {'address': '0xB4e16d0168e52d35CaCD2c6185b44281Ec28C9Dc'})\n",
    "\n",
    "# model checks for validity of the input\n",
    "# try run above with a shorter address, i.e. 0xB4e16d0168e52d35CaCD2c6185b44\n",
    "# You will get a ModelInputError"
   ]
  },
  {
   "cell_type": "code",
   "execution_count": 12,
   "metadata": {},
   "outputs": [
    {
     "data": {
      "text/plain": [
       "datetime.datetime(2023, 6, 16, 2, 11, 23, tzinfo=datetime.timezone.utc)"
      ]
     },
     "metadata": {},
     "output_type": "display_data"
    },
    {
     "data": {
      "text/plain": [
       "{'price_token1': 1662.289617698822,\n",
       " 'price_token0': 0.0006015798867734868,\n",
       " 'reserve0': 25981788957921,\n",
       " 'reserve1': 15630121659478743059873}"
      ]
     },
     "execution_count": 12,
     "metadata": {},
     "output_type": "execute_result"
    }
   ],
   "source": [
    "# We can run model on earlier block\n",
    "# Model is a re-usable piece of algorithm to run for a chain_id, a block_number\n",
    "\n",
    "earlier_block = context.block_number - 1_000\n",
    "\n",
    "display(earlier_block.timestamp_datetime)\n",
    "\n",
    "context.run_model('jit.uniswap-v2-reserve',\n",
    "                  {'address': '0xB4e16d0168e52d35CaCD2c6185b44281Ec28C9Dc'},\n",
    "                  block_number=earlier_block)"
   ]
  },
  {
   "attachments": {},
   "cell_type": "markdown",
   "metadata": {},
   "source": [
    "## 4. Scale up the model for more blocks\n"
   ]
  },
  {
   "cell_type": "code",
   "execution_count": 13,
   "metadata": {},
   "outputs": [],
   "source": [
    "# Run the model for 1000 blocks will take a while, how could we speed up?\n",
    "\n",
    "for offset in range(10):\n",
    "    context.run_model('jit.uniswap-v2-reserve',\n",
    "                      {'address': '0xB4e16d0168e52d35CaCD2c6185b44281Ec28C9Dc'},\n",
    "                      block_number=context.block_number - offset)"
   ]
  },
  {
   "cell_type": "code",
   "execution_count": 14,
   "metadata": {},
   "outputs": [
    {
     "data": {
      "text/plain": [
       "Event Name: Sync\n",
       "Args: ['reserve0', 'reserve1']\n",
       "Types: ['uint112', 'uint112']"
      ]
     },
     "execution_count": 14,
     "metadata": {},
     "output_type": "execute_result"
    }
   ],
   "source": [
    "# Uniswap V2 pool's reserve changes with Mint/Burn/Swap, it kept a record of these events.\n",
    "# Event Sync occurs together with Mint/Burn to record the reserve, that's we need.\n",
    "\n",
    "eth_usdc_pool.abi.events.Sync"
   ]
  },
  {
   "cell_type": "code",
   "execution_count": 15,
   "metadata": {},
   "outputs": [
    {
     "data": {
      "text/html": [
       "<div>\n",
       "<style scoped>\n",
       "    .dataframe tbody tr th:only-of-type {\n",
       "        vertical-align: middle;\n",
       "    }\n",
       "\n",
       "    .dataframe tbody tr th {\n",
       "        vertical-align: top;\n",
       "    }\n",
       "\n",
       "    .dataframe thead th {\n",
       "        text-align: right;\n",
       "    }\n",
       "</style>\n",
       "<table border=\"1\" class=\"dataframe\">\n",
       "  <thead>\n",
       "    <tr style=\"text-align: right;\">\n",
       "      <th></th>\n",
       "      <th>block_number</th>\n",
       "      <th>block_timestamp</th>\n",
       "      <th>contract_address</th>\n",
       "      <th>log_index</th>\n",
       "      <th>signature</th>\n",
       "      <th>transaction_hash</th>\n",
       "      <th>evt_reserve0</th>\n",
       "      <th>evt_reserve1</th>\n",
       "    </tr>\n",
       "  </thead>\n",
       "  <tbody>\n",
       "    <tr>\n",
       "      <th>0</th>\n",
       "      <td>17489357</td>\n",
       "      <td>2023-06-16T02:12:47.000Z</td>\n",
       "      <td>0xb4e16d0168e52d35cacd2c6185b44281ec28c9dc</td>\n",
       "      <td>29</td>\n",
       "      <td>Sync(uint112,uint112)</td>\n",
       "      <td>0xc6bd76ab52539964c321a4fb7ddba9a2280050c3b926...</td>\n",
       "      <td>25980814539558</td>\n",
       "      <td>15630709635881702118941</td>\n",
       "    </tr>\n",
       "    <tr>\n",
       "      <th>1</th>\n",
       "      <td>17489357</td>\n",
       "      <td>2023-06-16T02:12:47.000Z</td>\n",
       "      <td>0xb4e16d0168e52d35cacd2c6185b44281ec28c9dc</td>\n",
       "      <td>109</td>\n",
       "      <td>Sync(uint112,uint112)</td>\n",
       "      <td>0x657e08a9de38f229e494b3045d85b053f82ab1ade66a...</td>\n",
       "      <td>25980635035136</td>\n",
       "      <td>15630817955950854927284</td>\n",
       "    </tr>\n",
       "    <tr>\n",
       "      <th>2</th>\n",
       "      <td>17489361</td>\n",
       "      <td>2023-06-16T02:13:35.000Z</td>\n",
       "      <td>0xb4e16d0168e52d35cacd2c6185b44281ec28c9dc</td>\n",
       "      <td>294</td>\n",
       "      <td>Sync(uint112,uint112)</td>\n",
       "      <td>0x8d70fea2a4783f4abc28ea1a33c0aebc4f22c0da974c...</td>\n",
       "      <td>25980618608595</td>\n",
       "      <td>15630827868450854927284</td>\n",
       "    </tr>\n",
       "    <tr>\n",
       "      <th>3</th>\n",
       "      <td>17489362</td>\n",
       "      <td>2023-06-16T02:13:47.000Z</td>\n",
       "      <td>0xb4e16d0168e52d35cacd2c6185b44281ec28c9dc</td>\n",
       "      <td>96</td>\n",
       "      <td>Sync(uint112,uint112)</td>\n",
       "      <td>0x8b6868bd5d09254e58febbdb7b1d1d5e427432a31c68...</td>\n",
       "      <td>25983509005880</td>\n",
       "      <td>15629094315852252992723</td>\n",
       "    </tr>\n",
       "    <tr>\n",
       "      <th>4</th>\n",
       "      <td>17489364</td>\n",
       "      <td>2023-06-16T02:14:11.000Z</td>\n",
       "      <td>0xb4e16d0168e52d35cacd2c6185b44281ec28c9dc</td>\n",
       "      <td>135</td>\n",
       "      <td>Sync(uint112,uint112)</td>\n",
       "      <td>0x0b0f8f04003d245abb5b9c0ad578369a3ca12cdda933...</td>\n",
       "      <td>25983562191165</td>\n",
       "      <td>15629062420913407969516</td>\n",
       "    </tr>\n",
       "    <tr>\n",
       "      <th>...</th>\n",
       "      <td>...</td>\n",
       "      <td>...</td>\n",
       "      <td>...</td>\n",
       "      <td>...</td>\n",
       "      <td>...</td>\n",
       "      <td>...</td>\n",
       "      <td>...</td>\n",
       "      <td>...</td>\n",
       "    </tr>\n",
       "    <tr>\n",
       "      <th>106</th>\n",
       "      <td>17490205</td>\n",
       "      <td>2023-06-16T05:04:59.000Z</td>\n",
       "      <td>0xb4e16d0168e52d35cacd2c6185b44281ec28c9dc</td>\n",
       "      <td>366</td>\n",
       "      <td>Sync(uint112,uint112)</td>\n",
       "      <td>0xc0601d763ba3d8965e250d4fa03dbaf93f29f92449fc...</td>\n",
       "      <td>26013513739499</td>\n",
       "      <td>15611302177491916769705</td>\n",
       "    </tr>\n",
       "    <tr>\n",
       "      <th>107</th>\n",
       "      <td>17490214</td>\n",
       "      <td>2023-06-16T05:06:47.000Z</td>\n",
       "      <td>0xb4e16d0168e52d35cacd2c6185b44281ec28c9dc</td>\n",
       "      <td>57</td>\n",
       "      <td>Sync(uint112,uint112)</td>\n",
       "      <td>0x7f3b2f92117a28c86da161a4f2d522c56bfa37483f60...</td>\n",
       "      <td>26013534739499</td>\n",
       "      <td>15611289612731389034399</td>\n",
       "    </tr>\n",
       "    <tr>\n",
       "      <th>108</th>\n",
       "      <td>17490216</td>\n",
       "      <td>2023-06-16T05:07:23.000Z</td>\n",
       "      <td>0xb4e16d0168e52d35cacd2c6185b44281ec28c9dc</td>\n",
       "      <td>52</td>\n",
       "      <td>Sync(uint112,uint112)</td>\n",
       "      <td>0xb56e0ea055e4e9b9e69bf38cbf0c3fe15c08b0849d1d...</td>\n",
       "      <td>26014941687338</td>\n",
       "      <td>15610447851054956587536</td>\n",
       "    </tr>\n",
       "    <tr>\n",
       "      <th>109</th>\n",
       "      <td>17490233</td>\n",
       "      <td>2023-06-16T05:10:59.000Z</td>\n",
       "      <td>0xb4e16d0168e52d35cacd2c6185b44281ec28c9dc</td>\n",
       "      <td>87</td>\n",
       "      <td>Sync(uint112,uint112)</td>\n",
       "      <td>0x9b6b96b4a418bb9af2425c070e80937b52c9b3208983...</td>\n",
       "      <td>26014276537202</td>\n",
       "      <td>15610848190273198373147</td>\n",
       "    </tr>\n",
       "    <tr>\n",
       "      <th>110</th>\n",
       "      <td>17490272</td>\n",
       "      <td>2023-06-16T05:18:59.000Z</td>\n",
       "      <td>0xb4e16d0168e52d35cacd2c6185b44281ec28c9dc</td>\n",
       "      <td>48</td>\n",
       "      <td>Sync(uint112,uint112)</td>\n",
       "      <td>0xc5066ac9a82fff3bdf3b9966df01088c99bce0953d1f...</td>\n",
       "      <td>26015596537202</td>\n",
       "      <td>15610058490765437373332</td>\n",
       "    </tr>\n",
       "  </tbody>\n",
       "</table>\n",
       "<p>111 rows × 8 columns</p>\n",
       "</div>"
      ],
      "text/plain": [
       "    block_number           block_timestamp  \\\n",
       "0       17489357  2023-06-16T02:12:47.000Z   \n",
       "1       17489357  2023-06-16T02:12:47.000Z   \n",
       "2       17489361  2023-06-16T02:13:35.000Z   \n",
       "3       17489362  2023-06-16T02:13:47.000Z   \n",
       "4       17489364  2023-06-16T02:14:11.000Z   \n",
       "..           ...                       ...   \n",
       "106     17490205  2023-06-16T05:04:59.000Z   \n",
       "107     17490214  2023-06-16T05:06:47.000Z   \n",
       "108     17490216  2023-06-16T05:07:23.000Z   \n",
       "109     17490233  2023-06-16T05:10:59.000Z   \n",
       "110     17490272  2023-06-16T05:18:59.000Z   \n",
       "\n",
       "                               contract_address log_index  \\\n",
       "0    0xb4e16d0168e52d35cacd2c6185b44281ec28c9dc        29   \n",
       "1    0xb4e16d0168e52d35cacd2c6185b44281ec28c9dc       109   \n",
       "2    0xb4e16d0168e52d35cacd2c6185b44281ec28c9dc       294   \n",
       "3    0xb4e16d0168e52d35cacd2c6185b44281ec28c9dc        96   \n",
       "4    0xb4e16d0168e52d35cacd2c6185b44281ec28c9dc       135   \n",
       "..                                          ...       ...   \n",
       "106  0xb4e16d0168e52d35cacd2c6185b44281ec28c9dc       366   \n",
       "107  0xb4e16d0168e52d35cacd2c6185b44281ec28c9dc        57   \n",
       "108  0xb4e16d0168e52d35cacd2c6185b44281ec28c9dc        52   \n",
       "109  0xb4e16d0168e52d35cacd2c6185b44281ec28c9dc        87   \n",
       "110  0xb4e16d0168e52d35cacd2c6185b44281ec28c9dc        48   \n",
       "\n",
       "                 signature                                   transaction_hash  \\\n",
       "0    Sync(uint112,uint112)  0xc6bd76ab52539964c321a4fb7ddba9a2280050c3b926...   \n",
       "1    Sync(uint112,uint112)  0x657e08a9de38f229e494b3045d85b053f82ab1ade66a...   \n",
       "2    Sync(uint112,uint112)  0x8d70fea2a4783f4abc28ea1a33c0aebc4f22c0da974c...   \n",
       "3    Sync(uint112,uint112)  0x8b6868bd5d09254e58febbdb7b1d1d5e427432a31c68...   \n",
       "4    Sync(uint112,uint112)  0x0b0f8f04003d245abb5b9c0ad578369a3ca12cdda933...   \n",
       "..                     ...                                                ...   \n",
       "106  Sync(uint112,uint112)  0xc0601d763ba3d8965e250d4fa03dbaf93f29f92449fc...   \n",
       "107  Sync(uint112,uint112)  0x7f3b2f92117a28c86da161a4f2d522c56bfa37483f60...   \n",
       "108  Sync(uint112,uint112)  0xb56e0ea055e4e9b9e69bf38cbf0c3fe15c08b0849d1d...   \n",
       "109  Sync(uint112,uint112)  0x9b6b96b4a418bb9af2425c070e80937b52c9b3208983...   \n",
       "110  Sync(uint112,uint112)  0xc5066ac9a82fff3bdf3b9966df01088c99bce0953d1f...   \n",
       "\n",
       "       evt_reserve0             evt_reserve1  \n",
       "0    25980814539558  15630709635881702118941  \n",
       "1    25980635035136  15630817955950854927284  \n",
       "2    25980618608595  15630827868450854927284  \n",
       "3    25983509005880  15629094315852252992723  \n",
       "4    25983562191165  15629062420913407969516  \n",
       "..              ...                      ...  \n",
       "106  26013513739499  15611302177491916769705  \n",
       "107  26013534739499  15611289612731389034399  \n",
       "108  26014941687338  15610447851054956587536  \n",
       "109  26014276537202  15610848190273198373147  \n",
       "110  26015596537202  15610058490765437373332  \n",
       "\n",
       "[111 rows x 8 columns]"
      ]
     },
     "metadata": {},
     "output_type": "display_data"
    }
   ],
   "source": [
    "# Let's query the ledger database for the event log for Sync.\n",
    "# Querying this data only takes less than a second.\n",
    "\n",
    "with eth_usdc_pool.ledger.events.Sync as q:\n",
    "    df = q.select(columns=q.columns,\n",
    "                  where=q.BLOCK_NUMBER.ge(context.block_number-1000),\n",
    "                  order_by=q.BLOCK_NUMBER.comma_(q.LOG_INDEX)).to_dataframe()\n",
    "\n",
    "# Note: Because we limit each query to return 5000 results\n",
    "# We may query multiple times to get all the results till we have exhausted all the results.\n",
    "\n",
    "display(df)"
   ]
  },
  {
   "cell_type": "code",
   "execution_count": 16,
   "metadata": {},
   "outputs": [
    {
     "data": {
      "text/html": [
       "<div>\n",
       "<style scoped>\n",
       "    .dataframe tbody tr th:only-of-type {\n",
       "        vertical-align: middle;\n",
       "    }\n",
       "\n",
       "    .dataframe tbody tr th {\n",
       "        vertical-align: top;\n",
       "    }\n",
       "\n",
       "    .dataframe thead th {\n",
       "        text-align: right;\n",
       "    }\n",
       "</style>\n",
       "<table border=\"1\" class=\"dataframe\">\n",
       "  <thead>\n",
       "    <tr style=\"text-align: right;\">\n",
       "      <th></th>\n",
       "      <th>block_number</th>\n",
       "      <th>reserve0</th>\n",
       "      <th>reserve1</th>\n",
       "      <th>price_token1</th>\n",
       "      <th>price_token0</th>\n",
       "    </tr>\n",
       "  </thead>\n",
       "  <tbody>\n",
       "    <tr>\n",
       "      <th>0</th>\n",
       "      <td>17489350</td>\n",
       "      <td>2.598064e+13</td>\n",
       "      <td>15630817955950854927284</td>\n",
       "      <td>1662.141745</td>\n",
       "      <td>0.000602</td>\n",
       "    </tr>\n",
       "    <tr>\n",
       "      <th>1</th>\n",
       "      <td>17489351</td>\n",
       "      <td>2.598064e+13</td>\n",
       "      <td>15630817955950854927284</td>\n",
       "      <td>1662.141745</td>\n",
       "      <td>0.000602</td>\n",
       "    </tr>\n",
       "    <tr>\n",
       "      <th>2</th>\n",
       "      <td>17489352</td>\n",
       "      <td>2.598064e+13</td>\n",
       "      <td>15630817955950854927284</td>\n",
       "      <td>1662.141745</td>\n",
       "      <td>0.000602</td>\n",
       "    </tr>\n",
       "    <tr>\n",
       "      <th>3</th>\n",
       "      <td>17489353</td>\n",
       "      <td>2.598064e+13</td>\n",
       "      <td>15630817955950854927284</td>\n",
       "      <td>1662.141745</td>\n",
       "      <td>0.000602</td>\n",
       "    </tr>\n",
       "    <tr>\n",
       "      <th>4</th>\n",
       "      <td>17489354</td>\n",
       "      <td>2.598064e+13</td>\n",
       "      <td>15630817955950854927284</td>\n",
       "      <td>1662.141745</td>\n",
       "      <td>0.000602</td>\n",
       "    </tr>\n",
       "    <tr>\n",
       "      <th>...</th>\n",
       "      <td>...</td>\n",
       "      <td>...</td>\n",
       "      <td>...</td>\n",
       "      <td>...</td>\n",
       "      <td>...</td>\n",
       "    </tr>\n",
       "    <tr>\n",
       "      <th>996</th>\n",
       "      <td>17490346</td>\n",
       "      <td>2.601560e+13</td>\n",
       "      <td>15610058490765437373332</td>\n",
       "      <td>1666.591868</td>\n",
       "      <td>0.000600</td>\n",
       "    </tr>\n",
       "    <tr>\n",
       "      <th>997</th>\n",
       "      <td>17490347</td>\n",
       "      <td>2.601560e+13</td>\n",
       "      <td>15610058490765437373332</td>\n",
       "      <td>1666.591868</td>\n",
       "      <td>0.000600</td>\n",
       "    </tr>\n",
       "    <tr>\n",
       "      <th>998</th>\n",
       "      <td>17490348</td>\n",
       "      <td>2.601560e+13</td>\n",
       "      <td>15610058490765437373332</td>\n",
       "      <td>1666.591868</td>\n",
       "      <td>0.000600</td>\n",
       "    </tr>\n",
       "    <tr>\n",
       "      <th>999</th>\n",
       "      <td>17490349</td>\n",
       "      <td>2.601560e+13</td>\n",
       "      <td>15610058490765437373332</td>\n",
       "      <td>1666.591868</td>\n",
       "      <td>0.000600</td>\n",
       "    </tr>\n",
       "    <tr>\n",
       "      <th>1000</th>\n",
       "      <td>17490350</td>\n",
       "      <td>2.601560e+13</td>\n",
       "      <td>15610058490765437373332</td>\n",
       "      <td>1666.591868</td>\n",
       "      <td>0.000600</td>\n",
       "    </tr>\n",
       "  </tbody>\n",
       "</table>\n",
       "<p>1001 rows × 5 columns</p>\n",
       "</div>"
      ],
      "text/plain": [
       "      block_number      reserve0                 reserve1  price_token1  \\\n",
       "0         17489350  2.598064e+13  15630817955950854927284   1662.141745   \n",
       "1         17489351  2.598064e+13  15630817955950854927284   1662.141745   \n",
       "2         17489352  2.598064e+13  15630817955950854927284   1662.141745   \n",
       "3         17489353  2.598064e+13  15630817955950854927284   1662.141745   \n",
       "4         17489354  2.598064e+13  15630817955950854927284   1662.141745   \n",
       "...            ...           ...                      ...           ...   \n",
       "996       17490346  2.601560e+13  15610058490765437373332   1666.591868   \n",
       "997       17490347  2.601560e+13  15610058490765437373332   1666.591868   \n",
       "998       17490348  2.601560e+13  15610058490765437373332   1666.591868   \n",
       "999       17490349  2.601560e+13  15610058490765437373332   1666.591868   \n",
       "1000      17490350  2.601560e+13  15610058490765437373332   1666.591868   \n",
       "\n",
       "      price_token0  \n",
       "0         0.000602  \n",
       "1         0.000602  \n",
       "2         0.000602  \n",
       "3         0.000602  \n",
       "4         0.000602  \n",
       "...            ...  \n",
       "996       0.000600  \n",
       "997       0.000600  \n",
       "998       0.000600  \n",
       "999       0.000600  \n",
       "1000      0.000600  \n",
       "\n",
       "[1001 rows x 5 columns]"
      ]
     },
     "metadata": {},
     "output_type": "display_data"
    },
    {
     "data": {
      "text/plain": [
       "<Axes: xlabel='block_number'>"
      ]
     },
     "execution_count": 16,
     "metadata": {},
     "output_type": "execute_result"
    },
    {
     "data": {
      "image/png": "[encoded data removed]",
      "text/plain": [
       "<Figure size 640x480 with 1 Axes>"
      ]
     },
     "metadata": {},
     "output_type": "display_data"
    }
   ],
   "source": [
    "import pandas as pd\n",
    "\n",
    "df_clean = (df\n",
    "            .drop_duplicates(subset=['block_number'], keep='last')\n",
    "            .loc[:, ['block_number', 'evt_reserve0', 'evt_reserve1']]\n",
    "            .rename(columns={'evt_reserve0': 'reserve0', 'evt_reserve1': 'reserve1'})\n",
    "            .assign(block_number=lambda x: x.block_number.astype(int),\n",
    "                    reserve0=lambda x: x.reserve0.apply(int),\n",
    "                    reserve1=lambda x: x.reserve1.apply(int),))\n",
    "\n",
    "df_clean['price_token1'] = token0.scaled(df_clean['reserve0']) / token1.scaled(df_clean['reserve1'])\n",
    "df_clean['price_token0'] = 1 / df_clean['price_token1']\n",
    "\n",
    "df_clean = (df_clean\n",
    "            .merge(pd.DataFrame({'block_number': range(context.block_number-1000, context.block_number+1)}), how='right')\n",
    "            .sort_values('block_number')\n",
    "            .fillna(method='ffill')\n",
    "            .fillna(method='bfill'))\n",
    "\n",
    "display(df_clean)\n",
    "\n",
    "df_clean.plot('block_number', 'price_token1')"
   ]
  },
  {
   "attachments": {},
   "cell_type": "markdown",
   "metadata": {},
   "source": [
    "## Summary\n",
    "\n",
    "What we have go through in CMF\n",
    "\n",
    "- Initialize context in cmf\n",
    "- Token: create it from address: query attributes, name, symbol, decimals, etc.\n",
    "- Contract: create it from address, make web3 call.\n",
    "- Write a model with web3 call\n",
    "- Query ledger DB to get decoded event log\n",
    "- Post-process the data in DataFrame\n"
   ]
  },
  {
   "attachments": {},
   "cell_type": "markdown",
   "metadata": {},
   "source": []
  }
 ],
 "metadata": {
  "kernelspec": {
   "display_name": "cmk39",
   "language": "python",
   "name": "python3"
  },
  "language_info": {
   "codemirror_mode": {
    "name": "ipython",
    "version": 3
   },
   "file_extension": ".py",
   "mimetype": "text/x-python",
   "name": "python",
   "nbconvert_exporter": "python",
   "pygments_lexer": "ipython3",
   "version": "3.9.17"
  },
  "orig_nbformat": 4
 },
 "nbformat": 4,
 "nbformat_minor": 2
}
