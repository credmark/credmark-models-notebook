{
 "cells": [
  {
   "attachments": {},
   "cell_type": "markdown",
   "metadata": {},
   "source": [
    "# Credmark Workshop for MetricsDAO\n",
    "\n",
    "- 2023.6.20\n",
    "- Join Credmark Discord: https://credmark.com/contact-us\n",
    "\n",
    "1. Token (symbol, name, )\n",
    "2. Contract (Uniswap V2)\n",
    "3. Get the reserve, get the price\n",
    "4. Get the reserve for the past\n",
    "5. Get the reserve for a range of time.\n"
   ]
  },
  {
   "attachments": {},
   "cell_type": "markdown",
   "metadata": {
    "vscode": {
     "languageId": "plaintext"
    }
   },
   "source": [
    "## Initialize\n"
   ]
  },
  {
   "cell_type": "code",
   "execution_count": 17,
   "metadata": {},
   "outputs": [
    {
     "name": "stdout",
     "output_type": "stream",
     "text": [
      "Credmark context created with \n",
      "- chain_id=1\n",
      "- block_number=None (17635706)\n",
      "- chain_to_provider_url=http://192...8545\n",
      "- model_loader_path=['/home/yangye/dev/credmark/credmark-models-py/models']\n",
      "- api_url=https://gateway.credmark.com\n",
      "- use_local_models=None\n",
      "\n"
     ]
    }
   ],
   "source": [
    "from credmark.cmf.ipython import create_cmf\n",
    "from credmark.cmf.types import Token, Contract, Address, BlockNumber\n",
    "\n",
    "context, model_loader = create_cmf(show=True)"
   ]
  },
  {
   "cell_type": "code",
   "execution_count": 18,
   "metadata": {},
   "outputs": [
    {
     "name": "stdout",
     "output_type": "stream",
     "text": [
      "(1, 17635706, '2023-07-06T15:31:11+00:00')\n"
     ]
    }
   ],
   "source": [
    "# print the chain ID, block number and block timestamp\n",
    "print((context.chain_id,\n",
    "       context.block_number,\n",
    "       context.block_number.timestamp_datetime.isoformat()))"
   ]
  },
  {
   "attachments": {},
   "cell_type": "markdown",
   "metadata": {},
   "source": [
    "## 1. Token\n"
   ]
  },
  {
   "cell_type": "code",
   "execution_count": 19,
   "metadata": {},
   "outputs": [
    {
     "name": "stdout",
     "output_type": "stream",
     "text": [
      "('WBTC', 15692639859095, 8)\n"
     ]
    }
   ],
   "source": [
    "# WBTC token\n",
    "wbtc = Token('0x2260fac5e5542a773aa44fbcfedf7c193bc2c599')\n",
    "print((wbtc.symbol, wbtc.total_supply, wbtc.decimals))\n",
    "\n",
    "# These values shall match closely with what's shown in\n",
    "# https://etherscan.io/address/0x2260fac5e5542a773aa44fbcfedf7c193bc2c599#readContract\n",
    "# We have shown as live, while EtherScan update some time ago."
   ]
  },
  {
   "cell_type": "code",
   "execution_count": 20,
   "metadata": {},
   "outputs": [
    {
     "data": {
      "text/plain": [
       "['Block',\n",
       " 'Contract',\n",
       " 'Log',\n",
       " 'Receipt',\n",
       " 'Token',\n",
       " 'TokenBalance',\n",
       " 'TokenTransfer',\n",
       " 'Trace',\n",
       " 'Transaction']"
      ]
     },
     "metadata": {},
     "output_type": "display_data"
    },
    {
     "data": {
      "text/plain": [
       "['block_hash',\n",
       " 'block_number',\n",
       " 'block_timestamp',\n",
       " 'from_address',\n",
       " 'log_index',\n",
       " 'token_address',\n",
       " 'to_address',\n",
       " 'transaction_hash',\n",
       " 'value']"
      ]
     },
     "metadata": {},
     "output_type": "display_data"
    }
   ],
   "source": [
    "# Query the TokenTransfer table for WBTC\n",
    "\n",
    "# We have these tables available\n",
    "display(context.ledger.tables())\n",
    "\n",
    "# columns in TokenTransfer table\n",
    "display(context.ledger.TokenTransfer.columns)"
   ]
  },
  {
   "cell_type": "code",
   "execution_count": 21,
   "metadata": {},
   "outputs": [
    {
     "data": {
      "text/html": [
       "<div>\n",
       "<style scoped>\n",
       "    .dataframe tbody tr th:only-of-type {\n",
       "        vertical-align: middle;\n",
       "    }\n",
       "\n",
       "    .dataframe tbody tr th {\n",
       "        vertical-align: top;\n",
       "    }\n",
       "\n",
       "    .dataframe thead th {\n",
       "        text-align: right;\n",
       "    }\n",
       "</style>\n",
       "<table border=\"1\" class=\"dataframe\">\n",
       "  <thead>\n",
       "    <tr style=\"text-align: right;\">\n",
       "      <th></th>\n",
       "      <th>block_hash</th>\n",
       "      <th>block_number</th>\n",
       "      <th>block_timestamp</th>\n",
       "      <th>from_address</th>\n",
       "      <th>log_index</th>\n",
       "      <th>token_address</th>\n",
       "      <th>to_address</th>\n",
       "      <th>transaction_hash</th>\n",
       "      <th>value</th>\n",
       "    </tr>\n",
       "  </thead>\n",
       "  <tbody>\n",
       "    <tr>\n",
       "      <th>0</th>\n",
       "      <td>0xec30d4cbcc87ba382d771c1a2ffb598dadec8357d836...</td>\n",
       "      <td>17635702</td>\n",
       "      <td>2023-07-06T15:30:23.000Z</td>\n",
       "      <td>0x998a389fede83d160b00d6f86e9293162c2a9c0c</td>\n",
       "      <td>88</td>\n",
       "      <td>0x2260fac5e5542a773aa44fbcfedf7c193bc2c599</td>\n",
       "      <td>0x4f4495243837681061c4743b74b3eedf548d56a5</td>\n",
       "      <td>0x0c2433e403f50d268eac49dc67e0ec5e325701cb9add...</td>\n",
       "      <td>4830000</td>\n",
       "    </tr>\n",
       "  </tbody>\n",
       "</table>\n",
       "</div>"
      ],
      "text/plain": [
       "                                          block_hash block_number  \\\n",
       "0  0xec30d4cbcc87ba382d771c1a2ffb598dadec8357d836...     17635702   \n",
       "\n",
       "            block_timestamp                                from_address  \\\n",
       "0  2023-07-06T15:30:23.000Z  0x998a389fede83d160b00d6f86e9293162c2a9c0c   \n",
       "\n",
       "  log_index                               token_address  \\\n",
       "0        88  0x2260fac5e5542a773aa44fbcfedf7c193bc2c599   \n",
       "\n",
       "                                   to_address  \\\n",
       "0  0x4f4495243837681061c4743b74b3eedf548d56a5   \n",
       "\n",
       "                                    transaction_hash    value  \n",
       "0  0x0c2433e403f50d268eac49dc67e0ec5e325701cb9add...  4830000  "
      ]
     },
     "metadata": {},
     "output_type": "display_data"
    }
   ],
   "source": [
    "# Fetch the recent WBTC transfers\n",
    "\n",
    "with context.ledger.TokenTransfer as q:\n",
    "    df = q.select(columns=q.columns,\n",
    "                  where=q.TOKEN_ADDRESS.eq(wbtc.address).and_(q.BLOCK_NUMBER.between_(\n",
    "                      context.block_number - 1000, context.block_number)),\n",
    "                  order_by=q.BLOCK_NUMBER.desc(),\n",
    "                  limit=1).to_dataframe()\n",
    "\n",
    "display(df)"
   ]
  },
  {
   "attachments": {},
   "cell_type": "markdown",
   "metadata": {},
   "source": [
    "## 2. Contract\n",
    "\n",
    "- We choose an exchange pool from Uniswap V2\n",
    "- https://v2.info.uniswap.org/home\n",
    "- V2 pool is simple because the ratio between two tokens' reserves is the price.\n",
    "\n",
    "For example:\n",
    "\n",
    "- The USDC-ETH pool is composed of two tokens: USDC and ETH.\n",
    "- The pool's reserves are the total amount of USDC and ETH in the pool.\n",
    "- ETH's price in USDC is USDC's reserve divided by ETH's reserve.\n"
   ]
  },
  {
   "cell_type": "code",
   "execution_count": 22,
   "metadata": {},
   "outputs": [
    {
     "data": {
      "text/plain": [
       "['DOMAIN_SEPARATOR',\n",
       " 'MINIMUM_LIQUIDITY',\n",
       " 'PERMIT_TYPEHASH',\n",
       " 'allowance',\n",
       " 'approve',\n",
       " 'balanceOf',\n",
       " 'burn',\n",
       " 'decimals',\n",
       " 'factory',\n",
       " 'getReserves',\n",
       " 'initialize',\n",
       " 'kLast',\n",
       " 'mint',\n",
       " 'name',\n",
       " 'nonces',\n",
       " 'permit',\n",
       " 'price0CumulativeLast',\n",
       " 'price1CumulativeLast',\n",
       " 'skim',\n",
       " 'swap',\n",
       " 'symbol',\n",
       " 'sync',\n",
       " 'token0',\n",
       " 'token1',\n",
       " 'totalSupply',\n",
       " 'transfer',\n",
       " 'transferFrom']"
      ]
     },
     "metadata": {},
     "output_type": "display_data"
    }
   ],
   "source": [
    "eth_usdc_pool = Contract('0xB4e16d0168e52d35CaCD2c6185b44281Ec28C9Dc')\n",
    "\n",
    "# Explore the pool contract\n",
    "display(dir(eth_usdc_pool.abi.functions))"
   ]
  },
  {
   "cell_type": "code",
   "execution_count": 23,
   "metadata": {},
   "outputs": [
    {
     "name": "stdout",
     "output_type": "stream",
     "text": [
      "Function Name: token0\n",
      "Args: []\n",
      "Types: []\n",
      "Output: ['address']\n",
      "---\n",
      "Function Name: token1\n",
      "Args: []\n",
      "Types: []\n",
      "Output: ['address']\n",
      "---\n",
      "Function Name: getReserves\n",
      "Args: []\n",
      "Types: []\n",
      "Output: ['uint112', 'uint112', 'uint32']\n"
     ]
    }
   ],
   "source": [
    "# The detail of token0/token1/getReserves function\n",
    "print(eth_usdc_pool.abi.functions.token0)\n",
    "print('---')\n",
    "print(eth_usdc_pool.abi.functions.token1)\n",
    "print('---')\n",
    "print(eth_usdc_pool.abi.functions.getReserves)"
   ]
  },
  {
   "cell_type": "code",
   "execution_count": 24,
   "metadata": {},
   "outputs": [
    {
     "name": "stdout",
     "output_type": "stream",
     "text": [
      "('0xA0b86991c6218b36c1d19D4a2e9Eb0cE3606eB48', '0xC02aaA39b223FE8D0A0e5C4F27eAD9083C756Cc2')\n",
      "('USDC', 'WETH')\n"
     ]
    }
   ],
   "source": [
    "token0_addr = eth_usdc_pool.functions.token0().call()\n",
    "token1_addr = eth_usdc_pool.functions.token1().call()\n",
    "\n",
    "# The addresses of two tokens\n",
    "print((token0_addr, token1_addr))\n",
    "\n",
    "# Know what these tokens are actually are\n",
    "token0 = Token(token0_addr)\n",
    "token1 = Token(token1_addr)\n",
    "print((token0.symbol, token1.symbol))"
   ]
  },
  {
   "cell_type": "code",
   "execution_count": 25,
   "metadata": {},
   "outputs": [
    {
     "name": "stdout",
     "output_type": "stream",
     "text": [
      "[27329813238986, 14528765134974661110085, 1688657255]\n",
      "1881.083009126203\n"
     ]
    }
   ],
   "source": [
    "# Get the reserve of two tokens in this pool\n",
    "reserve = eth_usdc_pool.functions.getReserves().call()\n",
    "print((reserve))\n",
    "\n",
    "# split the return tuple to three values\n",
    "_reserve0, _reserve1, _block_timestamp_last = reserve\n",
    "\n",
    "# price of ETH (as token1) = reserve0 / reserve1, scaled by each token's decimals\n",
    "price_eth = token0.scaled(_reserve0) / token1.scaled(_reserve1)  # the ratio is USDC per WETH\n",
    "\n",
    "print(price_eth)"
   ]
  },
  {
   "attachments": {},
   "cell_type": "markdown",
   "metadata": {},
   "source": [
    "## 3. Write a model\n"
   ]
  },
  {
   "cell_type": "code",
   "execution_count": 26,
   "metadata": {},
   "outputs": [],
   "source": [
    "from credmark.cmf.model import Model\n",
    "from credmark.cmf.types import Contract, Token\n",
    "\n",
    "\n",
    "@Model.describe(\n",
    "    slug='jit.uniswap-v2-reserve',\n",
    "    version='1.1',\n",
    "    input=Contract,\n",
    "    output=dict)\n",
    "class UniswapV2Reserve(Model):\n",
    "    def run(self, input: Contract):\n",
    "        # get the tokens in this pool\n",
    "        token0_addr = input.functions.token0().call()\n",
    "        token1_addr = input.functions.token1().call()\n",
    "        # create the Token objects\n",
    "        token0 = Token(token0_addr)\n",
    "        token1 = Token(token1_addr)\n",
    "        # get the reserve\n",
    "        _reserve0, _reserve1, _block_timestamp_last = input.functions.getReserves().call()\n",
    "        # calculate the price\n",
    "        price_token1 = token0.scaled(_reserve0) / token1.scaled(_reserve1)\n",
    "        # return the result\n",
    "        return {'price_token1': price_token1,\n",
    "                'price_token0': 1 / price_token1,\n",
    "                'reserve0': _reserve0,\n",
    "                'reserve1': _reserve1}\n",
    "\n",
    "\n",
    "# We can save this as a file in the models/ directory of credmark-models-py, or model_loader_path shown above for create_cmf().\n",
    "# Here we directly load it from the definition, with this way, it can only be used in this notebook.\n",
    "context.add_model(UniswapV2Reserve)"
   ]
  },
  {
   "cell_type": "code",
   "execution_count": 27,
   "metadata": {},
   "outputs": [
    {
     "data": {
      "text/plain": [
       "{'price_token1': 1881.083009126203,\n",
       " 'price_token0': 0.0005316086505212325,\n",
       " 'reserve0': 27329813238986,\n",
       " 'reserve1': 14528765134974661110085}"
      ]
     },
     "execution_count": 27,
     "metadata": {},
     "output_type": "execute_result"
    }
   ],
   "source": [
    "context.run_model('jit.uniswap-v2-reserve',\n",
    "                  {'address': '0xB4e16d0168e52d35CaCD2c6185b44281Ec28C9Dc'})\n",
    "\n",
    "# model checks for validity of the input\n",
    "# try run above with a shorter address, i.e. 0xB4e16d0168e52d35CaCD2c6185b44\n",
    "# You will get a ModelInputError"
   ]
  },
  {
   "cell_type": "code",
   "execution_count": 28,
   "metadata": {},
   "outputs": [
    {
     "data": {
      "text/plain": [
       "datetime.datetime(2023, 7, 6, 12, 7, 59, tzinfo=datetime.timezone.utc)"
      ]
     },
     "metadata": {},
     "output_type": "display_data"
    },
    {
     "data": {
      "text/plain": [
       "{'price_token1': 1911.277086241213,\n",
       " 'price_token0': 0.000523210374465712,\n",
       " 'reserve0': 27547098824985,\n",
       " 'reserve1': 14412927891664378714795}"
      ]
     },
     "execution_count": 28,
     "metadata": {},
     "output_type": "execute_result"
    }
   ],
   "source": [
    "# We can run model on earlier block\n",
    "# Model is a re-usable piece of algorithm to run for a chain_id, a block_number\n",
    "\n",
    "earlier_block = context.block_number - 1_000\n",
    "\n",
    "display(earlier_block.timestamp_datetime)\n",
    "\n",
    "context.run_model('jit.uniswap-v2-reserve',\n",
    "                  {'address': '0xB4e16d0168e52d35CaCD2c6185b44281Ec28C9Dc'},\n",
    "                  block_number=earlier_block)"
   ]
  },
  {
   "attachments": {},
   "cell_type": "markdown",
   "metadata": {},
   "source": [
    "## 4. Scale up the model for more blocks\n"
   ]
  },
  {
   "cell_type": "code",
   "execution_count": 29,
   "metadata": {},
   "outputs": [],
   "source": [
    "# Run the model for 1000 blocks will take a while, how could we speed up?\n",
    "\n",
    "for offset in range(10):\n",
    "    context.run_model('jit.uniswap-v2-reserve',\n",
    "                      {'address': '0xB4e16d0168e52d35CaCD2c6185b44281Ec28C9Dc'},\n",
    "                      block_number=context.block_number - offset)"
   ]
  },
  {
   "cell_type": "code",
   "execution_count": 30,
   "metadata": {},
   "outputs": [
    {
     "data": {
      "text/plain": [
       "Event Name: Sync\n",
       "Args: ['reserve0', 'reserve1']\n",
       "Types: ['uint112', 'uint112']"
      ]
     },
     "execution_count": 30,
     "metadata": {},
     "output_type": "execute_result"
    }
   ],
   "source": [
    "# Uniswap V2 pool's reserve changes with Mint/Burn/Swap, it kept a record of these events.\n",
    "# Event Sync occurs together with Mint/Burn to record the reserve, that's we need.\n",
    "\n",
    "eth_usdc_pool.abi.events.Sync"
   ]
  },
  {
   "cell_type": "code",
   "execution_count": 31,
   "metadata": {},
   "outputs": [
    {
     "data": {
      "text/html": [
       "<div>\n",
       "<style scoped>\n",
       "    .dataframe tbody tr th:only-of-type {\n",
       "        vertical-align: middle;\n",
       "    }\n",
       "\n",
       "    .dataframe tbody tr th {\n",
       "        vertical-align: top;\n",
       "    }\n",
       "\n",
       "    .dataframe thead th {\n",
       "        text-align: right;\n",
       "    }\n",
       "</style>\n",
       "<table border=\"1\" class=\"dataframe\">\n",
       "  <thead>\n",
       "    <tr style=\"text-align: right;\">\n",
       "      <th></th>\n",
       "      <th>block_number</th>\n",
       "      <th>block_timestamp</th>\n",
       "      <th>contract_address</th>\n",
       "      <th>log_index</th>\n",
       "      <th>signature</th>\n",
       "      <th>transaction_hash</th>\n",
       "      <th>evt_reserve0</th>\n",
       "      <th>evt_reserve1</th>\n",
       "    </tr>\n",
       "  </thead>\n",
       "  <tbody>\n",
       "    <tr>\n",
       "      <th>0</th>\n",
       "      <td>17634711</td>\n",
       "      <td>2023-07-06T12:08:59.000Z</td>\n",
       "      <td>0xb4e16d0168e52d35cacd2c6185b44281ec28c9dc</td>\n",
       "      <td>346</td>\n",
       "      <td>Sync(uint112,uint112)</td>\n",
       "      <td>0x69ecdf51b8c0e91ef6837abe041c2a918d2359178d58...</td>\n",
       "      <td>27546571953308</td>\n",
       "      <td>14413204391163287144455</td>\n",
       "    </tr>\n",
       "    <tr>\n",
       "      <th>1</th>\n",
       "      <td>17634715</td>\n",
       "      <td>2023-07-06T12:09:47.000Z</td>\n",
       "      <td>0xb4e16d0168e52d35cacd2c6185b44281ec28c9dc</td>\n",
       "      <td>243</td>\n",
       "      <td>Sync(uint112,uint112)</td>\n",
       "      <td>0x3f8c1d601af4d7fcc394a772e48473ab7cd9050845e9...</td>\n",
       "      <td>27545294082910</td>\n",
       "      <td>14413875054837142233546</td>\n",
       "    </tr>\n",
       "    <tr>\n",
       "      <th>2</th>\n",
       "      <td>17634719</td>\n",
       "      <td>2023-07-06T12:10:35.000Z</td>\n",
       "      <td>0xb4e16d0168e52d35cacd2c6185b44281ec28c9dc</td>\n",
       "      <td>349</td>\n",
       "      <td>Sync(uint112,uint112)</td>\n",
       "      <td>0xf946f7d12f4e63564b07e3ad26f24f58d9d982561855...</td>\n",
       "      <td>27544213841117</td>\n",
       "      <td>14414442045868485016183</td>\n",
       "    </tr>\n",
       "    <tr>\n",
       "      <th>3</th>\n",
       "      <td>17634725</td>\n",
       "      <td>2023-07-06T12:11:47.000Z</td>\n",
       "      <td>0xb4e16d0168e52d35cacd2c6185b44281ec28c9dc</td>\n",
       "      <td>25</td>\n",
       "      <td>Sync(uint112,uint112)</td>\n",
       "      <td>0xbf8737f12a35f3e11a6a5cd2dc4d7490127b92264a8f...</td>\n",
       "      <td>27544713841117</td>\n",
       "      <td>14414181175496310563206</td>\n",
       "    </tr>\n",
       "    <tr>\n",
       "      <th>4</th>\n",
       "      <td>17634726</td>\n",
       "      <td>2023-07-06T12:11:59.000Z</td>\n",
       "      <td>0xb4e16d0168e52d35cacd2c6185b44281ec28c9dc</td>\n",
       "      <td>212</td>\n",
       "      <td>Sync(uint112,uint112)</td>\n",
       "      <td>0xcc2773a572caf349616263c7b66f3a368e1d72ce039d...</td>\n",
       "      <td>27545209466117</td>\n",
       "      <td>14413922597072621128232</td>\n",
       "    </tr>\n",
       "    <tr>\n",
       "      <th>...</th>\n",
       "      <td>...</td>\n",
       "      <td>...</td>\n",
       "      <td>...</td>\n",
       "      <td>...</td>\n",
       "      <td>...</td>\n",
       "      <td>...</td>\n",
       "      <td>...</td>\n",
       "      <td>...</td>\n",
       "    </tr>\n",
       "    <tr>\n",
       "      <th>210</th>\n",
       "      <td>17635641</td>\n",
       "      <td>2023-07-06T15:17:59.000Z</td>\n",
       "      <td>0xb4e16d0168e52d35cacd2c6185b44281ec28c9dc</td>\n",
       "      <td>146</td>\n",
       "      <td>Sync(uint112,uint112)</td>\n",
       "      <td>0xb13351b7ab651f216d581ec3e169c2c7ffab5984b0af...</td>\n",
       "      <td>27282329954153</td>\n",
       "      <td>14553963012777932859594</td>\n",
       "    </tr>\n",
       "    <tr>\n",
       "      <th>211</th>\n",
       "      <td>17635643</td>\n",
       "      <td>2023-07-06T15:18:23.000Z</td>\n",
       "      <td>0xb4e16d0168e52d35cacd2c6185b44281ec28c9dc</td>\n",
       "      <td>106</td>\n",
       "      <td>Sync(uint112,uint112)</td>\n",
       "      <td>0xcad01f4f1652a21b23a789d5971acb952479ef7c8498...</td>\n",
       "      <td>27282421529802</td>\n",
       "      <td>14553914307781035096987</td>\n",
       "    </tr>\n",
       "    <tr>\n",
       "      <th>212</th>\n",
       "      <td>17635650</td>\n",
       "      <td>2023-07-06T15:19:47.000Z</td>\n",
       "      <td>0xb4e16d0168e52d35cacd2c6185b44281ec28c9dc</td>\n",
       "      <td>86</td>\n",
       "      <td>Sync(uint112,uint112)</td>\n",
       "      <td>0x5a65a73c3a7623431ebb59b9a0cc5222c8c9f70a75be...</td>\n",
       "      <td>27283421529802</td>\n",
       "      <td>14553382473672746651685</td>\n",
       "    </tr>\n",
       "    <tr>\n",
       "      <th>213</th>\n",
       "      <td>17635651</td>\n",
       "      <td>2023-07-06T15:19:59.000Z</td>\n",
       "      <td>0xb4e16d0168e52d35cacd2c6185b44281ec28c9dc</td>\n",
       "      <td>311</td>\n",
       "      <td>Sync(uint112,uint112)</td>\n",
       "      <td>0x116e95b408e2f4939e6d393f0a5369229d9561b4397a...</td>\n",
       "      <td>27283521529802</td>\n",
       "      <td>14553329292405548623569</td>\n",
       "    </tr>\n",
       "    <tr>\n",
       "      <th>214</th>\n",
       "      <td>17635655</td>\n",
       "      <td>2023-07-06T15:20:47.000Z</td>\n",
       "      <td>0xb4e16d0168e52d35cacd2c6185b44281ec28c9dc</td>\n",
       "      <td>60</td>\n",
       "      <td>Sync(uint112,uint112)</td>\n",
       "      <td>0xc30c36324cf9cf101aee23d2ed7bd8b6b76ca251b9fb...</td>\n",
       "      <td>27283521529802</td>\n",
       "      <td>14553334414494752934036</td>\n",
       "    </tr>\n",
       "  </tbody>\n",
       "</table>\n",
       "<p>215 rows × 8 columns</p>\n",
       "</div>"
      ],
      "text/plain": [
       "    block_number           block_timestamp  \\\n",
       "0       17634711  2023-07-06T12:08:59.000Z   \n",
       "1       17634715  2023-07-06T12:09:47.000Z   \n",
       "2       17634719  2023-07-06T12:10:35.000Z   \n",
       "3       17634725  2023-07-06T12:11:47.000Z   \n",
       "4       17634726  2023-07-06T12:11:59.000Z   \n",
       "..           ...                       ...   \n",
       "210     17635641  2023-07-06T15:17:59.000Z   \n",
       "211     17635643  2023-07-06T15:18:23.000Z   \n",
       "212     17635650  2023-07-06T15:19:47.000Z   \n",
       "213     17635651  2023-07-06T15:19:59.000Z   \n",
       "214     17635655  2023-07-06T15:20:47.000Z   \n",
       "\n",
       "                               contract_address log_index  \\\n",
       "0    0xb4e16d0168e52d35cacd2c6185b44281ec28c9dc       346   \n",
       "1    0xb4e16d0168e52d35cacd2c6185b44281ec28c9dc       243   \n",
       "2    0xb4e16d0168e52d35cacd2c6185b44281ec28c9dc       349   \n",
       "3    0xb4e16d0168e52d35cacd2c6185b44281ec28c9dc        25   \n",
       "4    0xb4e16d0168e52d35cacd2c6185b44281ec28c9dc       212   \n",
       "..                                          ...       ...   \n",
       "210  0xb4e16d0168e52d35cacd2c6185b44281ec28c9dc       146   \n",
       "211  0xb4e16d0168e52d35cacd2c6185b44281ec28c9dc       106   \n",
       "212  0xb4e16d0168e52d35cacd2c6185b44281ec28c9dc        86   \n",
       "213  0xb4e16d0168e52d35cacd2c6185b44281ec28c9dc       311   \n",
       "214  0xb4e16d0168e52d35cacd2c6185b44281ec28c9dc        60   \n",
       "\n",
       "                 signature                                   transaction_hash  \\\n",
       "0    Sync(uint112,uint112)  0x69ecdf51b8c0e91ef6837abe041c2a918d2359178d58...   \n",
       "1    Sync(uint112,uint112)  0x3f8c1d601af4d7fcc394a772e48473ab7cd9050845e9...   \n",
       "2    Sync(uint112,uint112)  0xf946f7d12f4e63564b07e3ad26f24f58d9d982561855...   \n",
       "3    Sync(uint112,uint112)  0xbf8737f12a35f3e11a6a5cd2dc4d7490127b92264a8f...   \n",
       "4    Sync(uint112,uint112)  0xcc2773a572caf349616263c7b66f3a368e1d72ce039d...   \n",
       "..                     ...                                                ...   \n",
       "210  Sync(uint112,uint112)  0xb13351b7ab651f216d581ec3e169c2c7ffab5984b0af...   \n",
       "211  Sync(uint112,uint112)  0xcad01f4f1652a21b23a789d5971acb952479ef7c8498...   \n",
       "212  Sync(uint112,uint112)  0x5a65a73c3a7623431ebb59b9a0cc5222c8c9f70a75be...   \n",
       "213  Sync(uint112,uint112)  0x116e95b408e2f4939e6d393f0a5369229d9561b4397a...   \n",
       "214  Sync(uint112,uint112)  0xc30c36324cf9cf101aee23d2ed7bd8b6b76ca251b9fb...   \n",
       "\n",
       "       evt_reserve0             evt_reserve1  \n",
       "0    27546571953308  14413204391163287144455  \n",
       "1    27545294082910  14413875054837142233546  \n",
       "2    27544213841117  14414442045868485016183  \n",
       "3    27544713841117  14414181175496310563206  \n",
       "4    27545209466117  14413922597072621128232  \n",
       "..              ...                      ...  \n",
       "210  27282329954153  14553963012777932859594  \n",
       "211  27282421529802  14553914307781035096987  \n",
       "212  27283421529802  14553382473672746651685  \n",
       "213  27283521529802  14553329292405548623569  \n",
       "214  27283521529802  14553334414494752934036  \n",
       "\n",
       "[215 rows x 8 columns]"
      ]
     },
     "metadata": {},
     "output_type": "display_data"
    }
   ],
   "source": [
    "# Let's query the ledger database for the event log for Sync.\n",
    "# Querying this data only takes less than a second.\n",
    "\n",
    "with eth_usdc_pool.ledger.events.Sync as q:\n",
    "    df = q.select(columns=q.columns,\n",
    "                  where=q.BLOCK_NUMBER.ge(context.block_number-1000),\n",
    "                  order_by=q.BLOCK_NUMBER.comma_(q.LOG_INDEX)).to_dataframe()\n",
    "\n",
    "# Note: Because we limit each query to return 5000 results\n",
    "# We may query multiple times to get all the results till we have exhausted all the results.\n",
    "\n",
    "display(df)"
   ]
  },
  {
   "cell_type": "code",
   "execution_count": 32,
   "metadata": {},
   "outputs": [
    {
     "data": {
      "text/html": [
       "<div>\n",
       "<style scoped>\n",
       "    .dataframe tbody tr th:only-of-type {\n",
       "        vertical-align: middle;\n",
       "    }\n",
       "\n",
       "    .dataframe tbody tr th {\n",
       "        vertical-align: top;\n",
       "    }\n",
       "\n",
       "    .dataframe thead th {\n",
       "        text-align: right;\n",
       "    }\n",
       "</style>\n",
       "<table border=\"1\" class=\"dataframe\">\n",
       "  <thead>\n",
       "    <tr style=\"text-align: right;\">\n",
       "      <th></th>\n",
       "      <th>block_number</th>\n",
       "      <th>reserve0</th>\n",
       "      <th>reserve1</th>\n",
       "      <th>price_token1</th>\n",
       "      <th>price_token0</th>\n",
       "    </tr>\n",
       "  </thead>\n",
       "  <tbody>\n",
       "    <tr>\n",
       "      <th>0</th>\n",
       "      <td>17634706</td>\n",
       "      <td>2.754657e+13</td>\n",
       "      <td>14413204391163287144455</td>\n",
       "      <td>1911.203866</td>\n",
       "      <td>0.000523</td>\n",
       "    </tr>\n",
       "    <tr>\n",
       "      <th>1</th>\n",
       "      <td>17634707</td>\n",
       "      <td>2.754657e+13</td>\n",
       "      <td>14413204391163287144455</td>\n",
       "      <td>1911.203866</td>\n",
       "      <td>0.000523</td>\n",
       "    </tr>\n",
       "    <tr>\n",
       "      <th>2</th>\n",
       "      <td>17634708</td>\n",
       "      <td>2.754657e+13</td>\n",
       "      <td>14413204391163287144455</td>\n",
       "      <td>1911.203866</td>\n",
       "      <td>0.000523</td>\n",
       "    </tr>\n",
       "    <tr>\n",
       "      <th>3</th>\n",
       "      <td>17634709</td>\n",
       "      <td>2.754657e+13</td>\n",
       "      <td>14413204391163287144455</td>\n",
       "      <td>1911.203866</td>\n",
       "      <td>0.000523</td>\n",
       "    </tr>\n",
       "    <tr>\n",
       "      <th>4</th>\n",
       "      <td>17634710</td>\n",
       "      <td>2.754657e+13</td>\n",
       "      <td>14413204391163287144455</td>\n",
       "      <td>1911.203866</td>\n",
       "      <td>0.000523</td>\n",
       "    </tr>\n",
       "    <tr>\n",
       "      <th>...</th>\n",
       "      <td>...</td>\n",
       "      <td>...</td>\n",
       "      <td>...</td>\n",
       "      <td>...</td>\n",
       "      <td>...</td>\n",
       "    </tr>\n",
       "    <tr>\n",
       "      <th>996</th>\n",
       "      <td>17635702</td>\n",
       "      <td>2.728352e+13</td>\n",
       "      <td>14553334414494752934036</td>\n",
       "      <td>1874.726489</td>\n",
       "      <td>0.000533</td>\n",
       "    </tr>\n",
       "    <tr>\n",
       "      <th>997</th>\n",
       "      <td>17635703</td>\n",
       "      <td>2.728352e+13</td>\n",
       "      <td>14553334414494752934036</td>\n",
       "      <td>1874.726489</td>\n",
       "      <td>0.000533</td>\n",
       "    </tr>\n",
       "    <tr>\n",
       "      <th>998</th>\n",
       "      <td>17635704</td>\n",
       "      <td>2.728352e+13</td>\n",
       "      <td>14553334414494752934036</td>\n",
       "      <td>1874.726489</td>\n",
       "      <td>0.000533</td>\n",
       "    </tr>\n",
       "    <tr>\n",
       "      <th>999</th>\n",
       "      <td>17635705</td>\n",
       "      <td>2.728352e+13</td>\n",
       "      <td>14553334414494752934036</td>\n",
       "      <td>1874.726489</td>\n",
       "      <td>0.000533</td>\n",
       "    </tr>\n",
       "    <tr>\n",
       "      <th>1000</th>\n",
       "      <td>17635706</td>\n",
       "      <td>2.728352e+13</td>\n",
       "      <td>14553334414494752934036</td>\n",
       "      <td>1874.726489</td>\n",
       "      <td>0.000533</td>\n",
       "    </tr>\n",
       "  </tbody>\n",
       "</table>\n",
       "<p>1001 rows × 5 columns</p>\n",
       "</div>"
      ],
      "text/plain": [
       "      block_number      reserve0                 reserve1  price_token1  \\\n",
       "0         17634706  2.754657e+13  14413204391163287144455   1911.203866   \n",
       "1         17634707  2.754657e+13  14413204391163287144455   1911.203866   \n",
       "2         17634708  2.754657e+13  14413204391163287144455   1911.203866   \n",
       "3         17634709  2.754657e+13  14413204391163287144455   1911.203866   \n",
       "4         17634710  2.754657e+13  14413204391163287144455   1911.203866   \n",
       "...            ...           ...                      ...           ...   \n",
       "996       17635702  2.728352e+13  14553334414494752934036   1874.726489   \n",
       "997       17635703  2.728352e+13  14553334414494752934036   1874.726489   \n",
       "998       17635704  2.728352e+13  14553334414494752934036   1874.726489   \n",
       "999       17635705  2.728352e+13  14553334414494752934036   1874.726489   \n",
       "1000      17635706  2.728352e+13  14553334414494752934036   1874.726489   \n",
       "\n",
       "      price_token0  \n",
       "0         0.000523  \n",
       "1         0.000523  \n",
       "2         0.000523  \n",
       "3         0.000523  \n",
       "4         0.000523  \n",
       "...            ...  \n",
       "996       0.000533  \n",
       "997       0.000533  \n",
       "998       0.000533  \n",
       "999       0.000533  \n",
       "1000      0.000533  \n",
       "\n",
       "[1001 rows x 5 columns]"
      ]
     },
     "metadata": {},
     "output_type": "display_data"
    },
    {
     "data": {
      "text/plain": [
       "<Axes: xlabel='block_number'>"
      ]
     },
     "execution_count": 32,
     "metadata": {},
     "output_type": "execute_result"
    },
    {
     "data": {
      "image/png": "[encoded data removed]",
      "text/plain": [
       "<Figure size 640x480 with 1 Axes>"
      ]
     },
     "metadata": {},
     "output_type": "display_data"
    }
   ],
   "source": [
    "import pandas as pd\n",
    "\n",
    "df_clean = (df\n",
    "            .drop_duplicates(subset=['block_number'], keep='last')\n",
    "            .loc[:, ['block_number', 'evt_reserve0', 'evt_reserve1']]\n",
    "            .rename(columns={'evt_reserve0': 'reserve0', 'evt_reserve1': 'reserve1'})\n",
    "            .assign(block_number=lambda x: x.block_number.apply(int),\n",
    "                    reserve0=lambda x: x.reserve0.apply(int),\n",
    "                    reserve1=lambda x: x.reserve1.apply(int),))\n",
    "\n",
    "df_clean['price_token1'] = token0.scaled(df_clean['reserve0']) / token1.scaled(df_clean['reserve1'])\n",
    "df_clean['price_token0'] = 1 / df_clean['price_token1']\n",
    "\n",
    "df_clean = (df_clean\n",
    "            .merge(pd.DataFrame({'block_number': range(context.block_number-1000, context.block_number+1)}), how='right')\n",
    "            .sort_values('block_number')\n",
    "            .fillna(method='ffill')\n",
    "            .fillna(method='bfill'))\n",
    "\n",
    "display(df_clean)\n",
    "\n",
    "df_clean.plot('block_number', 'price_token1')"
   ]
  },
  {
   "attachments": {},
   "cell_type": "markdown",
   "metadata": {},
   "source": [
    "## Summary\n",
    "\n",
    "What we have go through in CMF\n",
    "\n",
    "- Initialize context in cmf\n",
    "- Token: create it from address: query attributes, name, symbol, decimals, etc.\n",
    "- Contract: create it from address, make web3 call.\n",
    "- Write a model with web3 call\n",
    "- Query ledger DB to get decoded event log\n",
    "- Post-process the data in DataFrame\n"
   ]
  },
  {
   "attachments": {},
   "cell_type": "markdown",
   "metadata": {},
   "source": []
  }
 ],
 "metadata": {
  "kernelspec": {
   "display_name": "cmk39",
   "language": "python",
   "name": "python3"
  },
  "language_info": {
   "codemirror_mode": {
    "name": "ipython",
    "version": 3
   },
   "file_extension": ".py",
   "mimetype": "text/x-python",
   "name": "python",
   "nbconvert_exporter": "python",
   "pygments_lexer": "ipython3",
   "version": "3.11.4"
  },
  "orig_nbformat": 4
 },
 "nbformat": 4,
 "nbformat_minor": 2
}
