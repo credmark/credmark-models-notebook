{
 "cells": [
  {
   "cell_type": "code",
   "execution_count": 1,
   "metadata": {},
   "outputs": [],
   "source": [
    "%reload_ext autoreload\n",
    "%autoreload 1\n",
    "\n",
    "from credmark.cmf.ipython import create_cmf\n",
    "from web3 import HTTPProvider, Web3\n",
    "\n",
    "from credmark.cmf.types import Portfolio, Records\n",
    "\n",
    "from models.credmark.protocols.dexes.uniswap.univ2_lp import UniswapV2LPOutput, UniswapV2LPFeeOutput\n",
    "\n",
    "end_block = 16047158\n",
    "\n",
    "cmf_param = {\n",
    "    'chain_id': 1,\n",
    "    'block_number': end_block,\n",
    "    'api_url': None,\n",
    "    'use_local_models': None,\n",
    "    'register_utility_global': True\n",
    "}\n",
    "\n",
    "context, _model_loader = create_cmf(cmf_param)\n",
    "context._web3 = Web3(HTTPProvider(context.web3.provider.endpoint_uri, request_kwargs={'timeout': 3600 * 10}))\n",
    "context._web3.eth.default_block = int(context.block_number)\n",
    "end_block = int(context.block_number)"
   ]
  },
  {
   "cell_type": "code",
   "execution_count": 2,
   "metadata": {},
   "outputs": [],
   "source": [
    "account = '0x80aba9cd8b02b227f81d54ddded38290dbb23836'"
   ]
  },
  {
   "cell_type": "code",
   "execution_count": 3,
   "metadata": {},
   "outputs": [],
   "source": [
    "portfolio = context.run_model('account.portfolio', input={'address': account}, return_type=Portfolio)"
   ]
  },
  {
   "cell_type": "code",
   "execution_count": 4,
   "metadata": {},
   "outputs": [
    {
     "name": "stdout",
     "output_type": "stream",
     "text": [
      "(0, 1.431263242654735, 'ETH', '0xeeeeeeeeeeeeeeeeeeeeeeeeeeeeeeeeeeeeeeee')\n",
      "(1, 2360482.0, 'Invitation token. Please Visit https://apum.xyz and claim rewards.', '0x0bf377fb3b5f1dd601e693b8faf6b0bd249f37d3')\n",
      "(2, 4214.0, '$ USDCNotice.com <- Visit to secure your wallet!', '0x17a10104cbc1ed155d083ead9fcf5c3440bb50e8')\n",
      "(3, 1.672365135437e-06, 'SLP', '0x397ff1542f962076d0bfe58ea045ffa2d347aca0')\n",
      "(4, 800.0, '$ AaveReward.com', '0x39cf57b4decb8ae3dec0dfca1e2ea2c320416288')\n",
      "(5, 250457.0, 'LUNA 2.0 (lunav2.io)', '0x471c3a7f132bc94938516cb2bf6f02c7521d2797')\n",
      "(6, 7000.0, '$ USDCGift.com <- Visit to claim bonus', '0x68ca006db91312cd60a2238ce775be5f9f738bba')\n",
      "(7, 1e-05, 'CMK', '0x68cfb82eacb9f198d508b514d898a403c449533e')\n",
      "(8, 6739612.0, 'abso.site', '0x75e34a4a04d5f5f7fc01801d2d287d64d882529b')\n",
      "(9, 10006.445354394167, 'xCMK', '0x8588d3a5fa9f63fa150815a88fc97183104fb6dc')\n",
      "(10, 1600884.0, 'Eth2Fork.com', '0x8eb3fecaaa963c86d9b49004d9f28092f1db3d6c')\n",
      "(11, 7000.0, '$ USDCBonus.com <- Visit to claim bonus', '0x956f824b5a37673c6fc4a6904186cb3ba499349b')\n",
      "(12, 292767.092361, 'USDC', '0xa0b86991c6218b36c1d19d4a2e9eb0ce3606eb48')\n",
      "(13, 1.35615132116e-06, 'UNI-V2', '0xb4e16d0168e52d35cacd2c6185b44281ec28c9dc')\n",
      "(14, 3931440.0, '[ https://acrone.site ] Visit and claim rewards', '0xb688d06d858e092ebb145394a1ba08c7a10e1f56')\n",
      "(15, 2251.0882509376097, 'LUNA', '0xd2877702675e6ceb975b4a1dff9fb7baf4c91ea9')\n",
      "(16, 400.0, 'UNIV2Rewards.com', '0xdeefe7215fb3aff0b6bad252430b12be53f6f4a4')\n",
      "(17, 201907805.0, 'aWETH.io', '0xecf0de4c8498cfd686e4702d955426b22d812d6b')\n",
      "(18, 10000.0, 'SushiLP', '0xfb2e7de3b61c7901040414465a0da227a7276079')\n"
     ]
    }
   ],
   "source": [
    "for n, pos in enumerate(portfolio):\n",
    "    print((n, pos.amount, pos.asset.symbol, pos.asset.address))"
   ]
  },
  {
   "cell_type": "code",
   "execution_count": 5,
   "metadata": {},
   "outputs": [
    {
     "data": {
      "text/plain": [
       "UniswapV2LPOutput(lp=Position(amount=1.35615132116e-06, asset=Token(address='0xb4e16d0168e52d35cacd2c6185b44281ec28c9dc'), price_quote=None), tokens=[Position(amount=98.585044160511, asset=Token(address='0xa0b86991c6218b36c1d19d4a2e9eb0ce3606eb48'), price_quote=None), Position(amount=0.08260614747391846, asset=Token(address='0xc02aaa39b223fe8d0a0e5c4f27ead9083c756cc2'), price_quote=None)])"
      ]
     },
     "metadata": {},
     "output_type": "display_data"
    },
    {
     "data": {
      "text/plain": [
       "UniswapV2LPFeeOutput(lp=Position(amount=1.35615132116e-06, asset=Token(address='0xb4e16d0168e52d35cacd2c6185b44281ec28c9dc'), price_quote=None), tokens=[PositionWithFee(amount=88.82342379154439, asset=Token(address='0xa0b86991c6218b36c1d19d4a2e9eb0ce3606eb48'), price_quote=None, fee=9.761620368966618), PositionWithFee(amount=0.07442671357854612, asset=Token(address='0xc02aaa39b223fe8d0a0e5c4f27ead9083c756cc2'), price_quote=None, fee=0.008179433895372346)])"
      ]
     },
     "metadata": {},
     "output_type": "display_data"
    }
   ],
   "source": [
    "lp = context.run_model(\n",
    "    'uniswap-v2.lp',\n",
    "    input={'lp': account, 'pool': '0xb4e16d0168e52d35cacd2c6185b44281ec28c9dc'},\n",
    "    return_type=UniswapV2LPOutput)\n",
    "display(lp)\n",
    "\n",
    "lp = context.run_model(\n",
    "    'uniswap-v2.lp-fee',\n",
    "    input={'lp': account, 'pool': '0xb4e16d0168e52d35cacd2c6185b44281ec28c9dc'},\n",
    "    return_type=UniswapV2LPFeeOutput)\n",
    "display(lp)"
   ]
  },
  {
   "cell_type": "code",
   "execution_count": 6,
   "metadata": {},
   "outputs": [
    {
     "data": {
      "text/plain": [
       "196.8805772241508"
      ]
     },
     "execution_count": 6,
     "metadata": {},
     "output_type": "execute_result"
    }
   ],
   "source": [
    "1_189.93 * 0.07442671357854612 + 88.82342379154439 + 9.761620368966618 + 0.008179433895372346 * 1_189.93"
   ]
  },
  {
   "cell_type": "code",
   "execution_count": 7,
   "metadata": {},
   "outputs": [
    {
     "data": {
      "text/plain": [
       "UniswapV2LPFeeOutput(lp=Position(amount=1.672365135437e-06, asset=Token(address='0x397ff1542f962076d0bfe58ea045ffa2d347aca0'), price_quote=None), tokens=[PositionWithFee(amount=88.86063010998626, asset=Token(address='0xa0b86991c6218b36c1d19d4a2e9eb0ce3606eb48'), price_quote=None, fee=8.452963806191931), PositionWithFee(amount=0.07442605745530793, asset=Token(address='0xc02aaa39b223fe8d0a0e5c4f27ead9083c756cc2'), price_quote=None, fee=0.0070798594285072375)])"
      ]
     },
     "execution_count": 7,
     "metadata": {},
     "output_type": "execute_result"
    }
   ],
   "source": [
    "lp = context.run_model(\n",
    "    'uniswap-v2.lp-fee',\n",
    "    input={'lp': account, 'pool': '0x397ff1542f962076d0bfe58ea045ffa2d347aca0'},\n",
    "    return_type=UniswapV2LPFeeOutput)\n",
    "lp"
   ]
  },
  {
   "cell_type": "code",
   "execution_count": 8,
   "metadata": {},
   "outputs": [
    {
     "data": {
      "text/html": [
       "<div>\n",
       "<style scoped>\n",
       "    .dataframe tbody tr th:only-of-type {\n",
       "        vertical-align: middle;\n",
       "    }\n",
       "\n",
       "    .dataframe tbody tr th {\n",
       "        vertical-align: top;\n",
       "    }\n",
       "\n",
       "    .dataframe thead th {\n",
       "        text-align: right;\n",
       "    }\n",
       "</style>\n",
       "<table border=\"1\" class=\"dataframe\">\n",
       "  <thead>\n",
       "    <tr style=\"text-align: right;\">\n",
       "      <th></th>\n",
       "      <th>transaction_hash</th>\n",
       "      <th>block_number</th>\n",
       "      <th>log_index</th>\n",
       "      <th>from_address</th>\n",
       "      <th>to_address</th>\n",
       "      <th>transaction_value</th>\n",
       "      <th>token0_lp</th>\n",
       "      <th>token1_lp</th>\n",
       "      <th>in_out_amount0</th>\n",
       "      <th>in_out_amount1</th>\n",
       "      <th>token0_lp_current</th>\n",
       "      <th>token1_lp_current</th>\n",
       "      <th>token0_fee</th>\n",
       "      <th>token1_fee</th>\n",
       "    </tr>\n",
       "  </thead>\n",
       "  <tbody>\n",
       "    <tr>\n",
       "      <th>0</th>\n",
       "      <td>0x34efab385d2731a20b634fe7e4f46736013fc73d3f6a...</td>\n",
       "      <td>14327960</td>\n",
       "      <td>527</td>\n",
       "      <td>0x0000000000000000000000000000000000000000</td>\n",
       "      <td>0x80Aba9cd8b02b227F81d54DdDeD38290dBB23836</td>\n",
       "      <td>1356151321160</td>\n",
       "      <td>132.216711</td>\n",
       "      <td>0.050000</td>\n",
       "      <td>132.216711</td>\n",
       "      <td>0.05</td>\n",
       "      <td>0.000000</td>\n",
       "      <td>0.000000</td>\n",
       "      <td>0.00000</td>\n",
       "      <td>0.000000</td>\n",
       "    </tr>\n",
       "    <tr>\n",
       "      <th>1</th>\n",
       "      <td></td>\n",
       "      <td>16047158</td>\n",
       "      <td>-1</td>\n",
       "      <td>0x80aba9cd8b02b227f81d54ddded38290dbb23836</td>\n",
       "      <td>0x80aba9cd8b02b227f81d54ddded38290dbb23836</td>\n",
       "      <td>0</td>\n",
       "      <td>98.585044</td>\n",
       "      <td>0.082606</td>\n",
       "      <td>0.000000</td>\n",
       "      <td>0.00</td>\n",
       "      <td>88.823424</td>\n",
       "      <td>0.074427</td>\n",
       "      <td>9.76162</td>\n",
       "      <td>0.008179</td>\n",
       "    </tr>\n",
       "  </tbody>\n",
       "</table>\n",
       "</div>"
      ],
      "text/plain": [
       "                                    transaction_hash  block_number  log_index  \\\n",
       "0  0x34efab385d2731a20b634fe7e4f46736013fc73d3f6a...      14327960        527   \n",
       "1                                                         16047158         -1   \n",
       "\n",
       "                                 from_address  \\\n",
       "0  0x0000000000000000000000000000000000000000   \n",
       "1  0x80aba9cd8b02b227f81d54ddded38290dbb23836   \n",
       "\n",
       "                                   to_address  transaction_value   token0_lp  \\\n",
       "0  0x80Aba9cd8b02b227F81d54DdDeD38290dBB23836      1356151321160  132.216711   \n",
       "1  0x80aba9cd8b02b227f81d54ddded38290dbb23836                  0   98.585044   \n",
       "\n",
       "   token1_lp  in_out_amount0  in_out_amount1  token0_lp_current  \\\n",
       "0   0.050000      132.216711            0.05           0.000000   \n",
       "1   0.082606        0.000000            0.00          88.823424   \n",
       "\n",
       "   token1_lp_current  token0_fee  token1_fee  \n",
       "0           0.000000     0.00000    0.000000  \n",
       "1           0.074427     9.76162    0.008179  "
      ]
     },
     "execution_count": 8,
     "metadata": {},
     "output_type": "execute_result"
    }
   ],
   "source": [
    "lp_history = context.run_model(\n",
    "    'uniswap-v2.lp-fee-history',\n",
    "    input={'lp': account, 'pool': '0xb4e16d0168e52d35cacd2c6185b44281ec28c9dc'},\n",
    "    return_type=Records).to_dataframe()\n",
    "\n",
    "lp_history"
   ]
  }
 ],
 "metadata": {
  "kernelspec": {
   "display_name": "Python 3.10.7 ('cmk310')",
   "language": "python",
   "name": "python3"
  },
  "language_info": {
   "codemirror_mode": {
    "name": "ipython",
    "version": 3
   },
   "file_extension": ".py",
   "mimetype": "text/x-python",
   "name": "python",
   "nbconvert_exporter": "python",
   "pygments_lexer": "ipython3",
   "version": "3.11.4"
  },
  "orig_nbformat": 4,
  "vscode": {
   "interpreter": {
    "hash": "ef3060a66f05e685ce670116a67026aba95afdffb2461d829b3351d07ec51c58"
   }
  }
 },
 "nbformat": 4,
 "nbformat_minor": 2
}
