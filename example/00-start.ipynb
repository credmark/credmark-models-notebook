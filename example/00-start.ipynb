{
 "cells": [
  {
   "attachments": {},
   "cell_type": "markdown",
   "id": "9cbc2502-2aad-42ec-8728-25a0acae36e3",
   "metadata": {},
   "source": [
    "# Credmark Modeling Framework Example for Jupyter notebook\n",
    "\n",
    "## Introduction\n",
    "\n",
    "version: 2023.4.15\n"
   ]
  },
  {
   "attachments": {},
   "cell_type": "markdown",
   "id": "62001676",
   "metadata": {},
   "source": [
    "## Installation\n",
    "\n",
    "If you would like to use Conda environment, run below commands in the terminal.\n",
    "\n",
    "    NAME=cmk # rename it to what you want to\n",
    "    conda create -y --name \"$NAME\"\n",
    "    conda install -y --name \"$NAME\" pip\n",
    "    conda activate ${NAME}\n",
    "    conda install -y --name \"$NAME\" ipython jupyterlab nb_conda_kernels black isort\n",
    "    conda install -y --name \"$NAME\" jupyterlab_code_formatter ipywidgets\n",
    "    conda install -y --name \"$NAME\" scipy numpy\n",
    "    conda install -y --name \"$NAME\" altair pandas matplotlib openpyxl xlsxwriter\n",
    "    conda activate ${NAME}\n"
   ]
  },
  {
   "attachments": {},
   "cell_type": "markdown",
   "id": "680ea678",
   "metadata": {},
   "source": [
    "Launch Jupyter notebook and change the kernel in the newly created environment and run following commands.\n",
    "\n",
    "They will download the git repository of Cremark models in the directory two-levels up `../../` which is on the same level of `credmark-models-notebook` (line 1) and install the Credmark Modeling Framework (line 2).\n",
    "\n",
    "    !cd ../../ && git clone https://github.com/credmark/credmark-models-py.git\n",
    "    !cd ../../credmark-models-py && pip install -r requirements.txt && pip install -e .\n"
   ]
  },
  {
   "attachments": {},
   "cell_type": "markdown",
   "id": "e24ac2e5-dc6f-42eb-9137-0252d7fc296a",
   "metadata": {},
   "source": [
    "## Initialize\n"
   ]
  },
  {
   "attachments": {},
   "cell_type": "markdown",
   "id": "17120fd4-11b1-448f-8d78-ef0d5fd608d3",
   "metadata": {},
   "source": [
    "### 1. Create context and some shortcuts for frequently used utilities.\n",
    "\n",
    "- Create the initialization parameters\n",
    "  - chain_id: 1 for ETH\n",
    "  - block_number: None or a specific number.\n",
    "  - chain_to_provider_url: Web3 node (archive is preferred)\n",
    "  - api_url: None or a specific gateway server address\n",
    "  - use_local_models: None, '-' '\\*', or a comma-separated list.\n",
    "  - register_utility_global: True (set global variables for various utilities, e.g. ledger, web3, etc.)\n",
    "\n",
    "* Method 1: use ipython magic\n",
    "\n",
    "Use default parameter\n",
    "\n",
    "```python\n",
    "%reload_ext credmark.cmf.ipython\n",
    "context, model_loader = %cmf default\n",
    "```\n",
    "\n",
    "You may turn on verbose to show the initialization parameters.\n",
    "\n",
    "```python\n",
    "%reload_ext credmark.cmf.ipython\n",
    "context, model_loader = %cmf default -v\n",
    "```\n",
    "\n",
    "Or, with specific parameters\n",
    "\n",
    "```python\n",
    "%reload_ext credmark.cmf.ipython\n",
    "\n",
    "cmf_param = {\n",
    "    'chain_id': 1,\n",
    "    'block_number': None,\n",
    "    # 'chain_to_provider_url': {'1': 'https://mainnet.infura.io/v3/... or https://eth-mainnet.g.alchemy.com/'}, # or, use the credmark's nodes\n",
    "    'api_url': None,\n",
    "    'use_local_models': None,\n",
    "    'register_utility_global': True\n",
    "    }\n",
    "\n",
    "context, model_loader = %cmf cmf_param\n",
    "```\n",
    "\n",
    "- Method 2: use function.\n",
    "\n",
    "```python\n",
    "from credmark.cmf.ipython import create_cmf\n",
    "from credmark.cmf.types import Token, Contract, Address, Account, BlockNumber, Records\n",
    "\n",
    "cmf_param = {\n",
    "    'chain_id': 1,\n",
    "    'block_number': None,\n",
    "    # 'chain_to_provider_url': {'1': 'https://mainnet.infura.io/v3/... or https://eth-mainnet.g.alchemy.com/'}, # or, use the credmark's nodes\n",
    "    'api_url': None,\n",
    "    'use_local_models': None,\n",
    "    'register_utility_global': True\n",
    "    }\n",
    "\n",
    "context, _model_loader = create_cmf(cmf_param)\n",
    "```\n"
   ]
  },
  {
   "attachments": {},
   "cell_type": "markdown",
   "id": "fc7d6f18",
   "metadata": {},
   "source": [
    "<div class=\"alert alert-block alert-info\">\n",
    "    <b>Note:</b> Leave `chain_to_provider_url` unset to use Credmark's nodes.\n",
    "</div>\n"
   ]
  },
  {
   "cell_type": "code",
   "execution_count": 1,
   "id": "84d69de1-3bbc-4677-9936-10e4085508c2",
   "metadata": {},
   "outputs": [],
   "source": [
    "%reload_ext credmark.cmf.ipython\n",
    "\n",
    "cmf_param = {\n",
    "    'chain_id': 1,\n",
    "    'block_number': None,\n",
    "    # 'chain_to_provider_url': {'1': 'https://mainnet.infura.io/v3/... or https://eth-mainnet.g.alchemy.com/'}, # or, use the credmark's nodes\n",
    "    'api_url': None,\n",
    "    'use_local_models': None,\n",
    "    'register_utility_global': True}\n",
    "\n",
    "context, model_loader = %cmf cmf_param"
   ]
  },
  {
   "attachments": {},
   "cell_type": "markdown",
   "id": "9842032f",
   "metadata": {},
   "source": [
    "- Get help for Cmf extension\n"
   ]
  },
  {
   "cell_type": "code",
   "execution_count": 2,
   "id": "a9892f51",
   "metadata": {},
   "outputs": [
    {
     "name": "stdout",
     "output_type": "stream",
     "text": [
      "Example:\n",
      "%reload_ext credmark.cmf.ipython\n",
      "param = {'chain_id': 1,\n",
      " 'block_number': None,\n",
      " 'model_loader_path': [],\n",
      " 'chain_to_provider_url': {},\n",
      " 'api_url': None,\n",
      " 'use_local_models': None,\n",
      " 'register_utility_global': True}\n",
      "context, model_loader = %cmf param\n",
      "# or\n",
      "%cmf param\n",
      "context, model_loader = _\n",
      "Other commands:\n",
      "- %cmf param -v: verbose\n",
      "- %cmf default_param: returns default parameters\n",
      "Example: param = %cmf default_param\n",
      "- %cmf default: setup with default parameters\n",
      "Example: context, model_loader = %cmf default\n",
      "- %cmf help: get help\n",
      "- %cmf help_param: get help for parameters\n",
      "\n"
     ]
    }
   ],
   "source": [
    "%cmf help"
   ]
  },
  {
   "cell_type": "code",
   "execution_count": 3,
   "id": "0851efc8",
   "metadata": {},
   "outputs": [
    {
     "name": "stdout",
     "output_type": "stream",
     "text": [
      "Doc:\n",
      "\n",
      "    Cmf Initialization Parameters\n",
      "\n",
      "    :param chain_id: Chain id, default to 1\n",
      "    :param block_number: (Optional) None or int\n",
      "    :param model_loader_path: List of path to the models directories\n",
      "    :param chain_to_provider_url: A dictionary mapping chain ID to node RPC URL, e.g. {'1': 'http://192.168.68.122:10444'}\n",
      "    :param api_url: (Optional) None or URL to Credmark gateway\n",
      "    :param use_local_models: None (top-level models run local), '*' (all model run locally), or '-' (all models run remotely), or a comma-separated list of models\n",
      "    :param register_utility_global: True (register global variables for utilities like ledger, default) or False\n",
      "    \n"
     ]
    }
   ],
   "source": [
    "%cmf help_param"
   ]
  },
  {
   "cell_type": "code",
   "execution_count": 4,
   "id": "15b4a5f7",
   "metadata": {},
   "outputs": [
    {
     "data": {
      "text/plain": [
       "{'chain_id': 1,\n",
       " 'block_number': None,\n",
       " 'model_loader_path': [],\n",
       " 'chain_to_provider_url': {},\n",
       " 'api_url': None,\n",
       " 'use_local_models': None,\n",
       " 'register_utility_global': True}"
      ]
     },
     "execution_count": 4,
     "metadata": {},
     "output_type": "execute_result"
    }
   ],
   "source": [
    "%cmf default_param"
   ]
  },
  {
   "attachments": {},
   "cell_type": "markdown",
   "id": "470ba5bb",
   "metadata": {},
   "source": [
    "### 2. (Optional) adjust logging level\n",
    "\n",
    "You could change the level of logging with `log_output()`.\n"
   ]
  },
  {
   "cell_type": "code",
   "execution_count": 5,
   "id": "2940e56b",
   "metadata": {},
   "outputs": [
    {
     "name": "stderr",
     "output_type": "stream",
     "text": [
      "2023-07-06 23:20:19,887 - credmark.cmf.engine.context - INFO - Enabled log with level=INFO\n"
     ]
    }
   ],
   "source": [
    "import logging\n",
    "# Change output of logging to a file, and\n",
    "# Change the level to DEBUG when no level is specified.\n",
    "# logging_output('../tmp/debug.log')\n",
    "\n",
    "# Change level of logging from the default (WARNING) to\n",
    "# either INFO (less information)\n",
    "# or DEBUG(more information).\n",
    "# Still output to stream.\n",
    "log_output(log_level=logging.INFO)"
   ]
  },
  {
   "attachments": {},
   "cell_type": "markdown",
   "id": "87a47f0b-fb44-46e7-9a90-6cc2f910f854",
   "metadata": {},
   "source": [
    "## Use Cmf\n"
   ]
  },
  {
   "attachments": {},
   "cell_type": "markdown",
   "id": "330ec118-a5e6-408b-90c2-e008706c0e77",
   "metadata": {},
   "source": [
    "### 1. Basic utilities\n"
   ]
  },
  {
   "cell_type": "code",
   "execution_count": 6,
   "id": "909e266f-a115-4851-8391-dcd637a6cc2d",
   "metadata": {},
   "outputs": [
    {
     "data": {
      "text/plain": [
       "14701368"
      ]
     },
     "execution_count": 6,
     "metadata": {},
     "output_type": "execute_result"
    }
   ],
   "source": [
    "BlockNumber.from_ymd(2022, 5, 3)"
   ]
  },
  {
   "cell_type": "code",
   "execution_count": 7,
   "id": "e1cea06e-6df8-4036-848d-68ff2d55d722",
   "metadata": {},
   "outputs": [
    {
     "data": {
      "text/plain": [
       "14701368"
      ]
     },
     "execution_count": 7,
     "metadata": {},
     "output_type": "execute_result"
    }
   ],
   "source": [
    "BlockNumber.from_ymd(2022, 5, 3)"
   ]
  },
  {
   "cell_type": "code",
   "execution_count": 8,
   "id": "510abfe5-9ad6-4ef7-82cf-d5deef3fa50c",
   "metadata": {},
   "outputs": [
    {
     "data": {
      "text/plain": [
       "17635651"
      ]
     },
     "execution_count": 8,
     "metadata": {},
     "output_type": "execute_result"
    }
   ],
   "source": [
    "context.block_number"
   ]
  },
  {
   "cell_type": "code",
   "execution_count": 9,
   "id": "b447b5f9-09ca-4213-acc9-6038bb58eda2",
   "metadata": {},
   "outputs": [
    {
     "data": {
      "text/plain": [
       "1"
      ]
     },
     "execution_count": 9,
     "metadata": {},
     "output_type": "execute_result"
    }
   ],
   "source": [
    "context.chain_id"
   ]
  },
  {
   "cell_type": "code",
   "execution_count": 10,
   "id": "f1ac9d76-3613-4baf-864a-74a6626dacc2",
   "metadata": {},
   "outputs": [
    {
     "data": {
      "text/plain": [
       "<web3.main.Web3 at 0x7f3ff5e28950>"
      ]
     },
     "execution_count": 10,
     "metadata": {},
     "output_type": "execute_result"
    }
   ],
   "source": [
    "context.web3"
   ]
  },
  {
   "cell_type": "code",
   "execution_count": 11,
   "id": "6f2fed1f-67e5-4d5e-888a-5e09ad637ff3",
   "metadata": {},
   "outputs": [
    {
     "data": {
      "text/plain": [
       "2961254664753178106"
      ]
     },
     "execution_count": 11,
     "metadata": {},
     "output_type": "execute_result"
    }
   ],
   "source": [
    "context.web3.eth.get_balance('0xd3CdA913deB6f67967B99D67aCDFa1712C293601')"
   ]
  },
  {
   "cell_type": "code",
   "execution_count": 12,
   "id": "02813570-ef2a-4b69-8e78-0f3df0ef0fa3",
   "metadata": {},
   "outputs": [
    {
     "data": {
      "text/plain": [
       "13734271"
      ]
     },
     "execution_count": 12,
     "metadata": {},
     "output_type": "execute_result"
    }
   ],
   "source": [
    "context.web3.eth.get_block(context.block_number)['gasUsed']"
   ]
  },
  {
   "attachments": {},
   "cell_type": "markdown",
   "id": "2b937e10-c4eb-4194-ae7f-337ff4b1c333",
   "metadata": {},
   "source": [
    "### 2. Use models\n",
    "\n",
    "1. Type `models.` and hit `TAB` key, a list of models will be pop up.\n",
    "2. Select a model and type ? will show description and help, `models.token.info?`\n",
    "3. Show the list of models wiht `dir(models)`, or `model_loader.loaded_model_versions()` with version information.\n",
    "4. If you have updated any model in the folder on disk, run `model_loader.reload()` to refresh.\n"
   ]
  },
  {
   "cell_type": "code",
   "execution_count": 13,
   "id": "426d0aef-c177-41f1-a9d5-b395812e31bc",
   "metadata": {},
   "outputs": [
    {
     "data": {
      "text/plain": [
       "['aave_v2.account_info',\n",
       " 'aave_v2.account_info_reserve',\n",
       " 'aave_v2.account_summary',\n",
       " 'aave_v2.account_summary_historical',\n",
       " 'aave_v2.assets',\n",
       " 'aave_v2.get_incentive_controller',\n",
       " 'aave_v2.get_lending_pool',\n",
       " 'aave_v2.get_lending_pool_provider',\n",
       " 'aave_v2.get_lending_pool_providers_from_registry',\n",
       " 'aave_v2.get_lp_reward',\n",
       " 'aave_v2.get_oracle_price',\n",
       " 'aave_v2.get_price_oracle',\n",
       " 'aave_v2.get_protocol_data_provider',\n",
       " 'aave_v2.get_staking_reward',\n",
       " 'aave_v2.lending_pool_assets',\n",
       " 'aave_v2.lending_pool_assets_portfolio',\n",
       " 'aave_v2.overall_liabilities_portfolio',\n",
       " 'aave_v2.reserve_config',\n",
       " 'aave_v2.token_asset',\n",
       " 'aave_v2.token_liability',\n",
       " 'account.balances',\n",
       " 'account.native_balance',\n",
       " 'account.portfolio',\n",
       " 'account.portfolio_value',\n",
       " 'account.token_historical',\n",
       " 'account.token_return',\n",
       " 'account.token_return_historical',\n",
       " 'account.token_transfer',\n",
       " 'account.var',\n",
       " 'accounts.balances',\n",
       " 'accounts.native_balance',\n",
       " 'accounts.portfolio',\n",
       " 'accounts.portfolio_value',\n",
       " 'accounts.token_historical',\n",
       " 'accounts.token_historical_balance',\n",
       " 'accounts.token_return',\n",
       " 'accounts.token_return_historical',\n",
       " 'accounts.token_transfer',\n",
       " 'accounts.value',\n",
       " 'balancer_fi.get_all_pools',\n",
       " 'balancer_fi.get_all_pools_price_info',\n",
       " 'balancer_fi.get_pool_price_info',\n",
       " 'band.price_by_symbol',\n",
       " 'band.price_by_symbol_bulk',\n",
       " 'chain.get_block',\n",
       " 'chain.get_block_timestamp',\n",
       " 'chain.get_block_ymd',\n",
       " 'chain.get_latest_block',\n",
       " 'chain.list',\n",
       " 'chainlink.get_feed_registry',\n",
       " 'chainlink.price_by_ens',\n",
       " 'chainlink.price_by_feed',\n",
       " 'chainlink.price_by_registry',\n",
       " 'chainlink.price_from_registry_maybe',\n",
       " 'cmk.circulating_supply',\n",
       " 'cmk.get_all_vesting_balances',\n",
       " 'cmk.get_vesting_accounts',\n",
       " 'cmk.get_vesting_info_by_account',\n",
       " 'cmk.total_supply',\n",
       " 'cmk.vesting_contracts',\n",
       " 'cmk.vesting_events',\n",
       " 'compose.map_block_time_series',\n",
       " 'compose.map_block_time_series_local',\n",
       " 'compose.map_blocks',\n",
       " 'compose.map_inputs',\n",
       " 'compound_v2.all_pools_info',\n",
       " 'compound_v2.all_pools_portfolio',\n",
       " 'compound_v2.all_pools_value',\n",
       " 'compound_v2.get_comptroller',\n",
       " 'compound_v2.get_pools',\n",
       " 'compound_v2.pool_info',\n",
       " 'compound_v2.pool_value',\n",
       " 'console',\n",
       " 'contract.events',\n",
       " 'contract.events_block_series',\n",
       " 'contrib.abracadabra_overall_assets',\n",
       " 'contrib.abracadabra_overall_liabilities',\n",
       " 'contrib.abracadabra_overall_portfolio',\n",
       " 'contrib.abracadabra_tvl',\n",
       " 'contrib.abracadabra_tvl_historical',\n",
       " 'contrib.abracadabra_vault_portfolio',\n",
       " 'contrib.ape_count',\n",
       " 'contrib.curve_convex_yield',\n",
       " 'contrib.curve_crv_lockup',\n",
       " 'contrib.curve_fi_get_gauge_amounts',\n",
       " 'contrib.curve_fi_pool_historical_reserve',\n",
       " 'contrib.debt_dao_generalized_cashflow',\n",
       " 'contrib.example_token_price',\n",
       " 'contrib.exploited_value',\n",
       " 'contrib.kunlun_demo',\n",
       " 'contrib.neilz',\n",
       " 'contrib.neilz_new_addresses',\n",
       " 'contrib.neilz_redacted_convex_cashflow',\n",
       " 'contrib.neilz_redacted_votium_cashflow',\n",
       " 'contrib.nft_tx',\n",
       " 'contrib.pooly_fund_raise',\n",
       " 'contrib.pooly_fund_raise_leaderboard',\n",
       " 'contrib.pooly_fund_raise_timeseries',\n",
       " 'contrib.pooly_fund_raise_usd_and_count',\n",
       " 'contrib.pooly_total_supply',\n",
       " 'contrib.token_balance_of',\n",
       " 'contrib.token_net_inflow',\n",
       " 'contrib.uniswap_fee',\n",
       " 'convex_fi.all_pool_info',\n",
       " 'convex_fi.booster',\n",
       " 'convex_fi.earned',\n",
       " 'curve.lp',\n",
       " 'curve.lp_accounts',\n",
       " 'curve_fi.all_gauges',\n",
       " 'curve_fi.all_pools',\n",
       " 'curve_fi.all_pools_info',\n",
       " 'curve_fi.all_yield',\n",
       " 'curve_fi.gauge_claim_addresses',\n",
       " 'curve_fi.gauge_lp_dist',\n",
       " 'curve_fi.gauge_yield',\n",
       " 'curve_fi.get_gauge_controller',\n",
       " 'curve_fi.get_gauge_stake_and_claimable_rewards',\n",
       " 'curve_fi.get_provider',\n",
       " 'curve_fi.get_registry',\n",
       " 'curve_fi.historical_gauge_lp_dist',\n",
       " 'curve_fi.lp_pool_dist',\n",
       " 'curve_fi.pool_info',\n",
       " 'curve_fi.pool_info_tokens',\n",
       " 'curve_fi.pool_tvl',\n",
       " 'dex.pool_volume',\n",
       " 'dex.pool_volume_block_range',\n",
       " 'dex.pool_volume_historical',\n",
       " 'dex.pool_volume_historical_ledger',\n",
       " 'dex.primary_token_pairs',\n",
       " 'dex.ring0_tokens',\n",
       " 'dex.ring1_tokens',\n",
       " 'dune.cancel_execution',\n",
       " 'dune.execute_query',\n",
       " 'dune.get_execution_results',\n",
       " 'dune.get_execution_status',\n",
       " 'dune.get_latest_query_results',\n",
       " 'dune.run_query',\n",
       " 'example.account',\n",
       " 'example.address',\n",
       " 'example.all',\n",
       " 'example.block_number',\n",
       " 'example.block_time',\n",
       " 'example.contract',\n",
       " 'example.data_error_1',\n",
       " 'example.data_error_2',\n",
       " 'example.dto',\n",
       " 'example.dto_type_test_1',\n",
       " 'example.dto_type_test_2',\n",
       " 'example.historical',\n",
       " 'example.historical_block',\n",
       " 'example.iteration',\n",
       " 'example.ledger_aggregates',\n",
       " 'example.ledger_blocks',\n",
       " 'example.ledger_contracts',\n",
       " 'example.ledger_logs',\n",
       " 'example.ledger_receipts',\n",
       " 'example.ledger_token_transfers',\n",
       " 'example.ledger_tokens',\n",
       " 'example.ledger_traces',\n",
       " 'example.ledger_transactions',\n",
       " 'example.libraries',\n",
       " 'example.model',\n",
       " 'example.model_run',\n",
       " 'example.token',\n",
       " 'finance.example_historical_price',\n",
       " 'finance.example_var_contract',\n",
       " 'finance.lcr',\n",
       " 'finance.min_risk_rate',\n",
       " 'finance.sharpe_ratio_token',\n",
       " 'finance.var_aave',\n",
       " 'finance.var_compound',\n",
       " 'finance.var_dex_lp',\n",
       " 'finance.var_engine_historical',\n",
       " 'finance.var_portfolio_historical',\n",
       " 'historical.empty',\n",
       " 'historical.run_model',\n",
       " 'ichi.vault_cashflow',\n",
       " 'ichi.vault_cashflow_block_series',\n",
       " 'ichi.vault_first_deposit',\n",
       " 'ichi.vault_info',\n",
       " 'ichi.vault_info_full',\n",
       " 'ichi.vault_performance',\n",
       " 'ichi.vault_tokens',\n",
       " 'ichi.vault_tokens_info',\n",
       " 'ichi.vaults',\n",
       " 'ichi.vaults_block_series',\n",
       " 'ichi.vaults_performance',\n",
       " 'indexcoop.fee',\n",
       " 'indexcoop.fee_month',\n",
       " 'ipor.get_index',\n",
       " 'ipor.get_lp_exchange',\n",
       " 'ipor.get_oracle_and_calculator',\n",
       " 'ipor.get_swap',\n",
       " 'nft.about',\n",
       " 'nft.get',\n",
       " 'nft.mint',\n",
       " 'pancakeswap_v2.all_pools',\n",
       " 'pancakeswap_v2.all_pools_events',\n",
       " 'pancakeswap_v2.all_pools_ledger',\n",
       " 'pancakeswap_v2.get_factory',\n",
       " 'pancakeswap_v2.get_pool_by_pair',\n",
       " 'pancakeswap_v2.get_pool_info_token_price',\n",
       " 'pancakeswap_v2.get_pools',\n",
       " 'pancakeswap_v2.get_pools_ledger',\n",
       " 'pancakeswap_v2.get_pools_tokens',\n",
       " 'pancakeswap_v2.get_ring0_ref_price',\n",
       " 'pancakeswap_v2.get_weighted_price',\n",
       " 'pancakeswap_v3.all_pools_events',\n",
       " 'pancakeswap_v3.all_pools_ledger',\n",
       " 'pancakeswap_v3.get_factory',\n",
       " 'pancakeswap_v3.get_pool_info_token_price',\n",
       " 'pancakeswap_v3.get_pools',\n",
       " 'pancakeswap_v3.get_pools_by_pair',\n",
       " 'pancakeswap_v3.get_pools_ledger',\n",
       " 'pancakeswap_v3.get_pools_tokens',\n",
       " 'pancakeswap_v3.get_ring0_ref_price',\n",
       " 'pancakeswap_v3.get_weighted_price',\n",
       " 'price.cex',\n",
       " 'price.cex_maybe',\n",
       " 'price.dex',\n",
       " 'price.dex_blended',\n",
       " 'price.dex_blended_maybe',\n",
       " 'price.dex_curve_fi',\n",
       " 'price.dex_curve_fi_maybe',\n",
       " 'price.dex_db_prefer',\n",
       " 'price.dex_maybe',\n",
       " 'price.dex_pool',\n",
       " 'price.multiple_maybe',\n",
       " 'price.one_inch',\n",
       " 'price.oracle_band_protocol',\n",
       " 'price.oracle_band_protocol_multiple',\n",
       " 'price.oracle_chainlink',\n",
       " 'price.oracle_chainlink_maybe',\n",
       " 'price.pool_aggregator',\n",
       " 'price.quote',\n",
       " 'price.quote_historical',\n",
       " 'price.quote_historical_multiple',\n",
       " 'price.quote_maybe',\n",
       " 'price.quote_maybe_blocks',\n",
       " 'price.quote_multiple',\n",
       " 'price.quote_multiple_maybe',\n",
       " 'quickswap_v2.all_pools',\n",
       " 'quickswap_v2.all_pools_events',\n",
       " 'quickswap_v2.all_pools_ledger',\n",
       " 'quickswap_v2.get_factory',\n",
       " 'quickswap_v2.get_pool_by_pair',\n",
       " 'quickswap_v2.get_pool_info_token_price',\n",
       " 'quickswap_v2.get_pools',\n",
       " 'quickswap_v2.get_pools_ledger',\n",
       " 'quickswap_v2.get_pools_tokens',\n",
       " 'quickswap_v2.get_ring0_ref_price',\n",
       " 'quickswap_v2.get_weighted_price',\n",
       " 'quickswap_v3.all_pools_events',\n",
       " 'quickswap_v3.all_pools_ledger',\n",
       " 'quickswap_v3.get_factory',\n",
       " 'quickswap_v3.get_pool_info_token_price',\n",
       " 'quickswap_v3.get_pools',\n",
       " 'quickswap_v3.get_pools_by_pair',\n",
       " 'quickswap_v3.get_pools_ledger',\n",
       " 'quickswap_v3.get_pools_tokens',\n",
       " 'quickswap_v3.get_ring0_ref_price',\n",
       " 'quickswap_v3.get_weighted_price',\n",
       " 'series.block_start_end_interval',\n",
       " 'series.block_window_interval',\n",
       " 'series.time_start_end_interval',\n",
       " 'series.time_window_interval',\n",
       " 'set_v2.modules',\n",
       " 'sushiswap.all_pools',\n",
       " 'sushiswap.all_pools_events',\n",
       " 'sushiswap.all_pools_ledger',\n",
       " 'sushiswap.get_factory',\n",
       " 'sushiswap.get_pool_by_pair',\n",
       " 'sushiswap.get_pool_info_token_price',\n",
       " 'sushiswap.get_pools',\n",
       " 'sushiswap.get_pools_ledger',\n",
       " 'sushiswap.get_pools_tokens',\n",
       " 'sushiswap.get_ring0_ref_price',\n",
       " 'sushiswap.get_weighted_price',\n",
       " 'tls.score',\n",
       " 'token.all',\n",
       " 'token.balance',\n",
       " 'token.categorized_supply',\n",
       " 'token.deployment',\n",
       " 'token.holders',\n",
       " 'token.holders_all',\n",
       " 'token.holders_count',\n",
       " 'token.info',\n",
       " 'token.list',\n",
       " 'token.logo',\n",
       " 'token.netflow_block',\n",
       " 'token.netflow_segment_block',\n",
       " 'token.netflow_segment_window',\n",
       " 'token.netflow_window',\n",
       " 'token.overall_volume_block',\n",
       " 'token.overall_volume_window',\n",
       " 'token.stablecoins',\n",
       " 'token.swap_pool_volume',\n",
       " 'token.swap_pools',\n",
       " 'token.total_supply',\n",
       " 'token.transaction',\n",
       " 'token.txn_classify',\n",
       " 'token.underlying_maybe',\n",
       " 'token.volume_segment_block',\n",
       " 'token.volume_segment_window',\n",
       " 'uniswap.exchange',\n",
       " 'uniswap.quoter_price_dai',\n",
       " 'uniswap.router',\n",
       " 'uniswap.tokens',\n",
       " 'uniswap_v2.all_pools',\n",
       " 'uniswap_v2.all_pools_events',\n",
       " 'uniswap_v2.all_pools_ledger',\n",
       " 'uniswap_v2.get_factory',\n",
       " 'uniswap_v2.get_pool_by_pair',\n",
       " 'uniswap_v2.get_pool_info',\n",
       " 'uniswap_v2.get_pool_info_token_price',\n",
       " 'uniswap_v2.get_pool_price_info',\n",
       " 'uniswap_v2.get_pools',\n",
       " 'uniswap_v2.get_pools_ledger',\n",
       " 'uniswap_v2.get_pools_tokens',\n",
       " 'uniswap_v2.get_ring0_ref_price',\n",
       " 'uniswap_v2.get_weighted_price',\n",
       " 'uniswap_v2.lp',\n",
       " 'uniswap_v2.lp_amount',\n",
       " 'uniswap_v2.lp_fee',\n",
       " 'uniswap_v2.lp_fee_history',\n",
       " 'uniswap_v2.lp_pos',\n",
       " 'uniswap_v2.pool_tvl',\n",
       " 'uniswap_v3.all_pools_events',\n",
       " 'uniswap_v3.all_pools_ledger',\n",
       " 'uniswap_v3.get_amount_in_ticks',\n",
       " 'uniswap_v3.get_factory',\n",
       " 'uniswap_v3.get_liquidity_by_ticks',\n",
       " 'uniswap_v3.get_pool_info',\n",
       " 'uniswap_v3.get_pool_info_token_price',\n",
       " 'uniswap_v3.get_pool_price_info',\n",
       " 'uniswap_v3.get_pools',\n",
       " 'uniswap_v3.get_pools_by_pair',\n",
       " 'uniswap_v3.get_pools_ledger',\n",
       " 'uniswap_v3.get_pools_tokens',\n",
       " 'uniswap_v3.get_ring0_ref_price',\n",
       " 'uniswap_v3.get_weighted_price',\n",
       " 'uniswap_v3.get_weighted_price_maybe',\n",
       " 'uniswap_v3.get_weighted_price_primary_tokens',\n",
       " 'uniswap_v3.id',\n",
       " 'uniswap_v3.lp',\n",
       " 'votium.bribe_claim',\n",
       " 'xcmk.cmk_staked',\n",
       " 'xcmk.deployment_time',\n",
       " 'xcmk.total_supply']"
      ]
     },
     "execution_count": 13,
     "metadata": {},
     "output_type": "execute_result"
    }
   ],
   "source": [
    "dir(models)"
   ]
  },
  {
   "cell_type": "code",
   "execution_count": 14,
   "id": "98d3cce4-33de-4508-b98f-8e1f89df9620",
   "metadata": {},
   "outputs": [],
   "source": [
    "model_loader.reload()"
   ]
  },
  {
   "attachments": {},
   "cell_type": "markdown",
   "id": "1556a38d-521d-4a1d-970f-de4cf555eade",
   "metadata": {},
   "source": [
    "## 3. Create and use types\n"
   ]
  },
  {
   "attachments": {},
   "cell_type": "markdown",
   "id": "d0155480-f17e-4d72-bbe6-757dfa898e32",
   "metadata": {},
   "source": [
    "### 3.1 Example - get price for USDC\n"
   ]
  },
  {
   "cell_type": "code",
   "execution_count": 15,
   "id": "de5b809b-da27-4dd2-801d-358e8d06423c",
   "metadata": {},
   "outputs": [
    {
     "name": "stdout",
     "output_type": "stream",
     "text": [
      "USDT decimals: 6\n"
     ]
    },
    {
     "data": {
      "text/plain": [
       "{'price': 1.0001,\n",
       " 'src': 'chainlink.price-by-feed|USDT / USD|0xa964273552C1dBa201f5f000215F5BD5576e8f93|v4|None|t:28200s|r:0'}"
      ]
     },
     "execution_count": 15,
     "metadata": {},
     "output_type": "execute_result"
    }
   ],
   "source": [
    "usdt = Token(address='0xdAC17F958D2ee523a2206206994597C13D831ec7')\n",
    "print('USDT decimals:', usdt.decimals)\n",
    "models.chainlink.price_by_ens({'domain': 'usdt-usd.data.eth'})"
   ]
  },
  {
   "cell_type": "code",
   "execution_count": 16,
   "id": "720790e0-c67b-4841-b4aa-a5a77c3d759a",
   "metadata": {},
   "outputs": [
    {
     "data": {
      "text/plain": [
       "{'src': 'chainlink.price-by-feed|USDT / USD|0xa964273552C1dBa201f5f000215F5BD5576e8f93|v4|None|t:17407s|r:0',\n",
       " 'price': 1.00010233}"
      ]
     },
     "execution_count": 16,
     "metadata": {},
     "output_type": "execute_result"
    }
   ],
   "source": [
    "models(BlockNumber.from_ymd(2022, 5, 3)).chainlink.price_by_ens({'domain': 'usdt-usd.data.eth'})"
   ]
  },
  {
   "cell_type": "code",
   "execution_count": 17,
   "id": "07a82f61-1336-41ec-80bb-a96504e7040a",
   "metadata": {},
   "outputs": [
    {
     "data": {
      "text/plain": [
       "{'src': 'chainlink.price-by-registry|USDT / USD|0xa964273552C1dBa201f5f000215F5BD5576e8f93|v4|True|t:17407s|r:0',\n",
       " 'price': 1.00010233,\n",
       " 'quoteAddress': '0x0000000000000000000000000000000000000348'}"
      ]
     },
     "execution_count": 17,
     "metadata": {},
     "output_type": "execute_result"
    }
   ],
   "source": [
    "models(BlockNumber.from_ymd(2022, 5, 3)).chainlink.price_by_registry(base=usdt)"
   ]
  },
  {
   "attachments": {},
   "cell_type": "markdown",
   "id": "2d72790e-4221-4f93-9ed2-51ec8cf980ed",
   "metadata": {},
   "source": [
    "### 3.1 Run a model\n"
   ]
  },
  {
   "attachments": {},
   "cell_type": "markdown",
   "id": "f012e4fc-699c-4dd2-a6a3-223501cc878a",
   "metadata": {},
   "source": [
    "#### Run as of current block\n"
   ]
  },
  {
   "cell_type": "code",
   "execution_count": 18,
   "id": "7871dcbe-9891-475c-a7a3-21c90d771719",
   "metadata": {},
   "outputs": [
    {
     "name": "stdout",
     "output_type": "stream",
     "text": [
      "17635651 2023-07-06 15:19:59+00:00 models: 72.44916657 run_model: 72.44916657\n"
     ]
    }
   ],
   "source": [
    "aave = Token(symbol='AAVE')\n",
    "\n",
    "print(block_number,\n",
    "      block_number.timestamp_datetime,\n",
    "      'models:', context.models.price.quote(base=aave, return_type=Price).price,\n",
    "      'run_model:', context.run_model('price.quote', input={'base': aave}, return_type=Price).price)"
   ]
  },
  {
   "attachments": {},
   "cell_type": "markdown",
   "id": "f1799e9f-49e1-463d-8021-39ef6c0d5acd",
   "metadata": {},
   "source": [
    "#### Run as of past blocks\n"
   ]
  },
  {
   "cell_type": "code",
   "execution_count": 19,
   "id": "194dc669-76f3-4182-86ee-37faef331818",
   "metadata": {},
   "outputs": [
    {
     "data": {
      "text/plain": [
       "datetime.datetime(2023, 7, 6, 15, 19, 59, tzinfo=datetime.timezone.utc)"
      ]
     },
     "execution_count": 19,
     "metadata": {},
     "output_type": "execute_result"
    }
   ],
   "source": [
    "context.block_number.timestamp_datetime"
   ]
  },
  {
   "cell_type": "code",
   "execution_count": 20,
   "id": "17c172ff-e4aa-4f70-9813-be0587c42e5c",
   "metadata": {},
   "outputs": [
    {
     "name": "stdout",
     "output_type": "stream",
     "text": [
      "14701368 2022-05-02 23:59:50+00:00 models: 144.94887195 run_model: 144.94887195\n",
      "14739154 2022-05-08 23:59:54+00:00 models: 125.63830024 run_model: 125.63830024\n",
      "13916165 2021-12-31 23:59:49+00:00 models: 255.01691343 run_model: 255.01691343\n"
     ]
    }
   ],
   "source": [
    "for dt in [(2022, 5, 3), (2022, 5, 9), (2022, 1, 1)]:\n",
    "    block = BlockNumber.from_ymd(*dt)\n",
    "    print(block,\n",
    "          block.timestamp_datetime,\n",
    "          'models:', context.models(block).price.quote(base=aave, return_type=Price).price,\n",
    "          'run_model:', context.run_model('price.quote', input={'base': aave}, return_type=Price, block_number=block).price)"
   ]
  },
  {
   "attachments": {},
   "cell_type": "markdown",
   "id": "5707b680-dfac-403e-b2c5-0415c74fd816",
   "metadata": {},
   "source": [
    "### 3.2 Travel between different blocks\n",
    "\n",
    "Tavel is one-way only - can only travel to earlier/smaller block numbers, and not to the future/later blocks.\n"
   ]
  },
  {
   "cell_type": "code",
   "execution_count": 21,
   "id": "2771ed93-a2f7-41a6-9024-72dc4a16f349",
   "metadata": {},
   "outputs": [
    {
     "data": {
      "text/plain": [
       "(144.94887195,)"
      ]
     },
     "execution_count": 21,
     "metadata": {},
     "output_type": "execute_result"
    }
   ],
   "source": [
    "context.block_number = BlockNumber.from_ymd(2022, 5, 3)\n",
    "models.price.quote(base=aave, return_type=Price).price,"
   ]
  },
  {
   "cell_type": "code",
   "execution_count": 22,
   "id": "bd9b3ac0-7ba1-4ad6-a5ac-e52febcf8141",
   "metadata": {},
   "outputs": [],
   "source": [
    "# Below will gave any error as we wants to travel back\n",
    "# context.block_number = BlockNumber.from_ymd(2022, 5, 30)\n",
    "# models.chainlink.price_usd(input=aave, return_type=Price).price"
   ]
  },
  {
   "attachments": {},
   "cell_type": "markdown",
   "id": "f987fba5-518c-431c-9dbd-4e35ffabc753",
   "metadata": {},
   "source": [
    "Instead, create a new context. It will automatically become the current context.\n"
   ]
  },
  {
   "cell_type": "code",
   "execution_count": 23,
   "id": "b29ba3c9-916f-4f64-9f6e-32944f67df25",
   "metadata": {},
   "outputs": [
    {
     "data": {
      "text/plain": [
       "(datetime.datetime(2022, 4, 2, 23, 59, 59, tzinfo=datetime.timezone.utc),\n",
       " datetime.datetime(2022, 5, 2, 23, 59, 50, tzinfo=datetime.timezone.utc))"
      ]
     },
     "execution_count": 23,
     "metadata": {},
     "output_type": "execute_result"
    }
   ],
   "source": [
    "cmf_params_old = cmf_param | {'block_number': BlockNumber.from_ymd(2022, 4, 3)}\n",
    "\n",
    "context_old,_ = %cmf cmf_params_old\n",
    "context_old.block_number.timestamp_datetime, context.block_number.timestamp_datetime"
   ]
  },
  {
   "attachments": {},
   "cell_type": "markdown",
   "id": "3c32c8d3-8b4f-4f59-a6be-8cdb76311d05",
   "metadata": {},
   "source": [
    "If we would like to use previously defined context, run `context.set_current()` to set it back to the current context.\n",
    "\n",
    "Otherwise, we may encounter error with running model for a block number later than the context.\n"
   ]
  },
  {
   "cell_type": "code",
   "execution_count": 24,
   "id": "7f265f9f-deb0-4566-a530-6b6977c37641",
   "metadata": {},
   "outputs": [],
   "source": [
    "context.set_current()"
   ]
  },
  {
   "attachments": {},
   "cell_type": "markdown",
   "id": "decdfa13-5c6e-4c34-af8e-8e126e8e381f",
   "metadata": {},
   "source": [
    "### 4. Ledger\n"
   ]
  },
  {
   "cell_type": "code",
   "execution_count": 25,
   "id": "2d37ca30-ef03-4cf6-a8d0-dbcd03918fe4",
   "metadata": {},
   "outputs": [
    {
     "data": {
      "text/html": [
       "<div>\n",
       "<style scoped>\n",
       "    .dataframe tbody tr th:only-of-type {\n",
       "        vertical-align: middle;\n",
       "    }\n",
       "\n",
       "    .dataframe tbody tr th {\n",
       "        vertical-align: top;\n",
       "    }\n",
       "\n",
       "    .dataframe thead th {\n",
       "        text-align: right;\n",
       "    }\n",
       "</style>\n",
       "<table border=\"1\" class=\"dataframe\">\n",
       "  <thead>\n",
       "    <tr style=\"text-align: right;\">\n",
       "      <th></th>\n",
       "      <th>block_hash</th>\n",
       "      <th>from_address</th>\n",
       "      <th>to_address</th>\n",
       "      <th>value</th>\n",
       "    </tr>\n",
       "  </thead>\n",
       "  <tbody>\n",
       "    <tr>\n",
       "      <th>0</th>\n",
       "      <td>0x8ccec7255f1c2519f87936a725a957d246f21047e676...</td>\n",
       "      <td>0x8c6f71f96419325c2f637332650029e2a53787a4</td>\n",
       "      <td>0xd19053361e356e79166b22beaacd248b1b63135f</td>\n",
       "      <td>5294873127907440</td>\n",
       "    </tr>\n",
       "    <tr>\n",
       "      <th>1</th>\n",
       "      <td>0x8ccec7255f1c2519f87936a725a957d246f21047e676...</td>\n",
       "      <td>0xf16e9b0d03470827a95cdfd0cb8a8a3b46969b91</td>\n",
       "      <td>0x5218e472cfcfe0b64a064f055b43b4cdc9efd3a6</td>\n",
       "      <td>0</td>\n",
       "    </tr>\n",
       "    <tr>\n",
       "      <th>2</th>\n",
       "      <td>0x8ccec7255f1c2519f87936a725a957d246f21047e676...</td>\n",
       "      <td>0xcad621da75a66c7a8f4ff86d30a2bf981bfc8fdd</td>\n",
       "      <td>0xebd478795b54ae755b3eb1932885453ab43fee84</td>\n",
       "      <td>3679563370000000000</td>\n",
       "    </tr>\n",
       "    <tr>\n",
       "      <th>3</th>\n",
       "      <td>0x8ccec7255f1c2519f87936a725a957d246f21047e676...</td>\n",
       "      <td>0xec30d02f10353f8efc9601371f56e808751f396f</td>\n",
       "      <td>0xdac17f958d2ee523a2206206994597c13d831ec7</td>\n",
       "      <td>0</td>\n",
       "    </tr>\n",
       "    <tr>\n",
       "      <th>4</th>\n",
       "      <td>0x8ccec7255f1c2519f87936a725a957d246f21047e676...</td>\n",
       "      <td>0x8fa7b1d8dffe8c2a94ad15806110c24591e1153f</td>\n",
       "      <td>0xf598b81ef8c7b52a7f2a89253436e72ec6dc871f</td>\n",
       "      <td>97898558144736000</td>\n",
       "    </tr>\n",
       "  </tbody>\n",
       "</table>\n",
       "</div>"
      ],
      "text/plain": [
       "                                          block_hash  \\\n",
       "0  0x8ccec7255f1c2519f87936a725a957d246f21047e676...   \n",
       "1  0x8ccec7255f1c2519f87936a725a957d246f21047e676...   \n",
       "2  0x8ccec7255f1c2519f87936a725a957d246f21047e676...   \n",
       "3  0x8ccec7255f1c2519f87936a725a957d246f21047e676...   \n",
       "4  0x8ccec7255f1c2519f87936a725a957d246f21047e676...   \n",
       "\n",
       "                                 from_address  \\\n",
       "0  0x8c6f71f96419325c2f637332650029e2a53787a4   \n",
       "1  0xf16e9b0d03470827a95cdfd0cb8a8a3b46969b91   \n",
       "2  0xcad621da75a66c7a8f4ff86d30a2bf981bfc8fdd   \n",
       "3  0xec30d02f10353f8efc9601371f56e808751f396f   \n",
       "4  0x8fa7b1d8dffe8c2a94ad15806110c24591e1153f   \n",
       "\n",
       "                                   to_address                value  \n",
       "0  0xd19053361e356e79166b22beaacd248b1b63135f     5294873127907440  \n",
       "1  0x5218e472cfcfe0b64a064f055b43b4cdc9efd3a6                    0  \n",
       "2  0xebd478795b54ae755b3eb1932885453ab43fee84  3679563370000000000  \n",
       "3  0xdac17f958d2ee523a2206206994597c13d831ec7                    0  \n",
       "4  0xf598b81ef8c7b52a7f2a89253436e72ec6dc871f    97898558144736000  "
      ]
     },
     "execution_count": 25,
     "metadata": {},
     "output_type": "execute_result"
    }
   ],
   "source": [
    "with context.ledger.Transaction as q:\n",
    "    df_ledger = (q.select(\n",
    "        columns=[q.BLOCK_HASH,\n",
    "                 q.FROM_ADDRESS,\n",
    "                 q.TO_ADDRESS,\n",
    "                 q.VALUE],\n",
    "        where=q.BLOCK_NUMBER.eq(context.block_number-1000),\n",
    "        order_by=q.BLOCK_TIMESTAMP,\n",
    "        limit=5)\n",
    "        .to_dataframe())\n",
    "df_ledger"
   ]
  },
  {
   "cell_type": "code",
   "execution_count": 26,
   "id": "0c4e3245",
   "metadata": {},
   "outputs": [
    {
     "data": {
      "text/html": [
       "<div>\n",
       "<style scoped>\n",
       "    .dataframe tbody tr th:only-of-type {\n",
       "        vertical-align: middle;\n",
       "    }\n",
       "\n",
       "    .dataframe tbody tr th {\n",
       "        vertical-align: top;\n",
       "    }\n",
       "\n",
       "    .dataframe thead th {\n",
       "        text-align: right;\n",
       "    }\n",
       "</style>\n",
       "<table border=\"1\" class=\"dataframe\">\n",
       "  <thead>\n",
       "    <tr style=\"text-align: right;\">\n",
       "      <th></th>\n",
       "      <th>block_hash</th>\n",
       "      <th>from_address</th>\n",
       "      <th>to_address</th>\n",
       "      <th>value</th>\n",
       "    </tr>\n",
       "  </thead>\n",
       "  <tbody>\n",
       "    <tr>\n",
       "      <th>0</th>\n",
       "      <td>0x8ccec7255f1c2519f87936a725a957d246f21047e676...</td>\n",
       "      <td>0x8c6f71f96419325c2f637332650029e2a53787a4</td>\n",
       "      <td>0xd19053361e356e79166b22beaacd248b1b63135f</td>\n",
       "      <td>5294873127907440</td>\n",
       "    </tr>\n",
       "    <tr>\n",
       "      <th>1</th>\n",
       "      <td>0x8ccec7255f1c2519f87936a725a957d246f21047e676...</td>\n",
       "      <td>0xf16e9b0d03470827a95cdfd0cb8a8a3b46969b91</td>\n",
       "      <td>0x5218e472cfcfe0b64a064f055b43b4cdc9efd3a6</td>\n",
       "      <td>0</td>\n",
       "    </tr>\n",
       "    <tr>\n",
       "      <th>2</th>\n",
       "      <td>0x8ccec7255f1c2519f87936a725a957d246f21047e676...</td>\n",
       "      <td>0xcad621da75a66c7a8f4ff86d30a2bf981bfc8fdd</td>\n",
       "      <td>0xebd478795b54ae755b3eb1932885453ab43fee84</td>\n",
       "      <td>3679563370000000000</td>\n",
       "    </tr>\n",
       "    <tr>\n",
       "      <th>3</th>\n",
       "      <td>0x8ccec7255f1c2519f87936a725a957d246f21047e676...</td>\n",
       "      <td>0xec30d02f10353f8efc9601371f56e808751f396f</td>\n",
       "      <td>0xdac17f958d2ee523a2206206994597c13d831ec7</td>\n",
       "      <td>0</td>\n",
       "    </tr>\n",
       "    <tr>\n",
       "      <th>4</th>\n",
       "      <td>0x8ccec7255f1c2519f87936a725a957d246f21047e676...</td>\n",
       "      <td>0x8fa7b1d8dffe8c2a94ad15806110c24591e1153f</td>\n",
       "      <td>0xf598b81ef8c7b52a7f2a89253436e72ec6dc871f</td>\n",
       "      <td>97898558144736000</td>\n",
       "    </tr>\n",
       "  </tbody>\n",
       "</table>\n",
       "</div>"
      ],
      "text/plain": [
       "                                          block_hash  \\\n",
       "0  0x8ccec7255f1c2519f87936a725a957d246f21047e676...   \n",
       "1  0x8ccec7255f1c2519f87936a725a957d246f21047e676...   \n",
       "2  0x8ccec7255f1c2519f87936a725a957d246f21047e676...   \n",
       "3  0x8ccec7255f1c2519f87936a725a957d246f21047e676...   \n",
       "4  0x8ccec7255f1c2519f87936a725a957d246f21047e676...   \n",
       "\n",
       "                                 from_address  \\\n",
       "0  0x8c6f71f96419325c2f637332650029e2a53787a4   \n",
       "1  0xf16e9b0d03470827a95cdfd0cb8a8a3b46969b91   \n",
       "2  0xcad621da75a66c7a8f4ff86d30a2bf981bfc8fdd   \n",
       "3  0xec30d02f10353f8efc9601371f56e808751f396f   \n",
       "4  0x8fa7b1d8dffe8c2a94ad15806110c24591e1153f   \n",
       "\n",
       "                                   to_address                value  \n",
       "0  0xd19053361e356e79166b22beaacd248b1b63135f     5294873127907440  \n",
       "1  0x5218e472cfcfe0b64a064f055b43b4cdc9efd3a6                    0  \n",
       "2  0xebd478795b54ae755b3eb1932885453ab43fee84  3679563370000000000  \n",
       "3  0xdac17f958d2ee523a2206206994597c13d831ec7                    0  \n",
       "4  0xf598b81ef8c7b52a7f2a89253436e72ec6dc871f    97898558144736000  "
      ]
     },
     "execution_count": 26,
     "metadata": {},
     "output_type": "execute_result"
    }
   ],
   "source": [
    "with context.ledger.Transaction as q:\n",
    "    df_ledger = (q.select(\n",
    "        columns=[q.BLOCK_HASH,\n",
    "                 q.FROM_ADDRESS,\n",
    "                 q.TO_ADDRESS,\n",
    "                 q.VALUE],\n",
    "        where=q.BLOCK_NUMBER.eq(context.block_number-1000),\n",
    "        order_by=q.BLOCK_TIMESTAMP,\n",
    "        limit=5)\n",
    "        .to_dataframe())\n",
    "df_ledger"
   ]
  }
 ],
 "metadata": {
  "kernelspec": {
   "display_name": "Python 3.10.5 ('cmk310')",
   "language": "python",
   "name": "python3"
  },
  "language_info": {
   "codemirror_mode": {
    "name": "ipython",
    "version": 3
   },
   "file_extension": ".py",
   "mimetype": "text/x-python",
   "name": "python",
   "nbconvert_exporter": "python",
   "pygments_lexer": "ipython3",
   "version": "3.11.4"
  },
  "vscode": {
   "interpreter": {
    "hash": "ef3060a66f05e685ce670116a67026aba95afdffb2461d829b3351d07ec51c58"
   }
  }
 },
 "nbformat": 4,
 "nbformat_minor": 5
}
