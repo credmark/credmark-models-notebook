{
 "cells": [
  {
   "attachments": {},
   "cell_type": "markdown",
   "id": "9cbc2502-2aad-42ec-8728-25a0acae36e3",
   "metadata": {},
   "source": [
    "# Credmark Modeling Framework Example for Jupyter notebook\n",
    "## Introduction\n",
    "\n",
    "version: 2023.4.15"
   ]
  },
  {
   "cell_type": "markdown",
   "id": "62001676",
   "metadata": {},
   "source": [
    "## Installation\n",
    "\n",
    "If you would like to use Conda environment, run below commands in the terminal.\n",
    "\n",
    "    NAME=cmk # rename it to what you want to\n",
    "    conda create -y --name \"$NAME\"\n",
    "    conda install -y --name \"$NAME\" pip\n",
    "    conda activate ${NAME}\n",
    "    conda install -y --name \"$NAME\" ipython jupyterlab nb_conda_kernels black isort\n",
    "    conda install -y --name \"$NAME\" jupyterlab_code_formatter ipywidgets\n",
    "    conda install -y --name \"$NAME\" scipy numpy\n",
    "    conda install -y --name \"$NAME\" altair pandas matplotlib openpyxl xlsxwriter\n",
    "    conda activate ${NAME}"
   ]
  },
  {
   "cell_type": "markdown",
   "id": "680ea678",
   "metadata": {},
   "source": [
    "Launch Jupyter notebook and change the kernel in the newly created environment and run following commands.\n",
    "\n",
    "They will download the git repository of Cremark models in the directory two-levels up `../../` which is on the same level of `credmark-models-notebook` (line 1) and install the Credmark Modeling Framework (line 2).\n",
    "\n",
    "    !cd ../../ && git clone https://github.com/credmark/credmark-models-py.git\n",
    "    !cd ../../credmark-models-py && pip install -r requirements.txt && pip install -e .\n"
   ]
  },
  {
   "cell_type": "markdown",
   "id": "e24ac2e5-dc6f-42eb-9137-0252d7fc296a",
   "metadata": {},
   "source": [
    "## Initialize"
   ]
  },
  {
   "cell_type": "markdown",
   "id": "17120fd4-11b1-448f-8d78-ef0d5fd608d3",
   "metadata": {},
   "source": [
    "### 1. Create context and some shortcuts for frequently used utilitis.\n",
    "\n",
    "* Load the ipython extension\n",
    "\n",
    "* Create the initialization parameters\n",
    "    - chain_id: 1 for ETH\n",
    "    - block_number: None or a specific number.\n",
    "    - chain_to_provider_url: Web3 node (archive is preferred)\n",
    "    - api_url: None or a specific gateway server address\n",
    "    - use_local_models: None, '-' '*', or a comma-separated list.\n",
    "    - register_utility_global: True (set global variables for various utilities, e.g. ledger, web3, etc.)\n",
    "\n",
    "* Call the extension to create the context"
   ]
  },
  {
   "cell_type": "markdown",
   "id": "fc7d6f18",
   "metadata": {},
   "source": [
    "<div class=\"alert alert-block alert-info\">\n",
    "    <b>Note:</b> Change to a web3 provider you have in `params`/`chain_to_provider_url` below.\n",
    "</div>"
   ]
  },
  {
   "cell_type": "code",
   "execution_count": 1,
   "id": "84d69de1-3bbc-4677-9936-10e4085508c2",
   "metadata": {},
   "outputs": [],
   "source": [
    "%reload_ext credmark.cmf.ipython\n",
    "\n",
    "param = {'chain_id': 1,\n",
    " 'block_number': None,\n",
    " 'chain_to_provider_url': {'1': 'https://eth-mainnet.g.alchemy.com/v2/4HREehwJhXq-fkm1llCDGol-swXEXj0L'},\n",
    " 'api_url': None,\n",
    " 'use_local_models': None,\n",
    " 'register_utility_global': True}\n",
    "\n",
    "context, model_loader = %cmf param"
   ]
  },
  {
   "cell_type": "markdown",
   "id": "9842032f",
   "metadata": {},
   "source": [
    "* Get help for Cmf extension"
   ]
  },
  {
   "cell_type": "code",
   "execution_count": null,
   "id": "a9892f51",
   "metadata": {},
   "outputs": [],
   "source": [
    "%cmf help"
   ]
  },
  {
   "cell_type": "code",
   "execution_count": null,
   "id": "0851efc8",
   "metadata": {},
   "outputs": [],
   "source": [
    "%cmf help_param"
   ]
  },
  {
   "cell_type": "code",
   "execution_count": null,
   "id": "15b4a5f7",
   "metadata": {},
   "outputs": [],
   "source": [
    "%cmf default_param"
   ]
  },
  {
   "cell_type": "markdown",
   "id": "470ba5bb",
   "metadata": {},
   "source": [
    "### 2. (Optional) adjust logging level\n",
    "\n",
    "You could change the level of logging with `log_output()`."
   ]
  },
  {
   "cell_type": "code",
   "execution_count": null,
   "id": "2940e56b",
   "metadata": {},
   "outputs": [],
   "source": [
    "import logging\n",
    "# Change output of logging to a file, and \n",
    "# Change the level to DEBUG when no level is specified.\n",
    "# logging_output('../tmp/debug.log')\n",
    "\n",
    "# Change level of logging from the default (WARNING) to\n",
    "# either INFO (less information)\n",
    "# or DEBUG(more information).\n",
    "# Still output to stream.\n",
    "log_output(log_level=logging.INFO)"
   ]
  },
  {
   "cell_type": "markdown",
   "id": "87a47f0b-fb44-46e7-9a90-6cc2f910f854",
   "metadata": {},
   "source": [
    "## Use Cmf"
   ]
  },
  {
   "cell_type": "markdown",
   "id": "330ec118-a5e6-408b-90c2-e008706c0e77",
   "metadata": {},
   "source": [
    "### 1. Basic utilities"
   ]
  },
  {
   "cell_type": "code",
   "execution_count": null,
   "id": "909e266f-a115-4851-8391-dcd637a6cc2d",
   "metadata": {},
   "outputs": [],
   "source": [
    "get_dt(2022, 5, 3)"
   ]
  },
  {
   "cell_type": "code",
   "execution_count": null,
   "id": "e1cea06e-6df8-4036-848d-68ff2d55d722",
   "metadata": {},
   "outputs": [],
   "source": [
    "get_block(get_dt(2022, 5, 3))"
   ]
  },
  {
   "cell_type": "code",
   "execution_count": null,
   "id": "510abfe5-9ad6-4ef7-82cf-d5deef3fa50c",
   "metadata": {},
   "outputs": [],
   "source": [
    "context.block_number"
   ]
  },
  {
   "cell_type": "code",
   "execution_count": null,
   "id": "b447b5f9-09ca-4213-acc9-6038bb58eda2",
   "metadata": {},
   "outputs": [],
   "source": [
    "context.chain_id"
   ]
  },
  {
   "cell_type": "code",
   "execution_count": null,
   "id": "f1ac9d76-3613-4baf-864a-74a6626dacc2",
   "metadata": {},
   "outputs": [],
   "source": [
    "context.web3"
   ]
  },
  {
   "cell_type": "code",
   "execution_count": null,
   "id": "6f2fed1f-67e5-4d5e-888a-5e09ad637ff3",
   "metadata": {},
   "outputs": [],
   "source": [
    "context.web3.eth.get_balance('0xd3CdA913deB6f67967B99D67aCDFa1712C293601')"
   ]
  },
  {
   "cell_type": "code",
   "execution_count": null,
   "id": "02813570-ef2a-4b69-8e78-0f3df0ef0fa3",
   "metadata": {},
   "outputs": [],
   "source": [
    "context.web3.eth.get_block(context.block_number)['gasUsed']"
   ]
  },
  {
   "cell_type": "markdown",
   "id": "2b937e10-c4eb-4194-ae7f-337ff4b1c333",
   "metadata": {},
   "source": [
    "### 2. Use models\n",
    "\n",
    "1. Type `models.` and hit `TAB` key, a list of models will be pop up.\n",
    "2. Select a model and type ? will show description and help, `models.token.info?`\n",
    "3. Show the list of models wiht `dir(models)`, or `model_loader.loaded_model_versions()` with version information.\n",
    "4. If you have updated any model in the folder on disk, run `model_loader.reload()` to refresh."
   ]
  },
  {
   "cell_type": "code",
   "execution_count": null,
   "id": "426d0aef-c177-41f1-a9d5-b395812e31bc",
   "metadata": {},
   "outputs": [],
   "source": [
    "dir(models)"
   ]
  },
  {
   "cell_type": "code",
   "execution_count": null,
   "id": "8fb4423c-a210-4d6d-986d-8ba457b3e452",
   "metadata": {},
   "outputs": [],
   "source": [
    "models.tokens.erc20?"
   ]
  },
  {
   "cell_type": "code",
   "execution_count": null,
   "id": "98d3cce4-33de-4508-b98f-8e1f89df9620",
   "metadata": {},
   "outputs": [],
   "source": [
    "model_loader.reload()"
   ]
  },
  {
   "cell_type": "markdown",
   "id": "1556a38d-521d-4a1d-970f-de4cf555eade",
   "metadata": {},
   "source": [
    "## 3. Create and use types"
   ]
  },
  {
   "cell_type": "markdown",
   "id": "d0155480-f17e-4d72-bbe6-757dfa898e32",
   "metadata": {},
   "source": [
    "### 3.1 Example - get price for USDC"
   ]
  },
  {
   "cell_type": "code",
   "execution_count": null,
   "id": "de5b809b-da27-4dd2-801d-358e8d06423c",
   "metadata": {},
   "outputs": [],
   "source": [
    "usdt = Token(address='0xdAC17F958D2ee523a2206206994597C13D831ec7')\n",
    "print('USDT decimals:', usdt.decimals)\n",
    "models.chainlink.price_by_ens({'domain': 'usdt-usd.data.eth'})"
   ]
  },
  {
   "cell_type": "code",
   "execution_count": null,
   "id": "720790e0-c67b-4841-b4aa-a5a77c3d759a",
   "metadata": {},
   "outputs": [],
   "source": [
    "models(get_block(get_dt(2022, 5, 3))).chainlink.price_by_ens({'domain': 'usdt-usd.data.eth'})"
   ]
  },
  {
   "cell_type": "code",
   "execution_count": null,
   "id": "07a82f61-1336-41ec-80bb-a96504e7040a",
   "metadata": {},
   "outputs": [],
   "source": [
    "models(get_block(get_dt(2022, 5, 3))).chainlink.price_by_registry(base=usdt)"
   ]
  },
  {
   "cell_type": "markdown",
   "id": "2d72790e-4221-4f93-9ed2-51ec8cf980ed",
   "metadata": {},
   "source": [
    "### 3.1 Run a model"
   ]
  },
  {
   "cell_type": "markdown",
   "id": "f012e4fc-699c-4dd2-a6a3-223501cc878a",
   "metadata": {},
   "source": [
    "#### Run as of current block"
   ]
  },
  {
   "cell_type": "code",
   "execution_count": null,
   "id": "7871dcbe-9891-475c-a7a3-21c90d771719",
   "metadata": {},
   "outputs": [],
   "source": [
    "aave = Token(symbol='AAVE')\n",
    "\n",
    "print(block_number,\n",
    "      block_number.timestamp_datetime,\n",
    "      'models:', context.models.price.quote(base=aave, return_type=Price).price,\n",
    "      'run_model:', context.run_model('price.quote', input={'base': aave}, return_type=Price).price)"
   ]
  },
  {
   "cell_type": "markdown",
   "id": "f1799e9f-49e1-463d-8021-39ef6c0d5acd",
   "metadata": {},
   "source": [
    "#### Run as of past blocks"
   ]
  },
  {
   "cell_type": "code",
   "execution_count": null,
   "id": "194dc669-76f3-4182-86ee-37faef331818",
   "metadata": {},
   "outputs": [],
   "source": [
    "context.block_number.timestamp_datetime"
   ]
  },
  {
   "cell_type": "code",
   "execution_count": null,
   "id": "17c172ff-e4aa-4f70-9813-be0587c42e5c",
   "metadata": {},
   "outputs": [],
   "source": [
    "for dt in [get_dt(2022, 5, 3), get_dt(2022, 5, 9), get_dt(2022, 1, 1)]:\n",
    "    block = get_block(dt)\n",
    "    print(block,\n",
    "          block.timestamp_datetime,\n",
    "          'models:', context.models(block).price.quote(base=aave, return_type=Price).price,\n",
    "          'run_model:', context.run_model('price.quote', input={'base': aave}, return_type=Price, block_number=block).price)"
   ]
  },
  {
   "cell_type": "markdown",
   "id": "5707b680-dfac-403e-b2c5-0415c74fd816",
   "metadata": {},
   "source": [
    "### 3.2 Travel between different blocks\n",
    "\n",
    "Tavel is one-way only - can only travel to earlier/smaller block numbers, and not to the future/later blocks."
   ]
  },
  {
   "cell_type": "code",
   "execution_count": null,
   "id": "2771ed93-a2f7-41a6-9024-72dc4a16f349",
   "metadata": {},
   "outputs": [],
   "source": [
    "context.block_number = get_block(get_dt(2022, 5, 3))\n",
    "models.price.quote(base=aave, return_type=Price).price,"
   ]
  },
  {
   "cell_type": "code",
   "execution_count": null,
   "id": "bd9b3ac0-7ba1-4ad6-a5ac-e52febcf8141",
   "metadata": {},
   "outputs": [],
   "source": [
    "# Below will gave any error as we wants to travel back\n",
    "# context.block_number = get_block(get_dt(2022, 5, 30))\n",
    "# models.chainlink.price_usd(input=aave, return_type=Price).price"
   ]
  },
  {
   "cell_type": "markdown",
   "id": "f987fba5-518c-431c-9dbd-4e35ffabc753",
   "metadata": {},
   "source": [
    "Instead, create a new context. It will automatically become the current context."
   ]
  },
  {
   "cell_type": "code",
   "execution_count": null,
   "id": "b29ba3c9-916f-4f64-9f6e-32944f67df25",
   "metadata": {},
   "outputs": [],
   "source": [
    "params_old = param | {'block_number': get_block(get_dt(2022, 4, 3))}\n",
    "\n",
    "context_old,_ = %cmf params_old\n",
    "context_old.block_number.timestamp_datetime, context.block_number.timestamp_datetime"
   ]
  },
  {
   "cell_type": "markdown",
   "id": "3c32c8d3-8b4f-4f59-a6be-8cdb76311d05",
   "metadata": {},
   "source": [
    "If we would like to use previously defined context, run `context.set_current()` to set it back to the current context.\n",
    "\n",
    "Otherwise, we may encounter error with running model for a block number later than the context."
   ]
  },
  {
   "cell_type": "code",
   "execution_count": null,
   "id": "7f265f9f-deb0-4566-a530-6b6977c37641",
   "metadata": {},
   "outputs": [],
   "source": [
    "context.set_current()"
   ]
  },
  {
   "cell_type": "markdown",
   "id": "decdfa13-5c6e-4c34-af8e-8e126e8e381f",
   "metadata": {},
   "source": [
    "### 4. Ledger"
   ]
  },
  {
   "cell_type": "code",
   "execution_count": null,
   "id": "2d37ca30-ef03-4cf6-a8d0-dbcd03918fe4",
   "metadata": {},
   "outputs": [],
   "source": [
    "with context.ledger.Transaction as q:\n",
    "    df_ledger = (q.select(\n",
    "        columns=[q.BLOCK_HASH,\n",
    "                 q.FROM_ADDRESS,\n",
    "                 q.TO_ADDRESS,\n",
    "                 q.VALUE],\n",
    "        where=q.BLOCK_NUMBER.eq(context.block_number-1000),\n",
    "        order_by=q.BLOCK_TIMESTAMP,\n",
    "        limit=5)\n",
    "             .to_dataframe())\n",
    "df_ledger"
   ]
  },
  {
   "cell_type": "code",
   "execution_count": null,
   "id": "0c4e3245",
   "metadata": {},
   "outputs": [
    {
     "name": "stderr",
     "output_type": "stream",
     "text": [
      "Bad pipe message: %s [b'~\\x90\\x82H9\\x8c\\x04\\x0e*\\xc5$\\xc9E3Z\\x825\\x95 \\xae\\xd0\\x1bQ\\x04\\x8e\\xada\\n\\x15_^\"\\xe3\\xb3\\xd7\\x13\\x8b,oP\\x94\\xca\\x03\\xd2\\xa66\\xdc{Sh\\x81\\x00\\x08\\x13\\x02\\x13\\x03\\x13\\x01\\x00\\xff\\x01\\x00\\x00\\x8f\\x00\\x00\\x00\\x0e\\x00\\x0c\\x00\\x00\\t127.0.0.1\\x00\\x0b\\x00\\x04\\x03\\x00\\x01\\x02\\x00\\n\\x00\\x0c\\x00\\n\\x00\\x1d\\x00\\x17\\x00\\x1e\\x00\\x19\\x00\\x18\\x00#\\x00\\x00\\x00\\x16\\x00\\x00\\x00\\x17\\x00\\x00\\x00\\r\\x00\\x1e\\x00\\x1c\\x04\\x03\\x05\\x03\\x06\\x03\\x08\\x07\\x08\\x08\\x08\\t\\x08\\n\\x08\\x0b\\x08']\n",
      "Bad pipe message: %s [b'\\x05\\x08\\x06']\n",
      "Bad pipe message: %s [b'\\x05\\x01\\x06', b'']\n",
      "Bad pipe message: %s [b'\\x03\\x02\\x03\\x04\\x00-\\x00\\x02\\x01\\x01\\x003\\x00&\\x00$\\x00\\x1d\\x00 \\x8bm&Gx\\xec\\xc6<\\xe7\\xc9\\xb0i\\x0e\\x92\\xb2\\x9e\\xb4\\xca\\xc75\\x9cy']\n",
      "Bad pipe message: %s [b\"5vL\\x02\\xc0#\\x8a\\xf1(\\xb4\\xfd2l\\x8c\\xbe\\x1f&\\xd8\\x00\\x00|\\xc0,\\xc00\\x00\\xa3\\x00\\x9f\\xcc\\xa9\\xcc\\xa8\\xcc\\xaa\\xc0\\xaf\\xc0\\xad\\xc0\\xa3\\xc0\\x9f\\xc0]\\xc0a\\xc0W\\xc0S\\xc0+\\xc0/\\x00\\xa2\\x00\\x9e\\xc0\\xae\\xc0\\xac\\xc0\\xa2\\xc0\\x9e\\xc0\\\\\\xc0`\\xc0V\\xc0R\\xc0$\\xc0(\\x00k\\x00j\\xc0#\\xc0'\\x00g\\x00@\\xc0\\n\\xc0\\x14\\x009\\x008\\xc0\\t\\xc0\\x13\\x003\\x002\\x00\\x9d\\xc0\\xa1\\xc0\\x9d\\xc0Q\\x00\\x9c\\xc0\\xa0\\xc0\\x9c\\xc0P\\x00=\\x00<\\x00\", b'/\\x00\\x9a\\x00\\x99\\xc0\\x07\\xc0\\x11\\x00\\x96\\x00\\x05\\x00\\xff\\x01\\x00\\x00j\\x00\\x00\\x00\\x0e\\x00\\x0c\\x00\\x00\\t127.0.0.1\\x00\\x0b\\x00\\x04\\x03\\x00\\x01\\x02\\x00\\n\\x00\\x0c\\x00\\n\\x00']\n",
      "Bad pipe message: %s [b'\\x17\\x00\\x1e\\x00\\x19\\x00\\x18\\x00#\\x00\\x00\\x00\\x16\\x00\\x00\\x00\\x17\\x00\\x00\\x00\\r\\x000\\x00.\\x04\\x03\\x05']\n",
      "Bad pipe message: %s [b'P:\\xa5\\xe9K\\x93\\xc2ey\\xee((\\r2\\xd7\\xd7@\\x1d\\x00\\x00\\xa6\\xc0,\\xc00\\x00\\xa3\\x00\\x9f', b\"\\xcc\\xa8\\xcc\\xaa\\xc0\\xaf\\xc0\\xad\\xc0\\xa3\\xc0\\x9f\\xc0]\\xc0a\\xc0W\\xc0S\\xc0+\\xc0/\\x00\\xa2\\x00\\x9e\\xc0\\xae\\xc0\\xac\\xc0\\xa2\\xc0\\x9e\\xc0\\\\\\xc0`\\xc0V\\xc0R\\xc0$\\xc0(\\x00k\\x00j\\xc0s\\xc0w\\x00\\xc4\\x00\\xc3\\xc0#\\xc0'\\x00g\\x00@\\xc0r\\xc0v\\x00\\xbe\\x00\\xbd\\xc0\\n\\xc0\\x14\\x009\\x008\\x00\\x88\\x00\\x87\\xc0\\t\\xc0\\x13\\x003\\x002\\x00\\x9a\\x00\\x99\\x00E\\x00D\\xc0\\x07\\xc0\\x11\\xc0\\x08\\xc0\\x12\\x00\\x16\\x00\\x13\\x00\\x9d\\xc0\\xa1\\xc0\\x9d\\xc0Q\\x00\\x9c\\xc0\\xa0\\xc0\\x9c\\xc0P\\x00=\\x00\\xc0\\x00<\\x00\\xba\\x005\\x00\\x84\\x00/\\x00\\x96\\x00A\\x00\\x05\\x00\\n\\x00\\xff\\x01\\x00\\x00j\\x00\\x00\\x00\\x0e\\x00\\x0c\\x00\\x00\\t127.0.0.1\\x00\\x0b\\x00\\x04\\x03\\x00\\x01\\x02\\x00\\n\\x00\\x0c\\x00\\n\\x00\\x1d\\x00\\x17\\x00\\x1e\\x00\\x19\\x00\\x18\\x00\", b'\\x00\\x00\\x16\\x00\\x00\\x00\\x17\\x00\\x00\\x00\\r\\x000\\x00.\\x04\\x03\\x05\\x03\\x06\\x03\\x08\\x07\\x08\\x08\\x08\\t\\x08\\n\\x08\\x0b\\x08\\x04\\x08']\n",
      "Bad pipe message: %s [b'\\x03\\x08']\n",
      "Bad pipe message: %s [b'\\x06\\x04\\x01\\x05']\n",
      "Bad pipe message: %s [b'\\x08\\x08\\t\\x08\\n\\x08']\n",
      "Bad pipe message: %s [b'']\n",
      "Bad pipe message: %s [b'\\x04\\x08\\x05\\x08\\x06\\x04\\x01\\x05\\x01\\x06']\n",
      "Bad pipe message: %s [b'', b'\\x03\\x03']\n",
      "Bad pipe message: %s [b'', b'\\x03\\x03']\n",
      "Bad pipe message: %s [b'']\n",
      "Bad pipe message: %s [b'>UM\\xc2\\x80\\x80\\x11AG)\\x96U\\x90\\xd3\\x8eh\\xb8\\x15\\x00\\x00\\xa2\\xc0\\x14\\xc0\\n\\x009\\x008\\x007\\x006\\x00\\x88\\x00\\x87\\x00\\x86\\x00\\x85\\xc0\\x19\\x00:\\x00\\x89\\xc0\\x0f\\xc0\\x05\\x005\\x00\\x84\\xc0']\n",
      "Bad pipe message: %s [b'']\n",
      "Bad pipe message: %s [b'', b'\\x02']\n",
      "Bad pipe message: %s [b'\\t\\x003\\x002\\x001\\x000\\x00\\x9a\\x00\\x99\\x00\\x98\\x00\\x97\\x00']\n",
      "Bad pipe message: %s [b'', b'\\x02']\n",
      "Bad pipe message: %s [b'\\x05\\x02\\x06']\n",
      "Bad pipe message: %s [b'D\\x00C\\x00B\\xc0\\x18\\x004\\x00\\x9b\\x00F\\xc0\\x0e\\xc0\\x04\\x00/\\x00\\x96\\x00A\\x00\\x07\\xc0\\x11\\xc0\\x07\\xc0\\x16\\x00\\x18\\xc0\\x0c\\xc0\\x02\\x00\\x05\\x00\\x04\\xc0\\x12\\xc0\\x08\\x00\\x16\\x00\\x13\\x00\\x10\\x00\\r\\xc0\\x17\\x00\\x1b\\xc0\\r\\xc0\\x03\\x00\\n\\x00\\x15\\x00\\x12\\x00']\n",
      "Bad pipe message: %s [b'\\x05\\x02\\x06']\n",
      "Bad pipe message: %s [b'\\x0c\\x00\\x1a\\x00\\t\\x00\\x14\\x00\\x11\\x00\\x19\\x00\\x08\\x00']\n",
      "Bad pipe message: %s [b'\\x17\\x00\\x03\\xc0\\x10']\n",
      "Bad pipe message: %s [b'\\x87\\xfe\\xe5e\\r\\xda\\xafN)\\x14:\\xc5\"\\xb4Q;E\\x0c\\x00\\x00\\xa2\\xc0\\x14\\xc0\\n\\x009\\x008\\x007\\x006\\x00\\x88\\x00\\x87\\x00\\x86\\x00\\x85\\xc0\\x19\\x00:\\x00\\x89\\xc0\\x0f\\xc0\\x05\\x005\\x00\\x84\\xc0\\x13\\xc0\\t\\x003\\x002\\x001\\x000\\x00\\x9a\\x00\\x99\\x00\\x98\\x00\\x97\\x00E\\x00D\\x00C\\x00B\\xc0\\x18\\x004\\x00\\x9b\\x00F\\xc0\\x0e\\xc0\\x04\\x00/']\n",
      "Bad pipe message: %s [b\"\\xb9\\x19%~=\\xd5\\xd7<\\x8bw\\xf3|c\\xaa7\\xdd\\x1dD\\x00\\x00\\x86\\xc00\\xc0,\\xc0(\\xc0$\\xc0\\x14\\xc0\\n\\x00\\xa5\\x00\\xa3\\x00\\xa1\\x00\\x9f\\x00k\\x00j\\x00i\\x00h\\x009\\x008\\x007\\x006\\xc02\\xc0.\\xc0*\\xc0&\\xc0\\x0f\\xc0\\x05\\x00\\x9d\\x00=\\x005\\xc0/\\xc0+\\xc0'\\xc0#\\xc0\\x13\\xc0\\t\\x00\\xa4\\x00\\xa2\\x00\\xa0\\x00\\x9e\\x00g\\x00@\\x00?\\x00>\\x003\\x002\\x001\\x000\\xc01\\xc0-\\xc0)\\xc0%\\xc0\\x0e\\xc0\\x04\\x00\\x9c\\x00<\\x00/\\x00\\x9a\\x00\"]\n",
      "Bad pipe message: %s [b'\\x1b\\xbbF(\\x04\\xa0\\x07\\x97\"}<\\x1c\\xe2\\xafS\\xfd\\xb2\\xc8\\x00\\x00\\xf4\\xc00\\xc0,\\xc0(\\xc0$\\xc0\\x14\\xc0\\n\\x00\\xa5\\x00\\xa3\\x00\\xa1\\x00\\x9f\\x00k\\x00j\\x00i\\x00h\\x009\\x008\\x007\\x006\\x00\\x88\\x00\\x87\\x00\\x86\\x00\\x85\\xc0\\x19\\x00\\xa7\\x00m\\x00:\\x00\\x89\\xc02\\xc0.\\xc0*\\xc0&\\xc0\\x0f\\xc0\\x05\\x00\\x9d\\x00=\\x005\\x00\\x84\\xc0/\\xc0+\\xc0\\'\\xc0#\\xc0\\x13\\xc0\\t\\x00\\xa4\\x00\\xa2\\x00\\xa0\\x00\\x9e\\x00g\\x00@\\x00?\\x00>\\x003\\x002\\x001\\x000\\x00\\x9a\\x00\\x99\\x00\\x98\\x00\\x97\\x00E\\x00D\\x00C\\x00B\\xc0\\x18\\x00\\xa6\\x00l\\x004\\x00\\x9b\\x00F']\n",
      "Bad pipe message: %s [b'\\xc0-\\xc0)\\xc0%\\xc0\\x0e\\xc0\\x04\\x00\\x9c\\x00<\\x00/\\x00\\x96\\x00A\\x00\\x07\\xc0\\x11\\xc0\\x07\\xc0\\x16\\x00\\x18\\xc0\\x0c\\xc0\\x02\\x00\\x05\\x00\\x04\\xc0\\x12\\xc0\\x08\\x00\\x16\\x00\\x13\\x00\\x10\\x00\\r\\xc0\\x17\\x00\\x1b\\xc0\\r\\xc0\\x03\\x00\\n\\x00\\x15\\x00\\x12\\x00\\x0f\\x00\\x0c\\x00\\x1a\\x00\\t\\x00\\x14\\x00\\x11\\x00\\x19\\x00\\x08\\x00\\x06\\x00\\x17\\x00\\x03\\xc0\\x10\\xc0\\x06\\xc0\\x15\\xc0\\x0b\\xc0\\x01\\x00;\\x00\\x02\\x00\\x01\\x00\\xff\\x02\\x01\\x00\\x00g\\x00\\x00\\x00\\x0e\\x00\\x0c\\x00\\x00\\t127.0.0.1\\x00\\x0b\\x00\\x04\\x03\\x00\\x01\\x02\\x00\\n\\x00\\x1c\\x00\\x1a\\x00\\x17\\x00\\x19\\x00\\x1c\\x00\\x1b\\x00\\x18\\x00\\x1a\\x00\\x16\\x00\\x0e\\x00\\r\\x00\\x0b\\x00\\x0c\\x00\\t\\x00\\n\\x00#\\x00\\x00\\x00\\r\\x00 \\x00\\x1e\\x06\\x01\\x06\\x02\\x06\\x03\\x05\\x01\\x05\\x02\\x05\\x03\\x04\\x01', b'\\x04\\x03\\x03']\n",
      "Bad pipe message: %s [b'', b'\\x03', b'\\x02', b'\\x03']\n"
     ]
    }
   ],
   "source": [
    "with context.ledger.Transaction as q:\n",
    "    df_ledger = (q.select(\n",
    "        columns=[q.BLOCK_HASH,\n",
    "                 q.FROM_ADDRESS,\n",
    "                 q.TO_ADDRESS,\n",
    "                 q.VALUE],\n",
    "        where=q.BLOCK_NUMBER.eq(context.block_number-1000),\n",
    "        order_by=q.BLOCK_TIMESTAMP,\n",
    "        limit=5)\n",
    "        .to_dataframe())\n",
    "df_ledger"
   ]
  }
 ],
 "metadata": {
  "kernelspec": {
   "display_name": "Python 3.10.5 ('cmk310')",
   "language": "python",
   "name": "python3"
  },
  "language_info": {
   "codemirror_mode": {
    "name": "ipython",
    "version": 3
   },
   "file_extension": ".py",
   "mimetype": "text/x-python",
   "name": "python",
   "nbconvert_exporter": "python",
   "pygments_lexer": "ipython3",
   "version": "3.10.10"
  },
  "vscode": {
   "interpreter": {
    "hash": "ef3060a66f05e685ce670116a67026aba95afdffb2461d829b3351d07ec51c58"
   }
  }
 },
 "nbformat": 4,
 "nbformat_minor": 5
}
