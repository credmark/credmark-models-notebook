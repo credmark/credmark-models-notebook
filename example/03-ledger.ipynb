{
 "cells": [
  {
   "attachments": {},
   "cell_type": "markdown",
   "id": "8aef9336-e7ec-48b1-ba46-67681a95a8a3",
   "metadata": {},
   "source": [
    "# Credmark Modeling Framework Example for Jupyter notebook\n",
    "## Ledger Model\n",
    "\n",
    "version: 2023.4.15"
   ]
  },
  {
   "cell_type": "markdown",
   "id": "e24ac2e5-dc6f-42eb-9137-0252d7fc296a",
   "metadata": {},
   "source": [
    "## Initialize\n",
    "\n",
    "<div class=\"alert alert-block alert-info\">\n",
    "    <b>Note:</b> Change to a web3 provider you have in `params`/`chain_to_provider_url` below.\n",
    "</div>"
   ]
  },
  {
   "cell_type": "code",
   "execution_count": null,
   "id": "84d69de1-3bbc-4677-9936-10e4085508c2",
   "metadata": {},
   "outputs": [],
   "source": [
    "%reload_ext credmark.cmf.ipython\n",
    "\n",
    "param = {\n",
    "    'chain_id': 1,\n",
    "    'block_number': None,         \n",
    "    'chain_to_provider_url': {'1': 'https://mainnet.infura.io/v3/... or https://eth-mainnet.g.alchemy.com/'},\n",
    "    'api_url': None,\n",
    "    'use_local_models': None,\n",
    "    'register_utility_global': True}\n",
    "\n",
    "context, model_loader = %cmf param"
   ]
  },
  {
   "cell_type": "markdown",
   "id": "ee77d404-3db8-4739-8f69-523dcb74268f",
   "metadata": {},
   "source": [
    "## Example"
   ]
  },
  {
   "cell_type": "markdown",
   "id": "41e5ff59-f010-493f-930f-896dd64547c2",
   "metadata": {},
   "source": [
    "### Contract - Uni V2"
   ]
  },
  {
   "cell_type": "code",
   "execution_count": null,
   "id": "2c53ab13-293d-4ef4-8f9d-25fd1adc6094",
   "metadata": {},
   "outputs": [],
   "source": [
    "contract = Contract(address='0x0d4a11d5EEaaC28EC3F61d100daF4d40471f1852')\n",
    "print(contract.functions.name().call(), contract.functions.symbol().call())\n",
    "\n",
    "for addr in [contract.functions.token0().call(), contract.functions.token1().call()]:\n",
    "    print(Token(address=addr).symbol)"
   ]
  },
  {
   "cell_type": "markdown",
   "id": "f46cbd0a-75ed-4651-8a0b-393813158aeb",
   "metadata": {},
   "source": [
    "### Ledger Examples"
   ]
  },
  {
   "cell_type": "markdown",
   "id": "1fe30282-2323-45b6-9985-5b30fd59c60a",
   "metadata": {},
   "source": [
    "- Get the max value group by `to`"
   ]
  },
  {
   "cell_type": "code",
   "execution_count": null,
   "id": "2d37ca30-ef03-4cf6-a8d0-dbcd03918fe4",
   "metadata": {},
   "outputs": [],
   "source": [
    "contract = Contract(address='0x0d4a11d5EEaaC28EC3F61d100daF4d40471f1852')\n",
    "\n",
    "with contract.ledger.functions.Transfer as q:\n",
    "    ret = (q.select(\n",
    "        aggregates=[(q.VALUE.max_(), 'max_value')],\n",
    "        group_by=[q.TO,q.TXN_BLOCK_NUMBER],\n",
    "        order_by=q.field('max_value').dquote().desc(),\n",
    "        where=q.TXN_BLOCK_NUMBER.gt(context.block_number - 2000000),\n",
    "        limit=10\n",
    "    ).to_dataframe())\n",
    "display(ret)"
   ]
  },
  {
   "cell_type": "markdown",
   "id": "5232f2f1-7493-4ab7-b918-089299ea19cf",
   "metadata": {},
   "source": [
    "- Get max amount0Out by `to`."
   ]
  },
  {
   "cell_type": "code",
   "execution_count": null,
   "id": "d891dcf7-a560-4728-96c1-9a96624ca9c2",
   "metadata": {},
   "outputs": [],
   "source": [
    "with contract.ledger.events.Swap as q:\n",
    "    ret = (q.select(\n",
    "        aggregates=[(q.AMOUNT0OUT.max_(), 'max_value')],\n",
    "        group_by=[q.TO],\n",
    "        order_by=q.field('max_value').dquote().desc(),\n",
    "        where=q.EVT_BLOCK_NUMBER.gt(context.block_number - 2000000),\n",
    "        limit=5)\n",
    "    .to_dataframe())\n",
    "display(ret)"
   ]
  },
  {
   "cell_type": "markdown",
   "id": "00388e76-8aa7-45b0-b310-76a20a194062",
   "metadata": {},
   "source": [
    "- Get max amount0Out and max amount1Out"
   ]
  },
  {
   "cell_type": "code",
   "execution_count": null,
   "id": "40629fad-da59-4777-859b-fb7d961c292d",
   "metadata": {},
   "outputs": [],
   "source": [
    "contract = Contract(address='0x0d4a11d5EEaaC28EC3F61d100daF4d40471f1852')\n",
    "with contract.ledger.events.Swap as q:\n",
    "    ret = (q.select(\n",
    "        aggregates=[(q.AMOUNT0OUT.max_(), 'max_amount0Out'), (q.AMOUNT1OUT.max_(), 'max_amount1Out')]\n",
    "    ).to_dataframe())\n",
    "display(ret)"
   ]
  },
  {
   "cell_type": "markdown",
   "id": "0ff7cc18-3cab-4a25-ae22-49be0d01f568",
   "metadata": {},
   "source": [
    "- Get the transaction hash containing the max amount0Out."
   ]
  },
  {
   "cell_type": "code",
   "execution_count": null,
   "id": "0ad75ace-bdf7-495d-b9cd-43e4a5f78aba",
   "metadata": {},
   "outputs": [],
   "source": [
    "contract = Contract(address='0x0d4a11d5EEaaC28EC3F61d100daF4d40471f1852')\n",
    "with contract.ledger.events.Swap as q:\n",
    "    ret2 = (q.select(\n",
    "        aggregates=[(q.AMOUNT0OUT.max_(), 'max_amount0Out')],\n",
    "        group_by=[q.EVT_HASH],\n",
    "        having=q.AMOUNT0OUT.max_().ge(ret.max_amount0Out[0]),\n",
    "    ).to_dataframe())\n",
    "display(ret2)"
   ]
  },
  {
   "cell_type": "markdown",
   "id": "deb2f30c-d6d6-48e8-9780-000d1a32e82b",
   "metadata": {},
   "source": [
    "- Get the transaction hash containing the max amount0Out or max amount1Out\n",
    "\n",
    "For any column in `having` needs to be in `aggregates`."
   ]
  },
  {
   "cell_type": "code",
   "execution_count": null,
   "id": "95ddbe33-1ee4-4750-a098-192722f77463",
   "metadata": {},
   "outputs": [],
   "source": [
    "contract = Contract(address='0x0d4a11d5EEaaC28EC3F61d100daF4d40471f1852')\n",
    "with contract.ledger.events.Swap as q:\n",
    "    ret3 = (q.select(\n",
    "        aggregates=[(q.AMOUNT0OUT.max_(), 'max_amount0Out'),\n",
    "                    (q.AMOUNT1OUT.max_(), 'max_amount1Out')],\n",
    "        group_by=[q.EVT_BLOCK_NUMBER, q.EVT_HASH],\n",
    "        having=q.AMOUNT0OUT.max_().ge(ret.max_amount0Out[0]).or_(\n",
    "            q.AMOUNT1OUT.max_().ge(ret.max_amount1Out[0])),\n",
    "        order_by=q.EVT_BLOCK_NUMBER\n",
    "    ).to_dataframe())\n",
    "\n",
    "display(ret3)"
   ]
  },
  {
   "cell_type": "code",
   "execution_count": null,
   "id": "741e21d6",
   "metadata": {},
   "outputs": [],
   "source": [
    "# Below web3 may not work with some node servers\n",
    "if False:\n",
    "    swap_events = contract.events.Swap.createFilter(\n",
    "        fromBlock=0,\n",
    "        toBlock=context.block_number\n",
    "    ).get_all_entries()\n"
   ]
  },
  {
   "cell_type": "code",
   "execution_count": null,
   "id": "b04424d3",
   "metadata": {},
   "outputs": [],
   "source": [
    "pd.DataFrame(contract.fetch_events(contract.events.Swap, from_block=block_number-1000, to_block=block_number-990))"
   ]
  }
 ],
 "metadata": {
  "kernelspec": {
   "display_name": "Python 3.10.5 ('cmk310')",
   "language": "python",
   "name": "python3"
  },
  "language_info": {
   "codemirror_mode": {
    "name": "ipython",
    "version": 3
   },
   "file_extension": ".py",
   "mimetype": "text/x-python",
   "name": "python",
   "nbconvert_exporter": "python",
   "pygments_lexer": "ipython3",
   "version": "3.10.10"
  },
  "vscode": {
   "interpreter": {
    "hash": "ef3060a66f05e685ce670116a67026aba95afdffb2461d829b3351d07ec51c58"
   }
  }
 },
 "nbformat": 4,
 "nbformat_minor": 5
}
