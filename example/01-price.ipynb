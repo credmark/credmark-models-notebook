{
    "cells": [
        {
            "attachments": {},
            "cell_type": "markdown",
            "id": "3d5eec77",
            "metadata": {},
            "source": [
                "# Credmark Modeling Framework Example for Jupyter notebook\n",
                "\n",
                "## Price model\n",
                "\n",
                "- version: 2023.4.15\n",
                "- version: 2023.6.14\n"
            ]
        },
        {
            "attachments": {},
            "cell_type": "markdown",
            "id": "d40edc98",
            "metadata": {},
            "source": [
                "## Initialize\n",
                "\n",
                "<div class=\"alert alert-block alert-info\">\n",
                "    <b>Note:</b> Change to a web3 provider you have in `params`/`chain_to_provider_url` below.\n",
                "</div>\n"
            ]
        },
        {
            "cell_type": "code",
            "execution_count": 1,
            "id": "84d69de1-3bbc-4677-9936-10e4085508c2",
            "metadata": {},
            "outputs": [],
            "source": [
                "%reload_ext credmark.cmf.ipython\n",
                "\n",
                "cmf_param = {\n",
                "    'chain_id': 1,\n",
                "    'block_number': None,\n",
                "    # 'chain_to_provider_url': {'1': 'https://mainnet.infura.io/v3/... or https://eth-mainnet.g.alchemy.com/'}, # or, use the credmark's nodes\n",
                "    'api_url': None,\n",
                "    'use_local_models': None,\n",
                "    'register_utility_global': True}\n",
                "\n",
                "context, model_loader = %cmf cmf_param"
            ]
        },
        {
            "attachments": {},
            "cell_type": "markdown",
            "id": "cee56038",
            "metadata": {},
            "source": [
                "## Launch Price model\n"
            ]
        },
        {
            "cell_type": "code",
            "execution_count": 4,
            "id": "5e37f678-bd93-4403-acce-b11bd8148e96",
            "metadata": {},
            "outputs": [
                {
                    "name": "stdout",
                    "output_type": "stream",
                    "text": [
                        "{'symbol': 'ETH'}/{'symbol': 'ETH'}: 1\n",
                        "{'symbol': 'ETH'}/{'symbol': 'USD'}: 1742.26020791\n",
                        "{'symbol': 'ETH'}/{'symbol': 'GBP'}: 1380.883100507252\n",
                        "{'symbol': 'ETH'}/{'symbol': 'CNY'}: 12483.120089741804\n",
                        "{'symbol': 'CNY'}/{'symbol': 'ETH'}: 8.010817750778233e-05\n",
                        "{'symbol': 'USD'}/{'symbol': 'ETH'}: 0.0005739670776270505\n",
                        "{'symbol': 'BTC'}/{'symbol': 'CNY'}: 186176.2876918987\n",
                        "{'address': '0x767FE9EDC9E0dF98E07454847909b5E959D7ca0E'}/{'symbol': 'USD'}: 44.68604164558762\n",
                        "{'symbol': 'JPY'}/{'address': '0x767FE9EDC9E0dF98E07454847909b5E959D7ca0E'}: 0.00015979508895939715\n",
                        "{'symbol': 'JPY'}/{'address': '0x85f138bfEE4ef8e540890CFb48F620571d67Eda3'}: 0.0006024304258225572\n",
                        "{'symbol': 'USD'}/{'address': '0x85f138bfEE4ef8e540890CFb48F620571d67Eda3'}: 0.08436680141088188\n",
                        "{'address': '0x85f138bfEE4ef8e540890CFb48F620571d67Eda3'}/{'symbol': 'USD'}: 11.85300359\n",
                        "{'address': '0x85f138bfEE4ef8e540890CFb48F620571d67Eda3'}/{'symbol': 'JPY'}: 1659.9427205798945\n",
                        "{'symbol': 'JPY'}/{'address': '0x85f138bfEE4ef8e540890CFb48F620571d67Eda3'}: 0.0006024304258225572\n",
                        "{'symbol': 'CNY'}/address='0xa0b86991c6218b36c1d19d4a2e9eb0ce3606eb48': 0.13919114431774118\n",
                        "address='0x6b175474e89094c44da98b954eedeac495271d0f'/{'symbol': 'CNY'}: 7.189163714015247\n",
                        "{'address': '0xc00e94Cb662C3520282E6f5717214004A7f26888'}/{'symbol': 'USD'}: 27.85471568\n",
                        "{'symbol': 'ETH'}/{'address': '0xc00e94Cb662C3520282E6f5717214004A7f26888'}: 63.25224785033772\n",
                        "{'symbol': 'CNY'}/{'address': '0xc00e94Cb662C3520282E6f5717214004A7f26888'}: 0.005067022298561097\n",
                        "{'address': '0xc00e94Cb662C3520282E6f5717214004A7f26888'}/{'symbol': 'CNY'}: 197.35456863570033\n"
                    ]
                }
            ],
            "source": [
                "test_cases = [\n",
                "    {'base': {'symbol': 'ETH'}, 'quote': {'symbol': 'ETH'}},\n",
                "    {'base': {'symbol': 'ETH'}, 'quote': {'symbol': 'USD'}},\n",
                "    {'base': {'symbol': 'ETH'}, 'quote': {'symbol': 'GBP'}},\n",
                "    {'base': {'symbol': 'ETH'}, 'quote': {'symbol': 'CNY'}},\n",
                "    {'base': {'symbol': 'CNY'}, 'quote': {'symbol': 'ETH'}},    \n",
                "    {'base': {'symbol': 'USD'}, 'quote': {'symbol': 'ETH'}},\n",
                "    {'base': {'symbol': 'BTC'}, 'quote': {'symbol': 'CNY'}},\n",
                "    {'base': {'address':'0x767FE9EDC9E0dF98E07454847909b5E959D7ca0E'}, 'quote': {'symbol': 'USD'}}, # ILV\n",
                "    {'base': {'symbol': 'JPY'}, 'quote': {'address':'0x767FE9EDC9E0dF98E07454847909b5E959D7ca0E'}},\n",
                "    {'base': {'symbol': 'JPY'}, 'quote': {'address':'0x85f138bfEE4ef8e540890CFb48F620571d67Eda3'}}, # WAVAX\n",
                "    {'base': {'symbol': 'USD'}, 'quote': {'address':'0x85f138bfEE4ef8e540890CFb48F620571d67Eda3'}},\n",
                "    {'quote': {'symbol': 'USD'}, 'base': {'address':'0x85f138bfEE4ef8e540890CFb48F620571d67Eda3'}},\n",
                "    {'quote': {'symbol': 'JPY'}, 'base': {'address':'0x85f138bfEE4ef8e540890CFb48F620571d67Eda3'}},\n",
                "    {'base': {'symbol': 'JPY'}, 'quote': {'address':'0x85f138bfEE4ef8e540890CFb48F620571d67Eda3'}},\n",
                "    {'base': {'symbol': 'CNY'}, 'quote': Token(symbol='USDC')},\n",
                "    {'quote': {'symbol': 'CNY'}, 'base': Token(symbol='DAI')},\n",
                "    {'quote': {'symbol': 'USD'}, 'base': {'address':'0xc00e94Cb662C3520282E6f5717214004A7f26888'}}, # COMP\n",
                "    {'base': {'symbol': 'ETH'}, 'quote': {'address':'0xc00e94Cb662C3520282E6f5717214004A7f26888'}},\n",
                "    {'base': {'symbol': 'CNY'}, 'quote': {'address':'0xc00e94Cb662C3520282E6f5717214004A7f26888'}},\n",
                "    {'quote': {'symbol': 'CNY'}, 'base': {'address':'0xc00e94Cb662C3520282E6f5717214004A7f26888'}},\n",
                "]\n",
                "\n",
                "for case in test_cases:\n",
                "    price = context.models.price.oracle_chainlink(case)\n",
                "    print(f\"{case['base']}/{case['quote']}: {price['price']}\")"
            ]
        }
    ],
    "metadata": {
        "kernelspec": {
            "display_name": "Python 3.10.5 ('cmk310')",
            "language": "python",
            "name": "python3"
        },
        "language_info": {
            "codemirror_mode": {
                "name": "ipython",
                "version": 3
            },
            "file_extension": ".py",
            "mimetype": "text/x-python",
            "name": "python",
            "nbconvert_exporter": "python",
            "pygments_lexer": "ipython3",
            "version": "3.9.16"
        },
        "vscode": {
            "interpreter": {
                "hash": "ef3060a66f05e685ce670116a67026aba95afdffb2461d829b3351d07ec51c58"
            }
        }
    },
    "nbformat": 4,
    "nbformat_minor": 5
}
