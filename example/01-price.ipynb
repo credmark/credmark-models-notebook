{
    "cells": [
        {
            "attachments": {},
            "cell_type": "markdown",
            "id": "3d5eec77",
            "metadata": {},
            "source": [
                "# Credmark Modeling Framework Example for Jupyter notebook\n",
                "## Price model\n",
                "\n",
                "version: 2023.4.15"
            ]
        },
        {
            "cell_type": "markdown",
            "id": "d40edc98",
            "metadata": {},
            "source": [
                "## Initialize\n",
                "\n",
                "<div class=\"alert alert-block alert-info\">\n",
                "    <b>Note:</b> Change to a web3 provider you have in `params`/`chain_to_provider_url` below.\n",
                "</div>"
            ]
        },
        {
            "cell_type": "code",
            "execution_count": 1,
            "id": "84d69de1-3bbc-4677-9936-10e4085508c2",
            "metadata": {},
            "outputs": [
                {
                    "ename": "ValueError",
                    "evalue": "Provider URL https://mainnet.infura.io/v3/... or https://eth-mainnet.g.alchemy.com/ for 1 does not respond.",
                    "output_type": "error",
                    "traceback": [
                        "\u001b[0;31m---------------------------------------------------------------------------\u001b[0m",
                        "\u001b[0;31mValueError\u001b[0m                                Traceback (most recent call last)",
                        "\u001b[1;32m/home/yangye/dev/credmark/credmark-models-notebook/example/01-price.ipynb Cell 3\u001b[0m in \u001b[0;36m<cell line: 11>\u001b[0;34m()\u001b[0m\n\u001b[1;32m      <a href='vscode-notebook-cell:/home/yangye/dev/credmark/credmark-models-notebook/example/01-price.ipynb#W2sZmlsZQ%3D%3D?line=0'>1</a>\u001b[0m get_ipython()\u001b[39m.\u001b[39mrun_line_magic(\u001b[39m'\u001b[39m\u001b[39mreload_ext\u001b[39m\u001b[39m'\u001b[39m, \u001b[39m'\u001b[39m\u001b[39mcredmark.cmf.ipython\u001b[39m\u001b[39m'\u001b[39m)\n\u001b[1;32m      <a href='vscode-notebook-cell:/home/yangye/dev/credmark/credmark-models-notebook/example/01-price.ipynb#W2sZmlsZQ%3D%3D?line=2'>3</a>\u001b[0m param \u001b[39m=\u001b[39m {\n\u001b[1;32m      <a href='vscode-notebook-cell:/home/yangye/dev/credmark/credmark-models-notebook/example/01-price.ipynb#W2sZmlsZQ%3D%3D?line=3'>4</a>\u001b[0m     \u001b[39m'\u001b[39m\u001b[39mchain_id\u001b[39m\u001b[39m'\u001b[39m: \u001b[39m1\u001b[39m,\n\u001b[1;32m      <a href='vscode-notebook-cell:/home/yangye/dev/credmark/credmark-models-notebook/example/01-price.ipynb#W2sZmlsZQ%3D%3D?line=4'>5</a>\u001b[0m     \u001b[39m'\u001b[39m\u001b[39mblock_number\u001b[39m\u001b[39m'\u001b[39m: \u001b[39mNone\u001b[39;00m,         \n\u001b[0;32m   (...)\u001b[0m\n\u001b[1;32m      <a href='vscode-notebook-cell:/home/yangye/dev/credmark/credmark-models-notebook/example/01-price.ipynb#W2sZmlsZQ%3D%3D?line=7'>8</a>\u001b[0m     \u001b[39m'\u001b[39m\u001b[39muse_local_models\u001b[39m\u001b[39m'\u001b[39m: \u001b[39mNone\u001b[39;00m,\n\u001b[1;32m      <a href='vscode-notebook-cell:/home/yangye/dev/credmark/credmark-models-notebook/example/01-price.ipynb#W2sZmlsZQ%3D%3D?line=8'>9</a>\u001b[0m     \u001b[39m'\u001b[39m\u001b[39mregister_utility_global\u001b[39m\u001b[39m'\u001b[39m: \u001b[39mTrue\u001b[39;00m}\n\u001b[0;32m---> <a href='vscode-notebook-cell:/home/yangye/dev/credmark/credmark-models-notebook/example/01-price.ipynb#W2sZmlsZQ%3D%3D?line=10'>11</a>\u001b[0m context, model_loader \u001b[39m=\u001b[39m get_ipython()\u001b[39m.\u001b[39;49mrun_line_magic(\u001b[39m'\u001b[39;49m\u001b[39mcmf\u001b[39;49m\u001b[39m'\u001b[39;49m, \u001b[39m'\u001b[39;49m\u001b[39mparam\u001b[39;49m\u001b[39m'\u001b[39;49m)\n",
                        "File \u001b[0;32m~/.local/lib/python3.10/site-packages/IPython/core/interactiveshell.py:2305\u001b[0m, in \u001b[0;36mInteractiveShell.run_line_magic\u001b[0;34m(self, magic_name, line, _stack_depth)\u001b[0m\n\u001b[1;32m   2303\u001b[0m     kwargs[\u001b[39m'\u001b[39m\u001b[39mlocal_ns\u001b[39m\u001b[39m'\u001b[39m] \u001b[39m=\u001b[39m \u001b[39mself\u001b[39m\u001b[39m.\u001b[39mget_local_scope(stack_depth)\n\u001b[1;32m   2304\u001b[0m \u001b[39mwith\u001b[39;00m \u001b[39mself\u001b[39m\u001b[39m.\u001b[39mbuiltin_trap:\n\u001b[0;32m-> 2305\u001b[0m     result \u001b[39m=\u001b[39m fn(\u001b[39m*\u001b[39;49margs, \u001b[39m*\u001b[39;49m\u001b[39m*\u001b[39;49mkwargs)\n\u001b[1;32m   2306\u001b[0m \u001b[39mreturn\u001b[39;00m result\n",
                        "File \u001b[0;32m~/dev/credmark/credmark-model-framework-py/credmark/cmf/ipython.py:244\u001b[0m, in \u001b[0;36mCredmarkMagic.cmf\u001b[0;34m(self, line, local_ns)\u001b[0m\n\u001b[1;32m    241\u001b[0m         pprint(param_ext)\n\u001b[1;32m    242\u001b[0m     cmf_init \u001b[39m=\u001b[39m CmfInit(\u001b[39m*\u001b[39m\u001b[39m*\u001b[39mparam_ext)\n\u001b[0;32m--> 244\u001b[0m \u001b[39mreturn\u001b[39;00m create_cmf_context(cmf_init, local_ns)\n",
                        "File \u001b[0;32m~/dev/credmark/credmark-model-framework-py/credmark/cmf/ipython.py:82\u001b[0m, in \u001b[0;36mcreate_cmf_context\u001b[0;34m(cmf_init, local_ns)\u001b[0m\n\u001b[1;32m     79\u001b[0m                 \u001b[39mraise\u001b[39;00m \u001b[39mValueError\u001b[39;00m(\n\u001b[1;32m     80\u001b[0m                     \u001b[39mf\u001b[39m\u001b[39m'\u001b[39m\u001b[39mProvider URL \u001b[39m\u001b[39m{\u001b[39;00mprovider_url\u001b[39m}\u001b[39;00m\u001b[39m does not respond properly for querying block number: \u001b[39m\u001b[39m{\u001b[39;00mres\u001b[39m}\u001b[39;00m\u001b[39m'\u001b[39m)\n\u001b[1;32m     81\u001b[0m         \u001b[39melse\u001b[39;00m:\n\u001b[0;32m---> 82\u001b[0m             \u001b[39mraise\u001b[39;00m \u001b[39mValueError\u001b[39;00m(\n\u001b[1;32m     83\u001b[0m                 \u001b[39mf\u001b[39m\u001b[39m'\u001b[39m\u001b[39mProvider URL \u001b[39m\u001b[39m{\u001b[39;00mprovider_url\u001b[39m}\u001b[39;00m\u001b[39m for \u001b[39m\u001b[39m{\u001b[39;00mcmf_init\u001b[39m.\u001b[39mchain_id\u001b[39m}\u001b[39;00m\u001b[39m does not respond.\u001b[39m\u001b[39m'\u001b[39m)\n\u001b[1;32m     85\u001b[0m model_loader \u001b[39m=\u001b[39m ModelLoader(model_loader_path, \u001b[39mNone\u001b[39;00m, \u001b[39mTrue\u001b[39;00m)\n\u001b[1;32m     86\u001b[0m context \u001b[39m=\u001b[39m EngineModelContext\u001b[39m.\u001b[39mcreate_context(chain_id\u001b[39m=\u001b[39mcmf_init\u001b[39m.\u001b[39mchain_id, block_number\u001b[39m=\u001b[39mcmf_init\u001b[39m.\u001b[39mblock_number, model_loader\u001b[39m=\u001b[39mmodel_loader,\n\u001b[1;32m     87\u001b[0m                                             chain_to_provider_url\u001b[39m=\u001b[39mcmf_init\u001b[39m.\u001b[39mchain_to_provider_url,\n\u001b[1;32m     88\u001b[0m                                             api_url\u001b[39m=\u001b[39mcmf_init\u001b[39m.\u001b[39mapi_url, run_id\u001b[39m=\u001b[39m\u001b[39mNone\u001b[39;00m, console\u001b[39m=\u001b[39m\u001b[39mTrue\u001b[39;00m, use_local_models\u001b[39m=\u001b[39mcmf_init\u001b[39m.\u001b[39muse_local_models)\n",
                        "\u001b[0;31mValueError\u001b[0m: Provider URL https://mainnet.infura.io/v3/... or https://eth-mainnet.g.alchemy.com/ for 1 does not respond."
                    ]
                }
            ],
            "source": [
                "%reload_ext credmark.cmf.ipython\n",
                "\n",
                "param = {\n",
                "    'chain_id': 1,\n",
                "    'block_number': None,         \n",
                "    'chain_to_provider_url': {'1': 'https://mainnet.infura.io/v3/... or https://eth-mainnet.g.alchemy.com/'},\n",
                "    'api_url': None,\n",
                "    'use_local_models': None,\n",
                "    'register_utility_global': True}\n",
                "\n",
                "context, model_loader = %cmf param"
            ]
        },
        {
            "cell_type": "markdown",
            "id": "cee56038",
            "metadata": {},
            "source": [
                "## Launch Price model"
            ]
        },
        {
            "cell_type": "code",
            "execution_count": null,
            "id": "5e37f678-bd93-4403-acce-b11bd8148e96",
            "metadata": {},
            "outputs": [],
            "source": [
                "test_cases = [\n",
                "    {'base': {'symbol': 'ETH'}, 'quote': {'symbol': 'ETH'}},\n",
                "    {'base': {'symbol': 'ETH'}, 'quote': {'symbol': 'USD'}},\n",
                "    {'base': {'symbol': 'ETH'}, 'quote': {'symbol': 'GBP'}},\n",
                "    {'base': {'symbol': 'ETH'}, 'quote': {'symbol': 'CNY'}},\n",
                "    {'base': {'symbol': 'CNY'}, 'quote': {'symbol': 'ETH'}},    \n",
                "    {'base': {'symbol': 'USD'}, 'quote': {'symbol': 'ETH'}},\n",
                "    {'base': {'symbol': 'GBP'}, 'quote': {'symbol': 'ETH'}},\n",
                "    {'base': {'symbol': 'BTC'}, 'quote': {'symbol': 'CNY'}},\n",
                "    {'base': {'address':'0x767FE9EDC9E0dF98E07454847909b5E959D7ca0E'}, 'quote': {'symbol': 'USD'}}, # ILV\n",
                "    {'base': {'symbol': 'JPY'}, 'quote': {'address':'0x767FE9EDC9E0dF98E07454847909b5E959D7ca0E'}},\n",
                "    {'quote': {'symbol': 'JPY'}, 'base': {'address':'0x767FE9EDC9E0dF98E07454847909b5E959D7ca0E'}},\n",
                "    {'base': {'symbol': 'JPY'}, 'quote': {'address':'0x85f138bfEE4ef8e540890CFb48F620571d67Eda3'}}, # WAVAX\n",
                "    {'base': {'symbol': 'USD'}, 'quote': {'address':'0x85f138bfEE4ef8e540890CFb48F620571d67Eda3'}},\n",
                "    {'quote': {'symbol': 'USD'}, 'base': {'address':'0x85f138bfEE4ef8e540890CFb48F620571d67Eda3'}},\n",
                "    {'quote': {'symbol': 'JPY'}, 'base': {'address':'0x85f138bfEE4ef8e540890CFb48F620571d67Eda3'}},\n",
                "    {'base': {'symbol': 'JPY'}, 'quote': {'address':'0x85f138bfEE4ef8e540890CFb48F620571d67Eda3'}},\n",
                "    {'base': {'symbol': 'CNY'}, 'quote': Token(symbol='USDC')},\n",
                "    {'quote': {'symbol': 'CNY'}, 'base': Token(symbol='DAI')},\n",
                "    {'quote': {'symbol': 'USD'}, 'base': {'address':'0xc00e94Cb662C3520282E6f5717214004A7f26888'}}, # COMP\n",
                "    {'base': {'symbol': 'ETH'}, 'quote': {'address':'0xc00e94Cb662C3520282E6f5717214004A7f26888'}},\n",
                "    {'base': {'symbol': 'CNY'}, 'quote': {'address':'0xc00e94Cb662C3520282E6f5717214004A7f26888'}},\n",
                "    {'quote': {'symbol': 'CNY'}, 'base': {'address':'0xc00e94Cb662C3520282E6f5717214004A7f26888'}},\n",
                "]\n",
                "\n",
                "for case in test_cases:\n",
                "    price = context.models.price.oracle_chainlink(case)\n",
                "    print(f\"{case['base']}/{case['quote']}: {price['price']}\")"
            ]
        },
        {
            "cell_type": "code",
            "execution_count": null,
            "id": "785ed70e",
            "metadata": {},
            "outputs": [],
            "source": []
        }
    ],
    "metadata": {
        "kernelspec": {
            "display_name": "Python 3.10.5 ('cmk310')",
            "language": "python",
            "name": "python3"
        },
        "language_info": {
            "codemirror_mode": {
                "name": "ipython",
                "version": 3
            },
            "file_extension": ".py",
            "mimetype": "text/x-python",
            "name": "python",
            "nbconvert_exporter": "python",
            "pygments_lexer": "ipython3",
            "version": "3.10.10"
        },
        "vscode": {
            "interpreter": {
                "hash": "ef3060a66f05e685ce670116a67026aba95afdffb2461d829b3351d07ec51c58"
            }
        }
    },
    "nbformat": 4,
    "nbformat_minor": 5
}
