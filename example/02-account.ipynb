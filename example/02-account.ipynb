{
 "cells": [
  {
   "attachments": {},
   "cell_type": "markdown",
   "id": "9cbc2502-2aad-42ec-8728-25a0acae36e3",
   "metadata": {},
   "source": [
    "# Credmark Modeling Framework Example for Jupyter notebook\n",
    "## Account - Tokens\n",
    "\n",
    "version: 2023.4.15"
   ]
  },
  {
   "cell_type": "markdown",
   "id": "e24ac2e5-dc6f-42eb-9137-0252d7fc296a",
   "metadata": {},
   "source": [
    "## Initialize\n",
    "\n",
    "<div class=\"alert alert-block alert-info\">\n",
    "    <b>Note:</b> Change to a web3 provider you have in `params` below.\n",
    "</div>"
   ]
  },
  {
   "cell_type": "code",
   "execution_count": 2,
   "id": "84d69de1-3bbc-4677-9936-10e4085508c2",
   "metadata": {},
   "outputs": [
    {
     "ename": "ValueError",
     "evalue": "Provider URL https://mainnet.infura.io/v3/... or https://eth-mainnet.g.alchemy.com/ for 1 does not respond.",
     "output_type": "error",
     "traceback": [
      "\u001b[0;31m---------------------------------------------------------------------------\u001b[0m",
      "\u001b[0;31mValueError\u001b[0m                                Traceback (most recent call last)",
      "\u001b[1;32m/home/yangye/dev/credmark/credmark-models-notebook/example/02-account.ipynb Cell 3\u001b[0m in \u001b[0;36m<cell line: 9>\u001b[0;34m()\u001b[0m\n\u001b[1;32m      <a href='vscode-notebook-cell:/home/yangye/dev/credmark/credmark-models-notebook/example/02-account.ipynb#W2sZmlsZQ%3D%3D?line=0'>1</a>\u001b[0m get_ipython()\u001b[39m.\u001b[39mrun_line_magic(\u001b[39m'\u001b[39m\u001b[39mreload_ext\u001b[39m\u001b[39m'\u001b[39m, \u001b[39m'\u001b[39m\u001b[39mcredmark.cmf.ipython\u001b[39m\u001b[39m'\u001b[39m)\n\u001b[1;32m      <a href='vscode-notebook-cell:/home/yangye/dev/credmark/credmark-models-notebook/example/02-account.ipynb#W2sZmlsZQ%3D%3D?line=2'>3</a>\u001b[0m param \u001b[39m=\u001b[39m {\n\u001b[1;32m      <a href='vscode-notebook-cell:/home/yangye/dev/credmark/credmark-models-notebook/example/02-account.ipynb#W2sZmlsZQ%3D%3D?line=3'>4</a>\u001b[0m     \u001b[39m'\u001b[39m\u001b[39mchain_id\u001b[39m\u001b[39m'\u001b[39m: \u001b[39m1\u001b[39m,\n\u001b[1;32m      <a href='vscode-notebook-cell:/home/yangye/dev/credmark/credmark-models-notebook/example/02-account.ipynb#W2sZmlsZQ%3D%3D?line=4'>5</a>\u001b[0m     \u001b[39m'\u001b[39m\u001b[39mblock_number\u001b[39m\u001b[39m'\u001b[39m: \u001b[39mNone\u001b[39;00m,\n\u001b[1;32m      <a href='vscode-notebook-cell:/home/yangye/dev/credmark/credmark-models-notebook/example/02-account.ipynb#W2sZmlsZQ%3D%3D?line=5'>6</a>\u001b[0m     \u001b[39m'\u001b[39m\u001b[39mchain_to_provider_url\u001b[39m\u001b[39m'\u001b[39m: {\u001b[39m'\u001b[39m\u001b[39m1\u001b[39m\u001b[39m'\u001b[39m: \u001b[39m'\u001b[39m\u001b[39mhttps://mainnet.infura.io/v3/... or https://eth-mainnet.g.alchemy.com/\u001b[39m\u001b[39m'\u001b[39m},\n\u001b[1;32m      <a href='vscode-notebook-cell:/home/yangye/dev/credmark/credmark-models-notebook/example/02-account.ipynb#W2sZmlsZQ%3D%3D?line=6'>7</a>\u001b[0m     \u001b[39m'\u001b[39m\u001b[39mregister_utility_global\u001b[39m\u001b[39m'\u001b[39m: \u001b[39mTrue\u001b[39;00m}\n\u001b[0;32m----> <a href='vscode-notebook-cell:/home/yangye/dev/credmark/credmark-models-notebook/example/02-account.ipynb#W2sZmlsZQ%3D%3D?line=8'>9</a>\u001b[0m context, model_loader \u001b[39m=\u001b[39m get_ipython()\u001b[39m.\u001b[39;49mrun_line_magic(\u001b[39m'\u001b[39;49m\u001b[39mcmf\u001b[39;49m\u001b[39m'\u001b[39;49m, \u001b[39m'\u001b[39;49m\u001b[39mparam\u001b[39;49m\u001b[39m'\u001b[39;49m)\n",
      "File \u001b[0;32m~/.local/lib/python3.10/site-packages/IPython/core/interactiveshell.py:2305\u001b[0m, in \u001b[0;36mInteractiveShell.run_line_magic\u001b[0;34m(self, magic_name, line, _stack_depth)\u001b[0m\n\u001b[1;32m   2303\u001b[0m     kwargs[\u001b[39m'\u001b[39m\u001b[39mlocal_ns\u001b[39m\u001b[39m'\u001b[39m] \u001b[39m=\u001b[39m \u001b[39mself\u001b[39m\u001b[39m.\u001b[39mget_local_scope(stack_depth)\n\u001b[1;32m   2304\u001b[0m \u001b[39mwith\u001b[39;00m \u001b[39mself\u001b[39m\u001b[39m.\u001b[39mbuiltin_trap:\n\u001b[0;32m-> 2305\u001b[0m     result \u001b[39m=\u001b[39m fn(\u001b[39m*\u001b[39;49margs, \u001b[39m*\u001b[39;49m\u001b[39m*\u001b[39;49mkwargs)\n\u001b[1;32m   2306\u001b[0m \u001b[39mreturn\u001b[39;00m result\n",
      "File \u001b[0;32m~/dev/credmark/credmark-model-framework-py/credmark/cmf/ipython.py:244\u001b[0m, in \u001b[0;36mCredmarkMagic.cmf\u001b[0;34m(self, line, local_ns)\u001b[0m\n\u001b[1;32m    241\u001b[0m         pprint(param_ext)\n\u001b[1;32m    242\u001b[0m     cmf_init \u001b[39m=\u001b[39m CmfInit(\u001b[39m*\u001b[39m\u001b[39m*\u001b[39mparam_ext)\n\u001b[0;32m--> 244\u001b[0m \u001b[39mreturn\u001b[39;00m create_cmf_context(cmf_init, local_ns)\n",
      "File \u001b[0;32m~/dev/credmark/credmark-model-framework-py/credmark/cmf/ipython.py:82\u001b[0m, in \u001b[0;36mcreate_cmf_context\u001b[0;34m(cmf_init, local_ns)\u001b[0m\n\u001b[1;32m     79\u001b[0m                 \u001b[39mraise\u001b[39;00m \u001b[39mValueError\u001b[39;00m(\n\u001b[1;32m     80\u001b[0m                     \u001b[39mf\u001b[39m\u001b[39m'\u001b[39m\u001b[39mProvider URL \u001b[39m\u001b[39m{\u001b[39;00mprovider_url\u001b[39m}\u001b[39;00m\u001b[39m does not respond properly for querying block number: \u001b[39m\u001b[39m{\u001b[39;00mres\u001b[39m}\u001b[39;00m\u001b[39m'\u001b[39m)\n\u001b[1;32m     81\u001b[0m         \u001b[39melse\u001b[39;00m:\n\u001b[0;32m---> 82\u001b[0m             \u001b[39mraise\u001b[39;00m \u001b[39mValueError\u001b[39;00m(\n\u001b[1;32m     83\u001b[0m                 \u001b[39mf\u001b[39m\u001b[39m'\u001b[39m\u001b[39mProvider URL \u001b[39m\u001b[39m{\u001b[39;00mprovider_url\u001b[39m}\u001b[39;00m\u001b[39m for \u001b[39m\u001b[39m{\u001b[39;00mcmf_init\u001b[39m.\u001b[39mchain_id\u001b[39m}\u001b[39;00m\u001b[39m does not respond.\u001b[39m\u001b[39m'\u001b[39m)\n\u001b[1;32m     85\u001b[0m model_loader \u001b[39m=\u001b[39m ModelLoader(model_loader_path, \u001b[39mNone\u001b[39;00m, \u001b[39mTrue\u001b[39;00m)\n\u001b[1;32m     86\u001b[0m context \u001b[39m=\u001b[39m EngineModelContext\u001b[39m.\u001b[39mcreate_context(chain_id\u001b[39m=\u001b[39mcmf_init\u001b[39m.\u001b[39mchain_id, block_number\u001b[39m=\u001b[39mcmf_init\u001b[39m.\u001b[39mblock_number, model_loader\u001b[39m=\u001b[39mmodel_loader,\n\u001b[1;32m     87\u001b[0m                                             chain_to_provider_url\u001b[39m=\u001b[39mcmf_init\u001b[39m.\u001b[39mchain_to_provider_url,\n\u001b[1;32m     88\u001b[0m                                             api_url\u001b[39m=\u001b[39mcmf_init\u001b[39m.\u001b[39mapi_url, run_id\u001b[39m=\u001b[39m\u001b[39mNone\u001b[39;00m, console\u001b[39m=\u001b[39m\u001b[39mTrue\u001b[39;00m, use_local_models\u001b[39m=\u001b[39mcmf_init\u001b[39m.\u001b[39muse_local_models)\n",
      "\u001b[0;31mValueError\u001b[0m: Provider URL https://mainnet.infura.io/v3/... or https://eth-mainnet.g.alchemy.com/ for 1 does not respond."
     ]
    }
   ],
   "source": [
    "%reload_ext credmark.cmf.ipython\n",
    "\n",
    "param = {\n",
    "    'chain_id': 1,\n",
    "    'block_number': None,         \n",
    "    'chain_to_provider_url': {'1': 'https://mainnet.infura.io/v3/... or https://eth-mainnet.g.alchemy.com/'},\n",
    "    'api_url': None,\n",
    "    'use_local_models': None,\n",
    "    'register_utility_global': True}\n",
    "\n",
    "context, model_loader = %cmf param"
   ]
  },
  {
   "cell_type": "markdown",
   "id": "74ffff12-65e9-4f66-b35c-6de035996aff",
   "metadata": {},
   "source": [
    "## Convex Token"
   ]
  },
  {
   "cell_type": "code",
   "execution_count": null,
   "id": "fc378667-c84e-4027-ad58-0786b6bd47d7",
   "metadata": {},
   "outputs": [],
   "source": [
    "convex_token = Token(address='0x4e3FBD56CD56c3e72c1403e103b45Db9da5B9D2B')\n",
    "\n",
    "with context.ledger.TokenTransfer as q:\n",
    "    df_convex = (q.select(\n",
    "        columns=[q.BLOCK_NUMBER,\n",
    "                 q.LOG_INDEX,\n",
    "                 q.TO_ADDRESS,\n",
    "                q.FROM_ADDRESS,\n",
    "                q.TOKEN_ADDRESS],\n",
    "        where=q.TOKEN_ADDRESS.eq(convex_token.address),\n",
    ").to_dataframe().sort_values(['block_number', 'log_index']))\n",
    "df_convex"
   ]
  },
  {
   "cell_type": "markdown",
   "id": "87a47f0b-fb44-46e7-9a90-6cc2f910f854",
   "metadata": {},
   "source": [
    "## Account"
   ]
  },
  {
   "cell_type": "code",
   "execution_count": null,
   "id": "8585a153-191f-4f18-bd24-06756640f27a",
   "metadata": {},
   "outputs": [],
   "source": [
    "acc_1 = Account(address=Address('0x5291fBB0ee9F51225f0928Ff6a83108c86327636'))"
   ]
  },
  {
   "cell_type": "markdown",
   "id": "b2eb9823-da54-439c-b871-8be6235729c5",
   "metadata": {},
   "source": [
    "### Tokens that have been owned by the account"
   ]
  },
  {
   "cell_type": "code",
   "execution_count": null,
   "id": "22a2e12e-1bce-4d6e-8dfc-3ca996dbce10",
   "metadata": {},
   "outputs": [],
   "source": [
    "with context.ledger.TokenBalance as q:\n",
    "    df_balance = q.select(\n",
    "    where=q.ADDRESS.eq(acc_1.address),\n",
    "    group_by=[q.TOKEN_ADDRESS]\n",
    "    ).to_dataframe()\n",
    "\n",
    "df_balance"
   ]
  },
  {
   "cell_type": "markdown",
   "id": "b1ed3315-dfa1-4e57-ac3a-d3ab27668339",
   "metadata": {},
   "source": [
    "### Token Transfers for this account"
   ]
  },
  {
   "cell_type": "code",
   "execution_count": null,
   "id": "e6c4aa88-75f2-449a-8220-36c0122253be",
   "metadata": {},
   "outputs": [],
   "source": [
    "with context.ledger.TokenTransfer as q:\n",
    "       group_cols = [q.BLOCK_NUMBER,\n",
    "                     q.LOG_INDEX,\n",
    "                     q.TO_ADDRESS,\n",
    "                     q.FROM_ADDRESS,\n",
    "                     q.TRANSACTION_HASH,\n",
    "                     q.TOKEN_ADDRESS]\n",
    "\n",
    "       df_tt = (q.select(\n",
    "                     aggregates=[\n",
    "                            (f'sum(case when {q.TO_ADDRESS.eq(acc_1.address)} THEN {q.VALUE} else -{q.VALUE} END)',\n",
    "                            'sum_value')],\n",
    "                     where=(q.TO_ADDRESS.eq(acc_1.address).or_(q.FROM_ADDRESS.eq(acc_1.address))),\n",
    "                     group_by=group_cols\n",
    "                     )\n",
    "                 .to_dataframe()\n",
    "              .sort_values(['block_number', 'log_index']).reset_index())\n",
    "\n",
    "df_tt"
   ]
  },
  {
   "cell_type": "markdown",
   "id": "c2107e91-696e-4c18-b0c8-2871ff3637bb",
   "metadata": {},
   "source": [
    "### The Tokens"
   ]
  },
  {
   "cell_type": "code",
   "execution_count": null,
   "id": "e1ce179e-1c3e-4337-b368-9649bff062ed",
   "metadata": {},
   "outputs": [],
   "source": [
    "wBTC = Token(address='0x2260fac5e5542a773aa44fbcfedf7c193bc2c599')\n",
    "wBTC.scaled(748139023)\n",
    "\n",
    "renBTC = Token(address='0xeb4c2781e4eba804ce9a9803c67d0893436bb27d')\n",
    "renBTC\n",
    "\n",
    "t1 = Token(address='0xdac17f958d2ee523a2206206994597c13d831ec7')\n",
    "t2 = Token(address='0x2260fac5e5542a773aa44fbcfedf7c193bc2c599')\n",
    "t3 = Token(address='0xc02aaa39b223fe8d0a0e5c4f27ead9083c756cc2')"
   ]
  },
  {
   "cell_type": "code",
   "execution_count": null,
   "id": "70923cff-42da-4361-8272-2e67c6798dd4",
   "metadata": {},
   "outputs": [],
   "source": [
    "curve_usd_btc_eth = Token(address='0xc4ad29ba4b3c580e6d59105fff484999997675ff')\n",
    "print(curve_usd_btc_eth.balance_of(acc_1.address))\n",
    "\n",
    "ve_crv = Token(address='0x5f3b5DfEb7B28CDbD7FAba78963EE202a494e2A2')\n",
    "print(ve_crv.balance_of(acc_1.address))\n",
    "print(ve_crv.functions.locked(acc_1.address).call())\n",
    "\n",
    "convex_voter_proxy = Contract(address='0x989AEb4d175e16225E39E87d0D97A3360524AD80')\n",
    "convex_voter_proxy.abi.functions"
   ]
  },
  {
   "cell_type": "code",
   "execution_count": null,
   "id": "b9ebea19-4f8c-4252-a477-59c318f94f0d",
   "metadata": {},
   "outputs": [],
   "source": [
    "from decimal import Decimal\n",
    "pos_dict = {}\n",
    "for n, r in df_tt.iterrows():\n",
    "    tok_address = r['token_address']\n",
    "    value = r['sum_value']\n",
    "    pos_dict[tok_address] = pos_dict.get(tok_address, Decimal(0)) + Decimal(value)\n",
    "    if pos_dict[tok_address] == 0:\n",
    "        tok = Token(address=tok_address)\n",
    "        print(tok.symbol, tok_address)\n",
    "        del pos_dict[tok_address]\n",
    "\n",
    "display(pos_dict)\n",
    "\n",
    "token_dict = {}\n",
    "for tok_address, amount in pos_dict.items():\n",
    "    tok = Token(address=tok_address)\n",
    "    token_dict[tok_address] = tok\n",
    "    pos_dict[tok_address] = tok.scaled(amount)\n",
    "\n",
    "pos_dict"
   ]
  },
  {
   "cell_type": "markdown",
   "id": "eeaad59b-559b-4619-8339-8a242353525d",
   "metadata": {},
   "source": [
    "### Curve Pool"
   ]
  },
  {
   "cell_type": "code",
   "execution_count": null,
   "id": "d09dcd97-6dd7-4d2e-a11a-c9802bd4bb73",
   "metadata": {},
   "outputs": [],
   "source": [
    "pool_info = context.models.curve_fi.pool_info(address='0xc4ad29ba4b3c580e6d59105fff484999997675ff')\n",
    "pool_info = context.models.curve_fi.pool_info(address=pool_info['address'])\n",
    "pool_info"
   ]
  },
  {
   "cell_type": "code",
   "execution_count": null,
   "id": "f88f7068-654f-45bd-b285-78c5914f546b",
   "metadata": {},
   "outputs": [],
   "source": [
    "pool = Contract(address='0xd51a44d3fae010294c616388b506acda1bfaae46')\n",
    "b1,b2,b3=(pool.functions.balances(0).call(),\n",
    "          pool.functions.balances(1).call(),\n",
    "          pool.functions.balances(2).call())\n",
    "pool"
   ]
  },
  {
   "cell_type": "code",
   "execution_count": null,
   "id": "234a5cfa-d6ef-4193-8dd9-210c88872fd4",
   "metadata": {},
   "outputs": [],
   "source": [
    "cc = Contract(address=pool_info['gauges']['accounts'][0]['address'])\n",
    "print(cc.functions.balanceOf(acc_1.address.checksum).call())\n",
    "print(cc.functions.working_balances(acc_1.address.checksum).call())\n",
    "print(cc.functions.claimable_tokens(acc_1.address.checksum).call())"
   ]
  }
 ],
 "metadata": {
  "kernelspec": {
   "display_name": "Python 3.10.5 ('cmk310')",
   "language": "python",
   "name": "python3"
  },
  "language_info": {
   "codemirror_mode": {
    "name": "ipython",
    "version": 3
   },
   "file_extension": ".py",
   "mimetype": "text/x-python",
   "name": "python",
   "nbconvert_exporter": "python",
   "pygments_lexer": "ipython3",
   "version": "3.10.10"
  },
  "vscode": {
   "interpreter": {
    "hash": "ef3060a66f05e685ce670116a67026aba95afdffb2461d829b3351d07ec51c58"
   }
  }
 },
 "nbformat": 4,
 "nbformat_minor": 5
}
