{
 "cells": [
  {
   "cell_type": "code",
   "execution_count": 1,
   "metadata": {},
   "outputs": [
    {
     "name": "stdout",
     "output_type": "stream",
     "text": [
      "Credmark context created with \n",
      "- chain_id=137\n",
      "- block_number=45901932\n",
      "- chain_to_provider_url=https://nd...10ab\n",
      "- model_loader_path=['/home/yangye/dev/credmark/credmark-models-py/models']\n",
      "- api_url=http://localhost:8700\n",
      "- use_local_models=-\n",
      "\n",
      "45901932\n"
     ]
    }
   ],
   "source": [
    "import os\n",
    "from credmark.cmf.ipython import create_cmf\n",
    "from credmark.cmf.types import Token, Contract, Address, Account, BlockNumber, Records\n",
    "import models\n",
    "\n",
    "fix_block_number = None\n",
    "\n",
    "fix_block_number = 45902962 - 1030\n",
    "\n",
    "cmf_param = {\n",
    "    'block_number': fix_block_number,\n",
    "    'chain_id': 137,\n",
    "    'api_url': 'http://localhost:8700',\n",
    "    'use_local_models': '-',\n",
    "}\n",
    "\n",
    "context, _model_loader = create_cmf(cmf_param, True)\n",
    "\n",
    "fix_block_number = context.block_number\n",
    "\n",
    "print(fix_block_number)\n"
   ]
  },
  {
   "cell_type": "code",
   "execution_count": 4,
   "metadata": {},
   "outputs": [
    {
     "data": {
      "text/plain": [
       "'ICHI'"
      ]
     },
     "execution_count": 4,
     "metadata": {},
     "output_type": "execute_result"
    }
   ],
   "source": [
    "Token('0x111111517e4929d3dcbdfa7cce55d30d4b6bc4d6').symbol\n"
   ]
  },
  {
   "attachments": {},
   "cell_type": "markdown",
   "metadata": {},
   "source": [
    "## 1. Get event history\n"
   ]
  },
  {
   "cell_type": "code",
   "execution_count": null,
   "metadata": {},
   "outputs": [],
   "source": [
    "from models.tmp_abi_lookup import ICHI_VAULT, ICHI_VAULT_FACTORY, UNISWAP_V3_POOL_ABI\n",
    "\n",
    "from models.credmark.protocols.ichi.ichi_vault import IchiVaults\n",
    "\n",
    "vault_rows = []\n",
    "\n",
    "event_sel = 'Withdraw'\n",
    "event_sel = 'Deposit'\n",
    "\n",
    "# burn partial position ?, burn share o\n",
    "# mint position based on how much token to deposit\n",
    "\n",
    "# os.mkdir(f'{fix_block_number}') if not os.path.isdir(f'{fix_block_number}') else None\n",
    "\n",
    "for vault_addr in IchiVaults.ICHI_POLYGON_VAULTS:\n",
    "    # if Address(vault_addr) == Address('0x70Aa3c8e256c859e52c0B8C263f763D9051B95e1'):\n",
    "    # vault_addr = Address('0x692437de2cAe5addd26CCF6650CaD722d914d974')\n",
    "    vault_ichi = Token(vault_addr).set_abi(abi=ICHI_VAULT, set_loaded=True)\n",
    "\n",
    "    dfs = {}\n",
    "\n",
    "    if vault_ichi.abi is None:\n",
    "        raise ValueError(f'abi is None for {vault_ichi}')\n",
    "\n",
    "    for evt in vault_ichi.abi.events:\n",
    "        if evt in ['Rebalance', 'Deposit', 'Withdraw']:\n",
    "            df = pd.DataFrame(vault_ichi.fetch_events(\n",
    "                vault_ichi.events[evt], from_block=25697834, by_range=10000))  #\n",
    "            dfs[evt] = df\n",
    "\n",
    "    print((vault_addr,\n",
    "           dfs['Deposit'].shape,\n",
    "           dfs['Withdraw'].shape,\n",
    "           dfs['Rebalance'].shape))\n",
    "\n",
    "    (dfs[event_sel]\n",
    "        .loc[:, ['event', 'logIndex', 'transactionIndex', 'address',\n",
    "                 'blockNumber', 'sender', 'to', 'shares', 'amount0', 'amount1']]\n",
    "        # .to_csv(os.path.join(f'{fix_block_number}', f'{vault_addr}_{event_sel}.csv'))\n",
    "     )\n",
    "\n",
    "    for n_row, row in dfs[event_sel].iterrows():\n",
    "        amount0 = row['amount0']\n",
    "        amount1 = row['amount1']\n",
    "        shares = row['shares']\n",
    "        block_number = row['blockNumber']\n",
    "        vault_info = context.run_model(\n",
    "            'ichi.vault-info', {\"address\": vault_addr}, block_number=block_number)\n",
    "        row_common = (n_row,\n",
    "                      block_number,\n",
    "                      vault_addr,\n",
    "                      vault_info['token0_symbol'],\n",
    "                      vault_info['token1_symbol'],\n",
    "                      vault_info['token0_amount'],\n",
    "                      vault_info['token1_amount'],\n",
    "                      'token1' if vault_info['allowed_token'] == 1 else 'token0',\n",
    "                      vault_info['total_amount_in_token'],\n",
    "                      vault_info['total_supply_scaled'],\n",
    "                      vault_info['vault_token_ratio'],)\n",
    "        if vault_info['allowed_token'] == 1:\n",
    "            vault_rows.append((*row_common,\n",
    "                               amount1 / shares,\n",
    "                               amount1, shares,\n",
    "                               vault_info['vault_token_ratio'] - amount1 / shares))\n",
    "        else:\n",
    "            vault_rows.append((*row_common,\n",
    "                               amount0 / shares,\n",
    "                               amount0, shares,\n",
    "                               vault_info['vault_token_ratio'] - amount0 / shares))\n",
    "\n",
    "    df_vault_rows = pd.DataFrame(\n",
    "        vault_rows,\n",
    "        columns=['n_row', 'block_number', 'vault_addr', 'token0_symbol', 'token1_symbol', 'token0_amount', 'token1_amount', 'allowed_token',\n",
    "                 'total_amount_in_token', 'total_supply_scaled', 'vault_token_ratio',\n",
    "                 'amount_per_share', 'amount', 'shares', 'diff_ratio'])\n",
    "\n",
    "    # df_vault_rows.to_csv(os.path.join(f'{fix_block_number}', f'{vault_addr}_{event_sel}_compare.csv'), index=False)\n",
    "\n",
    "display(df_vault_rows)\n"
   ]
  },
  {
   "cell_type": "code",
   "execution_count": null,
   "metadata": {},
   "outputs": [],
   "source": [
    "vault_info['total_amount_in_token'] * 1e6 / 5.042621652e09\n",
    "vault_info\n"
   ]
  },
  {
   "attachments": {},
   "cell_type": "markdown",
   "metadata": {},
   "source": [
    "-   vault operations\n",
    "-   withdraw, transfer\n",
    "-   deposit, transfer\n",
    "-   rebalance\n",
    "\n",
    "-   0x8ac3d7cd56816da9fb45e7640aa70a24884e02f7\n",
    "-   0x0768A75F616B98ee0937673bD83B7aBF142236Ea', '0xED26b64F351A04Acbf16AA3782969e4a53B12c54', 'WETH', 'DPI', False, True, 280.73224104767195\n",
    "\n",
    "all transfers\n"
   ]
  },
  {
   "cell_type": "code",
   "execution_count": null,
   "metadata": {},
   "outputs": [],
   "source": [
    "(\n",
    "    vault_ichi.functions.getTotalAmounts().call(),\n",
    "    vault_ichi.functions.getBasePosition().call(),\n",
    "    vault_ichi.functions.getLimitPosition().call(),\n",
    "    token0.balance_of(vault_ichi.address.checksum),\n",
    "    token1.balance_of(vault_ichi.address.checksum),\n",
    ")\n",
    "\n",
    "# 286852599603313080740 - 26182028192636748 - 286826417575120443992\n",
    "# 274646900430582100 - 274646900430582100 - 0\n",
    "\n",
    "# totalAmount0\ttotalAmount1\tfeeAmount0\tfeeAmount1\ttotalSupply\n",
    "# 274911385738111039\t286846445532138665343\t16019734579489\t0\t280732241047671948180\n"
   ]
  },
  {
   "cell_type": "code",
   "execution_count": null,
   "metadata": {},
   "outputs": [],
   "source": [
    "# vault_pool()\n",
    "base_lower = vault_ichi.functions.baseLower().call()\n",
    "base_upper = vault_ichi.functions.baseUpper().call()\n",
    "\n",
    "limit_lower = vault_ichi.functions.limitLower().call()\n",
    "limit_upper = vault_ichi.functions.limitUpper().call()\n",
    "\n",
    "base_position_key = context.web3.solidityKeccak(['address', 'int24', 'int24'], [\n",
    "                                                vault_ichi.address.checksum, base_lower, base_upper])\n",
    "limit_position_key = context.web3.solidityKeccak(['address', 'int24', 'int24'], [\n",
    "                                                 vault_ichi.address.checksum, limit_lower, limit_upper])\n",
    "\n",
    "vault_pool.functions.positions(base_position_key).call(\n",
    "), vault_pool.functions.positions(limit_position_key).call(),\n",
    "\n",
    "# liquidity uint128, feeGrowthInside0LastX128 uint256, feeGrowthInside1LastX128 uint256, tokensOwed0 uint128, tokensOwed1 uint128\n"
   ]
  },
  {
   "cell_type": "code",
   "execution_count": null,
   "metadata": {},
   "outputs": [],
   "source": [
    "# fee\n",
    "# all deposit\n",
    "# all withdraw\n",
    "# all re-balance => fee\n",
    "\n",
    "display(pd.DataFrame(token0.fetch_events(token0.events.Transfer, from_block=0,\n",
    "        argument_filters={'from': vault_ichi.address.checksum, 'to': affiliate.checksum})))\n",
    "display(pd.DataFrame(token0.fetch_events(token0.events.Transfer, from_block=0,\n",
    "        argument_filters={'from': vault_ichi.address.checksum, 'to': fee_recipient.checksum})))\n",
    "\n",
    "# TODO: deposit / withdraw by proportion\n",
    "# vault token value = (vault position value - fee owned by vault (10% of current in pool) / total Supply\n",
    "\n",
    "# Flow:\n",
    "# Deposit - Withdraw - Re-balance\n",
    "# Deposit - Withdraw (In) / (vault position value - fee owned by vault (10% of current in pool)\n"
   ]
  }
 ],
 "metadata": {
  "kernelspec": {
   "display_name": "cmk310",
   "language": "python",
   "name": "python3"
  },
  "language_info": {
   "codemirror_mode": {
    "name": "ipython",
    "version": 3
   },
   "file_extension": ".py",
   "mimetype": "text/x-python",
   "name": "python",
   "nbconvert_exporter": "python",
   "pygments_lexer": "ipython3",
   "version": "3.11.4"
  },
  "orig_nbformat": 4
 },
 "nbformat": 4,
 "nbformat_minor": 2
}
