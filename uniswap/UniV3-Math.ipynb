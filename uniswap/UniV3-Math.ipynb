{
 "cells": [
  {
   "attachments": {},
   "cell_type": "markdown",
   "metadata": {},
   "source": [
    "# Uniswap V3 - Conversion between Price, sqrtPrice, and tick\n",
    "\n",
    "- 2020.08.01\n"
   ]
  },
  {
   "cell_type": "code",
   "execution_count": 1,
   "metadata": {},
   "outputs": [],
   "source": [
    "from decimal import Decimal\n",
    "from src.sqrtmath import SqrtPriceMath\n",
    "import math\n",
    "\n",
    "smath = SqrtPriceMath()"
   ]
  },
  {
   "cell_type": "code",
   "execution_count": 2,
   "metadata": {},
   "outputs": [
    {
     "name": "stdout",
     "output_type": "stream",
     "text": [
      "min/max_sqrt ratio => tick -887272 887272 -887272 887272\n",
      "min/max_sqrt tick => ratio 4295128739 1461446703485210103287273052203988822378723970342 4295128739 1461446703485210103287273052203988822378723970342\n"
     ]
    }
   ],
   "source": [
    "from src.constants import *\n",
    "\n",
    "print('min/max_sqrt ratio => tick', smath.getTickAtSqrtRatio(MIN_SQRT_RATIO),\n",
    "      smath.getTickAtSqrtRatio(MAX_SQRT_RATIO), MIN_TICK, MAX_TICK)\n",
    "print('min/max_sqrt tick => ratio', smath.getSqrtRatioAtTick(MIN_TICK),\n",
    "      smath.getSqrtRatioAtTick(MAX_TICK), MIN_SQRT_RATIO, MAX_SQRT_RATIO)"
   ]
  },
  {
   "attachments": {},
   "cell_type": "markdown",
   "metadata": {},
   "source": [
    "## Rules in conversion Price in Python with float\n",
    "\n",
    "1. To get price, raise power from `tick` (acurate) but use `sqrtPrice` to derive (due to lost precision).\n",
    "\n",
    "2. To obtain tick, Do not use bit shift but use `/`. Because shift base could result in 0.\n",
    "\n",
    "We can compare `(sqrtPrice * sqrtPrice) / (2 ** 192)` (a decimal) and `((sqrtPrice * sqrtPrice) >> 192)` (=0) below.\n",
    "\n",
    "3. Do not use tick to derive price or sqrtPrice unless they happend to be the tick edge.\n",
    "\n",
    "Order of calculation:\n",
    "\n",
    "- `Price => sqrtPrice => tick`\n",
    "- `SqrtPrice => Price`\n",
    "- Price or sqrtPrice to tick could lose precision from logrithmic operator. So, `Tick x> sqrtPrice`, and `Tick x> Price`.\n"
   ]
  },
  {
   "attachments": {},
   "cell_type": "markdown",
   "metadata": {},
   "source": [
    "There are differences due to precision loss when conversion between tick and sqrtPrice.\n"
   ]
  },
  {
   "cell_type": "code",
   "execution_count": 3,
   "metadata": {},
   "outputs": [
    {
     "data": {
      "text/plain": [
       "(1334871019249706799293742930109995, 194650)"
      ]
     },
     "execution_count": 3,
     "metadata": {},
     "output_type": "execute_result"
    }
   ],
   "source": [
    "smath.getSqrtRatioAtTick(194650), smath.getTickAtSqrtRatio(1334901240845780620800419172450304)"
   ]
  },
  {
   "cell_type": "code",
   "execution_count": 4,
   "metadata": {},
   "outputs": [
    {
     "name": "stdout",
     "output_type": "stream",
     "text": [
      "194650 194650.4528192762\n",
      "1334901240845780620800419172450304 1334901240845780620800419172450304\n",
      "1334901240845780620800419172450304 1334871019248276165902122954522624\n",
      "0.4528192761936225\n"
     ]
    }
   ],
   "source": [
    "# from sqrtPriceX96 -> tick\n",
    "sqrtPriceX96 = 1334901240845780620800419172450304\n",
    "tick = math.log(sqrtPriceX96 * sqrtPriceX96 / (2 ** 192))/math.log(1.0001)\n",
    "print(int(tick), tick)\n",
    "\n",
    "# from tick to sqrtPriceX96 (without losing precision)\n",
    "sqrtpricex96_full = (math.sqrt(1.0001 ** tick) * 2 ** 96)\n",
    "print(sqrtPriceX96, Decimal(sqrtpricex96_full))\n",
    "\n",
    "sqrtpricex96_int = (math.sqrt(1.0001 ** int(tick)) * 2 ** 96)\n",
    "print(sqrtPriceX96, Decimal(sqrtpricex96_int))\n",
    "\n",
    "print(194650.45281927620 - 194650)"
   ]
  },
  {
   "attachments": {},
   "cell_type": "markdown",
   "metadata": {},
   "source": [
    "### Example from pools\n"
   ]
  },
  {
   "attachments": {},
   "cell_type": "markdown",
   "metadata": {},
   "source": [
    "### pool 1\n",
    "\n",
    "    // Using DAI/WETH: https://etherscan.io/address/0x60594a405d53811d3bc4766596efd80fd545a270\n",
    "    fix.dai_weth = {\n",
    "      token0_decimals: 18,\n",
    "      token1_decimals: 18,\n",
    "      liquidity: '2830981547246997099758055',\n",
    "      sqrtPrice: '1550724133884968571999296281',\n",
    "      tickSpacing: '60',\n",
    "    };\n"
   ]
  },
  {
   "cell_type": "code",
   "execution_count": 5,
   "metadata": {},
   "outputs": [
    {
     "name": "stdout",
     "output_type": "stream",
     "text": [
      "SqrtPrice => Tick: -78677\n",
      "SqrtPrice => Price (Correct with division): 2610.297910762634 ~2610.3\n",
      "SqrtPrice => Price (Correct with division) (Inverse): 0.00038309803485527693\n",
      "SqrtPrice x> Price (Wrong with shift): 0\n",
      "Tick x> Price (Wrong with raising power): 0.0003830647047208358\n"
     ]
    }
   ],
   "source": [
    "liquidity = 2830981547246997099758055\n",
    "sqrtPrice = 1550724133884968571999296281\n",
    "\n",
    "tick = smath.getTickAtSqrtRatio(sqrtPrice)\n",
    "print(\"SqrtPrice => Tick:\", tick)\n",
    "print(\"SqrtPrice => Price (Correct with division):\", 1 / ((sqrtPrice * sqrtPrice) / (2 ** 192)), '~2610.3')\n",
    "print(\"SqrtPrice => Price (Correct with division) (Inverse):\", (sqrtPrice * sqrtPrice) / (2 ** 192))\n",
    "print(\"SqrtPrice x> Price (Wrong with shift):\", (sqrtPrice * sqrtPrice) >> 192)\n",
    "print(\"Tick x> Price (Wrong with raising power):\", 1.0001 ** tick)"
   ]
  },
  {
   "attachments": {},
   "cell_type": "markdown",
   "metadata": {},
   "source": [
    "### pool 2\n",
    "\n",
    "    // Using USDC/WETH: https://etherscan.io/address/0x8ad599c3a0ff1de082011efddc58f1908eb6e6d8\n",
    "    fix.usdc_weth = {\n",
    "    token0_decimals: 6,\n",
    "    token1_decimals: 18,\n",
    "    liquidity: '23187408889601892673',\n",
    "    sqrtPrice: '1510978141923922864297330642137308',\n",
    "    tickSpacing: '60',\n",
    "    };\n"
   ]
  },
  {
   "cell_type": "code",
   "execution_count": 6,
   "metadata": {},
   "outputs": [
    {
     "name": "stdout",
     "output_type": "stream",
     "text": [
      "SqrtPrice => Tick: 197128\n",
      "SqrtPrice => Price (Correct with division): 2749.4308659156027 ~2749.4\n",
      "SqrtPrice => Price (Correct with division) (Inverse): 363711636.61428696\n",
      "SqrtPrice x> Price (Wrong with shift): 2749.430870559225\n",
      "Tick x> Price (Wrong with raising power): 2749.5889045359063\n"
     ]
    }
   ],
   "source": [
    "# pool 2\n",
    "\n",
    "liquidity = 23187408889601892673\n",
    "sqrtPrice = 1510978141923922864297330642137308\n",
    "\n",
    "tick = smath.getTickAtSqrtRatio(sqrtPrice)\n",
    "print(\"SqrtPrice => Tick:\", tick)\n",
    "print(\"SqrtPrice => Price (Correct with division):\", 1 / ((sqrtPrice * sqrtPrice) / (2 ** 192)) * 1e12, '~2749.4')\n",
    "print(\"SqrtPrice => Price (Correct with division) (Inverse):\", (sqrtPrice * sqrtPrice) / (2 ** 192))\n",
    "print(\"SqrtPrice x> Price (Wrong with shift):\", 1 / ((sqrtPrice * sqrtPrice) >> 192) * 1e12)\n",
    "print(\"Tick x> Price (Wrong with raising power):\", 1.0001 ** -tick * 1e12)"
   ]
  },
  {
   "attachments": {},
   "cell_type": "markdown",
   "metadata": {},
   "source": [
    "#### Alternative way of obtaining Tick/SqrtPrice from price ratio\n",
    "\n",
    "- $tick = log(\\text{price ratio}) / log(1.0001)$\n",
    "- $Price = 1.0001^{tick}$\n",
    "- $sqrtPrice = 1.0001^{{tick}\\over2}$\n"
   ]
  },
  {
   "cell_type": "code",
   "execution_count": 7,
   "metadata": {},
   "outputs": [],
   "source": [
    "def _sqrt(_x):\n",
    "    z = (_x + 1) // 2\n",
    "    y = _x\n",
    "    while z < y:\n",
    "        y = z\n",
    "        z = (_x // z + z) // 2\n",
    "    return y\n",
    "\n",
    "\n",
    "def getSqrtPriceX96(priceA, priceB):\n",
    "    ratioX192 = (priceA << 192) // priceB\n",
    "    return _sqrt(ratioX192)\n",
    "\n",
    "\n",
    "def log2(x, n):\n",
    "    assert 1 <= x < 2\n",
    "\n",
    "    result = 0\n",
    "    for i in range(0, n):\n",
    "        if x >= 2:\n",
    "            result += 1 / (2 ** i)\n",
    "            x /= 2\n",
    "        x *= x\n",
    "    return result"
   ]
  },
  {
   "cell_type": "code",
   "execution_count": 8,
   "metadata": {},
   "outputs": [
    {
     "name": "stdout",
     "output_type": "stream",
     "text": [
      "Price: 6.65088190694086e-16\n",
      "tick=-349483.5932592916\n",
      "Tick => Price (without losing precision): 6.650881906940864e-16\n",
      "Tick => Price (losing precision): 6.651276468665729e-16\n",
      "\n",
      "Price ratio => sqrtPrice: 2043239152911629950593\n",
      "tick => sqrtPrice2: 2.0432391529116305e+21, 2043239152911630467072\n",
      "\n",
      "sqrtPrice => Price: 6.65088190694086e-16\n",
      "priceA / priceB - sqrtPrice => Price: 0.0\n",
      "\n",
      "sqrtPrice => tick2: -349484\n",
      "Tick x> Price (Wrong with raising power): 6.650611407524977e-16\n",
      "Tick x> sqrtPrice2: sqrtPrice2=2043197601980699753767\n"
     ]
    }
   ],
   "source": [
    "priceA = 1 * 10**6\n",
    "priceB = int(1503.56 / 1 * 10**18)\n",
    "\n",
    "print('Price:', priceA / priceB)\n",
    "tick = math.log(priceA / priceB, 100) / math.log(1.0001, 100)\n",
    "print(f'{tick=}')\n",
    "print('Tick => Price (without losing precision):', 1.0001 ** tick)\n",
    "print('Tick => Price (losing precision):', 1.0001 ** int(tick))\n",
    "print()\n",
    "\n",
    "sqrtPrice = getSqrtPriceX96(priceA, priceB)\n",
    "print(f'Price ratio => sqrtPrice: {sqrtPrice}')\n",
    "sqrtPrice2 = 1.0001 ** (tick / 2) * (2 ** 96)\n",
    "print(f'tick => sqrtPrice2: {sqrtPrice2}, {Decimal(sqrtPrice2)}')\n",
    "print()\n",
    "\n",
    "print('sqrtPrice => Price:', ((sqrtPrice * sqrtPrice) / (2 ** 192)))\n",
    "print('priceA / priceB - sqrtPrice => Price:', priceA / priceB - ((sqrtPrice * sqrtPrice) / (2 ** 192)))\n",
    "print()\n",
    "\n",
    "tick2 = smath.getTickAtSqrtRatio(sqrtPrice)\n",
    "print('sqrtPrice => tick2:', tick2)\n",
    "print('Tick x> Price (Wrong with raising power):', 1.0001 ** tick2)\n",
    "\n",
    "sqrtPrice2 = smath.getSqrtRatioAtTick(tick2)\n",
    "print(f'Tick x> sqrtPrice2: {sqrtPrice2=}')"
   ]
  },
  {
   "attachments": {},
   "cell_type": "markdown",
   "metadata": {},
   "source": [
    "## TickMap\n"
   ]
  },
  {
   "cell_type": "code",
   "execution_count": 9,
   "metadata": {},
   "outputs": [
    {
     "name": "stdout",
     "output_type": "stream",
     "text": [
      "Word 332, bit 184\n"
     ]
    }
   ],
   "source": [
    "tick = 85176\n",
    "word_pos = tick >> 8  # or tick // 2**8\n",
    "bit_pos = tick % 256\n",
    "print(f\"Word {word_pos}, bit {bit_pos}\")"
   ]
  },
  {
   "attachments": {},
   "cell_type": "markdown",
   "metadata": {},
   "source": [
    "#### Minting and burning\n",
    "\n",
    "1. When Minting - create liquidity and range\n",
    "\n",
    "- If $p \\in [P_a, P_b]$\n",
    "\n",
    "$L = { x \\over {{1 \\over \\sqrt{P}} - {1 \\over \\sqrt{P_b}}} } = { y \\over { \\sqrt{P} - \\sqrt{p_a} } } $\n",
    "\n",
    "$y / x = { { { \\sqrt{P} - \\sqrt{p_a} } } \\over {{1 \\over \\sqrt{P}} - {1 \\over \\sqrt{P_b}}} } $\n",
    "\n",
    "$y / x = { { { \\sqrt{P} - \\sqrt{p_a} } } \\over {{1 \\over \\sqrt{P}} - {1 \\over \\sqrt{P_b}}} } $\n",
    "\n",
    "- If $p \\text{ not } \\in [P_a, P_B]$\n",
    "\n",
    "2. When Burning, use range and liquidity to obtain x and y amount.\n",
    "\n",
    "- When $p_a > p$, $L = x {{\\sqrt{p_a} \\sqrt{p_b}} \\over { \\sqrt{p_b} - \\sqrt{p_a}}}$\n",
    "\n",
    "- When $p > p_b$, $L = {y \\over { \\sqrt{p_b} - \\sqrt{p_a}}}$\n",
    "\n",
    "- When $p_b > p > p_a$, $x = L {{\\sqrt{p_b} - \\sqrt{p}} \\over {\\sqrt{P} \\sqrt{p_b}}}$, $y = L (\\sqrt{P} - \\sqrt{p_a})$\n"
   ]
  },
  {
   "cell_type": "code",
   "execution_count": 10,
   "metadata": {},
   "outputs": [
    {
     "data": {
      "text/plain": [
       "4001.3001575038193"
      ]
     },
     "metadata": {},
     "output_type": "display_data"
    },
    {
     "data": {
      "text/plain": [
       "1.0003000300009999"
      ]
     },
     "metadata": {},
     "output_type": "display_data"
    },
    {
     "data": {
      "text/plain": [
       "1.862645149230957e-09"
      ]
     },
     "execution_count": 10,
     "metadata": {},
     "output_type": "execute_result"
    }
   ],
   "source": [
    "from math import sqrt\n",
    "\n",
    "tick = 3\n",
    "tick_a = 0\n",
    "tick_b = 10\n",
    "\n",
    "price = 1.0001 ** tick\n",
    "price_a = 1.0001 ** tick_a\n",
    "price_b = 1.0001 ** tick_b\n",
    "\n",
    "y = price\n",
    "\n",
    "a = (sqrt(price_a) / sqrt(price_b) - 1)\n",
    "b = (price / sqrt(price_b) + sqrt(price_a))\n",
    "c = price\n",
    "\n",
    "L = (-b + sqrt(b*b - 4*a*c)) / 2 / a, (-b - sqrt(b*b - 4*a*c)) / 2 / a\n",
    "\n",
    "L1 = L[1]\n",
    "display(L1, price)\n",
    "\n",
    "(1 + L1 / sqrt(price_b)) * (price + L1 * sqrt(price_a)) - L1 * L1"
   ]
  },
  {
   "cell_type": "code",
   "execution_count": 11,
   "metadata": {},
   "outputs": [],
   "source": [
    "tick = -3\n",
    "tick_a = 0\n",
    "tick_b = 10\n",
    "\n",
    "# token0"
   ]
  }
 ],
 "metadata": {
  "kernelspec": {
   "display_name": "Python 3.10.5 ('cmk310')",
   "language": "python",
   "name": "python3"
  },
  "language_info": {
   "codemirror_mode": {
    "name": "ipython",
    "version": 3
   },
   "file_extension": ".py",
   "mimetype": "text/x-python",
   "name": "python",
   "nbconvert_exporter": "python",
   "pygments_lexer": "ipython3",
   "version": "3.11.4"
  },
  "orig_nbformat": 4,
  "vscode": {
   "interpreter": {
    "hash": "ef3060a66f05e685ce670116a67026aba95afdffb2461d829b3351d07ec51c58"
   }
  }
 },
 "nbformat": 4,
 "nbformat_minor": 2
}
