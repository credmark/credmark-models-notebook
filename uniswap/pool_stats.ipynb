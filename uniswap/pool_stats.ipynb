{
 "cells": [
  {
   "cell_type": "code",
   "execution_count": null,
   "metadata": {},
   "outputs": [],
   "source": [
    "from credmark.cmf.ipython import create_cmf\n",
    "from credmark.cmf.types import Records\n",
    "\n",
    "cmf_param = {\n",
    "    'block_number': 17_001_000,\n",
    "    'api_url': 'http://localhost:8700',\n",
    "    'chain_id': 1,\n",
    "}\n",
    "\n",
    "context, _model_loader = create_cmf(cmf_param)\n",
    "context._web3.eth.default_block = int(context.block_number)\n",
    "end_block = int(context.block_number)\n",
    "\n",
    "print(end_block)"
   ]
  },
  {
   "cell_type": "code",
   "execution_count": null,
   "metadata": {},
   "outputs": [],
   "source": [
    "dir(context.models)\n",
    "univ2_pools = context.run_model('uniswap-v2.all-pools-ledger', {}, return_type=Records).to_dataframe()\n",
    "univ3_pools = context.run_model('uniswap-v3.all-pools-ledger', {}, return_type=Records).to_dataframe()\n",
    "sushi_pools = context.run_model('sushiswap.all-pools-ledger', {}, return_type=Records).to_dataframe()\n",
    "\n",
    "display(sushi_pools)\n",
    "\n",
    "display(univ3_pools)\n",
    "\n",
    "display(univ2_pools)"
   ]
  },
  {
   "cell_type": "code",
   "execution_count": null,
   "metadata": {},
   "outputs": [],
   "source": [
    "159585 + 11068 + 3626"
   ]
  },
  {
   "cell_type": "code",
   "execution_count": null,
   "metadata": {},
   "outputs": [],
   "source": [
    "all_tokens = set()\n",
    "for pl in [univ2_pools, univ3_pools, sushi_pools]:\n",
    "    for t_sel in ['token0', 'token1']:\n",
    "        all_tokens.update(pl[t_sel])\n",
    "\n",
    "len(all_tokens)"
   ]
  },
  {
   "cell_type": "code",
   "execution_count": null,
   "metadata": {},
   "outputs": [],
   "source": [
    "\"\"\"\n",
    "SELECT count(*)\n",
    "\tFROM cmk_price.raw_price_info;\n",
    "\"\"\"\n",
    "\n",
    "158_664\n",
    "\n",
    "55_578_068 / 59 * 7.5 * 1024 / 1024 / 1024 / 1024 * 10"
   ]
  }
 ],
 "metadata": {
  "kernelspec": {
   "display_name": "cmk39",
   "language": "python",
   "name": "python3"
  },
  "language_info": {
   "codemirror_mode": {
    "name": "ipython",
    "version": 3
   },
   "file_extension": ".py",
   "mimetype": "text/x-python",
   "name": "python",
   "nbconvert_exporter": "python",
   "pygments_lexer": "ipython3",
   "version": "3.9.16"
  },
  "orig_nbformat": 4
 },
 "nbformat": 4,
 "nbformat_minor": 2
}
