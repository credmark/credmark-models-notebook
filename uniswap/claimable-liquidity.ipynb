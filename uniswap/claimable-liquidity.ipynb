{
 "cells": [
  {
   "cell_type": "markdown",
   "metadata": {},
   "source": [
    "# Claimable Liquidity from V3 Pool"
   ]
  },
  {
   "cell_type": "code",
   "execution_count": null,
   "metadata": {},
   "outputs": [],
   "source": [
    "%load_ext credmark.cmf.ipython\n",
    "\n",
    "param = {'chain_id': 1,\n",
    " 'block_number': 15269596,\n",
    " 'model_loader_path': ['../../credmark-models-py/models'],\n",
    " 'chain_to_provider_url': {'1': 'http://192.168.68.122:10444'},\n",
    " 'api_url': None,\n",
    " 'use_local_models': '*',\n",
    " 'register_utility_global': True}\n",
    "\n",
    "context, model_loader = %cmf param"
   ]
  },
  {
   "cell_type": "code",
   "execution_count": null,
   "metadata": {},
   "outputs": [],
   "source": [
    "load_from_ledger = False\n",
    "\n",
    "pool = Contract(address='0x88e6a0c2ddd26feeb64f039a2c41296fcb3f5640')\n",
    "\n",
    "if load_from_ledger:\n",
    "    with pool.ledger.events.Mint as q:\n",
    "        df_mint = q.select(columns=q.columns,\n",
    "                        order_by=q.EVT_BLOCK_NUMBER.comma_(q.EVT_INDEX),\n",
    "                        limit=5000\n",
    "                        ).to_dataframe()\n",
    "\n",
    "    with pool.ledger.events.Burn as q:\n",
    "        df_burn = q.select(columns=q.columns,\n",
    "                        order_by=q.EVT_BLOCK_NUMBER.comma_(q.EVT_INDEX),\n",
    "                        limit=5000).to_dataframe()\n",
    "\n",
    "    df_mint.to_csv('csv/uni_mint_5k.csv', index=False)\n",
    "    df_burn.to_csv('csv/uni_burn_5k.csv', index=False)\n",
    "else:\n",
    "    df_mint = pd.read_csv('csv/uni_mint_5k.csv')\n",
    "    df_burn = pd.read_csv('csv/uni_burn_5k.csv')\n",
    "\n",
    "\n",
    "df_mint = df_mint.query('evt_block_number <= 12823596')\n",
    "df_burn = df_burn.query('evt_block_number <= 12823596')"
   ]
  },
  {
   "cell_type": "code",
   "execution_count": null,
   "metadata": {},
   "outputs": [],
   "source": [
    "df_mintburn = (pd\n",
    "    .concat([df_mint.assign(type='mint', inp_amount = lambda x: x.inp_amount.apply(int)),\n",
    "             df_burn.assign(type='burn', inp_amount = lambda x: -x.inp_amount.apply(int))])\n",
    "    .sort_values(['evt_block_number', 'evt_index'])\n",
    "    .reset_index(drop=True))\n",
    "\n",
    "df_mintburn_idx = df_mintburn.set_index(['inp_tickLower', 'inp_tickUpper', 'inp_owner']).sort_index()\n",
    "\n",
    "display(df_mintburn)\n",
    "display(('Unique owners', df_mintburn.inp_owner.unique().tolist()))\n",
    "display(('Unique sender', df_mintburn.inp_sender.unique().tolist()))"
   ]
  },
  {
   "cell_type": "code",
   "execution_count": null,
   "metadata": {},
   "outputs": [],
   "source": [
    "def split_count(df):\n",
    "    df_1 = df.query('inp_amount < 0').reset_index(drop=True)\n",
    "    df_2 = df.query('inp_amount == 0').reset_index(drop=True)\n",
    "    df_3 = df.query('inp_amount > 0').reset_index(drop=True)\n",
    "\n",
    "    globals()['df_neg'] = df_1\n",
    "    globals()['df_zero'] = df_2\n",
    "    globals()['df_pos'] = df_3\n",
    "    return df_1.shape[0], df_2.shape[0], df_3.shape[0]\n",
    "\n",
    "(df_mintburn\n",
    "    .groupby(['inp_tickLower', 'inp_tickUpper', 'inp_owner'], as_index=False)\n",
    "    .inp_amount\n",
    "    .sum()\n",
    "    .pipe(split_count))"
   ]
  },
  {
   "cell_type": "code",
   "execution_count": null,
   "metadata": {},
   "outputs": [],
   "source": [
    "sel = (199240, 199250, '0xC36442b4a4522E871399CD717aBDD847Ab11FE88')\n",
    "display(df_mintburn_idx.loc[sel, :])"
   ]
  },
  {
   "cell_type": "code",
   "execution_count": null,
   "metadata": {},
   "outputs": [],
   "source": [
    "from collections import namedtuple\n",
    "\n",
    "Position = namedtuple('Position', 'lower upper owner')\n",
    "# Detail = namedtuple('Detail', 'liquidity block_number')\n",
    "\n",
    "df_mintburn_sel = df_mintburn.copy()\n",
    "\n",
    "minted = {}\n",
    "burnt = {}\n",
    "live = {}\n",
    "\n",
    "for n,r in df_mintburn_sel.iterrows():\n",
    "    pos = Position(r.inp_tickLower, r.inp_tickUpper, r.inp_owner)\n",
    "    detail = dict(liquidity=r.inp_amount, block_number=[r.evt_block_number], tx_hash=[r.evt_tx_hash])\n",
    "    if r.type == 'mint':\n",
    "        if pos in minted:\n",
    "            minted[pos]['liquidity'] += detail['liquidity']\n",
    "            minted[pos]['block_number'].extend(detail['block_number'])\n",
    "            minted[pos]['tx_hash'].extend(detail['tx_hash'])\n",
    "        else:\n",
    "            minted[pos] = detail\n",
    "\n",
    "        if pos in live:\n",
    "            live[pos]['liquidity'] += detail['liquidity']\n",
    "            live[pos]['block_number'] = detail['block_number']\n",
    "            live[pos]['tx_hash'] = detail['tx_hash']\n",
    "        else:\n",
    "            live[pos] = detail.copy()\n",
    "    else:\n",
    "        if pos in burnt:\n",
    "            burnt[pos]['liquidity'] += detail['liquidity']\n",
    "            burnt[pos]['block_number'].extend(detail['block_number'])\n",
    "            burnt[pos]['tx_hash'].extend(detail['tx_hash'])\n",
    "        else:\n",
    "            burnt[pos] = detail\n",
    "\n",
    "        if pos in live:\n",
    "            assert detail['block_number'][0] >= live[pos]['block_number'][0]\n",
    "            liquidity_updated = live[pos]['liquidity'] + detail['liquidity']\n",
    "            assert liquidity_updated >= -16384\n",
    "            live[pos]['liquidity'] = liquidity_updated\n",
    "            live[pos]['block_number'] = detail['block_number']\n",
    "            live[pos]['tx_hash'] = detail['tx_hash']\n",
    "        else:\n",
    "            raise ValueError(f'{pos} not found in live')"
   ]
  },
  {
   "cell_type": "code",
   "execution_count": null,
   "metadata": {},
   "outputs": [],
   "source": [
    "len([k for k,v in live.items() if v['liquidity'] < 0]), \\\n",
    "len([k for k,v in live.items() if v['liquidity'] == 0]), \\\n",
    "len([k for k,v in live.items() if v['liquidity'] > 0])"
   ]
  },
  {
   "cell_type": "code",
   "execution_count": null,
   "metadata": {},
   "outputs": [],
   "source": [
    "(df_mintburn_idx.loc[(199270, 199280, '0xC36442b4a4522E871399CD717aBDD847Ab11FE88'),: ]\n",
    "    .assign(csum=lambda x: x.inp_amount.cumsum().astype(float))\n",
    "    .plot('evt_block_number', 'csum')\n",
    ")"
   ]
  },
  {
   "cell_type": "markdown",
   "metadata": {},
   "source": [
    "### Appendix: check L2 data"
   ]
  },
  {
   "cell_type": "code",
   "execution_count": null,
   "metadata": {},
   "outputs": [],
   "source": [
    "with pool.ledger.events.Mint as q:\n",
    "    mint_sel = q.select(columns=q.columns,\n",
    "                    where=q.EVT_BLOCK_NUMBER.in_([12_730_140, 12_730_128])\n",
    "                )\n",
    "    df_mint_sel = mint_sel.to_dataframe()\n",
    "\n",
    "with pool.ledger.events.Burn as q:\n",
    "    burn_sel = q.select(columns=q.columns, # [q.EVT_BLOCK_NUMBER, q.AMOUNT],\n",
    "                    where=q.EVT_BLOCK_NUMBER.in_([12_730_164])\n",
    "                )\n",
    "    df_burn_sel = burn_sel.to_dataframe()\n",
    "display(df_mint_sel)\n",
    "display(df_burn_sel)"
   ]
  },
  {
   "cell_type": "markdown",
   "metadata": {},
   "source": [
    "### Appendix: get event from node"
   ]
  },
  {
   "cell_type": "code",
   "execution_count": null,
   "metadata": {},
   "outputs": [],
   "source": [
    "df_burn_evt = (\n",
    "    pd.DataFrame(pool.fetch_events(pool.events.Mint,\n",
    "                       from_block=12730128,\n",
    "                       to_block=12730128))\n",
    "    .sort_values(['blockNumber', 'logIndex'])\n",
    "    )\n",
    "df_burn_evt"
   ]
  },
  {
   "cell_type": "code",
   "execution_count": null,
   "metadata": {},
   "outputs": [],
   "source": [
    "df_burn_evt = (\n",
    "    pd.DataFrame(pool.fetch_events(pool.events.Mint,\n",
    "                       from_block=12730140,\n",
    "                       to_block=12730140))\n",
    "    .sort_values(['blockNumber', 'logIndex'])\n",
    "    )\n",
    "df_burn_evt"
   ]
  },
  {
   "cell_type": "code",
   "execution_count": null,
   "metadata": {},
   "outputs": [],
   "source": [
    "df_burn_evt = (\n",
    "    pd.DataFrame(pool.fetch_events(pool.events.Burn,\n",
    "                       from_block=12730164,\n",
    "                       to_block=12730164))\n",
    "    .sort_values(['blockNumber', 'logIndex'])\n",
    "    )\n",
    "df_burn_evt"
   ]
  },
  {
   "cell_type": "code",
   "execution_count": null,
   "metadata": {},
   "outputs": [],
   "source": [
    "df_burn_evt = (\n",
    "    pd.DataFrame(pool.fetch_events(pool.events.Burn,\n",
    "                       from_block=12706340,\n",
    "                       to_block=12706340))\n",
    "    .sort_values(['blockNumber', 'logIndex']))\n",
    "df_burn_evt"
   ]
  },
  {
   "cell_type": "code",
   "execution_count": null,
   "metadata": {},
   "outputs": [],
   "source": []
  }
 ],
 "metadata": {
  "kernelspec": {
   "display_name": "Python 3.10.5 ('cmk310')",
   "language": "python",
   "name": "python3"
  },
  "language_info": {
   "codemirror_mode": {
    "name": "ipython",
    "version": 3
   },
   "file_extension": ".py",
   "mimetype": "text/x-python",
   "name": "python",
   "nbconvert_exporter": "python",
   "pygments_lexer": "ipython3",
   "version": "3.10.5"
  },
  "orig_nbformat": 4,
  "vscode": {
   "interpreter": {
    "hash": "ef3060a66f05e685ce670116a67026aba95afdffb2461d829b3351d07ec51c58"
   }
  }
 },
 "nbformat": 4,
 "nbformat_minor": 2
}
