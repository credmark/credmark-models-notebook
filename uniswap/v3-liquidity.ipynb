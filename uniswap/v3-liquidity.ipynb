{
 "cells": [
  {
   "cell_type": "markdown",
   "metadata": {},
   "source": [
    "# Credmark - Uniswap V3 Liquidity Explorer\n",
    "\n",
    "- 2022.7.29"
   ]
  },
  {
   "cell_type": "code",
   "execution_count": null,
   "metadata": {},
   "outputs": [],
   "source": [
    "from decimal import Decimal\n",
    "import math\n",
    "\n",
    "from src.sqrtmath import SqrtPriceMath\n",
    "from src.v3_liquidity import *\n",
    "\n",
    "smath = SqrtPriceMath()"
   ]
  },
  {
   "cell_type": "code",
   "execution_count": null,
   "metadata": {},
   "outputs": [],
   "source": [
    "%reload_ext credmark.cmf.ipython\n",
    "\n",
    "cmf_param = {\n",
    "    'chain_id': 1,\n",
    "    'block_number': None,\n",
    "    # 'chain_to_provider_url': {'1': 'https://mainnet.infura.io/v3/... or https://eth-mainnet.g.alchemy.com/'},\n",
    "    'api_url': None,\n",
    "    'use_local_models': None,\n",
    "    'register_utility_global': True}\n",
    "\n",
    "context, model_loader = %cmf cmf_param"
   ]
  },
  {
   "cell_type": "markdown",
   "metadata": {},
   "source": [
    "### Load from Ledger or file\n"
   ]
  },
  {
   "cell_type": "code",
   "execution_count": null,
   "metadata": {},
   "outputs": [],
   "source": [
    "load_from_ledger = False\n",
    "\n",
    "if load_from_ledger:\n",
    "    pool = Contract(address='0x88e6a0c2ddd26feeb64f039a2c41296fcb3f5640')\n",
    "\n",
    "    with pool.ledger.events.Flash as q:\n",
    "        df_flash = q.select(columns=q.columns,\n",
    "                        order_by=q.EVT_BLOCK_NUMBER,\n",
    "                        limit=5000).to_dataframe()\n",
    "\n",
    "    with pool.ledger.events.Mint as q:\n",
    "        df_mint = q.select(columns=q.columns,\n",
    "                        order_by=q.EVT_BLOCK_NUMBER.comma_(q.EVT_INDEX),\n",
    "                        where=q.EVT_BLOCK_NUMBER.le(12384601)\n",
    "                        ).to_dataframe()\n",
    "\n",
    "    with pool.ledger.events.Burn as q:\n",
    "        df_burn = q.select(columns=q.columns,\n",
    "                        order_by=q.EVT_BLOCK_NUMBER.comma_(q.EVT_INDEX),\n",
    "                        where=q.EVT_BLOCK_NUMBER.le(12384601)).to_dataframe()\n",
    "\n",
    "    with pool.ledger.events.Swap as q:\n",
    "        df_swap = q.select(columns=q.columns,\n",
    "                        order_by=q.EVT_BLOCK_NUMBER.comma_(q.EVT_INDEX),\n",
    "                        where=q.EVT_BLOCK_NUMBER.le(12384601)).to_dataframe()\n",
    "\n",
    "    df_flash.to_csv('csv/uni_flash.csv', index=False)\n",
    "    df_mint.to_csv('csv/uni_mint.csv', index=False)\n",
    "    df_burn.to_csv('csv/uni_burn.csv', index=False)\n",
    "    df_swap.to_csv('csv/uni_swap.csv', index=False)\n",
    "\n",
    "    with pool.ledger.events.Mint as q:\n",
    "        df_mint_min_max = q.select(aggregates=[(q.TICKLOWER.min_(), 'lower_min'),\n",
    "                                               (q.TICKUPPER.max_(), 'upper_max'),\n",
    "                                               (q.EVT_BLOCK_NUMBER.min_(), 'block_number_min'),\n",
    "                                               (q.EVT_BLOCK_NUMBER.max_(), 'block_number_max')]\n",
    "                                ).to_dataframe()\n",
    "\n",
    "    with pool.ledger.events.Burn as q:\n",
    "        df_burn_min_max = q.select(aggregates=[(q.TICKLOWER.min_(), 'lower_min'),\n",
    "                                               (q.TICKUPPER.max_(), 'upper_max'),\n",
    "                                               (q.EVT_BLOCK_NUMBER.min_(), 'block_number_min'),\n",
    "                                               (q.EVT_BLOCK_NUMBER.max_(), 'block_number_max')]\n",
    "                                ).to_dataframe()   \n",
    "\n",
    "    df_mint_min_max.to_csv('csv/df_mint_min_max.csv', index=False)\n",
    "    df_burn_min_max.to_csv('csv/df_burn_min_max.csv', index=False)\n",
    "else:\n",
    "    df_flash = pd.read_csv('csv/uni_flash.csv')\n",
    "    df_mint = pd.read_csv('csv/uni_mint.csv')\n",
    "    df_burn = pd.read_csv('csv/uni_burn.csv')\n",
    "    df_swap = pd.read_csv('csv/uni_swap.csv')\n",
    "\n",
    "    df_mint_min_max = pd.read_csv('csv/df_mint_min_max.csv')\n",
    "    df_burn_min_max = pd.read_csv('csv/df_burn_min_max.csv')    "
   ]
  },
  {
   "cell_type": "markdown",
   "metadata": {},
   "source": [
    "## Transform"
   ]
  },
  {
   "cell_type": "markdown",
   "metadata": {},
   "source": [
    "1. Mint/Burn may not change liquidity, such as when amount = 0 (there could be more)\n",
    "2. Swap may change the liquidity"
   ]
  },
  {
   "cell_type": "code",
   "execution_count": null,
   "metadata": {},
   "outputs": [],
   "source": [
    "@Model.describe(\n",
    "    slug='jit.liquidity',\n",
    "    version='1.0',\n",
    "    output=dict)\n",
    "class JitLiquidity(Model):\n",
    "    def run(self, input):\n",
    "        pool = Contract(address='0x88e6a0c2ddd26feeb64f039a2c41296fcb3f5640')\n",
    "        current_liquidity = pool.functions.liquidity().call()\n",
    "        slot0 = pool.functions.slot0().call()\n",
    "        current_tick = slot0[1]\n",
    "        token0_addr = pool.functions.token0().call()\n",
    "        token1_addr = pool.functions.token1().call()\n",
    "        token0 = Token(address=Address(token0_addr).checksum)\n",
    "        token1 = Token(address=Address(token1_addr).checksum)\n",
    "        token0_bal = token0.balance_of(pool.address.checksum)\n",
    "        token1_bal = token1.balance_of(pool.address.checksum)\n",
    "        return {'liquidity': current_liquidity, 'tick': current_tick, 'token0_bal': token0_bal, 'token1_bal': token1_bal}\n",
    "\n",
    "context.remove_model_by_slug('jit.liquidity')\n",
    "context.add_model(JitLiquidity)\n",
    "\n",
    "# Check whether the model has been loaded\n",
    "assert 'jit.liquidity' in model_loader.loaded_model_version_lists()"
   ]
  },
  {
   "cell_type": "code",
   "execution_count": null,
   "metadata": {},
   "outputs": [],
   "source": [
    "df_mint_sel = (df_mint\n",
    "    [['evt_block_number', 'evt_index', 'evt_tx_hash', 'inp_owner', 'inp_tickLower', 'inp_tickUpper', 'inp_amount', 'inp_amount0', 'inp_amount1']]\n",
    "    .assign(inp_amount1 = lambda x: x.inp_amount1.apply(int))\n",
    ")\n",
    "df_mint_sel"
   ]
  },
  {
   "cell_type": "code",
   "execution_count": null,
   "metadata": {},
   "outputs": [],
   "source": [
    "df_burn_sel = (df_burn\n",
    "    [['evt_block_number', 'evt_index', 'evt_tx_hash', 'inp_owner', 'inp_tickLower', 'inp_tickUpper', 'inp_amount', 'inp_amount0', 'inp_amount1']]\n",
    "    .assign(inp_amount=lambda x: -x.inp_amount,\n",
    "            inp_amount0=lambda x: -x.inp_amount0,\n",
    "            inp_amount1=lambda x: -x.inp_amount1)\n",
    ")\n",
    "df_burn_sel"
   ]
  },
  {
   "cell_type": "code",
   "execution_count": null,
   "metadata": {},
   "outputs": [],
   "source": [
    "df_swap.dtypes"
   ]
  },
  {
   "cell_type": "code",
   "execution_count": null,
   "metadata": {},
   "outputs": [],
   "source": [
    "(df_swap\n",
    "    [['evt_block_number', 'evt_index', 'evt_tx_hash', 'inp_recipient', 'inp_liquidity', 'inp_amount0', 'inp_amount1', 'inp_tick', 'inp_sqrtPriceX96']]\n",
    "    .assign(inp_amount1 = lambda x: x.inp_amount1.apply(int),\n",
    "            inp_sqrtPriceX96_d = lambda x: x.inp_sqrtPriceX96.apply(int))\n",
    "    .assign(price = lambda x: x.inp_sqrtPriceX96_d * x.inp_sqrtPriceX96_d / (2 ** 192),\n",
    "            price_tick = lambda x: (1.0001 ** x.inp_tick).apply(int),\n",
    "            price_sqrt = lambda x: (1.0001 ** (x.inp_tick / 2) * (2 ** 96)).apply(int))\n",
    ")"
   ]
  },
  {
   "cell_type": "code",
   "execution_count": 77,
   "metadata": {},
   "outputs": [
    {
     "ename": "KeyboardInterrupt",
     "evalue": "",
     "output_type": "error",
     "traceback": [
      "\u001b[0;31m---------------------------------------------------------------------------\u001b[0m",
      "\u001b[0;31mKeyboardInterrupt\u001b[0m                         Traceback (most recent call last)",
      "\u001b[1;32m/home/yangye/dev/credmark/credmark-models-notebook/uniswap/v3-liquidity.ipynb Cell 13\u001b[0m in \u001b[0;36m<cell line: 13>\u001b[0;34m()\u001b[0m\n\u001b[1;32m     <a href='vscode-notebook-cell:/home/yangye/dev/credmark/credmark-models-notebook/uniswap/v3-liquidity.ipynb#X16sZmlsZQ%3D%3D?line=11'>12</a>\u001b[0m evt_block_number \u001b[39m=\u001b[39m \u001b[39mNone\u001b[39;00m\n\u001b[1;32m     <a href='vscode-notebook-cell:/home/yangye/dev/credmark/credmark-models-notebook/uniswap/v3-liquidity.ipynb#X16sZmlsZQ%3D%3D?line=12'>13</a>\u001b[0m \u001b[39mfor\u001b[39;00m n,r \u001b[39min\u001b[39;00m df_swap_sel\u001b[39m.\u001b[39miterrows():\n\u001b[0;32m---> <a href='vscode-notebook-cell:/home/yangye/dev/credmark/credmark-models-notebook/uniswap/v3-liquidity.ipynb#X16sZmlsZQ%3D%3D?line=13'>14</a>\u001b[0m     tick_info \u001b[39m=\u001b[39m context\u001b[39m.\u001b[39;49mmodels(r\u001b[39m.\u001b[39;49mevt_block_number\u001b[39m-\u001b[39;49m\u001b[39m1\u001b[39;49m)\u001b[39m.\u001b[39;49mjit\u001b[39m.\u001b[39;49mliquidity()\n\u001b[1;32m     <a href='vscode-notebook-cell:/home/yangye/dev/credmark/credmark-models-notebook/uniswap/v3-liquidity.ipynb#X16sZmlsZQ%3D%3D?line=14'>15</a>\u001b[0m     liquidity_diff_block \u001b[39m=\u001b[39m r\u001b[39m.\u001b[39minp_liquidity \u001b[39m-\u001b[39m tick_info[\u001b[39m'\u001b[39m\u001b[39mliquidity\u001b[39m\u001b[39m'\u001b[39m]\n\u001b[1;32m     <a href='vscode-notebook-cell:/home/yangye/dev/credmark/credmark-models-notebook/uniswap/v3-liquidity.ipynb#X16sZmlsZQ%3D%3D?line=16'>17</a>\u001b[0m     \u001b[39mif\u001b[39;00m evt_block_number \u001b[39mis\u001b[39;00m \u001b[39mNone\u001b[39;00m \u001b[39mor\u001b[39;00m evt_block_number \u001b[39m!=\u001b[39m r\u001b[39m.\u001b[39mevt_block_number:\n",
      "File \u001b[0;32m~/dev/credmark/credmark-model-framework-py/credmark/cmf/model/models.py:85\u001b[0m, in \u001b[0;36mRunModelMethod.__call__\u001b[0;34m(self, input, return_type, version, **kwargs)\u001b[0m\n\u001b[1;32m     82\u001b[0m \u001b[39melse\u001b[39;00m:\n\u001b[1;32m     83\u001b[0m     \u001b[39minput\u001b[39m \u001b[39m=\u001b[39m model_input \u001b[39m|\u001b[39m kwargs\n\u001b[0;32m---> 85\u001b[0m \u001b[39mreturn\u001b[39;00m \u001b[39mself\u001b[39;49m\u001b[39m.\u001b[39;49m__context\u001b[39m.\u001b[39;49mrun_model(\n\u001b[1;32m     86\u001b[0m     \u001b[39mf\u001b[39;49m\u001b[39m\"\u001b[39;49m\u001b[39m{\u001b[39;49;00m\u001b[39mself\u001b[39;49m\u001b[39m.\u001b[39;49m__prefix\u001b[39m.\u001b[39;49mreplace(\u001b[39m'\u001b[39;49m\u001b[39m_\u001b[39;49m\u001b[39m'\u001b[39;49m,\u001b[39m \u001b[39;49m\u001b[39m'\u001b[39;49m\u001b[39m-\u001b[39;49m\u001b[39m'\u001b[39;49m)\u001b[39m}\u001b[39;49;00m\u001b[39m\"\u001b[39;49m,\n\u001b[1;32m     87\u001b[0m     \u001b[39minput\u001b[39;49m,\n\u001b[1;32m     88\u001b[0m     block_number\u001b[39m=\u001b[39;49m\u001b[39mself\u001b[39;49m\u001b[39m.\u001b[39;49m__block_number,\n\u001b[1;32m     89\u001b[0m     version\u001b[39m=\u001b[39;49mversion,\n\u001b[1;32m     90\u001b[0m     return_type\u001b[39m=\u001b[39;49mreturn_type,\n\u001b[1;32m     91\u001b[0m     local\u001b[39m=\u001b[39;49m\u001b[39mself\u001b[39;49m\u001b[39m.\u001b[39;49m__local)\n",
      "File \u001b[0;32m~/dev/credmark/credmark-model-framework-py/credmark/cmf/engine/context.py:444\u001b[0m, in \u001b[0;36mEngineModelContext.run_model\u001b[0;34m(self, slug, input, return_type, block_number, version, local)\u001b[0m\n\u001b[1;32m    439\u001b[0m \u001b[39mif\u001b[39;00m block_number \u001b[39mis\u001b[39;00m \u001b[39mnot\u001b[39;00m \u001b[39mNone\u001b[39;00m \u001b[39mand\u001b[39;00m block_number \u001b[39m>\u001b[39m \u001b[39mself\u001b[39m\u001b[39m.\u001b[39mblock_number:\n\u001b[1;32m    440\u001b[0m     \u001b[39mraise\u001b[39;00m ModelInvalidStateError(\n\u001b[1;32m    441\u001b[0m         \u001b[39mf\u001b[39m\u001b[39m'\u001b[39m\u001b[39mAttempt to run model \u001b[39m\u001b[39m{\u001b[39;00mslug\u001b[39m}\u001b[39;00m\u001b[39m at context block \u001b[39m\u001b[39m{\u001b[39;00m\u001b[39mself\u001b[39m\u001b[39m.\u001b[39mblock_number\u001b[39m}\u001b[39;00m\u001b[39m \u001b[39m\u001b[39m'\u001b[39m\n\u001b[1;32m    442\u001b[0m         \u001b[39mf\u001b[39m\u001b[39m'\u001b[39m\u001b[39mwith future block \u001b[39m\u001b[39m{\u001b[39;00mblock_number\u001b[39m}\u001b[39;00m\u001b[39m'\u001b[39m)\n\u001b[0;32m--> 444\u001b[0m res_tuple \u001b[39m=\u001b[39m \u001b[39mself\u001b[39;49m\u001b[39m.\u001b[39;49m_run_model(slug, \u001b[39minput\u001b[39;49m, block_number, version, local)\n\u001b[1;32m    446\u001b[0m \u001b[39m# The last item of the tuple is the output.\u001b[39;00m\n\u001b[1;32m    447\u001b[0m output \u001b[39m=\u001b[39m res_tuple[\u001b[39m-\u001b[39m\u001b[39m1\u001b[39m]\n",
      "File \u001b[0;32m~/dev/credmark/credmark-model-framework-py/credmark/cmf/engine/context.py:516\u001b[0m, in \u001b[0;36mEngineModelContext._run_model\u001b[0;34m(self, slug, input, block_number, version, local)\u001b[0m\n\u001b[1;32m    513\u001b[0m     \u001b[39mif\u001b[39;00m \u001b[39mself\u001b[39m\u001b[39m.\u001b[39m__depth \u001b[39m>\u001b[39m\u001b[39m=\u001b[39m \u001b[39mself\u001b[39m\u001b[39m.\u001b[39mmax_run_depth:\n\u001b[1;32m    514\u001b[0m         \u001b[39mraise\u001b[39;00m MaxModelRunDepthError(\u001b[39mf\u001b[39m\u001b[39m'\u001b[39m\u001b[39mMax model run depth hit \u001b[39m\u001b[39m{\u001b[39;00m\u001b[39mself\u001b[39m\u001b[39m.\u001b[39m__depth\u001b[39m}\u001b[39;00m\u001b[39m'\u001b[39m)\n\u001b[0;32m--> 516\u001b[0m     \u001b[39mreturn\u001b[39;00m \u001b[39mself\u001b[39;49m\u001b[39m.\u001b[39;49m_run_model_with_class(\n\u001b[1;32m    517\u001b[0m         slug,\n\u001b[1;32m    518\u001b[0m         \u001b[39minput\u001b[39;49m,\n\u001b[1;32m    519\u001b[0m         block_number,\n\u001b[1;32m    520\u001b[0m         version,\n\u001b[1;32m    521\u001b[0m         model_class,\n\u001b[1;32m    522\u001b[0m         use_local,\n\u001b[1;32m    523\u001b[0m         try_remote)\n\u001b[1;32m    524\u001b[0m \u001b[39mfinally\u001b[39;00m:\n\u001b[1;32m    525\u001b[0m     \u001b[39mself\u001b[39m\u001b[39m.\u001b[39m__depth \u001b[39m-\u001b[39m\u001b[39m=\u001b[39m \u001b[39m1\u001b[39m\n",
      "File \u001b[0;32m~/dev/credmark/credmark-model-framework-py/credmark/cmf/engine/context.py:642\u001b[0m, in \u001b[0;36mEngineModelContext._run_model_with_class\u001b[0;34m(self, slug, input, block_number, version, model_class, use_local, try_remote)\u001b[0m\n\u001b[1;32m    640\u001b[0m \u001b[39mif\u001b[39;00m model_class \u001b[39mis\u001b[39;00m \u001b[39mnot\u001b[39;00m \u001b[39mNone\u001b[39;00m \u001b[39mand\u001b[39;00m \u001b[39mnot\u001b[39;00m \u001b[39mself\u001b[39m\u001b[39m.\u001b[39m_use_no_local_model():\n\u001b[1;32m    641\u001b[0m     \u001b[39mself\u001b[39m\u001b[39m.\u001b[39mlogger\u001b[39m.\u001b[39mdebug(\u001b[39mf\u001b[39m\u001b[39m'\u001b[39m\u001b[39mModel \u001b[39m\u001b[39m{\u001b[39;00mslug\u001b[39m}\u001b[39;00m\u001b[39m not on server. Using local instead\u001b[39m\u001b[39m'\u001b[39m)\n\u001b[0;32m--> 642\u001b[0m     slug, version, output \u001b[39m=\u001b[39m \u001b[39mself\u001b[39;49m\u001b[39m.\u001b[39;49m_run_local_model_with_class(\n\u001b[1;32m    643\u001b[0m         slug,\n\u001b[1;32m    644\u001b[0m         \u001b[39minput\u001b[39;49m,\n\u001b[1;32m    645\u001b[0m         block_number,\n\u001b[1;32m    646\u001b[0m         version,\n\u001b[1;32m    647\u001b[0m         model_class)\n\u001b[1;32m    648\u001b[0m \u001b[39melse\u001b[39;00m:\n\u001b[1;32m    649\u001b[0m     EngineModelContext\u001b[39m.\u001b[39mnotify_model_run(slug, version, \u001b[39mself\u001b[39m\u001b[39m.\u001b[39mchain_id,\n\u001b[1;32m    650\u001b[0m                                         run_block_number, \u001b[39minput\u001b[39m, \u001b[39mNone\u001b[39;00m, err)\n",
      "File \u001b[0;32m~/dev/credmark/credmark-model-framework-py/credmark/cmf/engine/context.py:731\u001b[0m, in \u001b[0;36mEngineModelContext._run_local_model_with_class\u001b[0;34m(self, slug, input, block_number, version, model_class)\u001b[0m\n\u001b[1;32m    727\u001b[0m \u001b[39mif\u001b[39;00m debug_log:\n\u001b[1;32m    728\u001b[0m     \u001b[39mself\u001b[39m\u001b[39m.\u001b[39mdebug_logger\u001b[39m.\u001b[39mdebug(\n\u001b[1;32m    729\u001b[0m         \u001b[39mf\u001b[39m\u001b[39m\"\u001b[39m\u001b[39m> Run model \u001b[39m\u001b[39m'\u001b[39m\u001b[39m{\u001b[39;00mslug\u001b[39m}\u001b[39;00m\u001b[39m'\u001b[39m\u001b[39m input: \u001b[39m\u001b[39m{\u001b[39;00m\u001b[39minput\u001b[39m\u001b[39m}\u001b[39;00m\u001b[39m block_number: \u001b[39m\u001b[39m{\u001b[39;00mblock_number\u001b[39m}\u001b[39;00m\u001b[39m\"\u001b[39m)\n\u001b[0;32m--> 731\u001b[0m output \u001b[39m=\u001b[39m model\u001b[39m.\u001b[39;49mrun(\u001b[39minput\u001b[39;49m)\n\u001b[1;32m    733\u001b[0m \u001b[39mtry\u001b[39;00m:\n\u001b[1;32m    734\u001b[0m     \u001b[39m# transform to the defined outputDTO for validation of output\u001b[39;00m\n\u001b[1;32m    735\u001b[0m     output \u001b[39m=\u001b[39m transform_data_for_dto(output, model_class\u001b[39m.\u001b[39moutputDTO, slug, \u001b[39m'\u001b[39m\u001b[39moutput\u001b[39m\u001b[39m'\u001b[39m)\n",
      "\u001b[1;32m/home/yangye/dev/credmark/credmark-models-notebook/uniswap/v3-liquidity.ipynb Cell 13\u001b[0m in \u001b[0;36mJitLiquidity.run\u001b[0;34m(self, input)\u001b[0m\n\u001b[1;32m     <a href='vscode-notebook-cell:/home/yangye/dev/credmark/credmark-models-notebook/uniswap/v3-liquidity.ipynb#X16sZmlsZQ%3D%3D?line=12'>13</a>\u001b[0m token0 \u001b[39m=\u001b[39m Token(address\u001b[39m=\u001b[39mAddress(token0_addr)\u001b[39m.\u001b[39mchecksum)\n\u001b[1;32m     <a href='vscode-notebook-cell:/home/yangye/dev/credmark/credmark-models-notebook/uniswap/v3-liquidity.ipynb#X16sZmlsZQ%3D%3D?line=13'>14</a>\u001b[0m token1 \u001b[39m=\u001b[39m Token(address\u001b[39m=\u001b[39mAddress(token1_addr)\u001b[39m.\u001b[39mchecksum)\n\u001b[0;32m---> <a href='vscode-notebook-cell:/home/yangye/dev/credmark/credmark-models-notebook/uniswap/v3-liquidity.ipynb#X16sZmlsZQ%3D%3D?line=14'>15</a>\u001b[0m token0_bal \u001b[39m=\u001b[39m token0\u001b[39m.\u001b[39;49mbalance_of(pool\u001b[39m.\u001b[39;49maddress\u001b[39m.\u001b[39;49mchecksum)\n\u001b[1;32m     <a href='vscode-notebook-cell:/home/yangye/dev/credmark/credmark-models-notebook/uniswap/v3-liquidity.ipynb#X16sZmlsZQ%3D%3D?line=15'>16</a>\u001b[0m token1_bal \u001b[39m=\u001b[39m token1\u001b[39m.\u001b[39mbalance_of(pool\u001b[39m.\u001b[39maddress\u001b[39m.\u001b[39mchecksum)\n\u001b[1;32m     <a href='vscode-notebook-cell:/home/yangye/dev/credmark/credmark-models-notebook/uniswap/v3-liquidity.ipynb#X16sZmlsZQ%3D%3D?line=16'>17</a>\u001b[0m \u001b[39mreturn\u001b[39;00m {\u001b[39m'\u001b[39m\u001b[39mliquidity\u001b[39m\u001b[39m'\u001b[39m: current_liquidity, \u001b[39m'\u001b[39m\u001b[39mtick\u001b[39m\u001b[39m'\u001b[39m: current_tick, \u001b[39m'\u001b[39m\u001b[39mtoken0_bal\u001b[39m\u001b[39m'\u001b[39m: token0_bal, \u001b[39m'\u001b[39m\u001b[39mtoken1_bal\u001b[39m\u001b[39m'\u001b[39m: token1_bal}\n",
      "File \u001b[0;32m~/dev/credmark/credmark-model-framework-py/credmark/cmf/types/token_erc20.py:276\u001b[0m, in \u001b[0;36mToken.balance_of\u001b[0;34m(self, address)\u001b[0m\n\u001b[1;32m    275\u001b[0m \u001b[39mdef\u001b[39;00m \u001b[39mbalance_of\u001b[39m(\u001b[39mself\u001b[39m, address: ChecksumAddress) \u001b[39m-\u001b[39m\u001b[39m>\u001b[39m \u001b[39mint\u001b[39m:\n\u001b[0;32m--> 276\u001b[0m     balance \u001b[39m=\u001b[39m \u001b[39mself\u001b[39;49m\u001b[39m.\u001b[39;49mfunctions\u001b[39m.\u001b[39;49mbalanceOf(address)\u001b[39m.\u001b[39;49mcall()\n\u001b[1;32m    277\u001b[0m     \u001b[39mreturn\u001b[39;00m balance\n",
      "File \u001b[0;32m~/.local/lib/python3.10/site-packages/web3/contract.py:957\u001b[0m, in \u001b[0;36mContractFunction.call\u001b[0;34m(self, transaction, block_identifier, state_override)\u001b[0m\n\u001b[1;32m    951\u001b[0m         \u001b[39mraise\u001b[39;00m \u001b[39mValueError\u001b[39;00m(\n\u001b[1;32m    952\u001b[0m             \u001b[39m\"\u001b[39m\u001b[39mPlease ensure that this contract instance has an address.\u001b[39m\u001b[39m\"\u001b[39m\n\u001b[1;32m    953\u001b[0m         )\n\u001b[1;32m    955\u001b[0m block_id \u001b[39m=\u001b[39m parse_block_identifier(\u001b[39mself\u001b[39m\u001b[39m.\u001b[39mweb3, block_identifier)\n\u001b[0;32m--> 957\u001b[0m \u001b[39mreturn\u001b[39;00m call_contract_function(\n\u001b[1;32m    958\u001b[0m     \u001b[39mself\u001b[39;49m\u001b[39m.\u001b[39;49mweb3,\n\u001b[1;32m    959\u001b[0m     \u001b[39mself\u001b[39;49m\u001b[39m.\u001b[39;49maddress,\n\u001b[1;32m    960\u001b[0m     \u001b[39mself\u001b[39;49m\u001b[39m.\u001b[39;49m_return_data_normalizers,\n\u001b[1;32m    961\u001b[0m     \u001b[39mself\u001b[39;49m\u001b[39m.\u001b[39;49mfunction_identifier,\n\u001b[1;32m    962\u001b[0m     call_transaction,\n\u001b[1;32m    963\u001b[0m     block_id,\n\u001b[1;32m    964\u001b[0m     \u001b[39mself\u001b[39;49m\u001b[39m.\u001b[39;49mcontract_abi,\n\u001b[1;32m    965\u001b[0m     \u001b[39mself\u001b[39;49m\u001b[39m.\u001b[39;49mabi,\n\u001b[1;32m    966\u001b[0m     state_override,\n\u001b[1;32m    967\u001b[0m     \u001b[39m*\u001b[39;49m\u001b[39mself\u001b[39;49m\u001b[39m.\u001b[39;49margs,\n\u001b[1;32m    968\u001b[0m     \u001b[39m*\u001b[39;49m\u001b[39m*\u001b[39;49m\u001b[39mself\u001b[39;49m\u001b[39m.\u001b[39;49mkwargs\n\u001b[1;32m    969\u001b[0m )\n",
      "File \u001b[0;32m~/.local/lib/python3.10/site-packages/web3/contract.py:1501\u001b[0m, in \u001b[0;36mcall_contract_function\u001b[0;34m(web3, address, normalizers, function_identifier, transaction, block_id, contract_abi, fn_abi, state_override, *args, **kwargs)\u001b[0m\n\u001b[1;32m   1486\u001b[0m \u001b[39m\u001b[39m\u001b[39m\"\"\"\u001b[39;00m\n\u001b[1;32m   1487\u001b[0m \u001b[39mHelper function for interacting with a contract function using the\u001b[39;00m\n\u001b[1;32m   1488\u001b[0m \u001b[39m`eth_call` API.\u001b[39;00m\n\u001b[1;32m   1489\u001b[0m \u001b[39m\"\"\"\u001b[39;00m\n\u001b[1;32m   1490\u001b[0m call_transaction \u001b[39m=\u001b[39m prepare_transaction(\n\u001b[1;32m   1491\u001b[0m     address,\n\u001b[1;32m   1492\u001b[0m     web3,\n\u001b[0;32m   (...)\u001b[0m\n\u001b[1;32m   1498\u001b[0m     fn_kwargs\u001b[39m=\u001b[39mkwargs,\n\u001b[1;32m   1499\u001b[0m )\n\u001b[0;32m-> 1501\u001b[0m return_data \u001b[39m=\u001b[39m web3\u001b[39m.\u001b[39;49meth\u001b[39m.\u001b[39;49mcall(\n\u001b[1;32m   1502\u001b[0m     call_transaction,\n\u001b[1;32m   1503\u001b[0m     block_identifier\u001b[39m=\u001b[39;49mblock_id,\n\u001b[1;32m   1504\u001b[0m     state_override\u001b[39m=\u001b[39;49mstate_override,\n\u001b[1;32m   1505\u001b[0m )\n\u001b[1;32m   1507\u001b[0m \u001b[39mif\u001b[39;00m fn_abi \u001b[39mis\u001b[39;00m \u001b[39mNone\u001b[39;00m:\n\u001b[1;32m   1508\u001b[0m     fn_abi \u001b[39m=\u001b[39m find_matching_fn_abi(contract_abi, web3\u001b[39m.\u001b[39mcodec, function_identifier, args, kwargs)\n",
      "File \u001b[0;32m~/.local/lib/python3.10/site-packages/web3/module.py:57\u001b[0m, in \u001b[0;36mretrieve_blocking_method_call_fn.<locals>.caller\u001b[0;34m(*args, **kwargs)\u001b[0m\n\u001b[1;32m     55\u001b[0m     \u001b[39mreturn\u001b[39;00m LogFilter(eth_module\u001b[39m=\u001b[39mmodule, filter_id\u001b[39m=\u001b[39merr\u001b[39m.\u001b[39mfilter_id)\n\u001b[1;32m     56\u001b[0m result_formatters, error_formatters, null_result_formatters \u001b[39m=\u001b[39m response_formatters\n\u001b[0;32m---> 57\u001b[0m result \u001b[39m=\u001b[39m w3\u001b[39m.\u001b[39;49mmanager\u001b[39m.\u001b[39;49mrequest_blocking(method_str,\n\u001b[1;32m     58\u001b[0m                                      params,\n\u001b[1;32m     59\u001b[0m                                      error_formatters,\n\u001b[1;32m     60\u001b[0m                                      null_result_formatters)\n\u001b[1;32m     61\u001b[0m \u001b[39mreturn\u001b[39;00m apply_result_formatters(result_formatters, result)\n",
      "File \u001b[0;32m~/.local/lib/python3.10/site-packages/web3/manager.py:197\u001b[0m, in \u001b[0;36mRequestManager.request_blocking\u001b[0;34m(self, method, params, error_formatters, null_result_formatters)\u001b[0m\n\u001b[1;32m    187\u001b[0m \u001b[39mdef\u001b[39;00m \u001b[39mrequest_blocking\u001b[39m(\n\u001b[1;32m    188\u001b[0m     \u001b[39mself\u001b[39m,\n\u001b[1;32m    189\u001b[0m     method: Union[RPCEndpoint, Callable[\u001b[39m.\u001b[39m\u001b[39m.\u001b[39m\u001b[39m.\u001b[39m, RPCEndpoint]],\n\u001b[0;32m   (...)\u001b[0m\n\u001b[1;32m    192\u001b[0m     null_result_formatters: Optional[Callable[\u001b[39m.\u001b[39m\u001b[39m.\u001b[39m\u001b[39m.\u001b[39m, Any]] \u001b[39m=\u001b[39m \u001b[39mNone\u001b[39;00m,\n\u001b[1;32m    193\u001b[0m ) \u001b[39m-\u001b[39m\u001b[39m>\u001b[39m Any:\n\u001b[1;32m    194\u001b[0m \u001b[39m    \u001b[39m\u001b[39m\"\"\"\u001b[39;00m\n\u001b[1;32m    195\u001b[0m \u001b[39m    Make a synchronous request using the provider\u001b[39;00m\n\u001b[1;32m    196\u001b[0m \u001b[39m    \"\"\"\u001b[39;00m\n\u001b[0;32m--> 197\u001b[0m     response \u001b[39m=\u001b[39m \u001b[39mself\u001b[39;49m\u001b[39m.\u001b[39;49m_make_request(method, params)\n\u001b[1;32m    198\u001b[0m     \u001b[39mreturn\u001b[39;00m \u001b[39mself\u001b[39m\u001b[39m.\u001b[39mformatted_response(response,\n\u001b[1;32m    199\u001b[0m                                    params,\n\u001b[1;32m    200\u001b[0m                                    error_formatters,\n\u001b[1;32m    201\u001b[0m                                    null_result_formatters)\n",
      "File \u001b[0;32m~/.local/lib/python3.10/site-packages/web3/manager.py:150\u001b[0m, in \u001b[0;36mRequestManager._make_request\u001b[0;34m(self, method, params)\u001b[0m\n\u001b[1;32m    146\u001b[0m request_func \u001b[39m=\u001b[39m \u001b[39mself\u001b[39m\u001b[39m.\u001b[39mprovider\u001b[39m.\u001b[39mrequest_func(\n\u001b[1;32m    147\u001b[0m     \u001b[39mself\u001b[39m\u001b[39m.\u001b[39mweb3,\n\u001b[1;32m    148\u001b[0m     \u001b[39mself\u001b[39m\u001b[39m.\u001b[39mmiddleware_onion)\n\u001b[1;32m    149\u001b[0m \u001b[39mself\u001b[39m\u001b[39m.\u001b[39mlogger\u001b[39m.\u001b[39mdebug(\u001b[39m\"\u001b[39m\u001b[39mMaking request. Method: \u001b[39m\u001b[39m%s\u001b[39;00m\u001b[39m\"\u001b[39m, method)\n\u001b[0;32m--> 150\u001b[0m \u001b[39mreturn\u001b[39;00m request_func(method, params)\n",
      "File \u001b[0;32m~/.local/lib/python3.10/site-packages/cytoolz/functoolz.pyx:250\u001b[0m, in \u001b[0;36mcytoolz.functoolz.curry.__call__\u001b[0;34m()\u001b[0m\n",
      "File \u001b[0;32m~/.local/lib/python3.10/site-packages/web3/middleware/formatting.py:76\u001b[0m, in \u001b[0;36mapply_formatters\u001b[0;34m(method, params, make_request, request_formatters, result_formatters, error_formatters)\u001b[0m\n\u001b[1;32m     74\u001b[0m     response \u001b[39m=\u001b[39m make_request(method, formatted_params)\n\u001b[1;32m     75\u001b[0m \u001b[39melse\u001b[39;00m:\n\u001b[0;32m---> 76\u001b[0m     response \u001b[39m=\u001b[39m make_request(method, params)\n\u001b[1;32m     78\u001b[0m \u001b[39mif\u001b[39;00m \u001b[39m\"\u001b[39m\u001b[39mresult\u001b[39m\u001b[39m\"\u001b[39m \u001b[39min\u001b[39;00m response \u001b[39mand\u001b[39;00m method \u001b[39min\u001b[39;00m result_formatters:\n\u001b[1;32m     79\u001b[0m     formatter \u001b[39m=\u001b[39m result_formatters[method]\n",
      "File \u001b[0;32m~/.local/lib/python3.10/site-packages/web3/middleware/gas_price_strategy.py:90\u001b[0m, in \u001b[0;36mgas_price_strategy_middleware.<locals>.middleware\u001b[0;34m(method, params)\u001b[0m\n\u001b[1;32m     86\u001b[0m     transaction \u001b[39m=\u001b[39m validate_transaction_params(\n\u001b[1;32m     87\u001b[0m         transaction, latest_block, generated_gas_price\n\u001b[1;32m     88\u001b[0m     )\n\u001b[1;32m     89\u001b[0m     \u001b[39mreturn\u001b[39;00m make_request(method, (transaction,))\n\u001b[0;32m---> 90\u001b[0m \u001b[39mreturn\u001b[39;00m make_request(method, params)\n",
      "File \u001b[0;32m~/.local/lib/python3.10/site-packages/cytoolz/functoolz.pyx:250\u001b[0m, in \u001b[0;36mcytoolz.functoolz.curry.__call__\u001b[0;34m()\u001b[0m\n",
      "File \u001b[0;32m~/.local/lib/python3.10/site-packages/web3/middleware/formatting.py:74\u001b[0m, in \u001b[0;36mapply_formatters\u001b[0;34m(method, params, make_request, request_formatters, result_formatters, error_formatters)\u001b[0m\n\u001b[1;32m     72\u001b[0m     formatter \u001b[39m=\u001b[39m request_formatters[method]\n\u001b[1;32m     73\u001b[0m     formatted_params \u001b[39m=\u001b[39m formatter(params)\n\u001b[0;32m---> 74\u001b[0m     response \u001b[39m=\u001b[39m make_request(method, formatted_params)\n\u001b[1;32m     75\u001b[0m \u001b[39melse\u001b[39;00m:\n\u001b[1;32m     76\u001b[0m     response \u001b[39m=\u001b[39m make_request(method, params)\n",
      "File \u001b[0;32m~/.local/lib/python3.10/site-packages/web3/middleware/attrdict.py:33\u001b[0m, in \u001b[0;36mattrdict_middleware.<locals>.middleware\u001b[0;34m(method, params)\u001b[0m\n\u001b[1;32m     32\u001b[0m \u001b[39mdef\u001b[39;00m \u001b[39mmiddleware\u001b[39m(method: RPCEndpoint, params: Any) \u001b[39m-\u001b[39m\u001b[39m>\u001b[39m RPCResponse:\n\u001b[0;32m---> 33\u001b[0m     response \u001b[39m=\u001b[39m make_request(method, params)\n\u001b[1;32m     35\u001b[0m     \u001b[39mif\u001b[39;00m \u001b[39m'\u001b[39m\u001b[39mresult\u001b[39m\u001b[39m'\u001b[39m \u001b[39min\u001b[39;00m response:\n\u001b[1;32m     36\u001b[0m         result \u001b[39m=\u001b[39m response[\u001b[39m'\u001b[39m\u001b[39mresult\u001b[39m\u001b[39m'\u001b[39m]\n",
      "File \u001b[0;32m~/.local/lib/python3.10/site-packages/cytoolz/functoolz.pyx:250\u001b[0m, in \u001b[0;36mcytoolz.functoolz.curry.__call__\u001b[0;34m()\u001b[0m\n",
      "File \u001b[0;32m~/.local/lib/python3.10/site-packages/web3/middleware/formatting.py:74\u001b[0m, in \u001b[0;36mapply_formatters\u001b[0;34m(method, params, make_request, request_formatters, result_formatters, error_formatters)\u001b[0m\n\u001b[1;32m     72\u001b[0m     formatter \u001b[39m=\u001b[39m request_formatters[method]\n\u001b[1;32m     73\u001b[0m     formatted_params \u001b[39m=\u001b[39m formatter(params)\n\u001b[0;32m---> 74\u001b[0m     response \u001b[39m=\u001b[39m make_request(method, formatted_params)\n\u001b[1;32m     75\u001b[0m \u001b[39melse\u001b[39;00m:\n\u001b[1;32m     76\u001b[0m     response \u001b[39m=\u001b[39m make_request(method, params)\n",
      "File \u001b[0;32m~/.local/lib/python3.10/site-packages/cytoolz/functoolz.pyx:250\u001b[0m, in \u001b[0;36mcytoolz.functoolz.curry.__call__\u001b[0;34m()\u001b[0m\n",
      "File \u001b[0;32m~/.local/lib/python3.10/site-packages/web3/middleware/formatting.py:74\u001b[0m, in \u001b[0;36mapply_formatters\u001b[0;34m(method, params, make_request, request_formatters, result_formatters, error_formatters)\u001b[0m\n\u001b[1;32m     72\u001b[0m     formatter \u001b[39m=\u001b[39m request_formatters[method]\n\u001b[1;32m     73\u001b[0m     formatted_params \u001b[39m=\u001b[39m formatter(params)\n\u001b[0;32m---> 74\u001b[0m     response \u001b[39m=\u001b[39m make_request(method, formatted_params)\n\u001b[1;32m     75\u001b[0m \u001b[39melse\u001b[39;00m:\n\u001b[1;32m     76\u001b[0m     response \u001b[39m=\u001b[39m make_request(method, params)\n",
      "File \u001b[0;32m~/.local/lib/python3.10/site-packages/cytoolz/functoolz.pyx:250\u001b[0m, in \u001b[0;36mcytoolz.functoolz.curry.__call__\u001b[0;34m()\u001b[0m\n",
      "File \u001b[0;32m~/.local/lib/python3.10/site-packages/web3/middleware/formatting.py:74\u001b[0m, in \u001b[0;36mapply_formatters\u001b[0;34m(method, params, make_request, request_formatters, result_formatters, error_formatters)\u001b[0m\n\u001b[1;32m     72\u001b[0m     formatter \u001b[39m=\u001b[39m request_formatters[method]\n\u001b[1;32m     73\u001b[0m     formatted_params \u001b[39m=\u001b[39m formatter(params)\n\u001b[0;32m---> 74\u001b[0m     response \u001b[39m=\u001b[39m make_request(method, formatted_params)\n\u001b[1;32m     75\u001b[0m \u001b[39melse\u001b[39;00m:\n\u001b[1;32m     76\u001b[0m     response \u001b[39m=\u001b[39m make_request(method, params)\n",
      "File \u001b[0;32m~/.local/lib/python3.10/site-packages/web3/middleware/buffered_gas_estimate.py:40\u001b[0m, in \u001b[0;36mbuffered_gas_estimate_middleware.<locals>.middleware\u001b[0;34m(method, params)\u001b[0m\n\u001b[1;32m     34\u001b[0m         transaction \u001b[39m=\u001b[39m assoc(\n\u001b[1;32m     35\u001b[0m             transaction,\n\u001b[1;32m     36\u001b[0m             \u001b[39m'\u001b[39m\u001b[39mgas\u001b[39m\u001b[39m'\u001b[39m,\n\u001b[1;32m     37\u001b[0m             \u001b[39mhex\u001b[39m(get_buffered_gas_estimate(web3, transaction)),\n\u001b[1;32m     38\u001b[0m         )\n\u001b[1;32m     39\u001b[0m         \u001b[39mreturn\u001b[39;00m make_request(method, [transaction])\n\u001b[0;32m---> 40\u001b[0m \u001b[39mreturn\u001b[39;00m make_request(method, params)\n",
      "File \u001b[0;32m~/.local/lib/python3.10/site-packages/web3/middleware/exception_retry_request.py:105\u001b[0m, in \u001b[0;36mexception_retry_middleware.<locals>.middleware\u001b[0;34m(method, params)\u001b[0m\n\u001b[1;32m    103\u001b[0m \u001b[39mfor\u001b[39;00m i \u001b[39min\u001b[39;00m \u001b[39mrange\u001b[39m(retries):\n\u001b[1;32m    104\u001b[0m     \u001b[39mtry\u001b[39;00m:\n\u001b[0;32m--> 105\u001b[0m         \u001b[39mreturn\u001b[39;00m make_request(method, params)\n\u001b[1;32m    106\u001b[0m     \u001b[39m# https://github.com/python/mypy/issues/5349\u001b[39;00m\n\u001b[1;32m    107\u001b[0m     \u001b[39mexcept\u001b[39;00m errors:  \u001b[39m# type: ignore\u001b[39;00m\n",
      "File \u001b[0;32m~/.local/lib/python3.10/site-packages/web3/providers/rpc.py:88\u001b[0m, in \u001b[0;36mHTTPProvider.make_request\u001b[0;34m(self, method, params)\u001b[0m\n\u001b[1;32m     85\u001b[0m \u001b[39mself\u001b[39m\u001b[39m.\u001b[39mlogger\u001b[39m.\u001b[39mdebug(\u001b[39m\"\u001b[39m\u001b[39mMaking request HTTP. URI: \u001b[39m\u001b[39m%s\u001b[39;00m\u001b[39m, Method: \u001b[39m\u001b[39m%s\u001b[39;00m\u001b[39m\"\u001b[39m,\n\u001b[1;32m     86\u001b[0m                   \u001b[39mself\u001b[39m\u001b[39m.\u001b[39mendpoint_uri, method)\n\u001b[1;32m     87\u001b[0m request_data \u001b[39m=\u001b[39m \u001b[39mself\u001b[39m\u001b[39m.\u001b[39mencode_rpc_request(method, params)\n\u001b[0;32m---> 88\u001b[0m raw_response \u001b[39m=\u001b[39m make_post_request(\n\u001b[1;32m     89\u001b[0m     \u001b[39mself\u001b[39;49m\u001b[39m.\u001b[39;49mendpoint_uri,\n\u001b[1;32m     90\u001b[0m     request_data,\n\u001b[1;32m     91\u001b[0m     \u001b[39m*\u001b[39;49m\u001b[39m*\u001b[39;49m\u001b[39mself\u001b[39;49m\u001b[39m.\u001b[39;49mget_request_kwargs()\n\u001b[1;32m     92\u001b[0m )\n\u001b[1;32m     93\u001b[0m response \u001b[39m=\u001b[39m \u001b[39mself\u001b[39m\u001b[39m.\u001b[39mdecode_rpc_response(raw_response)\n\u001b[1;32m     94\u001b[0m \u001b[39mself\u001b[39m\u001b[39m.\u001b[39mlogger\u001b[39m.\u001b[39mdebug(\u001b[39m\"\u001b[39m\u001b[39mGetting response HTTP. URI: \u001b[39m\u001b[39m%s\u001b[39;00m\u001b[39m, \u001b[39m\u001b[39m\"\u001b[39m\n\u001b[1;32m     95\u001b[0m                   \u001b[39m\"\u001b[39m\u001b[39mMethod: \u001b[39m\u001b[39m%s\u001b[39;00m\u001b[39m, Response: \u001b[39m\u001b[39m%s\u001b[39;00m\u001b[39m\"\u001b[39m,\n\u001b[1;32m     96\u001b[0m                   \u001b[39mself\u001b[39m\u001b[39m.\u001b[39mendpoint_uri, method, response)\n",
      "File \u001b[0;32m~/.local/lib/python3.10/site-packages/web3/_utils/request.py:48\u001b[0m, in \u001b[0;36mmake_post_request\u001b[0;34m(endpoint_uri, data, *args, **kwargs)\u001b[0m\n\u001b[1;32m     46\u001b[0m session \u001b[39m=\u001b[39m _get_session(endpoint_uri)\n\u001b[1;32m     47\u001b[0m \u001b[39m# https://github.com/python/mypy/issues/2582\u001b[39;00m\n\u001b[0;32m---> 48\u001b[0m response \u001b[39m=\u001b[39m session\u001b[39m.\u001b[39;49mpost(endpoint_uri, data\u001b[39m=\u001b[39;49mdata, \u001b[39m*\u001b[39;49margs, \u001b[39m*\u001b[39;49m\u001b[39m*\u001b[39;49mkwargs)  \u001b[39m# type: ignore\u001b[39;00m\n\u001b[1;32m     49\u001b[0m response\u001b[39m.\u001b[39mraise_for_status()\n\u001b[1;32m     51\u001b[0m \u001b[39mreturn\u001b[39;00m response\u001b[39m.\u001b[39mcontent\n",
      "File \u001b[0;32m~/mambaforge/envs/cmk310/lib/python3.10/site-packages/requests/sessions.py:577\u001b[0m, in \u001b[0;36mSession.post\u001b[0;34m(self, url, data, json, **kwargs)\u001b[0m\n\u001b[1;32m    566\u001b[0m \u001b[39mdef\u001b[39;00m \u001b[39mpost\u001b[39m(\u001b[39mself\u001b[39m, url, data\u001b[39m=\u001b[39m\u001b[39mNone\u001b[39;00m, json\u001b[39m=\u001b[39m\u001b[39mNone\u001b[39;00m, \u001b[39m*\u001b[39m\u001b[39m*\u001b[39mkwargs):\n\u001b[1;32m    567\u001b[0m \u001b[39m    \u001b[39m\u001b[39mr\u001b[39m\u001b[39m\"\"\"Sends a POST request. Returns :class:`Response` object.\u001b[39;00m\n\u001b[1;32m    568\u001b[0m \n\u001b[1;32m    569\u001b[0m \u001b[39m    :param url: URL for the new :class:`Request` object.\u001b[39;00m\n\u001b[0;32m   (...)\u001b[0m\n\u001b[1;32m    574\u001b[0m \u001b[39m    :rtype: requests.Response\u001b[39;00m\n\u001b[1;32m    575\u001b[0m \u001b[39m    \"\"\"\u001b[39;00m\n\u001b[0;32m--> 577\u001b[0m     \u001b[39mreturn\u001b[39;00m \u001b[39mself\u001b[39;49m\u001b[39m.\u001b[39;49mrequest(\u001b[39m'\u001b[39;49m\u001b[39mPOST\u001b[39;49m\u001b[39m'\u001b[39;49m, url, data\u001b[39m=\u001b[39;49mdata, json\u001b[39m=\u001b[39;49mjson, \u001b[39m*\u001b[39;49m\u001b[39m*\u001b[39;49mkwargs)\n",
      "File \u001b[0;32m~/mambaforge/envs/cmk310/lib/python3.10/site-packages/requests/sessions.py:529\u001b[0m, in \u001b[0;36mSession.request\u001b[0;34m(self, method, url, params, data, headers, cookies, files, auth, timeout, allow_redirects, proxies, hooks, stream, verify, cert, json)\u001b[0m\n\u001b[1;32m    524\u001b[0m send_kwargs \u001b[39m=\u001b[39m {\n\u001b[1;32m    525\u001b[0m     \u001b[39m'\u001b[39m\u001b[39mtimeout\u001b[39m\u001b[39m'\u001b[39m: timeout,\n\u001b[1;32m    526\u001b[0m     \u001b[39m'\u001b[39m\u001b[39mallow_redirects\u001b[39m\u001b[39m'\u001b[39m: allow_redirects,\n\u001b[1;32m    527\u001b[0m }\n\u001b[1;32m    528\u001b[0m send_kwargs\u001b[39m.\u001b[39mupdate(settings)\n\u001b[0;32m--> 529\u001b[0m resp \u001b[39m=\u001b[39m \u001b[39mself\u001b[39;49m\u001b[39m.\u001b[39;49msend(prep, \u001b[39m*\u001b[39;49m\u001b[39m*\u001b[39;49msend_kwargs)\n\u001b[1;32m    531\u001b[0m \u001b[39mreturn\u001b[39;00m resp\n",
      "File \u001b[0;32m~/mambaforge/envs/cmk310/lib/python3.10/site-packages/requests/sessions.py:645\u001b[0m, in \u001b[0;36mSession.send\u001b[0;34m(self, request, **kwargs)\u001b[0m\n\u001b[1;32m    642\u001b[0m start \u001b[39m=\u001b[39m preferred_clock()\n\u001b[1;32m    644\u001b[0m \u001b[39m# Send the request\u001b[39;00m\n\u001b[0;32m--> 645\u001b[0m r \u001b[39m=\u001b[39m adapter\u001b[39m.\u001b[39;49msend(request, \u001b[39m*\u001b[39;49m\u001b[39m*\u001b[39;49mkwargs)\n\u001b[1;32m    647\u001b[0m \u001b[39m# Total elapsed time of the request (approximately)\u001b[39;00m\n\u001b[1;32m    648\u001b[0m elapsed \u001b[39m=\u001b[39m preferred_clock() \u001b[39m-\u001b[39m start\n",
      "File \u001b[0;32m~/mambaforge/envs/cmk310/lib/python3.10/site-packages/requests/adapters.py:440\u001b[0m, in \u001b[0;36mHTTPAdapter.send\u001b[0;34m(self, request, stream, timeout, verify, cert, proxies)\u001b[0m\n\u001b[1;32m    438\u001b[0m \u001b[39mtry\u001b[39;00m:\n\u001b[1;32m    439\u001b[0m     \u001b[39mif\u001b[39;00m \u001b[39mnot\u001b[39;00m chunked:\n\u001b[0;32m--> 440\u001b[0m         resp \u001b[39m=\u001b[39m conn\u001b[39m.\u001b[39;49murlopen(\n\u001b[1;32m    441\u001b[0m             method\u001b[39m=\u001b[39;49mrequest\u001b[39m.\u001b[39;49mmethod,\n\u001b[1;32m    442\u001b[0m             url\u001b[39m=\u001b[39;49murl,\n\u001b[1;32m    443\u001b[0m             body\u001b[39m=\u001b[39;49mrequest\u001b[39m.\u001b[39;49mbody,\n\u001b[1;32m    444\u001b[0m             headers\u001b[39m=\u001b[39;49mrequest\u001b[39m.\u001b[39;49mheaders,\n\u001b[1;32m    445\u001b[0m             redirect\u001b[39m=\u001b[39;49m\u001b[39mFalse\u001b[39;49;00m,\n\u001b[1;32m    446\u001b[0m             assert_same_host\u001b[39m=\u001b[39;49m\u001b[39mFalse\u001b[39;49;00m,\n\u001b[1;32m    447\u001b[0m             preload_content\u001b[39m=\u001b[39;49m\u001b[39mFalse\u001b[39;49;00m,\n\u001b[1;32m    448\u001b[0m             decode_content\u001b[39m=\u001b[39;49m\u001b[39mFalse\u001b[39;49;00m,\n\u001b[1;32m    449\u001b[0m             retries\u001b[39m=\u001b[39;49m\u001b[39mself\u001b[39;49m\u001b[39m.\u001b[39;49mmax_retries,\n\u001b[1;32m    450\u001b[0m             timeout\u001b[39m=\u001b[39;49mtimeout\n\u001b[1;32m    451\u001b[0m         )\n\u001b[1;32m    453\u001b[0m     \u001b[39m# Send the request.\u001b[39;00m\n\u001b[1;32m    454\u001b[0m     \u001b[39melse\u001b[39;00m:\n\u001b[1;32m    455\u001b[0m         \u001b[39mif\u001b[39;00m \u001b[39mhasattr\u001b[39m(conn, \u001b[39m'\u001b[39m\u001b[39mproxy_pool\u001b[39m\u001b[39m'\u001b[39m):\n",
      "File \u001b[0;32m~/mambaforge/envs/cmk310/lib/python3.10/site-packages/urllib3/connectionpool.py:703\u001b[0m, in \u001b[0;36mHTTPConnectionPool.urlopen\u001b[0;34m(self, method, url, body, headers, retries, redirect, assert_same_host, timeout, pool_timeout, release_conn, chunked, body_pos, **response_kw)\u001b[0m\n\u001b[1;32m    700\u001b[0m     \u001b[39mself\u001b[39m\u001b[39m.\u001b[39m_prepare_proxy(conn)\n\u001b[1;32m    702\u001b[0m \u001b[39m# Make the request on the httplib connection object.\u001b[39;00m\n\u001b[0;32m--> 703\u001b[0m httplib_response \u001b[39m=\u001b[39m \u001b[39mself\u001b[39;49m\u001b[39m.\u001b[39;49m_make_request(\n\u001b[1;32m    704\u001b[0m     conn,\n\u001b[1;32m    705\u001b[0m     method,\n\u001b[1;32m    706\u001b[0m     url,\n\u001b[1;32m    707\u001b[0m     timeout\u001b[39m=\u001b[39;49mtimeout_obj,\n\u001b[1;32m    708\u001b[0m     body\u001b[39m=\u001b[39;49mbody,\n\u001b[1;32m    709\u001b[0m     headers\u001b[39m=\u001b[39;49mheaders,\n\u001b[1;32m    710\u001b[0m     chunked\u001b[39m=\u001b[39;49mchunked,\n\u001b[1;32m    711\u001b[0m )\n\u001b[1;32m    713\u001b[0m \u001b[39m# If we're going to release the connection in ``finally:``, then\u001b[39;00m\n\u001b[1;32m    714\u001b[0m \u001b[39m# the response doesn't need to know about the connection. Otherwise\u001b[39;00m\n\u001b[1;32m    715\u001b[0m \u001b[39m# it will also try to release it and we'll have a double-release\u001b[39;00m\n\u001b[1;32m    716\u001b[0m \u001b[39m# mess.\u001b[39;00m\n\u001b[1;32m    717\u001b[0m response_conn \u001b[39m=\u001b[39m conn \u001b[39mif\u001b[39;00m \u001b[39mnot\u001b[39;00m release_conn \u001b[39melse\u001b[39;00m \u001b[39mNone\u001b[39;00m\n",
      "File \u001b[0;32m~/mambaforge/envs/cmk310/lib/python3.10/site-packages/urllib3/connectionpool.py:449\u001b[0m, in \u001b[0;36mHTTPConnectionPool._make_request\u001b[0;34m(self, conn, method, url, timeout, chunked, **httplib_request_kw)\u001b[0m\n\u001b[1;32m    444\u001b[0m             httplib_response \u001b[39m=\u001b[39m conn\u001b[39m.\u001b[39mgetresponse()\n\u001b[1;32m    445\u001b[0m         \u001b[39mexcept\u001b[39;00m \u001b[39mBaseException\u001b[39;00m \u001b[39mas\u001b[39;00m e:\n\u001b[1;32m    446\u001b[0m             \u001b[39m# Remove the TypeError from the exception chain in\u001b[39;00m\n\u001b[1;32m    447\u001b[0m             \u001b[39m# Python 3 (including for exceptions like SystemExit).\u001b[39;00m\n\u001b[1;32m    448\u001b[0m             \u001b[39m# Otherwise it looks like a bug in the code.\u001b[39;00m\n\u001b[0;32m--> 449\u001b[0m             six\u001b[39m.\u001b[39;49mraise_from(e, \u001b[39mNone\u001b[39;49;00m)\n\u001b[1;32m    450\u001b[0m \u001b[39mexcept\u001b[39;00m (SocketTimeout, BaseSSLError, SocketError) \u001b[39mas\u001b[39;00m e:\n\u001b[1;32m    451\u001b[0m     \u001b[39mself\u001b[39m\u001b[39m.\u001b[39m_raise_timeout(err\u001b[39m=\u001b[39me, url\u001b[39m=\u001b[39murl, timeout_value\u001b[39m=\u001b[39mread_timeout)\n",
      "File \u001b[0;32m<string>:3\u001b[0m, in \u001b[0;36mraise_from\u001b[0;34m(value, from_value)\u001b[0m\n",
      "File \u001b[0;32m~/mambaforge/envs/cmk310/lib/python3.10/site-packages/urllib3/connectionpool.py:444\u001b[0m, in \u001b[0;36mHTTPConnectionPool._make_request\u001b[0;34m(self, conn, method, url, timeout, chunked, **httplib_request_kw)\u001b[0m\n\u001b[1;32m    441\u001b[0m \u001b[39mexcept\u001b[39;00m \u001b[39mTypeError\u001b[39;00m:\n\u001b[1;32m    442\u001b[0m     \u001b[39m# Python 3\u001b[39;00m\n\u001b[1;32m    443\u001b[0m     \u001b[39mtry\u001b[39;00m:\n\u001b[0;32m--> 444\u001b[0m         httplib_response \u001b[39m=\u001b[39m conn\u001b[39m.\u001b[39;49mgetresponse()\n\u001b[1;32m    445\u001b[0m     \u001b[39mexcept\u001b[39;00m \u001b[39mBaseException\u001b[39;00m \u001b[39mas\u001b[39;00m e:\n\u001b[1;32m    446\u001b[0m         \u001b[39m# Remove the TypeError from the exception chain in\u001b[39;00m\n\u001b[1;32m    447\u001b[0m         \u001b[39m# Python 3 (including for exceptions like SystemExit).\u001b[39;00m\n\u001b[1;32m    448\u001b[0m         \u001b[39m# Otherwise it looks like a bug in the code.\u001b[39;00m\n\u001b[1;32m    449\u001b[0m         six\u001b[39m.\u001b[39mraise_from(e, \u001b[39mNone\u001b[39;00m)\n",
      "File \u001b[0;32m~/mambaforge/envs/cmk310/lib/python3.10/http/client.py:1374\u001b[0m, in \u001b[0;36mHTTPConnection.getresponse\u001b[0;34m(self)\u001b[0m\n\u001b[1;32m   1372\u001b[0m \u001b[39mtry\u001b[39;00m:\n\u001b[1;32m   1373\u001b[0m     \u001b[39mtry\u001b[39;00m:\n\u001b[0;32m-> 1374\u001b[0m         response\u001b[39m.\u001b[39;49mbegin()\n\u001b[1;32m   1375\u001b[0m     \u001b[39mexcept\u001b[39;00m \u001b[39mConnectionError\u001b[39;00m:\n\u001b[1;32m   1376\u001b[0m         \u001b[39mself\u001b[39m\u001b[39m.\u001b[39mclose()\n",
      "File \u001b[0;32m~/mambaforge/envs/cmk310/lib/python3.10/http/client.py:318\u001b[0m, in \u001b[0;36mHTTPResponse.begin\u001b[0;34m(self)\u001b[0m\n\u001b[1;32m    316\u001b[0m \u001b[39m# read until we get a non-100 response\u001b[39;00m\n\u001b[1;32m    317\u001b[0m \u001b[39mwhile\u001b[39;00m \u001b[39mTrue\u001b[39;00m:\n\u001b[0;32m--> 318\u001b[0m     version, status, reason \u001b[39m=\u001b[39m \u001b[39mself\u001b[39;49m\u001b[39m.\u001b[39;49m_read_status()\n\u001b[1;32m    319\u001b[0m     \u001b[39mif\u001b[39;00m status \u001b[39m!=\u001b[39m CONTINUE:\n\u001b[1;32m    320\u001b[0m         \u001b[39mbreak\u001b[39;00m\n",
      "File \u001b[0;32m~/mambaforge/envs/cmk310/lib/python3.10/http/client.py:279\u001b[0m, in \u001b[0;36mHTTPResponse._read_status\u001b[0;34m(self)\u001b[0m\n\u001b[1;32m    278\u001b[0m \u001b[39mdef\u001b[39;00m \u001b[39m_read_status\u001b[39m(\u001b[39mself\u001b[39m):\n\u001b[0;32m--> 279\u001b[0m     line \u001b[39m=\u001b[39m \u001b[39mstr\u001b[39m(\u001b[39mself\u001b[39;49m\u001b[39m.\u001b[39;49mfp\u001b[39m.\u001b[39;49mreadline(_MAXLINE \u001b[39m+\u001b[39;49m \u001b[39m1\u001b[39;49m), \u001b[39m\"\u001b[39m\u001b[39miso-8859-1\u001b[39m\u001b[39m\"\u001b[39m)\n\u001b[1;32m    280\u001b[0m     \u001b[39mif\u001b[39;00m \u001b[39mlen\u001b[39m(line) \u001b[39m>\u001b[39m _MAXLINE:\n\u001b[1;32m    281\u001b[0m         \u001b[39mraise\u001b[39;00m LineTooLong(\u001b[39m\"\u001b[39m\u001b[39mstatus line\u001b[39m\u001b[39m\"\u001b[39m)\n",
      "File \u001b[0;32m~/mambaforge/envs/cmk310/lib/python3.10/socket.py:705\u001b[0m, in \u001b[0;36mSocketIO.readinto\u001b[0;34m(self, b)\u001b[0m\n\u001b[1;32m    703\u001b[0m \u001b[39mwhile\u001b[39;00m \u001b[39mTrue\u001b[39;00m:\n\u001b[1;32m    704\u001b[0m     \u001b[39mtry\u001b[39;00m:\n\u001b[0;32m--> 705\u001b[0m         \u001b[39mreturn\u001b[39;00m \u001b[39mself\u001b[39;49m\u001b[39m.\u001b[39;49m_sock\u001b[39m.\u001b[39;49mrecv_into(b)\n\u001b[1;32m    706\u001b[0m     \u001b[39mexcept\u001b[39;00m timeout:\n\u001b[1;32m    707\u001b[0m         \u001b[39mself\u001b[39m\u001b[39m.\u001b[39m_timeout_occurred \u001b[39m=\u001b[39m \u001b[39mTrue\u001b[39;00m\n",
      "\u001b[0;31mKeyboardInterrupt\u001b[0m: "
     ]
    }
   ],
   "source": [
    "df_swap_sel = (\n",
    "    df_swap\n",
    "        [['evt_block_number', 'evt_index', 'evt_tx_hash', 'inp_recipient', 'inp_liquidity', 'inp_amount0', 'inp_amount1', 'inp_tick']]\n",
    "        .assign(inp_amount1 = lambda x: x.inp_amount1.apply(int))\n",
    "        .sort_values(['evt_block_number', 'evt_index'])\n",
    "        .reset_index(drop=True)\n",
    ")\n",
    "\n",
    "# add inp_amount as the impact to laddressiquidity from Swaps (summed up per block)\n",
    "df_swap_sel = df_swap_sel.assign(inp_amount=int(0))\n",
    "\n",
    "evt_block_number = None\n",
    "for n,r in df_swap_sel.iterrows():\n",
    "    tick_info = context.models(r.evt_block_number-1).jit.liquidity()\n",
    "    liquidity_diff_block = r.inp_liquidity - tick_info['liquidity']\n",
    "\n",
    "    if evt_block_number is None or evt_block_number != r.evt_block_number:\n",
    "        evt_block_number = r.evt_block_number \n",
    "        df_swap_sel.loc[n, 'inp_amount'] = liquidity_diff_block\n",
    "    else:\n",
    "        if liquidity_diff_block == df_swap_sel.loc[n-1, 'inp_amount']:\n",
    "            df_swap_sel.loc[n, 'inp_amount'] = 0\n",
    "        else:\n",
    "            df_swap_sel.loc[n, 'inp_amount'] = r.inp_liquidity - tick_info['liquidity']\n",
    "df_swap_sel"
   ]
  },
  {
   "cell_type": "code",
   "execution_count": null,
   "metadata": {},
   "outputs": [],
   "source": [
    "# swaps that increases the liquidity\n",
    "df_swap_sel.loc[df_swap_sel.inp_amount > 0, :]"
   ]
  },
  {
   "cell_type": "code",
   "execution_count": null,
   "metadata": {},
   "outputs": [],
   "source": [
    "# swaps that descreases the liquidity\n",
    "df_swap_sel.loc[df_swap_sel.inp_amount < 0, :]"
   ]
  },
  {
   "cell_type": "code",
   "execution_count": null,
   "metadata": {},
   "outputs": [],
   "source": [
    "df_mint_burn_swap = (\n",
    "    pd.concat([df_mint_sel.assign(evt_type='mint', inp_liquidity=pd.NA, inp_tick=pd.NA),\n",
    "               df_burn_sel.assign(evt_type='burn', inp_liquidity=pd.NA, inp_tick=pd.NA),\n",
    "               df_swap_sel.assign(evt_type='swap', inp_tickLower=pd.NA, inp_tickUpper=pd.NA)])\n",
    "    .sort_values(['evt_block_number', 'evt_index'])\n",
    "    .reset_index(drop=True)\n",
    "    .assign(liquidity = lambda x: x.inp_amount.cumsum())\n",
    "    )\n",
    "df_mint_burn_swap"
   ]
  },
  {
   "cell_type": "code",
   "execution_count": null,
   "metadata": {},
   "outputs": [],
   "source": [
    "tick_infos = [\n",
    "    context.models(r.evt_block_number).jit.liquidity().values()\n",
    "    for _,r in df_mint_burn_swap.iterrows()\n",
    "]\n",
    "\n",
    "liquidity_data = dict(zip(['pool_liquidity', 'current_tick', 'token0_bal', 'token1_bal'], zip(*tick_infos)))\n",
    "df_mint_burn_swap = df_mint_burn_swap.assign(**liquidity_data)\n",
    "\n",
    "df_mint_burn_swap.to_csv('csv/df_mint_burn_swap.csv', index=False)\n",
    "df_mint_burn_swap"
   ]
  },
  {
   "cell_type": "markdown",
   "metadata": {},
   "source": [
    "### 1. First Mint - add liquidity"
   ]
  },
  {
   "cell_type": "code",
   "execution_count": null,
   "metadata": {},
   "outputs": [],
   "source": [
    "(df_mint\n",
    "    [['evt_block_number', 'evt_index', 'evt_tx_hash', 'inp_owner', 'inp_tickLower', 'inp_tickUpper', 'inp_amount', 'inp_amount0', 'inp_amount1']]\n",
    "    .loc[0]\n",
    ")"
   ]
  },
  {
   "cell_type": "code",
   "execution_count": null,
   "metadata": {},
   "outputs": [],
   "source": [
    "param = {'chain_id': 1,\n",
    " 'block_number': 12376729,\n",
    " 'model_loader_path': [],\n",
    " 'chain_to_provider_url': {'1': 'http://192.168.68.122:10444'},\n",
    " 'api_url': None,\n",
    " 'use_local_models': '*',\n",
    " 'register_utility_global': True}\n",
    "\n",
    "context2, model_loader2 = %cmf param\n",
    "\n",
    "pool = Contract(address='0x88e6a0c2ddd26feeb64f039a2c41296fcb3f5640')\n",
    "\n",
    "current_liquidity = pool.functions.liquidity().call()\n",
    "tick_spacing = pool.functions.tickSpacing().call()\n",
    "\n",
    "slot0 = pool.functions.slot0().call()\n",
    "current_sqrtPriceX96 = slot0[0]\n",
    "current_tick = slot0[1]\n",
    "current_price = tick_to_price(current_tick)\n",
    "\n",
    "token0_addr = pool.functions.token0().call()\n",
    "token1_addr = pool.functions.token1().call()\n",
    "token0 = Token(address=Address(token0_addr).checksum)\n",
    "token1 = Token(address=Address(token1_addr).checksum)\n",
    "token0_bal = token0.balance_of(pool.address.checksum)\n",
    "token1_bal = token1.balance_of(pool.address.checksum)\n",
    "\n",
    "print((token0_bal, token1_bal))\n",
    "\n",
    "scale_multiplier = (10 ** (token0.decimals - token1.decimals))\n",
    "adjusted_current_price = current_price * scale_multiplier\n",
    "current_sqrt_price = current_sqrtPriceX96 * current_sqrtPriceX96 / (2 ** 192) * scale_multiplier\n",
    "\n",
    "(current_tick,\n",
    " math.log(current_sqrtPriceX96 / (2 ** 96)) / math.log(1.0001) * 2,\n",
    " smath.getSqrtRatioAtTick(current_tick),\n",
    " current_sqrtPriceX96,\n",
    " Decimal((1.0001 ** (current_tick/2) * (2 ** 96))),\n",
    " current_price * scale_multiplier,\n",
    " adjusted_current_price,\n",
    " 1 / adjusted_current_price,\n",
    " current_sqrt_price,\n",
    "  token0.symbol,\n",
    " token1.symbol\n",
    ")\n",
    " "
   ]
  },
  {
   "cell_type": "markdown",
   "metadata": {},
   "source": [
    "#### In-tick liquidity"
   ]
  },
  {
   "cell_type": "code",
   "execution_count": null,
   "metadata": {},
   "outputs": [],
   "source": [
    "display(f'{slot0=}, {tick_spacing=}, {current_tick=}, {current_liquidity=}')\n",
    "\n",
    "# Compute the tick range near the current tick\n",
    "current_tick_bottom = current_tick // tick_spacing * tick_spacing\n",
    "current_tick_top = current_tick_bottom + tick_spacing\n",
    "display((current_tick_bottom, current_tick, current_tick_top))\n",
    "assert current_tick_bottom <= current_tick <= current_tick_top\n",
    "\n",
    "print('Price from tick:', current_price, 'Price from sqrt:', current_sqrtPriceX96 * current_sqrtPriceX96 / (2 ** 192))\n",
    "\n",
    "sa = tick_to_price(current_tick_bottom // 2)\n",
    "sb = tick_to_price(current_tick_top // 2)\n",
    "sp = current_price ** 0.5\n",
    "\n",
    "in_tick_amount0 = current_liquidity * (1 / sp - 1 / sb)\n",
    "in_tick_amount1 = current_liquidity * (sp - sa)\n",
    "\n",
    "display((f'{current_liquidity=}', f'{in_tick_amount0=}', f'{in_tick_amount1=}'))\n",
    "display(('Test equality:', (in_tick_amount0 + current_liquidity / sb) * (in_tick_amount1 + current_liquidity * sa) - float(current_liquidity * current_liquidity)))\n",
    "display(('token0_in_tick', in_tick_amount0 / token0_bal, 'token1_in_tick', in_tick_amount1 / token1_bal))\n"
   ]
  },
  {
   "cell_type": "markdown",
   "metadata": {},
   "source": [
    "#### In-range liquidity/amount"
   ]
  },
  {
   "cell_type": "code",
   "execution_count": null,
   "metadata": {},
   "outputs": [],
   "source": [
    "liquidity = pool.functions.liquidity().call()\n",
    "\n",
    "tick_bottom = 191150\n",
    "tick_top = 198080\n",
    "\n",
    "tick = current_tick\n",
    "\n",
    "sa = tick_to_price(tick_bottom // 2)\n",
    "sb = tick_to_price(tick_top // 2)\n",
    "sp = current_price ** 0.5\n",
    "\n",
    "in_tick_amount0 = int(liquidity * (1 / sp - 1 / sb))\n",
    "in_tick_amount1 = int(liquidity * (sp - sa))\n",
    "\n",
    "display((f'{sa=}, {sb=}, {sp=}, {liquidity=}', f'{in_tick_amount0=}', f'{in_tick_amount1=}'))\n",
    "test_1 = (in_tick_amount0 + liquidity / sb) * (in_tick_amount1 + liquidity * sa)\n",
    "test_2 = (liquidity * liquidity)\n",
    "display(('Test equality:', tick, test_1 / test_2 - 1, test_1 - test_2) )\n",
    "display(('token0_in_tick', in_tick_amount0 / token0_bal, 'token1_in_tick', in_tick_amount1 / token1_bal))\n"
   ]
  },
  {
   "cell_type": "markdown",
   "metadata": {},
   "source": [
    "### In-range liquidity/amount vs. price"
   ]
  },
  {
   "cell_type": "code",
   "execution_count": null,
   "metadata": {},
   "outputs": [],
   "source": [
    "liquidity = pool.functions.liquidity().call()\n",
    "\n",
    "tick_bottom = 191150\n",
    "tick_top = 198080\n",
    "\n",
    "sa = tick_to_price(tick_bottom // 2)\n",
    "sb = tick_to_price(tick_top // 2)\n",
    "\n",
    "display(sa, sb)\n",
    "\n",
    "ax = plt.gca()    # Get current axis\n",
    "ax2 = ax.twinx()  # make twin axis based on x\n",
    "\n",
    "ticks = []\n",
    "amount0 = []\n",
    "amount1 = []\n",
    "prices = []\n",
    "\n",
    "for tick in [tick_bottom, (tick_bottom + current_tick) / 2,  current_tick, (current_tick + tick_top) / 2, tick_top]:\n",
    "    sp = tick_to_price(tick // 2)\n",
    "    \n",
    "    in_tick_amount0 = int(liquidity * (1 / sp - 1 / sb))\n",
    "    in_tick_amount1 = int(liquidity * (sp - sa))\n",
    "\n",
    "    ticks.append(tick)\n",
    "    amount0.append(token0.scaled(in_tick_amount0))\n",
    "    amount1.append(token1.scaled(in_tick_amount1))\n",
    "    prices.append(1 / (sp * sp * scale_multiplier))\n",
    "\n",
    "    display((f'{sa=}, {sb=}, {sp=}, {liquidity=}', f'{in_tick_amount0=}', f'{in_tick_amount1=}'))\n",
    "    test_1 = (in_tick_amount0 + liquidity / sb) * (in_tick_amount1 + liquidity * sa)\n",
    "    test_2 = (liquidity * liquidity)\n",
    "    display(('Test equality:', tick, test_1 / test_2 - 1, test_1 - test_2) )\n",
    "\n",
    "ax.scatter(ticks, amount0)\n",
    "ax.plot(ticks, amount0)\n",
    "ax.text(ticks[0], amount0[0], 'token0')\n",
    "ax2.scatter(ticks, amount1)\n",
    "ax2.plot(ticks, amount1)\n",
    "ax2.text(ticks[0], amount1[0], 'token1')\n",
    "\n",
    "plt.show()\n",
    "\n",
    "pd.DataFrame({'ticks': ticks, 'amount0': amount0, 'amount1': amount1, 'prices': prices})\n"
   ]
  },
  {
   "cell_type": "markdown",
   "metadata": {},
   "source": [
    "### Full tick spacing liquidity"
   ]
  },
  {
   "cell_type": "code",
   "execution_count": null,
   "metadata": {},
   "outputs": [],
   "source": [
    "pool_min_tick = 191150\n",
    "pool_max_tick = 198080\n",
    "\n",
    "pool = Contract(address='0x88e6a0c2ddd26feeb64f039a2c41296fcb3f5640')\n",
    " \n",
    "tick_mapping = get_liquidity_in_ticks(pool, pool_min_tick, pool_max_tick)\n",
    "\n",
    "display(tick_mapping)\n",
    "\n",
    "token0_addr = pool.functions.token0().call()\n",
    "token1_addr = pool.functions.token1().call()\n",
    "token0 = Token(address=Address(token0_addr).checksum)\n",
    "token1 = Token(address=Address(token1_addr).checksum)\n",
    "\n",
    "df_pool = get_amount_in_ticks(pool, token0, token1, tick_mapping)\n",
    "\n",
    "display((\n",
    "    ('token0 balance: ', token0_bal, df_pool.token0_locked.sum(), token0_bal - df_pool.token0_locked.sum()),\n",
    "    ('token1 balance: ', df_pool.token1_locked.sum(), token1_bal, df_pool.token1_locked.sum() - token1_bal),\n",
    "))\n",
    "\n",
    "df_pool.plot(x = 'tick', y = ['liquidity', 'token0_locked', 'token1_locked'], sharex=True, subplots=True, kind='line')\n",
    "plt.show()"
   ]
  },
  {
   "cell_type": "code",
   "execution_count": null,
   "metadata": {},
   "outputs": [],
   "source": [
    "display(pool.functions.slot0().call()[1])\n",
    "df_pool.loc[df_pool.tick.isin([194850, 194860,194870,194880,194890]),:]"
   ]
  },
  {
   "cell_type": "code",
   "execution_count": null,
   "metadata": {},
   "outputs": [],
   "source": [
    "plt.plot(df_pool.tick, df_pool.token0); plt.show()"
   ]
  },
  {
   "cell_type": "markdown",
   "metadata": {},
   "source": [
    "### 2. After first swap"
   ]
  },
  {
   "cell_type": "code",
   "execution_count": null,
   "metadata": {},
   "outputs": [],
   "source": [
    "param = {'chain_id': 1,\n",
    " 'block_number': 12376891,\n",
    " 'model_loader_path': [],\n",
    " 'chain_to_provider_url': {'1': 'http://192.168.68.122:10444'},\n",
    " 'api_url': None,\n",
    " 'use_local_models': '*',\n",
    " 'register_utility_global': True}\n",
    "\n",
    "context3, model_loader3 = %cmf param\n",
    "context3.set_current()\n",
    "\n",
    "pool = Contract(address='0x88e6a0c2ddd26feeb64f039a2c41296fcb3f5640')\n",
    "\n",
    "current_liquidity = pool.functions.liquidity().call()\n",
    "tick_spacing = pool.functions.tickSpacing().call()\n",
    "\n",
    "slot0 = pool.functions.slot0().call()\n",
    "current_sqrtPriceX96 = slot0[0]\n",
    "current_tick = slot0[1]\n",
    "current_price = tick_to_price(current_tick)\n",
    "\n",
    "token0_addr = pool.functions.token0().call()\n",
    "token1_addr = pool.functions.token1().call()\n",
    "token0 = Token(address=Address(token0_addr).checksum)\n",
    "token1 = Token(address=Address(token1_addr).checksum)\n",
    "token0_bal = token0.balance_of(pool.address.checksum)\n",
    "token1_bal = token1.balance_of(pool.address.checksum)\n",
    "\n",
    "print((token0_bal, token1_bal))"
   ]
  },
  {
   "cell_type": "code",
   "execution_count": null,
   "metadata": {},
   "outputs": [],
   "source": [
    "df_mint_burn_swap_sel = df_mint_burn_swap.query('evt_block_number <= @context3.block_number')\n",
    "df_mint_burn_swap_sel"
   ]
  },
  {
   "cell_type": "code",
   "execution_count": null,
   "metadata": {},
   "outputs": [],
   "source": [
    "pool_min_tick = df_mint_burn_swap_sel.inp_tickLower.min()\n",
    "pool_max_tick = df_mint_burn_swap_sel.inp_tickUpper.max()\n",
    "\n",
    "pool = Contract(address='0x88e6a0c2ddd26feeb64f039a2c41296fcb3f5640')\n",
    " \n",
    "tick_mapping = get_liquidity_in_ticks(pool, pool_min_tick, pool_max_tick)\n",
    "\n",
    "display(tick_mapping)\n",
    "\n",
    "df_pool2 = get_amount_in_ticks(pool, token0, token1, tick_mapping)\n",
    "\n",
    "display((\n",
    "    ('token0 balance: ', token0_bal, df_pool2.token0_locked.sum(), token0_bal - df_pool2.token0_locked.sum()),\n",
    "    ('token1 balance: ', df_pool2.token1_locked.sum(), token1_bal, df_pool2.token1_locked.sum() - token1_bal),\n",
    "))\n",
    "\n",
    "df_pool2.plot(x = 'tick', y = ['liquidity', 'token0_locked', 'token1_locked'], sharex=True, subplots=True, kind='line')\n",
    "plt.show()"
   ]
  },
  {
   "cell_type": "markdown",
   "metadata": {},
   "source": [
    "### After mint and burn"
   ]
  },
  {
   "cell_type": "code",
   "execution_count": null,
   "metadata": {},
   "outputs": [],
   "source": [
    "param = {'chain_id': 1,\n",
    " 'block_number': 12377266,\n",
    " 'model_loader_path': [],\n",
    " 'chain_to_provider_url': {'1': 'http://192.168.68.122:10444'},\n",
    " 'api_url': None,\n",
    " 'use_local_models': '*',\n",
    " 'register_utility_global': True}\n",
    "\n",
    "context4, model_loader4 = %cmf param\n",
    "context4.set_current()\n",
    "\n",
    "pool = Contract(address='0x88e6a0c2ddd26feeb64f039a2c41296fcb3f5640')\n",
    "\n",
    "current_liquidity = pool.functions.liquidity().call()\n",
    "tick_spacing = pool.functions.tickSpacing().call()\n",
    "\n",
    "slot0 = pool.functions.slot0().call()\n",
    "current_sqrtPriceX96 = slot0[0]\n",
    "current_tick = slot0[1]\n",
    "current_price = tick_to_price(current_tick)\n",
    "\n",
    "token0_addr = pool.functions.token0().call()\n",
    "token1_addr = pool.functions.token1().call()\n",
    "token0 = Token(address=Address(token0_addr).checksum)\n",
    "token1 = Token(address=Address(token1_addr).checksum)\n",
    "token0_bal = token0.balance_of(pool.address.checksum)\n",
    "token1_bal = token1.balance_of(pool.address.checksum)\n",
    "\n",
    "print((token0_bal, token1_bal, current_liquidity))"
   ]
  },
  {
   "cell_type": "code",
   "execution_count": null,
   "metadata": {},
   "outputs": [],
   "source": [
    "df_mint_burn_swap_sel = df_mint_burn_swap.query('evt_block_number <= @context4.block_number')\n",
    "print(df_mint_burn_swap_sel.liquidity.to_list()[-1])\n",
    "df_mint_burn_swap_sel"
   ]
  },
  {
   "cell_type": "code",
   "execution_count": null,
   "metadata": {},
   "outputs": [],
   "source": [
    "pool_min_tick = df_mint_burn_swap_sel.inp_tickLower.min()\n",
    "pool_max_tick = df_mint_burn_swap_sel.inp_tickUpper.max()\n",
    "\n",
    "pool = Contract(address='0x88e6a0c2ddd26feeb64f039a2c41296fcb3f5640')\n",
    " \n",
    "tick_mapping = get_liquidity_in_ticks(pool, pool_min_tick, pool_max_tick)\n",
    "\n",
    "display(tick_mapping)\n",
    "\n",
    "df_pool2 = get_amount_in_ticks(pool, token0, token1, tick_mapping)\n",
    "\n",
    "display((\n",
    "    ('token0 balance: ', token0_bal, df_pool2.token0_locked.sum(), token0_bal - df_pool2.token0_locked.sum()),\n",
    "    ('token1 balance: ', df_pool2.token1_locked.sum(), token1_bal, df_pool2.token1_locked.sum() - token1_bal),\n",
    "))\n",
    "\n",
    "df_pool2.plot(x = 'tick', y = ['liquidity', 'token0_locked', 'token1_locked'], sharex=True, subplots=True, kind='line')\n",
    "plt.show()"
   ]
  },
  {
   "cell_type": "code",
   "execution_count": null,
   "metadata": {},
   "outputs": [],
   "source": [
    "param = {'chain_id': 1,\n",
    " 'block_number': 12377278,\n",
    " 'model_loader_path': [],\n",
    " 'chain_to_provider_url': {'1': 'http://192.168.68.122:10444'},\n",
    " 'api_url': None,\n",
    " 'use_local_models': '*',\n",
    " 'register_utility_global': True}\n",
    "\n",
    "context5, model_loader5 = %cmf param\n",
    "context5.set_current()\n",
    "\n",
    "pool = Contract(address='0x88e6a0c2ddd26feeb64f039a2c41296fcb3f5640')\n",
    "\n",
    "current_liquidity = pool.functions.liquidity().call()\n",
    "tick_spacing = pool.functions.tickSpacing().call()\n",
    "\n",
    "slot0 = pool.functions.slot0().call()\n",
    "current_sqrtPriceX96 = slot0[0]\n",
    "current_tick = slot0[1]\n",
    "current_price = tick_to_price(current_tick)\n",
    "\n",
    "token0_addr = pool.functions.token0().call()\n",
    "token1_addr = pool.functions.token1().call()\n",
    "token0 = Token(address=Address(token0_addr).checksum)\n",
    "token1 = Token(address=Address(token1_addr).checksum)\n",
    "token0_bal = token0.balance_of(pool.address.checksum)\n",
    "token1_bal = token1.balance_of(pool.address.checksum)\n",
    "\n",
    "print((token0_bal, token1_bal, current_liquidity, current_tick))"
   ]
  },
  {
   "cell_type": "code",
   "execution_count": null,
   "metadata": {},
   "outputs": [],
   "source": [
    "df_mint_burn_swap_sel = df_mint_burn_swap.query('evt_block_number <= @context5.block_number')\n",
    "df_mint_burn_swap_sel"
   ]
  },
  {
   "cell_type": "code",
   "execution_count": null,
   "metadata": {},
   "outputs": [],
   "source": [
    "pool_min_tick = df_mint_burn_swap_sel.inp_tickLower.min()\n",
    "pool_max_tick = df_mint_burn_swap_sel.inp_tickUpper.max()\n",
    "\n",
    "pool = Contract(address='0x88e6a0c2ddd26feeb64f039a2c41296fcb3f5640')\n",
    " \n",
    "tick_mapping = get_liquidity_in_ticks(pool, pool_min_tick, pool_max_tick)\n",
    "\n",
    "display(tick_mapping)\n",
    "\n",
    "df_pool2 = get_amount_in_ticks(pool, token0, token1, tick_mapping)\n",
    "\n",
    "display((\n",
    "    ('token0 balance: ', token0_bal, df_pool2.token0_locked.sum(), token0_bal - df_pool2.token0_locked.sum()),\n",
    "    ('token1 balance: ', df_pool2.token1_locked.sum(), token1_bal, df_pool2.token1_locked.sum() - token1_bal),\n",
    "))\n",
    "\n",
    "df_pool2.plot(x = 'tick', y = ['liquidity', 'token0_locked', 'token1_locked'], sharex=True, subplots=True, kind='line')\n",
    "plt.show()"
   ]
  },
  {
   "cell_type": "code",
   "execution_count": null,
   "metadata": {},
   "outputs": [],
   "source": [
    "param = {'chain_id': 1,\n",
    " 'block_number': 15269596,\n",
    " 'model_loader_path': ['../../credmark-models-py/models'],\n",
    " 'chain_to_provider_url': {'1': 'http://192.168.68.122:10444'},\n",
    " 'api_url': None,\n",
    " 'use_local_models': '*',\n",
    " 'register_utility_global': True}\n",
    "\n",
    "context6, model_loader6 = %cmf param\n",
    "context6.set_current()\n",
    "\n",
    "pool = Contract(address='0x88e6a0c2ddd26feeb64f039a2c41296fcb3f5640')\n",
    "\n",
    "current_liquidity = pool.functions.liquidity().call()\n",
    "tick_spacing = pool.functions.tickSpacing().call()\n",
    "\n",
    "slot0 = pool.functions.slot0().call()\n",
    "current_sqrtPriceX96 = slot0[0]\n",
    "current_tick = slot0[1]\n",
    "current_price = tick_to_price(current_tick)\n",
    "\n",
    "token0_addr = pool.functions.token0().call()\n",
    "token1_addr = pool.functions.token1().call()\n",
    "token0 = Token(address=Address(token0_addr).checksum)\n",
    "token1 = Token(address=Address(token1_addr).checksum)\n",
    "token0_bal = token0.balance_of(pool.address.checksum)\n",
    "token1_bal = token1.balance_of(pool.address.checksum)\n",
    "\n",
    "print((token0_bal, token1_bal, current_liquidity, current_tick))"
   ]
  },
  {
   "cell_type": "code",
   "execution_count": null,
   "metadata": {},
   "outputs": [],
   "source": [
    "pool = Contract(address='0x88e6a0c2ddd26feeb64f039a2c41296fcb3f5640')\n",
    "\n",
    "pool_min_tick = min(df_burn_min_max.lower_min.min(), df_mint_min_max.lower_min.min())\n",
    "pool_max_tick = max(df_burn_min_max.upper_max.max(), df_mint_min_max.upper_max.max())\n",
    "\n",
    "liquidity_by_ticks = context.run_model('uniswap-v3.get-liquidity-by-ticks', \n",
    "                                      {\"address\": \"0x88e6a0c2ddd26feeb64f039a2c41296fcb3f5640\",\n",
    "                                      \"min_tick\": pool_min_tick,\n",
    "                                      \"max_tick\": pool_max_tick})\n",
    "\n",
    "liquidity_by_ticks\n"
   ]
  },
  {
   "cell_type": "code",
   "execution_count": null,
   "metadata": {},
   "outputs": [],
   "source": [
    "pool = Contract(address='0x88e6a0c2ddd26feeb64f039a2c41296fcb3f5640')\n",
    " \n",
    "tick_mapping_1k = get_liquidity_in_ticks(pool, current_tick-1000, current_tick+1000)\n",
    "\n",
    "df_pool_1k = get_amount_in_ticks(pool, token0, token1, tick_mapping_1k)\n",
    "\n",
    "display((\n",
    "    ('token0 balance: ', token0_bal, df_pool_1k.token0_locked.sum(), token0_bal - df_pool_1k.token0_locked.sum()),\n",
    "    ('token1 balance: ', df_pool_1k.token1_locked.sum(), token1_bal, df_pool_1k.token1_locked.sum() - token1_bal),\n",
    "))\n",
    "\n",
    "df_pool_1k.plot(x = 'tick', y = ['liquidity', 'token0_locked', 'token1_locked'], sharex=True, subplots=True, kind='line')\n",
    "plt.show()\n",
    "\n",
    "assert df_pool_1k.liquidity[df_pool_1k.liquidity < 0].shape[0] == 0"
   ]
  },
  {
   "cell_type": "code",
   "execution_count": null,
   "metadata": {},
   "outputs": [],
   "source": [
    "list(tick_mapping_1k.items())[:10]"
   ]
  },
  {
   "cell_type": "code",
   "execution_count": null,
   "metadata": {},
   "outputs": [],
   "source": [
    "(pd\n",
    "    .DataFrame([(int(k), int(v)) for k, v in out['liquidity'].items()],\n",
    "               columns=['tick', 'liquidity'])\n",
    "    .plot('tick', 'liquidity')\n",
    ")\n",
    "plt.show()\n"
   ]
  },
  {
   "cell_type": "code",
   "execution_count": null,
   "metadata": {},
   "outputs": [],
   "source": [
    "pool_min_tick = min(df_burn_min_max.lower_min.min(), df_mint_min_max.lower_min.min())\n",
    "pool_max_tick = max(df_burn_min_max.upper_max.max(), df_mint_min_max.upper_max.max())\n",
    "\n",
    "liquidity_by_ticks = context.run_model('uniswap-v3.get-liquidity-by-ticks', \n",
    "                                      {\"address\": \"0x88e6a0c2ddd26feeb64f039a2c41296fcb3f5640\",\n",
    "                                      \"min_tick\": pool_min_tick,\n",
    "                                      \"max_tick\": pool_max_tick})\n",
    "\n",
    "liquidity_by_ticks\n"
   ]
  },
  {
   "cell_type": "code",
   "execution_count": null,
   "metadata": {},
   "outputs": [],
   "source": [
    "pool_min_tick = min(df_burn_min_max.lower_min.min(), df_mint_min_max.lower_min.min())\n",
    "pool_max_tick = max(df_burn_min_max.upper_max.max(), df_mint_min_max.upper_max.max())\n",
    "\n",
    "pool = Contract(address='0x88e6a0c2ddd26feeb64f039a2c41296fcb3f5640')\n",
    " \n",
    "tick_mapping = get_liquidity_in_ticks(pool, pool_min_tick, pool_max_tick)\n",
    "\n",
    "df_pool2 = get_amount_in_ticks(pool, token0, token1, tick_mapping)\n",
    "\n",
    "assert df_pool2.liquidity[df_pool2.liquidity < 0].shape[0] == 0\n",
    "\n",
    "display((\n",
    "    ('token0 balance: ', token0_bal, df_pool2.token0_locked.sum(), token0_bal - df_pool2.token0_locked.sum()),\n",
    "    ('token1 balance: ', df_pool2.token1_locked.sum(), token1_bal, df_pool2.token1_locked.sum() - token1_bal),\n",
    "))\n",
    "\n",
    "df_pool2.plot(x = 'tick', y = ['liquidity', 'token0_locked', 'token1_locked'], sharex=True, subplots=True, kind='line')\n",
    "plt.show()"
   ]
  },
  {
   "cell_type": "code",
   "execution_count": null,
   "metadata": {},
   "outputs": [],
   "source": [
    "df_pool2.plot(x = 'tick', y = ['liquidity', 'token0_locked_scaled', 'token1_locked_scaled'], sharex=True, subplots=True, kind='line')\n",
    "plt.show()"
   ]
  },
  {
   "cell_type": "code",
   "execution_count": null,
   "metadata": {},
   "outputs": [],
   "source": [
    "df_pool2.token1_locked_scaled.sum(), token1.scaled(token1_bal)"
   ]
  },
  {
   "cell_type": "code",
   "execution_count": null,
   "metadata": {},
   "outputs": [],
   "source": [
    "df_pool2.plot(x = 'tick', y = ['liquidity'], figsize=(20,4))\n",
    "plt.vlines(x=current_tick, ymin=0, ymax=df_pool2.liquidity.max(), linestyles='dashed', colors='red')\n",
    "plt.show()\n",
    "\n",
    "df_pool2.query('(tick > 170000) & (tick < 220000)').plot(x = 'tick', y = ['liquidity'], figsize=(20,4))\n",
    "plt.vlines(x=current_tick, ymin=0, ymax=1.75e19, linestyles='dashed', colors='red')\n",
    "plt.show()"
   ]
  },
  {
   "cell_type": "code",
   "execution_count": null,
   "metadata": {},
   "outputs": [],
   "source": [
    "ax = plt.gca()    # Get current axis\n",
    "ax2 = ax.twinx()  # make twin axis based on x\n",
    "\n",
    "df_pool2.query('(tick > @current_tick-@tick_spacing*10) & (tick < 220000)').plot(x = 'tick', y = ['token0_locked_scaled'], figsize=(20,4), ax=ax)\n",
    "df_pool2.query('(tick < @current_tick-@tick_spacing*10) & (tick > 170000)').plot(x = 'tick', y = ['token1_locked_scaled'], figsize=(20,4), ax=ax2, color='green')\n",
    "ax.vlines(x=current_tick, ymin=0, ymax=df_pool2.token0_locked_scaled.max(), linestyles='dashed', colors='red')\n",
    "plt.show()"
   ]
  },
  {
   "cell_type": "code",
   "execution_count": null,
   "metadata": {},
   "outputs": [],
   "source": [
    "pa = 2022\n",
    "pb = 1358\n",
    "\n",
    "p_a = (1 / pa / scale_multiplier)\n",
    "p_b = (1 / pb / scale_multiplier)\n",
    "\n",
    "tick_a = math.log(p_a) / math.log(1.0001)\n",
    "tick_b = math.log(p_b) / math.log(1.0001)\n",
    "\n",
    "ax = plt.gca()    # Get current axis\n",
    "ax2 = ax.twinx()  # make twin axis based on x\n",
    "\n",
    "df_pool2_sel = df_pool2.query('(tick > @tick_a) & (tick < @tick_b)')\n",
    "df_pool2_sel\n",
    "\n",
    "df_pool2_sel.plot(x = 'tick', y = ['token0_locked_scaled'], figsize=(20,4), ax=ax)\n",
    "df_pool2_sel.plot(x = 'tick', y = ['token1_locked_scaled'], figsize=(20,4), ax=ax2, color='green')\n",
    "ax.vlines(x=current_tick, ymin=0, ymax=df_pool2_sel.token0_locked_scaled.max(), linestyles='dashed', colors='red')\n",
    "plt.show()"
   ]
  },
  {
   "cell_type": "markdown",
   "metadata": {},
   "source": [
    "On block 15269596\n",
    "\n",
    "![UniswapV3 USDC-WETH-POOL](pool_liquidity_usdc_weth.png)"
   ]
  },
  {
   "cell_type": "code",
   "execution_count": null,
   "metadata": {},
   "outputs": [],
   "source": [
    "df_pool2.query('(tick > @tick_a) & (tick < @tick_b)')"
   ]
  }
 ],
 "metadata": {
  "kernelspec": {
   "display_name": "Python 3.10.5 ('cmk310')",
   "language": "python",
   "name": "python3"
  },
  "language_info": {
   "codemirror_mode": {
    "name": "ipython",
    "version": 3
   },
   "file_extension": ".py",
   "mimetype": "text/x-python",
   "name": "python",
   "nbconvert_exporter": "python",
   "pygments_lexer": "ipython3",
   "version": "3.10.10"
  },
  "orig_nbformat": 4,
  "vscode": {
   "interpreter": {
    "hash": "ef3060a66f05e685ce670116a67026aba95afdffb2461d829b3351d07ec51c58"
   }
  }
 },
 "nbformat": 4,
 "nbformat_minor": 2
}
