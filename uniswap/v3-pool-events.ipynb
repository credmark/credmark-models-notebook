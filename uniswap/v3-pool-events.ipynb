{
 "cells": [
  {
   "cell_type": "markdown",
   "metadata": {},
   "source": [
    "# CMF Fetching Events from a contract\n",
    "\n",
    "- 2022.08.04"
   ]
  },
  {
   "cell_type": "code",
   "execution_count": null,
   "metadata": {},
   "outputs": [],
   "source": [
    "%load_ext credmark.cmf.ipython\n",
    "\n",
    "param = {'chain_id': 1,\n",
    " 'block_number': 15269596,\n",
    " 'model_loader_path': ['../../credmark-models-py/models'],\n",
    " 'chain_to_provider_url': {'1': 'http://192.168.68.122:10444'},\n",
    " 'api_url': None,\n",
    " 'use_local_models': '*',\n",
    " 'register_utility_global': True}\n",
    "\n",
    "context, model_loader = %cmf param"
   ]
  },
  {
   "cell_type": "code",
   "execution_count": null,
   "metadata": {},
   "outputs": [],
   "source": [
    "df_flash = pd.read_csv('csv/uni_flash.csv')\n",
    "df_mint = pd.read_csv('csv/uni_mint.csv')\n",
    "df_burn = pd.read_csv('csv/uni_burn.csv')\n",
    "df_swap = pd.read_csv('csv/uni_swap.csv')"
   ]
  },
  {
   "cell_type": "code",
   "execution_count": null,
   "metadata": {},
   "outputs": [],
   "source": [
    "df_mint"
   ]
  },
  {
   "cell_type": "code",
   "execution_count": null,
   "metadata": {},
   "outputs": [],
   "source": [
    "pool = Contract(address='0x88e6a0c2ddd26feeb64f039a2c41296fcb3f5640')"
   ]
  },
  {
   "cell_type": "code",
   "execution_count": null,
   "metadata": {},
   "outputs": [],
   "source": [
    "df_mint_evt = (\n",
    "    pd.DataFrame(pool.fetch_events(pool.events.Mint,\n",
    "                       from_block=int(df_mint.evt_block_number.min()),\n",
    "                       to_block=int(df_mint.evt_block_number.max())))\n",
    "    .sort_values(['blockNumber', 'logIndex']))\n",
    "df_mint_evt"
   ]
  },
  {
   "cell_type": "code",
   "execution_count": null,
   "metadata": {},
   "outputs": [],
   "source": [
    "df_burn_evt = (\n",
    "    pd.DataFrame(pool.fetch_events(pool.events.Burn,\n",
    "                       from_block=int(df_burn.evt_block_number.min()),\n",
    "                       to_block=int(df_burn.evt_block_number.max())))\n",
    "    .sort_values(['blockNumber', 'logIndex']))\n",
    "df_burn_evt"
   ]
  },
  {
   "cell_type": "code",
   "execution_count": null,
   "metadata": {},
   "outputs": [],
   "source": [
    "sum(-df_burn_evt.amount) + sum(df_mint_evt.amount) - (936864806733895)"
   ]
  },
  {
   "cell_type": "code",
   "execution_count": null,
   "metadata": {},
   "outputs": [],
   "source": [
    "df_swap_evt = (\n",
    "    pd.DataFrame(pool.fetch_events(pool.events.Swap,\n",
    "                       from_block=int(df_swap.evt_block_number.min()),\n",
    "                       to_block=int(df_swap.evt_block_number.max())))\n",
    "    .sort_values(['blockNumber', 'logIndex']))\n",
    "display(df_swap_evt)\n",
    "\n",
    "display(df_swap_evt.loc[9, :])"
   ]
  }
 ],
 "metadata": {
  "kernelspec": {
   "display_name": "Python 3.10.5 ('cmk310')",
   "language": "python",
   "name": "python3"
  },
  "language_info": {
   "codemirror_mode": {
    "name": "ipython",
    "version": 3
   },
   "file_extension": ".py",
   "mimetype": "text/x-python",
   "name": "python",
   "nbconvert_exporter": "python",
   "pygments_lexer": "ipython3",
   "version": "3.10.6"
  },
  "orig_nbformat": 4,
  "vscode": {
   "interpreter": {
    "hash": "ef3060a66f05e685ce670116a67026aba95afdffb2461d829b3351d07ec51c58"
   }
  }
 },
 "nbformat": 4,
 "nbformat_minor": 2
}
