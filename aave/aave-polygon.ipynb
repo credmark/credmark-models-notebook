{
 "cells": [
  {
   "attachments": {},
   "cell_type": "markdown",
   "metadata": {},
   "source": [
    "## 1. Aave position\n",
    "\n",
    "- Retrieve by account (address) and asset (WETH)\n",
    "  - Current collateral\n",
    "  - Borrowed value\n",
    "  - Health\n",
    "\n",
    "## 2. Uniswap Position\n",
    "\n",
    "- Retrieve all position by account (address)\n",
    "  - Current position (after impermanent loss)\n",
    "  - Reward\n",
    "\n",
    "## 3. Daily valuation\n",
    "\n",
    "- Retrieve up-to-date prices for tokens\n"
   ]
  },
  {
   "cell_type": "code",
   "execution_count": 1,
   "metadata": {},
   "outputs": [],
   "source": [
    "from credmark.cmf.ipython import create_cmf\n",
    "from credmark.cmf.types import (Address, BlockNumber, Contract, Token, Portfolio, PriceWithQuote)\n",
    "from credmark.cmf.types.data.fiat_currency_data import FIAT_CURRENCY_DATA_BY_SYMBOL\n",
    "from credmark.cmf.model.errors import ModelRunError, ModelDataError\n",
    "from web3 import HTTPProvider, Web3\n",
    "from datetime import datetime, timezone, timedelta\n",
    "from models.credmark.tokens.token import get_eip1967_proxy, get_eip1967_proxy_err\n",
    "\n",
    "from models.tmp_abi_lookup import AAVE_STABLEDEBT_ABI, AAVE_LENDING_POOL_PROVIDER, AAVE_DATA_PROVIDER, AAVE_LENDING_POOL_PROXY, AAVE_LENDING_POOL\n",
    "\n",
    "from models.credmark.protocols.lending.aave.aave_v2_util import get_aave_lender\n",
    "from models.credmark.protocols.lending.aave.aave_v2_account import AAVEUserReserveData\n",
    "\n",
    "cmf_param = {\n",
    "    'block_number': 40822399,\n",
    "    # 'chain_to_provider_url': {'137': 'https://polygon-rpc.com', '56': 'https://bsc-dataseed.binance.org'},\n",
    "    'api_url': None,\n",
    "    'use_local_models': '*',  # use local to speed up\n",
    "    'chain_id': 137,\n",
    "}\n",
    "\n",
    "# When using fill_db_evt in a loop, create cmf context outside the loop and sent _cmf_param = None\n",
    "# When using fill_db_evt standalone, either 1) create cmf context outside the loop and sent _cmf_param = None, 2) sent in non-None cmf_param.\n",
    "context, _model_loader = create_cmf(cmf_param)\n",
    "context._web3.eth.default_block = int(context.block_number)\n",
    "end_block = int(context.block_number)"
   ]
  },
  {
   "cell_type": "code",
   "execution_count": 2,
   "metadata": {},
   "outputs": [
    {
     "name": "stdout",
     "output_type": "stream",
     "text": [
      "address='0x2791bca1f2de4661ed88a30c99a7a9449aa84174'\n",
      "{'price': 0.99965426, 'src': 'chainlink.price-by-feed|USDC / USD|0xf9c53A834F60cBbE40E27702276fBc0819B3aFAD|v4|None|t:0s|r:0', 'quoteAddress': '0x0000000000000000000000000000000000000348'}\n",
      "address='0x7ceb23fd6bc0add59e62ac25578270cff1b9f619'\n",
      "{'price': 1767.84839107, 'src': 'chainlink.price-by-feed|ETH / USD|0x4dD6655Ad5ed7C06c882f496E3f42acE5766cb89|v4|None|t:8s|r:0', 'quoteAddress': '0x0000000000000000000000000000000000000348'}\n",
      "address='0x0b3f868e0be5597d5db7feb59e1cadbb0fdda50a'\n",
      "{'price': 1.0385, 'src': 'chainlink.price-by-feed|SUSHI / USD|0xf3F28072f7FF2510843504c69ACD07C2C84B2d83|v4|None|t:288s|r:0', 'quoteAddress': '0x0000000000000000000000000000000000000348'}\n",
      "address='0x0d500b1d8e8ef31e21c99d1db9a6444d3adf1270'\n",
      "{'price': 1.083, 'src': 'chainlink.price-by-feed|MATIC / USD|0x1278C74c3B2f8c3BcA0089b4E128fAf023615ECf|v4|None|t:4s|r:0', 'quoteAddress': '0x0000000000000000000000000000000000000348'}\n",
      "address='0x53e0bca35ec356bd5dddfebbd1fc0fd03fabad39'\n",
      "{'price': 7.19598524, 'src': 'chainlink.price-by-feed|LINK / USD|0xdbbf66711C9a0dff777797d82DDa7009B6c846dd|v4|None|t:2s|r:0', 'quoteAddress': '0x0000000000000000000000000000000000000348'}\n",
      "address='0x385eeac5cb85a38a9a07a70c73e0a3271cfb54a7'\n",
      "{'price': 1.11993041, 'src': 'chainlink.price-by-feed|GHST / USD|0xA25aA6588c0311b9dB11c2887d9AcbB6b5e3d1B0|v4|None|t:130s|r:0', 'quoteAddress': '0x0000000000000000000000000000000000000348'}\n",
      "address='0x0b3f868e0be5597d5db7feb59e1cadbb0fdda50a'\n",
      "{'price': 1.0385, 'src': 'chainlink.price-by-feed|SUSHI / USD|0xf3F28072f7FF2510843504c69ACD07C2C84B2d83|v4|None|t:288s|r:0', 'quoteAddress': '0x0000000000000000000000000000000000000348'}\n",
      "address='0x85955046df4668e1dd369d2de9f3aeb98dd2a369'\n",
      "{'price': 76.37778655, 'src': 'chainlink.price-by-feed|DPI / USD|0x66d4744E5121c78FFC10c3f52e96b578844c75c4|v4|None|t:35281s|r:0', 'quoteAddress': '0x0000000000000000000000000000000000000348'}\n"
     ]
    }
   ],
   "source": [
    "usdc = Token('USDC')\n",
    "weth = Token('WETH')\n",
    "dpi = Token('DPI')\n",
    "sushi = Token('SUSHI')\n",
    "wmatic = Token('WMATIC')\n",
    "link = Token('LINK')\n",
    "ghst = Token('GHST')\n",
    "sushi = Token('SUSHI')\n",
    "\n",
    "for t in [usdc, weth, sushi, wmatic, link, ghst, sushi, dpi]:\n",
    "    print(t)\n",
    "    print(context.run_model('price.oracle-chainlink', {'base': t}))"
   ]
  },
  {
   "cell_type": "code",
   "execution_count": 3,
   "metadata": {},
   "outputs": [],
   "source": [
    "from credmark.cmf.model import Model\n",
    "from credmark.cmf.model.errors import ModelDataError, ModelRunError\n",
    "\n",
    "\n",
    "@Model.describe(\n",
    "    slug='jit.aave-user-reserve',\n",
    "    version='1.0',\n",
    "    input=dict,\n",
    "    output=dict)\n",
    "class JitAAVEUserReserve(Model):\n",
    "    def run(self, input):\n",
    "        data_provider = self.context.run_model('aave-v2.get-protocol-data-provider', {}, return_type=Contract)\n",
    "        data_provider.set_abi(AAVE_DATA_PROVIDER, set_loaded=True)\n",
    "\n",
    "        return AAVEUserReserveData(*data_provider.functions.getUserReserveData(\n",
    "            Address(input['asset']).checksum,\n",
    "            Address(input['account']).checksum).call()).normalize()._asdict()\n",
    "\n",
    "\n",
    "context.add_model(JitAAVEUserReserve)"
   ]
  },
  {
   "cell_type": "code",
   "execution_count": 4,
   "metadata": {},
   "outputs": [
    {
     "data": {
      "text/plain": [
       "({'currentATokenBalance': 2.9953183172440756,\n",
       "  'currentStableDebt': 0.0,\n",
       "  'currentVariableDebt': 0.0,\n",
       "  'principalStableDebt': 0.0,\n",
       "  'scaledVariableDebt': 0.0,\n",
       "  'stableBorrowRate': 0.0,\n",
       "  'liquidityRate': 0.0007052660597053956,\n",
       "  'stableRateLastUpdated': 0,\n",
       "  'usageAsCollateralEnabled': True},\n",
       " {'currentATokenBalance': 3.0161404016426845,\n",
       "  'currentStableDebt': 0.0,\n",
       "  'currentVariableDebt': 0.0,\n",
       "  'principalStableDebt': 0.0,\n",
       "  'scaledVariableDebt': 0.0,\n",
       "  'stableBorrowRate': 0.0,\n",
       "  'liquidityRate': 0.0007098184012045643,\n",
       "  'stableRateLastUpdated': 0,\n",
       "  'usageAsCollateralEnabled': True})"
      ]
     },
     "execution_count": 4,
     "metadata": {},
     "output_type": "execute_result"
    }
   ],
   "source": [
    "account = '0x1d8b86e3D88cDb2d34688e87E72F388Cb541B7C8'\n",
    "account = '0xea9CC42d89C4f04E1583905B7De5a9f5F292Daa5'\n",
    "account = '0xd2A94C6e3b8A5B479AeD45Fd7D2726890dE325E5'\n",
    "\n",
    "# On earlier block: 40782399\n",
    "\n",
    "prev = context.run_model('jit.aave-user-reserve',\n",
    "                         input={'asset': weth.address, 'account': account}, block_number=40782399)\n",
    "now = context.run_model('jit.aave-user-reserve', input={'asset': weth.address, 'account': account})\n",
    "\n",
    "(prev, now)"
   ]
  },
  {
   "cell_type": "code",
   "execution_count": 5,
   "metadata": {},
   "outputs": [
    {
     "data": {
      "text/plain": [
       "({'lp': '0x3aafea8e51999a80d3ce76e27b7cabbe2a48258c',\n",
       "  'id': 799208,\n",
       "  'pool': '0x4fe1269a585b141f11c3e144158f9f8823c7c0e7',\n",
       "  'tokens': [{'amount': 0.010980546729303646,\n",
       "    'asset': {'address': '0x7ceb23fd6bc0add59e62ac25578270cff1b9f619'},\n",
       "    'price_quote': None,\n",
       "    'fee': 0.0004967996056704618},\n",
       "   {'amount': 82.03222412663655,\n",
       "    'asset': {'address': '0x9a71012b13ca4d3d0cdc72a177df3ef03b0e76a3'},\n",
       "    'price_quote': None,\n",
       "    'fee': 0.12175070605035752}],\n",
       "  'in_range': 'in range'},\n",
       " {'lp': '0x3aafea8e51999a80d3ce76e27b7cabbe2a48258c',\n",
       "  'id': 799208,\n",
       "  'pool': '0x4fe1269a585b141f11c3e144158f9f8823c7c0e7',\n",
       "  'tokens': [{'amount': 0.01320629553518665,\n",
       "    'asset': {'address': '0x7ceb23fd6bc0add59e62ac25578270cff1b9f619'},\n",
       "    'price_quote': None,\n",
       "    'fee': 0.0006672336099092304},\n",
       "   {'amount': 81.44496589714221,\n",
       "    'asset': {'address': '0x9a71012b13ca4d3d0cdc72a177df3ef03b0e76a3'},\n",
       "    'price_quote': None,\n",
       "    'fee': 0.16452881831416938}],\n",
       "  'in_range': 'in range'})"
      ]
     },
     "execution_count": 5,
     "metadata": {},
     "output_type": "execute_result"
    }
   ],
   "source": [
    "prev = context.run_model('uniswap-v3.id', {'id': 799208}, block_number=40782399)\n",
    "\n",
    "now = context.run_model('uniswap-v3.id', {'id': 799208})\n",
    "\n",
    "prev, now"
   ]
  },
  {
   "cell_type": "code",
   "execution_count": 6,
   "metadata": {},
   "outputs": [
    {
     "data": {
      "text/plain": [
       "89"
      ]
     },
     "execution_count": 6,
     "metadata": {},
     "output_type": "execute_result"
    }
   ],
   "source": [
    "lp_pos = context.run_model('uniswap-v3.lp', {'lp': '0x470cB7e9981Db525422A16A21d8cD510B0766d17'})\n",
    "len(lp_pos['positions'])"
   ]
  },
  {
   "cell_type": "code",
   "execution_count": 7,
   "metadata": {},
   "outputs": [
    {
     "data": {
      "text/plain": [
       "'0x7ceb23fd6bc0add59e62ac25578270cff1b9f619'"
      ]
     },
     "execution_count": 7,
     "metadata": {},
     "output_type": "execute_result"
    }
   ],
   "source": [
    "weth.address\n",
    "\n",
    "Token('WETH').address"
   ]
  },
  {
   "cell_type": "code",
   "execution_count": 8,
   "metadata": {},
   "outputs": [
    {
     "data": {
      "text/plain": [
       "({'price': 6.63236991,\n",
       "  'src': 'chainlink.price-by-feed|BAL / USD|0xd0CCf213410578DF4EC5EB0157234120B30d2f81|v4|None|t:9315s|r:0',\n",
       "  'quoteAddress': '0x0000000000000000000000000000000000000348'},\n",
       " {'price': 6.69169367,\n",
       "  'src': 'chainlink.price-by-feed|BAL / USD|0xd0CCf213410578DF4EC5EB0157234120B30d2f81|v4|None|t:4266s|r:0',\n",
       "  'quoteAddress': '0x0000000000000000000000000000000000000348'})"
      ]
     },
     "execution_count": 8,
     "metadata": {},
     "output_type": "execute_result"
    }
   ],
   "source": [
    "prev = context.run_model('price.oracle-chainlink',\n",
    "                         {'base': '0x9a71012b13ca4d3d0cdc72a177df3ef03b0e76a3'}, block_number=40782399)\n",
    "\n",
    "now = context.run_model('price.oracle-chainlink', {'base': '0x9a71012b13ca4d3d0cdc72a177df3ef03b0e76a3'})\n",
    "\n",
    "(prev, now)"
   ]
  }
 ],
 "metadata": {
  "kernelspec": {
   "display_name": "cmk310",
   "language": "python",
   "name": "python3"
  },
  "language_info": {
   "codemirror_mode": {
    "name": "ipython",
    "version": 3
   },
   "file_extension": ".py",
   "mimetype": "text/x-python",
   "name": "python",
   "nbconvert_exporter": "python",
   "pygments_lexer": "ipython3",
   "version": "3.11.4"
  },
  "orig_nbformat": 4
 },
 "nbformat": 4,
 "nbformat_minor": 2
}
