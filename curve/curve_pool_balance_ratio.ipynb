{
 "cells": [
  {
   "cell_type": "markdown",
   "id": "d805c9a8-90eb-4b35-8808-119044cf1f7e",
   "metadata": {},
   "source": [
    "### Credmark Modeling Framework Notebook - Curve Pool Balance Ratio\n",
    "version: 2022.7.1"
   ]
  },
  {
   "cell_type": "code",
   "execution_count": null,
   "id": "8c4e16cc-db63-4fb7-afc9-08c72a70e539",
   "metadata": {},
   "outputs": [],
   "source": [
    "from credmark.cmf.engine.model_loader import ModelLoader\n",
    "from credmark.cmf.engine.context import EngineModelContext\n",
    "\n",
    "from credmark.dto import *\n",
    "from credmark.cmf.types import *\n",
    "\n",
    "from credmark.cmf.types.ledger import (\n",
    "    BlockTable, ContractTable,\n",
    "    LogTable, ReceiptTable, TokenTable, TokenTransferTable,\n",
    "    TraceTable, TransactionTable, LedgerTable,\n",
    "    LedgerAggregate, LedgerModelOutput\n",
    ")\n",
    "\n",
    "from credmark.cmf.engine.dev_models.console import get_dt, get_block, log_output"
   ]
  },
  {
   "cell_type": "markdown",
   "id": "bafc915f-989e-4bd0-ad1a-2bb6c9686c0b",
   "metadata": {},
   "source": [
    "## Initialize\n",
    "\n",
    "<div class=\"alert alert-block alert-info\">\n",
    "    <b>Note:</b> Change to a web3 provider you have in `params` below.\n",
    "</div>"
   ]
  },
  {
   "cell_type": "code",
   "execution_count": null,
   "id": "ce628eac-a81e-4b62-87a3-659fd905877c",
   "metadata": {},
   "outputs": [],
   "source": [
    "model_loader = ModelLoader(['../models'], None, True)\n",
    "\n",
    "params = {'chain_id': 1,\n",
    "          'block_number': None,\n",
    "          'model_loader': model_loader,\n",
    "          'chain_to_provider_url': {'1': 'http://192.168.68.122:10444'},\n",
    "          'api_url': None,\n",
    "          'run_id': None,\n",
    "          'console': True,\n",
    "          'use_local_models': '*' # '*' # 'token.price'\n",
    "         }\n",
    "context = EngineModelContext.create_context(**params)\n",
    "\n",
    "ledger = context.ledger\n",
    "run_model = context.run_model\n",
    "models = context.models\n",
    "block_number = context.block_number\n",
    "chain_id = context.chain_id\n",
    "web3 = context.web3\n",
    "run_model_historical = context.historical.run_model_historical\n",
    "run_model_historical_blocks = context.historical.run_model_historical_blocks"
   ]
  },
  {
   "cell_type": "markdown",
   "id": "43975083-02d3-44f5-8014-b4af392d5cfe",
   "metadata": {},
   "source": [
    "## Curve Pools"
   ]
  },
  {
   "cell_type": "code",
   "execution_count": null,
   "id": "23b491b1-a425-470c-bf5d-ceb5b32837c6",
   "metadata": {},
   "outputs": [],
   "source": [
    "from datetime import datetime, timedelta, timezone\n",
    "\n",
    "import matplotlib.pyplot as plt\n",
    "import numpy as np\n",
    "import numpy.random as npr\n",
    "import pandas as pd\n",
    "import seaborn as sns\n",
    "\n",
    "from plotly.offline import init_notebook_mode, iplot\n",
    "import plotly.graph_objects as go\n",
    "init_notebook_mode(connected=True)\n",
    "\n",
    "from curve_pool_balance_ratio import plot_pool_n, plot_pool_n_data"
   ]
  },
  {
   "cell_type": "markdown",
   "id": "95b4c54b-0a73-4d04-81d7-2d5c28f59ca6",
   "metadata": {},
   "source": [
    "### Installation for plotly with JupyterLab\n",
    "\n",
    "`$ pip install plotly==5.9.0`\n",
    "\n",
    "or conda:\n",
    "`$ conda install -c plotly plotly=5.9.0 `\n",
    "\n",
    "`$ pip install \"jupyterlab>=3\" \"ipywidgets>=7.6\"`\n",
    "`$ conda install \"jupyterlab>=3\" \"ipywidgets>=7.6\"`\n",
    "\n",
    "You'll need jupyter-dash to add widgets such as sliders, dropdowns, and buttons to Plotly charts in JupyterLab.\n",
    "\n",
    "`$ pip install jupyter-dash`\n",
    "or conda:\n",
    "`$ conda install -c conda-forge -c plotly jupyter-dash`\n",
    "\n",
    "These packages contain everything you need to run JupyterLab...\n",
    "`$ jupyter lab`"
   ]
  },
  {
   "cell_type": "markdown",
   "id": "00c0c02e-74fd-4fb8-b33f-12c151a35277",
   "metadata": {},
   "source": [
    "### Balance Ratio"
   ]
  },
  {
   "cell_type": "markdown",
   "id": "e5644b3b-d4d6-4558-ac01-f125202bfffc",
   "metadata": {},
   "source": [
    "$value_i = price_i * amount_i$\n",
    "\n",
    "$ratio = \\frac {\\prod value_i} {({ \\frac {\\sum value_i} {n} })^n }$"
   ]
  },
  {
   "cell_type": "markdown",
   "id": "05725ed1-9f3d-492a-840a-0a16ae94196d",
   "metadata": {},
   "source": [
    "### 1. Get Curve Pool Information"
   ]
  },
  {
   "cell_type": "code",
   "execution_count": null,
   "id": "f65f7951-1067-4bb4-b85a-4a3b099ab982",
   "metadata": {},
   "outputs": [],
   "source": [
    "block_number = get_block(get_dt(2022, 6, 28))\n",
    "block_number\n",
    "\n",
    "curve_pools = ['0x961226b64ad373275130234145b96d100dc0b655',\n",
    "                '0x8301AE4fc9c624d1D396cbDAa1ed877821D7C511',\n",
    "                '0x43b4FdFD4Ff969587185cDB6f0BD875c5Fc83f8c',\n",
    "                '0xd658A338613198204DCa1143Ac3F01A722b5d94A',\n",
    "                '0xDC24316b9AE028F1497c275EB9192a3Ea0f67022',\n",
    "                '0xbEbc44782C7dB0a1A60Cb6fe97d0b483032FF1C7',\n",
    "                '0xd632f22692FaC7611d2AA1C0D552930D43CAEd3B',\n",
    "                '0xCEAF7747579696A2F0bb206a14210e3c9e6fB269',\n",
    "                '0xD51a44d3FaE010294C616388b506AcdA1bfAAE46',\n",
    "                '0x5a6A4D54456819380173272A5E8E9B9904BdF41B',\n",
    "                '0x93054188d876f558f4a66B2EF1d97d16eDf0895B',\n",
    "                '0x2dded6Da1BF5DBdF597C45fcFaa3194e53EcfeAF',\n",
    "                '0x9D0464996170c6B9e75eED71c68B99dDEDf279e8',\n",
    "                '0x828b154032950C8ff7CF8085D841723Db2696056',\n",
    "                '0x4e0915C88bC70750D68C481540F081fEFaF22273',\n",
    "                '0xA5407eAE9Ba41422680e2e00537571bcC53efBfD',]\n",
    "\n",
    "curves_info = (models(block_number)\n",
    "               .compose.map_inputs(modelSlug='curve-fi.pool-info',\n",
    "                                   modelInputs=[{'address':addr} for addr in curve_pools]))"
   ]
  },
  {
   "cell_type": "markdown",
   "id": "f4f76953-e32a-4a74-9a8c-dcf2277686ae",
   "metadata": {},
   "source": [
    "### 2. Split into three types"
   ]
  },
  {
   "cell_type": "code",
   "execution_count": null,
   "id": "735d0fc8-d464-4682-8525-6e8868fe5ebe",
   "metadata": {},
   "outputs": [],
   "source": [
    "two_pools = [\n",
    "    {\n",
    "        'name': '/'.join(pif['output']['tokens_symbol']),\n",
    "        'ratio':pif['output']['ratio'],\n",
    "        'a/b': (pif['output']['balances'][0] * pif['output']['token_prices'][0]['price'],\n",
    "                pif['output']['balances'][1] * pif['output']['token_prices'][1]['price'])\n",
    "    }\n",
    "    for pif in curves_info['results']\n",
    "    if len(pif['output']['tokens_symbol']) == 2\n",
    "]\n",
    "\n",
    "three_pools = [\n",
    "    {\n",
    "        'name': '/'.join(pif['output']['tokens_symbol']),\n",
    "        'ratio':pif['output']['ratio'],\n",
    "        'a/b': (pif['output']['balances'][0] * pif['output']['token_prices'][0]['price'],\n",
    "                pif['output']['balances'][1] * pif['output']['token_prices'][1]['price'],\n",
    "                pif['output']['balances'][2] * pif['output']['token_prices'][2]['price'])\n",
    "    }\n",
    "    for pif in curves_info['results']\n",
    "    if len(pif['output']['tokens_symbol']) == 3\n",
    "]\n",
    "\n",
    "four_pools = [\n",
    "    {\n",
    "        'name': '/'.join(pif['output']['tokens_symbol']),\n",
    "        'ratio':pif['output']['ratio'],\n",
    "        'a/b': (pif['output']['balances'][0] * pif['output']['token_prices'][0]['price'],\n",
    "                pif['output']['balances'][1] * pif['output']['token_prices'][1]['price'],\n",
    "                pif['output']['balances'][2] * pif['output']['token_prices'][2]['price'],\n",
    "                pif['output']['balances'][3] * pif['output']['token_prices'][3]['price'])\n",
    "    }\n",
    "    for pif in curves_info['results']\n",
    "    if len(pif['output']['tokens_symbol']) == 4\n",
    "]"
   ]
  },
  {
   "cell_type": "markdown",
   "id": "961ed83e-cb7f-45a2-a596-a7534dec0b59",
   "metadata": {},
   "source": [
    "### 3. 2-pool"
   ]
  },
  {
   "cell_type": "code",
   "execution_count": null,
   "id": "c9170ba4-d014-429e-a875-a80979ee9e45",
   "metadata": {},
   "outputs": [],
   "source": [
    "def bal_2pool(xs):\n",
    "    ys = 1 - xs\n",
    "    return xs * ys / np.power(1/2, 2)\n",
    "\n",
    "xs = np.linspace(0, 1, 100)\n",
    "balance_ratio = bal_2pool(xs)\n",
    "\n",
    "fig, ax = plt.subplots()\n",
    "ax.plot(xs, balance_ratio)\n",
    "\n",
    "for pif in two_pools:\n",
    "    v1,v2= pif['a/b']\n",
    "    r1 = v1 / (v1 + v2)\n",
    "    ax.scatter(r1, bal_2pool(r1))\n",
    "    ax.text(r1, bal_2pool(r1), pif['name'])\n",
    "\n",
    "ax.text(0,0, 'Token 1/2 (0/100%)')\n",
    "ax.text(1,0, 'Token 1/2 (100/0%)')\n",
    "\n",
    "ax.set_frame_on(False)\n",
    "ax.set_xlabel('token 1/2 (%)')\n",
    "ax.set_ylabel('balance ratio')\n",
    "plt.gca().set_xticklabels([f'{x:.0%}' for x in plt.gca().get_yticks()])\n",
    "ax.grid(linestyle = '--', linewidth = 0.5)\n",
    "\n",
    "plt.show()"
   ]
  },
  {
   "cell_type": "markdown",
   "id": "68128e77-8a4f-4840-a24a-9d76a24da584",
   "metadata": {},
   "source": [
    "### 3-pool"
   ]
  },
  {
   "cell_type": "code",
   "execution_count": null,
   "id": "849dfcb2-d7dc-4c76-967c-a8ae7873722e",
   "metadata": {},
   "outputs": [],
   "source": [
    "basis = np.array([[0.0, 1.0], [-1.5/np.sqrt(3), -0.5],[1.5/np.sqrt(3), -0.5]])\n",
    "def bal_ratio_3pool(abc):\n",
    "    return abc[:,0] * abc[:,1] * abc[:,2] / np.power(1/3, 3)\n",
    "\n",
    "fig_3pool, ax = plot_pool_n(basis, n_point = 30j, pool_n = 3, bal_ratio_func= bal_ratio_3pool)\n",
    "\n",
    "for pif in three_pools:\n",
    "    three_value = np.array(pif['a/b'])\n",
    "    three_value = three_value / three_value.sum()\n",
    "    two_value = np.dot(three_value, basis)\n",
    "    ax.scatter(two_value[0], two_value[1])\n",
    "    ax.text(two_value[0], two_value[1], pif['name'], fontsize=12)\n",
    "\n",
    "plt.show()"
   ]
  },
  {
   "cell_type": "markdown",
   "id": "2b1d62f1-75e0-43c7-8d44-dab65be30403",
   "metadata": {},
   "source": [
    "### 4-pool"
   ]
  },
  {
   "cell_type": "code",
   "execution_count": null,
   "id": "2a2998d9-1f00-4e56-a871-0922c4e04c0e",
   "metadata": {},
   "outputs": [],
   "source": [
    "basis = np.array([[1.0, 1.0], [-1.0, 1.0], [-1.0, -1.0], [1.0, -1.0]])\n",
    "def bal_ratio_4pool(abcd):\n",
    "    return abcd[:,0] * abcd[:,1] * abcd[:,2] * abcd[:,3] / np.power(1/4, 4)\n",
    "\n",
    "data, bal_ratio = plot_pool_n_data(basis, n_point = 12j, pool_n = 4, bal_ratio_func=bal_ratio_4pool)\n",
    "\n",
    "df = pd.DataFrame(data)\n",
    "df.columns = pd.Index(['x','y'])\n",
    "df.loc[:, 'Ratio'] = bal_ratio\n",
    "\n",
    "df.x = round(df.x / 0.02) / 50\n",
    "df.y = round(df.y / 0.02) / 50\n",
    "df = df.groupby(['x', 'y'], as_index=False)['Ratio'].max()\n",
    "\n",
    "fig = go.Figure(data=[go.Scatter3d(\n",
    "    x=df.x,\n",
    "    y=df.y,\n",
    "    z=df.Ratio,\n",
    "    mode='markers',\n",
    "    marker=dict(\n",
    "        size=12,\n",
    "        color=df.Ratio,                # set color to an array/list of desired values\n",
    "        colorscale='Greens',   # choose a colorscale\n",
    "        opacity=0.8\n",
    "    )\n",
    ")])\n",
    "\n",
    "annoctation_dict = [\n",
    "    dict(showarrow=False,\n",
    "            x=xy[0],\n",
    "            y=xy[1],\n",
    "            z=0,\n",
    "            text=f'Token {alpha}',\n",
    "            xanchor=\"left\",\n",
    "            xshift=10,\n",
    "            opacity=0.7,\n",
    "            font=dict(\n",
    "                color=\"black\",\n",
    "                size=12)\n",
    "            )\n",
    "            for xy,alpha in zip(basis, range(1, 5))\n",
    "            ]\n",
    "\n",
    "for pif in four_pools:\n",
    "    four_value = np.array(pif['a/b'])\n",
    "    four_value = four_value / four_value.sum()\n",
    "    two_value = np.dot(four_value, basis)\n",
    "    # fig.scatter(two_value[0], two_value[1])\n",
    "    annoctation_dict.append(\n",
    "        dict(\n",
    "            showarrow=False,\n",
    "            x=two_value[0],\n",
    "            y=two_value[1],\n",
    "            z=pif['ratio'],\n",
    "            text=pif['name'],\n",
    "            xanchor=\"left\",\n",
    "            xshift=10,\n",
    "            opacity=0.7,\n",
    "            font=dict(\n",
    "                color=\"black\",\n",
    "                size=12))\n",
    "    )\n",
    "\n",
    "fig.update_layout(\n",
    "    uniformtext_minsize=12,\n",
    "    scene=dict(\n",
    "        xaxis=dict(type=\"linear\"),\n",
    "        yaxis=dict(type=\"linear\"),\n",
    "        zaxis=dict(type=\"linear\"),\n",
    "        annotations=annoctation_dict))\n",
    "\n",
    "fig"
   ]
  }
 ],
 "metadata": {
  "kernelspec": {
   "display_name": "Python 3.10.5 ('cmk310')",
   "language": "python",
   "name": "python3"
  },
  "language_info": {
   "codemirror_mode": {
    "name": "ipython",
    "version": 3
   },
   "file_extension": ".py",
   "mimetype": "text/x-python",
   "name": "python",
   "nbconvert_exporter": "python",
   "pygments_lexer": "ipython3",
   "version": "3.10.5"
  },
  "vscode": {
   "interpreter": {
    "hash": "ef3060a66f05e685ce670116a67026aba95afdffb2461d829b3351d07ec51c58"
   }
  }
 },
 "nbformat": 4,
 "nbformat_minor": 5
}
